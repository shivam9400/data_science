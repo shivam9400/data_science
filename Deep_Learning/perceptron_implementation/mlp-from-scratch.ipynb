{
 "cells": [
  {
   "cell_type": "markdown",
   "metadata": {},
   "source": [
    "# Multi-Layer Perceptron"
   ]
  },
  {
   "cell_type": "markdown",
   "metadata": {},
   "source": [
    "## Introduction"
   ]
  },
  {
   "cell_type": "markdown",
   "metadata": {},
   "source": [
    "* It's a type of ANN used for supervised learning.\n",
    "* It is engineered to tackle more complex problem, such as problems that are not linearly separable.\n",
    "* A typical MLP looks like,\n",
    "  * <img src=\"visuals/mlp.jpg\" width=\"380\"/>\n",
    "* Each of the nodes of the layers described can be understood as individual perceptrons and have the usual components."
   ]
  },
  {
   "cell_type": "markdown",
   "metadata": {},
   "source": [
    "Typical algorithm of MLP,\n",
    "1. Initialize weights and biases of each layer.\n",
    "    1. Since, each neuron is a perceptron, it will have its own bias along with weights entering it.\n",
    "    2. Hence, assuming we have 2 feature per training example in input,\n",
    "        1. for hidden layer shown above, weight matrix will look like (**each row denoting neuron in hidden layer and each column denoting weights for corresponding input feature**), $$\n",
    "\\mathbf{W} = \\begin{bmatrix}\n",
    "w_{11} & w_{12} \\\\\n",
    "w_{21} & w_{22} \\\\\n",
    "w_{31} & w_{32}\n",
    "\\end{bmatrix}$$\n",
    "        2. And, bias matrix (**each row is a neuron in hidden layer**), $$\n",
    "\\mathbf{b} = \\begin{bmatrix}\n",
    "b_1 \\\\\n",
    "b_2 \\\\\n",
    "b_3\n",
    "\\end{bmatrix}$$\n",
    "2. For each batch size (can be one training example also),\n",
    "    1. Forward pass\n",
    "    2. Compute loss\n",
    "    3. Backpropagation\n",
    "    4. Parameters update\n",
    "3. Above step is repeated for all epoch.\n",
    "\n",
    "> If we pass \"n\" batches in an epoch, and we have \"m\" epoch for model training, then model parameters will be updated \"n\"*\"m\" times."
   ]
  },
  {
   "cell_type": "markdown",
   "metadata": {},
   "source": [
    "### Backward Propagation Understanding"
   ]
  },
  {
   "cell_type": "markdown",
   "metadata": {},
   "source": [
    "* Often, the error function is Sum of squared errors, which can be denoted as, $$E=\\frac{1}{2}*\\sum{(a_k-t_k)^2} = \\frac{1}{2}*[(a_1-t_1)^2+(a_2-t_2)^2]     \\text{   ... for number of output neurons}$$\n",
    "* Let's first talk about **parameters associated with output layer**\n",
    "  * Taking <u>partial differential wrt w</u>, note --> $\\partial{w} = \\partial{w_\\text{output}}$, $$\\frac{\\partial{E}}{\\partial{w}} = (a_k-t_k)*\\frac{\\partial{(a_k - t_k)}}{\\partial{w}} = (a_k-t_k)*\\frac{\\partial{a_k}}{\\partial{w}} = (a_k-t_k)*\\frac{\\partial{a_k}}{\\partial{z_k}}*\\frac{\\partial{z_k}}{\\partial{w}} = \\epsilon*g_k^{'}*\\frac{\\partial{z_k}}{\\partial{w}}$$\n",
    "  * Above equation, thus can be written as, $$\\frac{\\partial{E}}{\\partial{w_\\text{output}}} = \\epsilon*g_k^{'}*a_\\text{previous layer output} = \\delta_k *a_\\text{previous layer output} = \\text{error signal}*a_\\text{previous layer output}$$\n",
    "    * Above equation can be interpreted as determining how much each $w_\\text{output}$ contributes to the error signal by weighting the error by the magnitude of the output activation from the previous (hidden) layer.\n",
    "  * Now, let's look at <u>biases (b) of output layer</u>, $$\\frac{\\partial{E}}{\\partial{b_\\text{output}}} = \\epsilon*g_k^{'} = \\delta_k = \\text{error signal}$$"
   ]
  },
  {
   "cell_type": "markdown",
   "metadata": {},
   "source": [
    "* Let's now see **parameters associated with hidden layers**\n",
    "  * Taking <u>partial differential wrt w</u>, note --> $\\partial{w} = \\partial{w_\\text{hidden}}$, $$\\frac{\\partial{E}}{\\partial{w}} = (a_k-t_k)*\\frac{\\partial{(a_k - t_k)}}{\\partial{w}} = (a_k-t_k)*\\frac{\\partial{a_k}}{\\partial{w}} = (a_k-t_k)*\\frac{\\partial{a_k}}{\\partial{z_k}}*\\frac{\\partial{z_k}}{\\partial{w}} = \\epsilon*g_k^{'}*\\frac{\\partial{z_k}}{\\partial{w}}$$\n",
    "    * > Last time it was pretty straight forward because we were dealing with $w_\\text{output}$. However, it gets a little tricky dealing with $w_\\text{hidden}$.\n",
    "    * Let's see why\n",
    "      * $$z_{output} = b_{output} + \\sum a_{hidden}*w_{output} = b_{output} + \\sum g_{hidden}(z_{hidden}) * w_{output}$$\n",
    "      * $$z_{output} = b_{output} + \\sum g_{hidden}( b_{input} + \\sum a_{input}* w_{input}) * w_{output}$$\n",
    "      * This can be simplified as, $$\\frac{\\partial E}{\\partial w_{ij}} = \\sum_k (a_k - t_k) \\, g_k'(z_k) \\, w_{jk} \\, g_j'(z_j) \\, a_i = \\left( \\sum_k \\delta_k w_{jk} \\right) g_j'(z_j) \\, a_i$$\n",
    "  * for biases, $$\\frac{\\partial E}{\\partial b_j} = \\sum_k (a_k - t_k) \\, g_k'(z_k) \\, w_{jk} \\, g_j'(z_j) = g_j'(z_j) \\sum_k \\delta_k w_{jk} = \\delta_j$$"
   ]
  },
  {
   "cell_type": "markdown",
   "metadata": {},
   "source": [
    "We have to get this working,\n",
    "\n",
    "<img src=\"visuals/mlp_backpropagation.jpg\" width=\"500\"/>"
   ]
  },
  {
   "cell_type": "markdown",
   "metadata": {},
   "source": [
    "## Implementation"
   ]
  },
  {
   "cell_type": "markdown",
   "metadata": {},
   "source": [
    "### Import Libraries"
   ]
  },
  {
   "cell_type": "code",
   "execution_count": 100,
   "metadata": {
    "execution": {
     "iopub.execute_input": "2025-05-31T11:56:02.857823Z",
     "iopub.status.busy": "2025-05-31T11:56:02.857516Z",
     "iopub.status.idle": "2025-05-31T11:56:02.863099Z",
     "shell.execute_reply": "2025-05-31T11:56:02.862066Z",
     "shell.execute_reply.started": "2025-05-31T11:56:02.857802Z"
    },
    "trusted": true
   },
   "outputs": [],
   "source": [
    "import numpy as np\n",
    "import matplotlib.pyplot as plt\n",
    "from sklearn import datasets\n",
    "from sklearn.model_selection import train_test_split"
   ]
  },
  {
   "cell_type": "markdown",
   "metadata": {},
   "source": [
    "### Defining a simple MLP"
   ]
  },
  {
   "cell_type": "code",
   "execution_count": 101,
   "metadata": {
    "execution": {
     "iopub.execute_input": "2025-05-31T11:56:02.879466Z",
     "iopub.status.busy": "2025-05-31T11:56:02.879100Z",
     "iopub.status.idle": "2025-05-31T11:56:02.891002Z",
     "shell.execute_reply": "2025-05-31T11:56:02.889960Z",
     "shell.execute_reply.started": "2025-05-31T11:56:02.879441Z"
    },
    "trusted": true
   },
   "outputs": [],
   "source": [
    "class MultiLayerPerceptron:\n",
    "    def __init__(self, learning_rate, epoch, batch_size, hidden_layers):\n",
    "        '''\n",
    "        hidden_layers will define hidden layers architecture. It should be \n",
    "        numpy zero array of shape of hidden layers. For 1 hidden layer with 3\n",
    "        neurons, we can have input as zero array of shape [3,1].\n",
    "        '''\n",
    "        self.weights = []\n",
    "        self.bias = []\n",
    "        self.learning_rate = learning_rate\n",
    "        self.epoch = epoch\n",
    "        self.batch_size = batch_size\n",
    "        self.hidden_layers = hidden_layers"
   ]
  },
  {
   "cell_type": "code",
   "execution_count": 102,
   "metadata": {
    "execution": {
     "iopub.execute_input": "2025-05-31T11:56:02.893301Z",
     "iopub.status.busy": "2025-05-31T11:56:02.892879Z",
     "iopub.status.idle": "2025-05-31T11:56:02.910953Z",
     "shell.execute_reply": "2025-05-31T11:56:02.909916Z",
     "shell.execute_reply.started": "2025-05-31T11:56:02.893275Z"
    },
    "trusted": true
   },
   "outputs": [],
   "source": [
    "def sigmoid(self, x):\n",
    "    return 1 / (1 + np.exp(-x))\n",
    "\n",
    "def sigmoid_derivative(self, x):\n",
    "    return self.sigmoid(x)*(1-self.sigmoid(x))\n",
    "    \n",
    "MultiLayerPerceptron.sigmoid = sigmoid\n",
    "MultiLayerPerceptron.sigmoid_derivative = sigmoid_derivative"
   ]
  },
  {
   "cell_type": "code",
   "execution_count": 103,
   "metadata": {
    "execution": {
     "iopub.execute_input": "2025-05-31T11:56:02.912847Z",
     "iopub.status.busy": "2025-05-31T11:56:02.912512Z",
     "iopub.status.idle": "2025-05-31T11:56:02.931437Z",
     "shell.execute_reply": "2025-05-31T11:56:02.930257Z",
     "shell.execute_reply.started": "2025-05-31T11:56:02.912820Z"
    },
    "trusted": true
   },
   "outputs": [],
   "source": [
    "def forward_pass(self, A_prev, layer_index):\n",
    "    '''\n",
    "    The function will give output, A = activation(w.Z_prev + b)\n",
    "    layer_index - input layer is 0, hidden layer is 1, output layer is 2\n",
    "    '''\n",
    "    # A_prev ----->  [batch_size, neurons_current]\n",
    "\n",
    "    ### maths --> [neurons_next, neurons_current].[neurons_current, batch_size]  \n",
    "    ###                                                              + [neurons_next, 1]\n",
    "    #######  = [neurons_next, batch_size]\n",
    "    Z_curr = np.dot(self.weights[layer_index], A_prev.T) + self.bias[layer_index]\n",
    "    Z_curr = Z_curr.T              # [batch_size, neurons_next]\n",
    "    A_curr = self.sigmoid(Z_curr)  # [neurons_next, batch_size]\n",
    "    \n",
    "    return A_curr, Z_curr\n",
    "\n",
    "MultiLayerPerceptron.forward_pass = forward_pass"
   ]
  },
  {
   "cell_type": "code",
   "execution_count": 104,
   "metadata": {
    "execution": {
     "iopub.execute_input": "2025-05-31T11:56:02.933565Z",
     "iopub.status.busy": "2025-05-31T11:56:02.933189Z",
     "iopub.status.idle": "2025-05-31T11:56:02.952317Z",
     "shell.execute_reply": "2025-05-31T11:56:02.950850Z",
     "shell.execute_reply.started": "2025-05-31T11:56:02.933523Z"
    },
    "trusted": true
   },
   "outputs": [],
   "source": [
    "def backward_pass(self, epsilon, memory_log, layer):\n",
    "    '''\n",
    "    definitions of terms used in this method.\n",
    "    epsilon -  error at output layer\n",
    "    '''\n",
    "    if layer == 'output':\n",
    "        Z_curr = memory_log['Z'][1]       # [1,1]\n",
    "        A_prev = memory_log['A'][1]       # [1, num_neurons]\n",
    "        error_signal_output = epsilon*self.sigmoid_derivative(Z_curr)  #[1,1]\n",
    "        dW = error_signal_output*A_prev   # [1,1]*[1, num_neurons] = [1, num_neurons]\n",
    "        dB = error_signal_output    # [1,1]\n",
    "    else:\n",
    "        error_signal_output = epsilon*self.sigmoid_derivative(memory_log['Z'][1])  # [1,1]\n",
    "        W_2 = self.weights[1].T    # [num_neurons, 1]       \n",
    "        deriv_activ = self.sigmoid_derivative(memory_log['Z'][0].T)   # [num_neurons, 1]\n",
    "        error_signal = W_2*error_signal_output*deriv_activ  # [num_neurons,1]*[1,1]*[num_neurons, 1]\n",
    "        \n",
    "        dW = error_signal*memory_log['A'][0]   # [num_neurons,1] * [1,2] = [3,2]\n",
    "        dB = error_signal\n",
    "    return dW, dB\n",
    "\n",
    "MultiLayerPerceptron.backward_pass = backward_pass"
   ]
  },
  {
   "cell_type": "code",
   "execution_count": 105,
   "metadata": {
    "execution": {
     "iopub.execute_input": "2025-05-31T11:56:02.954251Z",
     "iopub.status.busy": "2025-05-31T11:56:02.953826Z",
     "iopub.status.idle": "2025-05-31T11:56:02.978087Z",
     "shell.execute_reply": "2025-05-31T11:56:02.977075Z",
     "shell.execute_reply.started": "2025-05-31T11:56:02.954226Z"
    },
    "trusted": true
   },
   "outputs": [],
   "source": [
    "def update_params(self, grad_dict):\n",
    "    for index, param in enumerate(self.weights):\n",
    "        self.weights[index]= self.weights[index] - self.learning_rate*grad_dict['dW'][index]\n",
    "        self.bias[index]= self.bias[index] - self.learning_rate*grad_dict['dB'][index]\n",
    "        \n",
    "MultiLayerPerceptron.update_params = update_params"
   ]
  },
  {
   "cell_type": "code",
   "execution_count": 106,
   "metadata": {
    "execution": {
     "iopub.execute_input": "2025-05-31T11:56:02.979653Z",
     "iopub.status.busy": "2025-05-31T11:56:02.979276Z",
     "iopub.status.idle": "2025-05-31T11:56:02.997521Z",
     "shell.execute_reply": "2025-05-31T11:56:02.996270Z",
     "shell.execute_reply.started": "2025-05-31T11:56:02.979623Z"
    },
    "trusted": true
   },
   "outputs": [],
   "source": [
    "def predict(self, X):\n",
    "    for index, param in enumerate(self.weights):\n",
    "        A_next, _ = self.forward_pass(X, index)\n",
    "        X = A_next\n",
    "\n",
    "    return A_next\n",
    "\n",
    "MultiLayerPerceptron.predict = predict"
   ]
  },
  {
   "cell_type": "code",
   "execution_count": 107,
   "metadata": {
    "execution": {
     "iopub.execute_input": "2025-05-31T11:56:03.069128Z",
     "iopub.status.busy": "2025-05-31T11:56:03.068773Z",
     "iopub.status.idle": "2025-05-31T11:56:03.081420Z",
     "shell.execute_reply": "2025-05-31T11:56:03.080333Z",
     "shell.execute_reply.started": "2025-05-31T11:56:03.069094Z"
    },
    "trusted": true
   },
   "outputs": [],
   "source": [
    "def fit(self, X, y):\n",
    "    if X.ndim == 1:\n",
    "        X= X.reshape(1,-1)\n",
    "    total_samples, num_features = X.shape\n",
    "\n",
    "    self.error_log = []\n",
    "    self.accuracy_log = []\n",
    "    \n",
    "    ######## --------- INITIALIZATION ---------- #########\n",
    "    # initialize weights and bias for hidden layer\n",
    "    self.weights.append(np.random.rand(self.hidden_layers.shape[0], \n",
    "                                       num_features))  # [num_neurons,num_features]\n",
    "    self.bias.append(np.random.rand(self.hidden_layers.shape[0], \n",
    "                                    1))\n",
    "\n",
    "    # initialize weights and bias for output layer\n",
    "    self.weights.append(np.random.rand(1, \n",
    "                                       self.hidden_layers.shape[0])) # [1,num_neurons]\n",
    "    self.bias.append(np.random.rand(1, \n",
    "                                    1))\n",
    "\n",
    "    ######## --------- TRAINING ---------- #########\n",
    "    for ep in range(self.epoch):\n",
    "        print(\"Training for epoch #{}\".format(ep+1), end = \" \")\n",
    "        for training_sample in range(total_samples):\n",
    "            \n",
    "            memory = {\"A\":[], \"Z\":[]}\n",
    "            \n",
    "            A_0 = X[training_sample].reshape(self.batch_size,\n",
    "                                             num_features)\n",
    "            memory['A'].append(A_0)\n",
    "            \n",
    "            ### ----- output from hidden layer ----- ###\n",
    "            \n",
    "            A_1, Z_1 = self.forward_pass(X[training_sample].reshape(self.batch_size,\n",
    "                                                                    num_features), 0)\n",
    "            memory['A'].append(A_1)\n",
    "            memory['Z'].append(Z_1)\n",
    "            \n",
    "            ### ----- output from output layer ----- ###\n",
    "        \n",
    "            A_2, Z_2 = self.forward_pass(A_1, 1)\n",
    "            memory['A'].append(A_2)\n",
    "            memory['Z'].append(Z_2)\n",
    "            \n",
    "            ### ----- what's the error at output ? ----- ###\n",
    "            error = memory['A'][2] - y[training_sample]\n",
    "            \n",
    "            #################################################\n",
    "            ### ----- Now, Back propagation ----- ###\n",
    "            # --- Back propagation at output layer --- #\n",
    "            \n",
    "            grads = {'dW':[], 'dB':[]}\n",
    "            dW2, dB2 = self.backward_pass(error, memory, 'output')\n",
    "            \n",
    "            # --- Back propagation at hidden layer --- #\n",
    "            dW1, dB1 = self.backward_pass(error, memory, 'not_output')\n",
    "            \n",
    "            grads['dW'].append(dW1)\n",
    "            grads['dW'].append(dW2)\n",
    "\n",
    "            grads['dB'].append(dB1)\n",
    "            grads['dB'].append(dB2)\n",
    "            # ----- Updating weights ----- #\n",
    "            \n",
    "            self.update_params(grads)          \n",
    "            self.memory = memory\n",
    "\n",
    "        accuracy_current = self.get_accuracy(self.predict(X), y)\n",
    "        print(\"Accuracy --> {}\".format(accuracy_current))\n",
    "        \n",
    "        self.accuracy_log.append(accuracy_current)\n",
    "        self.error_log.append(error)\n",
    "        \n",
    "MultiLayerPerceptron.fit = fit"
   ]
  },
  {
   "cell_type": "code",
   "execution_count": 108,
   "metadata": {
    "execution": {
     "iopub.execute_input": "2025-05-31T11:56:03.096072Z",
     "iopub.status.busy": "2025-05-31T11:56:03.095720Z",
     "iopub.status.idle": "2025-05-31T11:56:03.111564Z",
     "shell.execute_reply": "2025-05-31T11:56:03.110504Z",
     "shell.execute_reply.started": "2025-05-31T11:56:03.096038Z"
    },
    "trusted": true
   },
   "outputs": [],
   "source": [
    "def predict_proba(self, probs, thresh=0.5):\n",
    "    probs_ = np.copy(probs)\n",
    "    probs_[probs_ > thresh] = 1\n",
    "    probs_[probs_ <= thresh] = 0\n",
    "    return probs_\n",
    "\n",
    "MultiLayerPerceptron.predict_proba = predict_proba"
   ]
  },
  {
   "cell_type": "code",
   "execution_count": 109,
   "metadata": {
    "execution": {
     "iopub.execute_input": "2025-05-31T11:56:03.113813Z",
     "iopub.status.busy": "2025-05-31T11:56:03.113436Z",
     "iopub.status.idle": "2025-05-31T11:56:03.132327Z",
     "shell.execute_reply": "2025-05-31T11:56:03.131214Z",
     "shell.execute_reply.started": "2025-05-31T11:56:03.113778Z"
    },
    "trusted": true
   },
   "outputs": [],
   "source": [
    "def get_accuracy(self, Y_pred, Y):\n",
    "    pred_labels =  self.predict_proba(Y_pred)\n",
    "    correct = np.sum(pred_labels == Y)\n",
    "    total = len(Y)\n",
    "    return correct / total\n",
    "\n",
    "MultiLayerPerceptron.get_accuracy = get_accuracy"
   ]
  },
  {
   "cell_type": "markdown",
   "metadata": {},
   "source": [
    "### Loading Dataset"
   ]
  },
  {
   "cell_type": "code",
   "execution_count": 110,
   "metadata": {
    "execution": {
     "iopub.execute_input": "2025-05-31T11:56:03.133596Z",
     "iopub.status.busy": "2025-05-31T11:56:03.133323Z",
     "iopub.status.idle": "2025-05-31T11:56:03.155312Z",
     "shell.execute_reply": "2025-05-31T11:56:03.153969Z",
     "shell.execute_reply.started": "2025-05-31T11:56:03.133576Z"
    },
    "trusted": true
   },
   "outputs": [],
   "source": [
    "iris = datasets.load_iris()\n",
    "X = iris[\"data\"][:, (2, 3)]  # petal length, petal width\n",
    "y = (iris[\"target\"] == 2).astype(int)  # 1 if Iris-Virginica, else 0\n",
    "y = y.reshape([150,1])"
   ]
  },
  {
   "cell_type": "code",
   "execution_count": 111,
   "metadata": {
    "execution": {
     "iopub.execute_input": "2025-05-31T11:56:03.156708Z",
     "iopub.status.busy": "2025-05-31T11:56:03.156414Z",
     "iopub.status.idle": "2025-05-31T11:56:03.174397Z",
     "shell.execute_reply": "2025-05-31T11:56:03.173404Z",
     "shell.execute_reply.started": "2025-05-31T11:56:03.156687Z"
    },
    "trusted": true
   },
   "outputs": [
    {
     "data": {
      "text/plain": [
       "((150, 2), (150, 1))"
      ]
     },
     "execution_count": 111,
     "metadata": {},
     "output_type": "execute_result"
    }
   ],
   "source": [
    "X.shape, y.shape"
   ]
  },
  {
   "cell_type": "code",
   "execution_count": 112,
   "metadata": {
    "execution": {
     "iopub.execute_input": "2025-05-31T11:56:03.177233Z",
     "iopub.status.busy": "2025-05-31T11:56:03.176846Z",
     "iopub.status.idle": "2025-05-31T11:56:03.196088Z",
     "shell.execute_reply": "2025-05-31T11:56:03.194890Z",
     "shell.execute_reply.started": "2025-05-31T11:56:03.177193Z"
    },
    "trusted": true
   },
   "outputs": [
    {
     "data": {
      "text/plain": [
       "((120, 2), (120, 1))"
      ]
     },
     "execution_count": 112,
     "metadata": {},
     "output_type": "execute_result"
    }
   ],
   "source": [
    "X_train, X_test, y_train, y_test = train_test_split(X, \n",
    "                                                    y, \n",
    "                                                    test_size=0.2, \n",
    "                                                    random_state=42)\n",
    "\n",
    "X_train.shape, y_train.shape"
   ]
  },
  {
   "cell_type": "markdown",
   "metadata": {},
   "source": [
    "### Training"
   ]
  },
  {
   "cell_type": "code",
   "execution_count": 113,
   "metadata": {
    "execution": {
     "iopub.execute_input": "2025-05-31T11:56:03.197145Z",
     "iopub.status.busy": "2025-05-31T11:56:03.196856Z",
     "iopub.status.idle": "2025-05-31T11:56:03.216751Z",
     "shell.execute_reply": "2025-05-31T11:56:03.215629Z",
     "shell.execute_reply.started": "2025-05-31T11:56:03.197125Z"
    },
    "trusted": true
   },
   "outputs": [],
   "source": [
    "mlp = MultiLayerPerceptron(.1, 100, 1, np.zeros((3,1)))"
   ]
  },
  {
   "cell_type": "code",
   "execution_count": 114,
   "metadata": {
    "execution": {
     "iopub.execute_input": "2025-05-31T11:56:03.218313Z",
     "iopub.status.busy": "2025-05-31T11:56:03.217950Z",
     "iopub.status.idle": "2025-05-31T11:56:04.252010Z",
     "shell.execute_reply": "2025-05-31T11:56:04.250637Z",
     "shell.execute_reply.started": "2025-05-31T11:56:03.218280Z"
    },
    "trusted": true
   },
   "outputs": [
    {
     "name": "stdout",
     "output_type": "stream",
     "text": [
      "Training for epoch #1 Accuracy --> 0.325\n",
      "Training for epoch #2 Accuracy --> 0.675\n",
      "Training for epoch #3 Accuracy --> 0.675\n",
      "Training for epoch #4 Accuracy --> 0.675\n",
      "Training for epoch #5 Accuracy --> 0.675\n",
      "Training for epoch #6 Accuracy --> 0.675\n",
      "Training for epoch #7 Accuracy --> 0.675\n",
      "Training for epoch #8 Accuracy --> 0.675\n",
      "Training for epoch #9 Accuracy --> 0.675\n",
      "Training for epoch #10 Accuracy --> 0.675\n",
      "Training for epoch #11 Accuracy --> 0.675\n",
      "Training for epoch #12 Accuracy --> 0.675\n",
      "Training for epoch #13 Accuracy --> 0.675\n",
      "Training for epoch #14 Accuracy --> 0.675\n",
      "Training for epoch #15 Accuracy --> 0.675\n",
      "Training for epoch #16 Accuracy --> 0.675\n",
      "Training for epoch #17 Accuracy --> 0.675\n",
      "Training for epoch #18 Accuracy --> 0.675\n",
      "Training for epoch #19 Accuracy --> 0.675\n",
      "Training for epoch #20 Accuracy --> 0.7416666666666667\n",
      "Training for epoch #21 Accuracy --> 0.8083333333333333\n",
      "Training for epoch #22 Accuracy --> 0.8416666666666667\n",
      "Training for epoch #23 Accuracy --> 0.8916666666666667\n",
      "Training for epoch #24 Accuracy --> 0.95\n",
      "Training for epoch #25 Accuracy --> 0.95\n",
      "Training for epoch #26 Accuracy --> 0.95\n",
      "Training for epoch #27 Accuracy --> 0.9583333333333334\n",
      "Training for epoch #28 Accuracy --> 0.9416666666666667\n",
      "Training for epoch #29 Accuracy --> 0.9416666666666667\n",
      "Training for epoch #30 Accuracy --> 0.9416666666666667\n",
      "Training for epoch #31 Accuracy --> 0.9416666666666667\n",
      "Training for epoch #32 Accuracy --> 0.9416666666666667\n",
      "Training for epoch #33 Accuracy --> 0.9416666666666667\n",
      "Training for epoch #34 Accuracy --> 0.9416666666666667\n",
      "Training for epoch #35 Accuracy --> 0.9416666666666667\n",
      "Training for epoch #36 Accuracy --> 0.9416666666666667\n",
      "Training for epoch #37 Accuracy --> 0.9416666666666667\n",
      "Training for epoch #38 Accuracy --> 0.9416666666666667\n",
      "Training for epoch #39 Accuracy --> 0.9416666666666667\n",
      "Training for epoch #40 Accuracy --> 0.9416666666666667\n",
      "Training for epoch #41 Accuracy --> 0.9416666666666667\n",
      "Training for epoch #42 Accuracy --> 0.9416666666666667\n",
      "Training for epoch #43 Accuracy --> 0.9416666666666667\n",
      "Training for epoch #44 Accuracy --> 0.9416666666666667\n",
      "Training for epoch #45 Accuracy --> 0.9416666666666667\n",
      "Training for epoch #46 Accuracy --> 0.9416666666666667\n",
      "Training for epoch #47 Accuracy --> 0.9416666666666667\n",
      "Training for epoch #48 Accuracy --> 0.9416666666666667\n",
      "Training for epoch #49 Accuracy --> 0.9416666666666667\n",
      "Training for epoch #50 Accuracy --> 0.9416666666666667\n",
      "Training for epoch #51 Accuracy --> 0.9416666666666667\n",
      "Training for epoch #52 Accuracy --> 0.9416666666666667\n",
      "Training for epoch #53 Accuracy --> 0.9416666666666667\n",
      "Training for epoch #54 Accuracy --> 0.9416666666666667\n",
      "Training for epoch #55 Accuracy --> 0.9416666666666667\n",
      "Training for epoch #56 Accuracy --> 0.9416666666666667\n",
      "Training for epoch #57 Accuracy --> 0.9416666666666667\n",
      "Training for epoch #58 Accuracy --> 0.9416666666666667\n",
      "Training for epoch #59 Accuracy --> 0.9416666666666667\n",
      "Training for epoch #60 Accuracy --> 0.9416666666666667\n",
      "Training for epoch #61 Accuracy --> 0.9416666666666667\n",
      "Training for epoch #62 Accuracy --> 0.95\n",
      "Training for epoch #63 Accuracy --> 0.9583333333333334\n",
      "Training for epoch #64 Accuracy --> 0.9583333333333334\n",
      "Training for epoch #65 Accuracy --> 0.9583333333333334\n",
      "Training for epoch #66 Accuracy --> 0.9416666666666667\n",
      "Training for epoch #67 Accuracy --> 0.9416666666666667\n",
      "Training for epoch #68 Accuracy --> 0.9416666666666667\n",
      "Training for epoch #69 Accuracy --> 0.9416666666666667\n",
      "Training for epoch #70 Accuracy --> 0.9416666666666667\n",
      "Training for epoch #71 Accuracy --> 0.9416666666666667\n",
      "Training for epoch #72 Accuracy --> 0.9416666666666667\n",
      "Training for epoch #73 Accuracy --> 0.9333333333333333\n",
      "Training for epoch #74 Accuracy --> 0.9333333333333333\n",
      "Training for epoch #75 Accuracy --> 0.9333333333333333\n",
      "Training for epoch #76 Accuracy --> 0.9333333333333333\n",
      "Training for epoch #77 Accuracy --> 0.9333333333333333\n",
      "Training for epoch #78 Accuracy --> 0.9333333333333333\n",
      "Training for epoch #79 Accuracy --> 0.9333333333333333\n",
      "Training for epoch #80 Accuracy --> 0.9333333333333333\n",
      "Training for epoch #81 Accuracy --> 0.925\n",
      "Training for epoch #82 Accuracy --> 0.925\n",
      "Training for epoch #83 Accuracy --> 0.925\n",
      "Training for epoch #84 Accuracy --> 0.925\n",
      "Training for epoch #85 Accuracy --> 0.925\n",
      "Training for epoch #86 Accuracy --> 0.925\n",
      "Training for epoch #87 Accuracy --> 0.925\n",
      "Training for epoch #88 Accuracy --> 0.925\n",
      "Training for epoch #89 Accuracy --> 0.925\n",
      "Training for epoch #90 Accuracy --> 0.925\n",
      "Training for epoch #91 Accuracy --> 0.925\n",
      "Training for epoch #92 Accuracy --> 0.925\n",
      "Training for epoch #93 Accuracy --> 0.925\n",
      "Training for epoch #94 Accuracy --> 0.925\n",
      "Training for epoch #95 Accuracy --> 0.925\n",
      "Training for epoch #96 Accuracy --> 0.925\n",
      "Training for epoch #97 Accuracy --> 0.925\n",
      "Training for epoch #98 Accuracy --> 0.925\n",
      "Training for epoch #99 Accuracy --> 0.925\n",
      "Training for epoch #100 Accuracy --> 0.925\n"
     ]
    }
   ],
   "source": [
    "mlp.fit(X_train, y_train)"
   ]
  },
  {
   "cell_type": "code",
   "execution_count": 115,
   "metadata": {
    "execution": {
     "iopub.execute_input": "2025-05-31T11:56:04.253377Z",
     "iopub.status.busy": "2025-05-31T11:56:04.253101Z",
     "iopub.status.idle": "2025-05-31T11:56:04.260053Z",
     "shell.execute_reply": "2025-05-31T11:56:04.259121Z",
     "shell.execute_reply.started": "2025-05-31T11:56:04.253354Z"
    },
    "trusted": true
   },
   "outputs": [
    {
     "data": {
      "text/plain": [
       "[array([[0.22751205, 3.18456063],\n",
       "        [1.33813877, 0.34132354],\n",
       "        [0.95410404, 0.74571222]]),\n",
       " array([[ 6.53380199, -1.18943778, -0.77154912]])]"
      ]
     },
     "execution_count": 115,
     "metadata": {},
     "output_type": "execute_result"
    }
   ],
   "source": [
    "mlp.weights"
   ]
  },
  {
   "cell_type": "code",
   "execution_count": 116,
   "metadata": {
    "execution": {
     "iopub.execute_input": "2025-05-31T11:56:04.262336Z",
     "iopub.status.busy": "2025-05-31T11:56:04.261957Z",
     "iopub.status.idle": "2025-05-31T11:56:04.279527Z",
     "shell.execute_reply": "2025-05-31T11:56:04.278373Z",
     "shell.execute_reply.started": "2025-05-31T11:56:04.262308Z"
    },
    "trusted": true
   },
   "outputs": [
    {
     "data": {
      "text/plain": [
       "[array([[-5.5968771 ],\n",
       "        [ 1.07828054],\n",
       "        [ 1.14189127]]),\n",
       " array([[-1.6448913]])]"
      ]
     },
     "execution_count": 116,
     "metadata": {},
     "output_type": "execute_result"
    }
   ],
   "source": [
    "mlp.bias"
   ]
  },
  {
   "cell_type": "markdown",
   "metadata": {},
   "source": [
    "### Inference"
   ]
  },
  {
   "cell_type": "code",
   "execution_count": 117,
   "metadata": {
    "execution": {
     "iopub.execute_input": "2025-05-31T11:56:04.280807Z",
     "iopub.status.busy": "2025-05-31T11:56:04.280500Z",
     "iopub.status.idle": "2025-05-31T11:56:04.300556Z",
     "shell.execute_reply": "2025-05-31T11:56:04.299412Z",
     "shell.execute_reply.started": "2025-05-31T11:56:04.280784Z"
    },
    "trusted": true
   },
   "outputs": [
    {
     "data": {
      "text/plain": [
       "0.925"
      ]
     },
     "execution_count": 117,
     "metadata": {},
     "output_type": "execute_result"
    }
   ],
   "source": [
    "mlp.get_accuracy(mlp.predict(X_train), y_train)"
   ]
  },
  {
   "cell_type": "markdown",
   "metadata": {},
   "source": [
    "### Visualization"
   ]
  },
  {
   "cell_type": "code",
   "execution_count": 118,
   "metadata": {
    "execution": {
     "iopub.execute_input": "2025-05-31T11:56:04.302300Z",
     "iopub.status.busy": "2025-05-31T11:56:04.302024Z",
     "iopub.status.idle": "2025-05-31T11:56:04.740543Z",
     "shell.execute_reply": "2025-05-31T11:56:04.739298Z",
     "shell.execute_reply.started": "2025-05-31T11:56:04.302278Z"
    },
    "trusted": true
   },
   "outputs": [
    {
     "data": {
      "image/png": "[encoded data removed]",
      "text/plain": [
       "<Figure size 1200x500 with 2 Axes>"
      ]
     },
     "metadata": {},
     "output_type": "display_data"
    }
   ],
   "source": [
    "import matplotlib.pyplot as plt\n",
    "\n",
    "epochs = np.array([j for j in range(1, len(mlp.error_log) + 1)])\n",
    "error_log = np.array([j[0][0] for j in mlp.error_log])\n",
    "accuracy_log = np.array([j for j in mlp.accuracy_log])\n",
    "\n",
    "plt.figure(figsize=(12, 5))\n",
    "\n",
    "# Plot Error\n",
    "plt.subplot(1, 2, 1)\n",
    "plt.plot(epochs, error_log, 'r-', label='Error')\n",
    "plt.xlabel('Epoch')\n",
    "plt.ylabel('Error')\n",
    "plt.title('Training Error Over Epochs')\n",
    "plt.grid(True)\n",
    "plt.legend()\n",
    "\n",
    "# Plot Accuracy\n",
    "plt.subplot(1, 2, 2)\n",
    "plt.plot(epochs, accuracy_log, 'b-', label='Accuracy')\n",
    "plt.xlabel('Epoch')\n",
    "plt.ylabel('Accuracy')\n",
    "plt.title('Training Accuracy Over Epochs')\n",
    "plt.grid(True)\n",
    "plt.legend()\n",
    "\n",
    "plt.tight_layout()\n",
    "plt.show()\n"
   ]
  }
 ],
 "metadata": {
  "kaggle": {
   "accelerator": "none",
   "dataSources": [],
   "dockerImageVersionId": 31040,
   "isGpuEnabled": false,
   "isInternetEnabled": true,
   "language": "python",
   "sourceType": "notebook"
  },
  "kernelspec": {
   "display_name": "Python 3",
   "language": "python",
   "name": "python3"
  },
  "language_info": {
   "codemirror_mode": {
    "name": "ipython",
    "version": 3
   },
   "file_extension": ".py",
   "mimetype": "text/x-python",
   "name": "python",
   "nbconvert_exporter": "python",
   "pygments_lexer": "ipython3",
   "version": "3.11.11"
  }
 },
 "nbformat": 4,
 "nbformat_minor": 4
}
