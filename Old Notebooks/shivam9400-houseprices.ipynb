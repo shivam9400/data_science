{
 "cells": [
  {
   "cell_type": "markdown",
   "id": "c596afc4",
   "metadata": {
    "papermill": {
     "duration": 0.011245,
     "end_time": "2023-01-28T21:00:41.184619",
     "exception": false,
     "start_time": "2023-01-28T21:00:41.173374",
     "status": "completed"
    },
    "tags": []
   },
   "source": [
    "## Data Processing"
   ]
  },
  {
   "cell_type": "code",
   "execution_count": 1,
   "id": "46810da0",
   "metadata": {
    "_cell_guid": "b1076dfc-b9ad-4769-8c92-a6c4dae69d19",
    "_uuid": "8f2839f25d086af736a60e9eeb907d3b93b6e0e5",
    "execution": {
     "iopub.execute_input": "2023-01-28T21:00:41.207945Z",
     "iopub.status.busy": "2023-01-28T21:00:41.206960Z",
     "iopub.status.idle": "2023-01-28T21:00:41.222460Z",
     "shell.execute_reply": "2023-01-28T21:00:41.221535Z"
    },
    "papermill": {
     "duration": 0.030188,
     "end_time": "2023-01-28T21:00:41.224897",
     "exception": false,
     "start_time": "2023-01-28T21:00:41.194709",
     "status": "completed"
    },
    "tags": []
   },
   "outputs": [
    {
     "name": "stdout",
     "output_type": "stream",
     "text": [
      "/kaggle/input/house-prices-advanced-regression-techniques/sample_submission.csv\n",
      "/kaggle/input/house-prices-advanced-regression-techniques/data_description.txt\n",
      "/kaggle/input/house-prices-advanced-regression-techniques/train.csv\n",
      "/kaggle/input/house-prices-advanced-regression-techniques/test.csv\n"
     ]
    }
   ],
   "source": [
    "# This Python 3 environment comes with many helpful analytics libraries installed\n",
    "# It is defined by the kaggle/python Docker image: https://github.com/kaggle/docker-python\n",
    "# For example, here's several helpful packages to load\n",
    "\n",
    "import numpy as np # linear algebra\n",
    "import pandas as pd # data processing, CSV file I/O (e.g. pd.read_csv)\n",
    "\n",
    "# Input data files are available in the read-only \"../input/\" directory\n",
    "# For example, running this (by clicking run or pressing Shift+Enter) will list all files under the input directory\n",
    "\n",
    "import os\n",
    "for dirname, _, filenames in os.walk('/kaggle/input'):\n",
    "    for filename in filenames:\n",
    "        print(os.path.join(dirname, filename))\n",
    "\n",
    "# You can write up to 20GB to the current directory (/kaggle/working/) that gets preserved as output when you create a version using \"Save & Run All\" \n",
    "# You can also write temporary files to /kaggle/temp/, but they won't be saved outside of the current session"
   ]
  },
  {
   "cell_type": "code",
   "execution_count": 2,
   "id": "7e751541",
   "metadata": {
    "execution": {
     "iopub.execute_input": "2023-01-28T21:00:41.247233Z",
     "iopub.status.busy": "2023-01-28T21:00:41.246553Z",
     "iopub.status.idle": "2023-01-28T21:00:41.324566Z",
     "shell.execute_reply": "2023-01-28T21:00:41.323452Z"
    },
    "papermill": {
     "duration": 0.09235,
     "end_time": "2023-01-28T21:00:41.327439",
     "exception": false,
     "start_time": "2023-01-28T21:00:41.235089",
     "status": "completed"
    },
    "tags": []
   },
   "outputs": [],
   "source": [
    "df = pd.read_csv(\"/kaggle/input/house-prices-advanced-regression-techniques/train.csv\")\n",
    "df_test = pd.read_csv(\"/kaggle/input/house-prices-advanced-regression-techniques/test.csv\")"
   ]
  },
  {
   "cell_type": "markdown",
   "id": "6b93707b",
   "metadata": {
    "papermill": {
     "duration": 0.009853,
     "end_time": "2023-01-28T21:00:41.347618",
     "exception": false,
     "start_time": "2023-01-28T21:00:41.337765",
     "status": "completed"
    },
    "tags": []
   },
   "source": [
    "Listing all \"NA\" columns in training dataset..."
   ]
  },
  {
   "cell_type": "code",
   "execution_count": 3,
   "id": "3fb992de",
   "metadata": {
    "execution": {
     "iopub.execute_input": "2023-01-28T21:00:41.370272Z",
     "iopub.status.busy": "2023-01-28T21:00:41.369853Z",
     "iopub.status.idle": "2023-01-28T21:00:41.381732Z",
     "shell.execute_reply": "2023-01-28T21:00:41.380763Z"
    },
    "papermill": {
     "duration": 0.026024,
     "end_time": "2023-01-28T21:00:41.384646",
     "exception": false,
     "start_time": "2023-01-28T21:00:41.358622",
     "status": "completed"
    },
    "tags": []
   },
   "outputs": [
    {
     "name": "stdout",
     "output_type": "stream",
     "text": [
      "['LotFrontage', 'Alley', 'MasVnrType', 'MasVnrArea', 'BsmtQual', 'BsmtCond', 'BsmtExposure', 'BsmtFinType1', 'BsmtFinType2', 'Electrical', 'FireplaceQu', 'GarageType', 'GarageYrBlt', 'GarageFinish', 'GarageQual', 'GarageCond', 'PoolQC', 'Fence', 'MiscFeature']\n"
     ]
    }
   ],
   "source": [
    "list_na = [k[0] for k in df.isna().any().to_dict().items() if k[1] == True]\n",
    "print(list_na)"
   ]
  },
  {
   "cell_type": "markdown",
   "id": "a9ceb889",
   "metadata": {
    "papermill": {
     "duration": 0.009861,
     "end_time": "2023-01-28T21:00:41.405640",
     "exception": false,
     "start_time": "2023-01-28T21:00:41.395779",
     "status": "completed"
    },
    "tags": []
   },
   "source": [
    "## Fill Missing Values"
   ]
  },
  {
   "cell_type": "markdown",
   "id": "b65acbff",
   "metadata": {
    "papermill": {
     "duration": 0.009818,
     "end_time": "2023-01-28T21:00:41.425444",
     "exception": false,
     "start_time": "2023-01-28T21:00:41.415626",
     "status": "completed"
    },
    "tags": []
   },
   "source": [
    "There are certain cells whose \"NA\" values will take \"No\" values per the dataset description.\n",
    "\n",
    "Listing all such columns..."
   ]
  },
  {
   "cell_type": "code",
   "execution_count": 4,
   "id": "9039d061",
   "metadata": {
    "execution": {
     "iopub.execute_input": "2023-01-28T21:00:41.447434Z",
     "iopub.status.busy": "2023-01-28T21:00:41.447001Z",
     "iopub.status.idle": "2023-01-28T21:00:41.451787Z",
     "shell.execute_reply": "2023-01-28T21:00:41.450904Z"
    },
    "papermill": {
     "duration": 0.018352,
     "end_time": "2023-01-28T21:00:41.453803",
     "exception": false,
     "start_time": "2023-01-28T21:00:41.435451",
     "status": "completed"
    },
    "tags": []
   },
   "outputs": [],
   "source": [
    "list_no = ['Alley', 'BsmtQual', 'BsmtCond', 'BsmtExposure', 'BsmtFinType1', 'BsmtFinType2',\n",
    "          'FireplaceQu', 'GarageType', 'GarageFinish', 'GarageQual', 'GarageCond', 'PoolQC',\n",
    "          'Fence']"
   ]
  },
  {
   "cell_type": "code",
   "execution_count": 5,
   "id": "06bc1623",
   "metadata": {
    "execution": {
     "iopub.execute_input": "2023-01-28T21:00:41.476307Z",
     "iopub.status.busy": "2023-01-28T21:00:41.475452Z",
     "iopub.status.idle": "2023-01-28T21:00:41.484044Z",
     "shell.execute_reply": "2023-01-28T21:00:41.482833Z"
    },
    "papermill": {
     "duration": 0.022733,
     "end_time": "2023-01-28T21:00:41.486465",
     "exception": false,
     "start_time": "2023-01-28T21:00:41.463732",
     "status": "completed"
    },
    "tags": []
   },
   "outputs": [
    {
     "data": {
      "text/plain": [
       "True"
      ]
     },
     "execution_count": 5,
     "metadata": {},
     "output_type": "execute_result"
    }
   ],
   "source": [
    "# Checking if list_no defined above is a subset of list_na \n",
    "set(list_no).issubset(set(list_na))"
   ]
  },
  {
   "cell_type": "code",
   "execution_count": 6,
   "id": "842d2905",
   "metadata": {
    "execution": {
     "iopub.execute_input": "2023-01-28T21:00:41.510743Z",
     "iopub.status.busy": "2023-01-28T21:00:41.509948Z",
     "iopub.status.idle": "2023-01-28T21:00:41.531338Z",
     "shell.execute_reply": "2023-01-28T21:00:41.530266Z"
    },
    "papermill": {
     "duration": 0.037083,
     "end_time": "2023-01-28T21:00:41.533867",
     "exception": false,
     "start_time": "2023-01-28T21:00:41.496784",
     "status": "completed"
    },
    "tags": []
   },
   "outputs": [],
   "source": [
    "df_tr = df.copy()\n",
    "\n",
    "for j in list_no:\n",
    "    df_tr[j].fillna(\"No\", inplace=True)\n",
    "    df_test[j].fillna(\"No\", inplace=True)"
   ]
  },
  {
   "cell_type": "markdown",
   "id": "d33e971c",
   "metadata": {
    "papermill": {
     "duration": 0.010108,
     "end_time": "2023-01-28T21:00:41.554801",
     "exception": false,
     "start_time": "2023-01-28T21:00:41.544693",
     "status": "completed"
    },
    "tags": []
   },
   "source": [
    "From above processing, few columns in \"NA\" list have been filled with \"No\" values per list list_no. Now, we will address missing values in remaining columns.\n",
    "\n",
    "Getting list of remaining columns..."
   ]
  },
  {
   "cell_type": "code",
   "execution_count": 7,
   "id": "4dc5ffa3",
   "metadata": {
    "execution": {
     "iopub.execute_input": "2023-01-28T21:00:41.578601Z",
     "iopub.status.busy": "2023-01-28T21:00:41.577800Z",
     "iopub.status.idle": "2023-01-28T21:00:41.584459Z",
     "shell.execute_reply": "2023-01-28T21:00:41.583552Z"
    },
    "papermill": {
     "duration": 0.021416,
     "end_time": "2023-01-28T21:00:41.586546",
     "exception": false,
     "start_time": "2023-01-28T21:00:41.565130",
     "status": "completed"
    },
    "tags": []
   },
   "outputs": [
    {
     "data": {
      "text/plain": [
       "['LotFrontage',\n",
       " 'Electrical',\n",
       " 'MiscFeature',\n",
       " 'MasVnrType',\n",
       " 'MasVnrArea',\n",
       " 'GarageYrBlt']"
      ]
     },
     "execution_count": 7,
     "metadata": {},
     "output_type": "execute_result"
    }
   ],
   "source": [
    "list_na_ = list(set(list_na) - set(list_no))\n",
    "list_na_"
   ]
  },
  {
   "cell_type": "code",
   "execution_count": 8,
   "id": "076eb82a",
   "metadata": {
    "execution": {
     "iopub.execute_input": "2023-01-28T21:00:41.609280Z",
     "iopub.status.busy": "2023-01-28T21:00:41.608520Z",
     "iopub.status.idle": "2023-01-28T21:00:41.614492Z",
     "shell.execute_reply": "2023-01-28T21:00:41.613347Z"
    },
    "papermill": {
     "duration": 0.020071,
     "end_time": "2023-01-28T21:00:41.616828",
     "exception": false,
     "start_time": "2023-01-28T21:00:41.596757",
     "status": "completed"
    },
    "tags": []
   },
   "outputs": [
    {
     "name": "stdout",
     "output_type": "stream",
     "text": [
      "float64\n",
      "object\n",
      "object\n",
      "object\n",
      "float64\n",
      "float64\n"
     ]
    }
   ],
   "source": [
    "# Printing datatype of remaining columns with \"NA\" values\n",
    "for k in list_na_:\n",
    "    print(df_tr[k].dtype)"
   ]
  },
  {
   "cell_type": "markdown",
   "id": "6116462b",
   "metadata": {
    "papermill": {
     "duration": 0.010004,
     "end_time": "2023-01-28T21:00:41.637092",
     "exception": false,
     "start_time": "2023-01-28T21:00:41.627088",
     "status": "completed"
    },
    "tags": []
   },
   "source": [
    "If column is of type \"float64\" or \"int64\", we will replace the null values by the mean of the column. \n",
    "\n",
    "For other datatypes, we will fill by mode.\n",
    "\n",
    "Filling Null values in Training dataset..."
   ]
  },
  {
   "cell_type": "code",
   "execution_count": 9,
   "id": "22947b55",
   "metadata": {
    "execution": {
     "iopub.execute_input": "2023-01-28T21:00:41.659805Z",
     "iopub.status.busy": "2023-01-28T21:00:41.659109Z",
     "iopub.status.idle": "2023-01-28T21:00:41.671388Z",
     "shell.execute_reply": "2023-01-28T21:00:41.670351Z"
    },
    "papermill": {
     "duration": 0.026798,
     "end_time": "2023-01-28T21:00:41.674119",
     "exception": false,
     "start_time": "2023-01-28T21:00:41.647321",
     "status": "completed"
    },
    "tags": []
   },
   "outputs": [],
   "source": [
    "for k in list_na_:\n",
    "    if (df_tr[k].dtype =='float64') or (df_tr[k].dtype =='int64'):\n",
    "        df_tr[k].fillna(df_tr[k].mean(), inplace=True)\n",
    "    else:\n",
    "        df_tr[k].fillna(df_tr[k].mode()[0], inplace=True)"
   ]
  },
  {
   "cell_type": "markdown",
   "id": "b9e3df93",
   "metadata": {
    "papermill": {
     "duration": 0.010134,
     "end_time": "2023-01-28T21:00:41.694605",
     "exception": false,
     "start_time": "2023-01-28T21:00:41.684471",
     "status": "completed"
    },
    "tags": []
   },
   "source": [
    "We had filled \"No\" values in test dataset.\n",
    "\n",
    "Filling null values for remaining columns in test dataset..."
   ]
  },
  {
   "cell_type": "code",
   "execution_count": 10,
   "id": "f0e619b3",
   "metadata": {
    "execution": {
     "iopub.execute_input": "2023-01-28T21:00:41.717986Z",
     "iopub.status.busy": "2023-01-28T21:00:41.716699Z",
     "iopub.status.idle": "2023-01-28T21:00:41.763796Z",
     "shell.execute_reply": "2023-01-28T21:00:41.762524Z"
    },
    "papermill": {
     "duration": 0.061503,
     "end_time": "2023-01-28T21:00:41.766594",
     "exception": false,
     "start_time": "2023-01-28T21:00:41.705091",
     "status": "completed"
    },
    "tags": []
   },
   "outputs": [],
   "source": [
    "for k in df_test.columns:\n",
    "    if df_test[k].dtype =='float64' or df_test[k].dtype =='int64':\n",
    "        df_test[k].fillna(df_test[k].mean(), inplace=True)\n",
    "    else:\n",
    "        df_test[k].fillna(df_test[k].mode()[0], inplace=True)"
   ]
  },
  {
   "cell_type": "markdown",
   "id": "e2d451f3",
   "metadata": {
    "papermill": {
     "duration": 0.010583,
     "end_time": "2023-01-28T21:00:41.788432",
     "exception": false,
     "start_time": "2023-01-28T21:00:41.777849",
     "status": "completed"
    },
    "tags": []
   },
   "source": [
    "Checking if there is remaining null values in integer type columns in training dataset."
   ]
  },
  {
   "cell_type": "code",
   "execution_count": 11,
   "id": "3866ac8f",
   "metadata": {
    "execution": {
     "iopub.execute_input": "2023-01-28T21:00:41.812022Z",
     "iopub.status.busy": "2023-01-28T21:00:41.811619Z",
     "iopub.status.idle": "2023-01-28T21:00:41.825965Z",
     "shell.execute_reply": "2023-01-28T21:00:41.824846Z"
    },
    "papermill": {
     "duration": 0.029308,
     "end_time": "2023-01-28T21:00:41.828309",
     "exception": false,
     "start_time": "2023-01-28T21:00:41.799001",
     "status": "completed"
    },
    "tags": []
   },
   "outputs": [
    {
     "data": {
      "text/plain": [
       "0"
      ]
     },
     "execution_count": 11,
     "metadata": {},
     "output_type": "execute_result"
    }
   ],
   "source": [
    "list_int = [k for k in df_tr.columns if df_tr[k].dtype=='int64']\n",
    "df_tr[list_int].isna().any().sum()"
   ]
  },
  {
   "cell_type": "code",
   "execution_count": 12,
   "id": "01c53eee",
   "metadata": {
    "execution": {
     "iopub.execute_input": "2023-01-28T21:00:41.850809Z",
     "iopub.status.busy": "2023-01-28T21:00:41.850413Z",
     "iopub.status.idle": "2023-01-28T21:00:41.960909Z",
     "shell.execute_reply": "2023-01-28T21:00:41.959815Z"
    },
    "papermill": {
     "duration": 0.124549,
     "end_time": "2023-01-28T21:00:41.963271",
     "exception": false,
     "start_time": "2023-01-28T21:00:41.838722",
     "status": "completed"
    },
    "tags": []
   },
   "outputs": [
    {
     "data": {
      "text/html": [
       "<div>\n",
       "<style scoped>\n",
       "    .dataframe tbody tr th:only-of-type {\n",
       "        vertical-align: middle;\n",
       "    }\n",
       "\n",
       "    .dataframe tbody tr th {\n",
       "        vertical-align: top;\n",
       "    }\n",
       "\n",
       "    .dataframe thead th {\n",
       "        text-align: right;\n",
       "    }\n",
       "</style>\n",
       "<table border=\"1\" class=\"dataframe\">\n",
       "  <thead>\n",
       "    <tr style=\"text-align: right;\">\n",
       "      <th></th>\n",
       "      <th>Id</th>\n",
       "      <th>MSSubClass</th>\n",
       "      <th>LotFrontage</th>\n",
       "      <th>LotArea</th>\n",
       "      <th>OverallQual</th>\n",
       "      <th>OverallCond</th>\n",
       "      <th>YearBuilt</th>\n",
       "      <th>YearRemodAdd</th>\n",
       "      <th>MasVnrArea</th>\n",
       "      <th>BsmtFinSF1</th>\n",
       "      <th>...</th>\n",
       "      <th>WoodDeckSF</th>\n",
       "      <th>OpenPorchSF</th>\n",
       "      <th>EnclosedPorch</th>\n",
       "      <th>3SsnPorch</th>\n",
       "      <th>ScreenPorch</th>\n",
       "      <th>PoolArea</th>\n",
       "      <th>MiscVal</th>\n",
       "      <th>MoSold</th>\n",
       "      <th>YrSold</th>\n",
       "      <th>SalePrice</th>\n",
       "    </tr>\n",
       "  </thead>\n",
       "  <tbody>\n",
       "    <tr>\n",
       "      <th>count</th>\n",
       "      <td>1460.000000</td>\n",
       "      <td>1460.000000</td>\n",
       "      <td>1460.000000</td>\n",
       "      <td>1460.000000</td>\n",
       "      <td>1460.000000</td>\n",
       "      <td>1460.000000</td>\n",
       "      <td>1460.000000</td>\n",
       "      <td>1460.000000</td>\n",
       "      <td>1460.000000</td>\n",
       "      <td>1460.000000</td>\n",
       "      <td>...</td>\n",
       "      <td>1460.000000</td>\n",
       "      <td>1460.000000</td>\n",
       "      <td>1460.000000</td>\n",
       "      <td>1460.000000</td>\n",
       "      <td>1460.000000</td>\n",
       "      <td>1460.000000</td>\n",
       "      <td>1460.000000</td>\n",
       "      <td>1460.000000</td>\n",
       "      <td>1460.000000</td>\n",
       "      <td>1460.000000</td>\n",
       "    </tr>\n",
       "    <tr>\n",
       "      <th>mean</th>\n",
       "      <td>730.500000</td>\n",
       "      <td>56.897260</td>\n",
       "      <td>70.049958</td>\n",
       "      <td>10516.828082</td>\n",
       "      <td>6.099315</td>\n",
       "      <td>5.575342</td>\n",
       "      <td>1971.267808</td>\n",
       "      <td>1984.865753</td>\n",
       "      <td>103.685262</td>\n",
       "      <td>443.639726</td>\n",
       "      <td>...</td>\n",
       "      <td>94.244521</td>\n",
       "      <td>46.660274</td>\n",
       "      <td>21.954110</td>\n",
       "      <td>3.409589</td>\n",
       "      <td>15.060959</td>\n",
       "      <td>2.758904</td>\n",
       "      <td>43.489041</td>\n",
       "      <td>6.321918</td>\n",
       "      <td>2007.815753</td>\n",
       "      <td>180921.195890</td>\n",
       "    </tr>\n",
       "    <tr>\n",
       "      <th>std</th>\n",
       "      <td>421.610009</td>\n",
       "      <td>42.300571</td>\n",
       "      <td>22.024023</td>\n",
       "      <td>9981.264932</td>\n",
       "      <td>1.382997</td>\n",
       "      <td>1.112799</td>\n",
       "      <td>30.202904</td>\n",
       "      <td>20.645407</td>\n",
       "      <td>180.569112</td>\n",
       "      <td>456.098091</td>\n",
       "      <td>...</td>\n",
       "      <td>125.338794</td>\n",
       "      <td>66.256028</td>\n",
       "      <td>61.119149</td>\n",
       "      <td>29.317331</td>\n",
       "      <td>55.757415</td>\n",
       "      <td>40.177307</td>\n",
       "      <td>496.123024</td>\n",
       "      <td>2.703626</td>\n",
       "      <td>1.328095</td>\n",
       "      <td>79442.502883</td>\n",
       "    </tr>\n",
       "    <tr>\n",
       "      <th>min</th>\n",
       "      <td>1.000000</td>\n",
       "      <td>20.000000</td>\n",
       "      <td>21.000000</td>\n",
       "      <td>1300.000000</td>\n",
       "      <td>1.000000</td>\n",
       "      <td>1.000000</td>\n",
       "      <td>1872.000000</td>\n",
       "      <td>1950.000000</td>\n",
       "      <td>0.000000</td>\n",
       "      <td>0.000000</td>\n",
       "      <td>...</td>\n",
       "      <td>0.000000</td>\n",
       "      <td>0.000000</td>\n",
       "      <td>0.000000</td>\n",
       "      <td>0.000000</td>\n",
       "      <td>0.000000</td>\n",
       "      <td>0.000000</td>\n",
       "      <td>0.000000</td>\n",
       "      <td>1.000000</td>\n",
       "      <td>2006.000000</td>\n",
       "      <td>34900.000000</td>\n",
       "    </tr>\n",
       "    <tr>\n",
       "      <th>25%</th>\n",
       "      <td>365.750000</td>\n",
       "      <td>20.000000</td>\n",
       "      <td>60.000000</td>\n",
       "      <td>7553.500000</td>\n",
       "      <td>5.000000</td>\n",
       "      <td>5.000000</td>\n",
       "      <td>1954.000000</td>\n",
       "      <td>1967.000000</td>\n",
       "      <td>0.000000</td>\n",
       "      <td>0.000000</td>\n",
       "      <td>...</td>\n",
       "      <td>0.000000</td>\n",
       "      <td>0.000000</td>\n",
       "      <td>0.000000</td>\n",
       "      <td>0.000000</td>\n",
       "      <td>0.000000</td>\n",
       "      <td>0.000000</td>\n",
       "      <td>0.000000</td>\n",
       "      <td>5.000000</td>\n",
       "      <td>2007.000000</td>\n",
       "      <td>129975.000000</td>\n",
       "    </tr>\n",
       "    <tr>\n",
       "      <th>50%</th>\n",
       "      <td>730.500000</td>\n",
       "      <td>50.000000</td>\n",
       "      <td>70.049958</td>\n",
       "      <td>9478.500000</td>\n",
       "      <td>6.000000</td>\n",
       "      <td>5.000000</td>\n",
       "      <td>1973.000000</td>\n",
       "      <td>1994.000000</td>\n",
       "      <td>0.000000</td>\n",
       "      <td>383.500000</td>\n",
       "      <td>...</td>\n",
       "      <td>0.000000</td>\n",
       "      <td>25.000000</td>\n",
       "      <td>0.000000</td>\n",
       "      <td>0.000000</td>\n",
       "      <td>0.000000</td>\n",
       "      <td>0.000000</td>\n",
       "      <td>0.000000</td>\n",
       "      <td>6.000000</td>\n",
       "      <td>2008.000000</td>\n",
       "      <td>163000.000000</td>\n",
       "    </tr>\n",
       "    <tr>\n",
       "      <th>75%</th>\n",
       "      <td>1095.250000</td>\n",
       "      <td>70.000000</td>\n",
       "      <td>79.000000</td>\n",
       "      <td>11601.500000</td>\n",
       "      <td>7.000000</td>\n",
       "      <td>6.000000</td>\n",
       "      <td>2000.000000</td>\n",
       "      <td>2004.000000</td>\n",
       "      <td>164.250000</td>\n",
       "      <td>712.250000</td>\n",
       "      <td>...</td>\n",
       "      <td>168.000000</td>\n",
       "      <td>68.000000</td>\n",
       "      <td>0.000000</td>\n",
       "      <td>0.000000</td>\n",
       "      <td>0.000000</td>\n",
       "      <td>0.000000</td>\n",
       "      <td>0.000000</td>\n",
       "      <td>8.000000</td>\n",
       "      <td>2009.000000</td>\n",
       "      <td>214000.000000</td>\n",
       "    </tr>\n",
       "    <tr>\n",
       "      <th>max</th>\n",
       "      <td>1460.000000</td>\n",
       "      <td>190.000000</td>\n",
       "      <td>313.000000</td>\n",
       "      <td>215245.000000</td>\n",
       "      <td>10.000000</td>\n",
       "      <td>9.000000</td>\n",
       "      <td>2010.000000</td>\n",
       "      <td>2010.000000</td>\n",
       "      <td>1600.000000</td>\n",
       "      <td>5644.000000</td>\n",
       "      <td>...</td>\n",
       "      <td>857.000000</td>\n",
       "      <td>547.000000</td>\n",
       "      <td>552.000000</td>\n",
       "      <td>508.000000</td>\n",
       "      <td>480.000000</td>\n",
       "      <td>738.000000</td>\n",
       "      <td>15500.000000</td>\n",
       "      <td>12.000000</td>\n",
       "      <td>2010.000000</td>\n",
       "      <td>755000.000000</td>\n",
       "    </tr>\n",
       "  </tbody>\n",
       "</table>\n",
       "<p>8 rows × 38 columns</p>\n",
       "</div>"
      ],
      "text/plain": [
       "                Id   MSSubClass  LotFrontage        LotArea  OverallQual  \\\n",
       "count  1460.000000  1460.000000  1460.000000    1460.000000  1460.000000   \n",
       "mean    730.500000    56.897260    70.049958   10516.828082     6.099315   \n",
       "std     421.610009    42.300571    22.024023    9981.264932     1.382997   \n",
       "min       1.000000    20.000000    21.000000    1300.000000     1.000000   \n",
       "25%     365.750000    20.000000    60.000000    7553.500000     5.000000   \n",
       "50%     730.500000    50.000000    70.049958    9478.500000     6.000000   \n",
       "75%    1095.250000    70.000000    79.000000   11601.500000     7.000000   \n",
       "max    1460.000000   190.000000   313.000000  215245.000000    10.000000   \n",
       "\n",
       "       OverallCond    YearBuilt  YearRemodAdd   MasVnrArea   BsmtFinSF1  ...  \\\n",
       "count  1460.000000  1460.000000   1460.000000  1460.000000  1460.000000  ...   \n",
       "mean      5.575342  1971.267808   1984.865753   103.685262   443.639726  ...   \n",
       "std       1.112799    30.202904     20.645407   180.569112   456.098091  ...   \n",
       "min       1.000000  1872.000000   1950.000000     0.000000     0.000000  ...   \n",
       "25%       5.000000  1954.000000   1967.000000     0.000000     0.000000  ...   \n",
       "50%       5.000000  1973.000000   1994.000000     0.000000   383.500000  ...   \n",
       "75%       6.000000  2000.000000   2004.000000   164.250000   712.250000  ...   \n",
       "max       9.000000  2010.000000   2010.000000  1600.000000  5644.000000  ...   \n",
       "\n",
       "        WoodDeckSF  OpenPorchSF  EnclosedPorch    3SsnPorch  ScreenPorch  \\\n",
       "count  1460.000000  1460.000000    1460.000000  1460.000000  1460.000000   \n",
       "mean     94.244521    46.660274      21.954110     3.409589    15.060959   \n",
       "std     125.338794    66.256028      61.119149    29.317331    55.757415   \n",
       "min       0.000000     0.000000       0.000000     0.000000     0.000000   \n",
       "25%       0.000000     0.000000       0.000000     0.000000     0.000000   \n",
       "50%       0.000000    25.000000       0.000000     0.000000     0.000000   \n",
       "75%     168.000000    68.000000       0.000000     0.000000     0.000000   \n",
       "max     857.000000   547.000000     552.000000   508.000000   480.000000   \n",
       "\n",
       "          PoolArea       MiscVal       MoSold       YrSold      SalePrice  \n",
       "count  1460.000000   1460.000000  1460.000000  1460.000000    1460.000000  \n",
       "mean      2.758904     43.489041     6.321918  2007.815753  180921.195890  \n",
       "std      40.177307    496.123024     2.703626     1.328095   79442.502883  \n",
       "min       0.000000      0.000000     1.000000  2006.000000   34900.000000  \n",
       "25%       0.000000      0.000000     5.000000  2007.000000  129975.000000  \n",
       "50%       0.000000      0.000000     6.000000  2008.000000  163000.000000  \n",
       "75%       0.000000      0.000000     8.000000  2009.000000  214000.000000  \n",
       "max     738.000000  15500.000000    12.000000  2010.000000  755000.000000  \n",
       "\n",
       "[8 rows x 38 columns]"
      ]
     },
     "execution_count": 12,
     "metadata": {},
     "output_type": "execute_result"
    }
   ],
   "source": [
    "df_tr.describe()"
   ]
  },
  {
   "cell_type": "code",
   "execution_count": 13,
   "id": "3088c656",
   "metadata": {
    "execution": {
     "iopub.execute_input": "2023-01-28T21:00:41.988029Z",
     "iopub.status.busy": "2023-01-28T21:00:41.987602Z",
     "iopub.status.idle": "2023-01-28T21:00:42.009709Z",
     "shell.execute_reply": "2023-01-28T21:00:42.008303Z"
    },
    "papermill": {
     "duration": 0.038014,
     "end_time": "2023-01-28T21:00:42.012417",
     "exception": false,
     "start_time": "2023-01-28T21:00:41.974403",
     "status": "completed"
    },
    "tags": []
   },
   "outputs": [
    {
     "name": "stdout",
     "output_type": "stream",
     "text": [
      "<class 'pandas.core.frame.DataFrame'>\n",
      "RangeIndex: 1460 entries, 0 to 1459\n",
      "Data columns (total 38 columns):\n",
      " #   Column         Non-Null Count  Dtype  \n",
      "---  ------         --------------  -----  \n",
      " 0   Id             1460 non-null   int64  \n",
      " 1   MSSubClass     1460 non-null   int64  \n",
      " 2   LotFrontage    1460 non-null   float64\n",
      " 3   LotArea        1460 non-null   int64  \n",
      " 4   OverallQual    1460 non-null   int64  \n",
      " 5   OverallCond    1460 non-null   int64  \n",
      " 6   YearBuilt      1460 non-null   int64  \n",
      " 7   YearRemodAdd   1460 non-null   int64  \n",
      " 8   MasVnrArea     1460 non-null   float64\n",
      " 9   BsmtFinSF1     1460 non-null   int64  \n",
      " 10  BsmtFinSF2     1460 non-null   int64  \n",
      " 11  BsmtUnfSF      1460 non-null   int64  \n",
      " 12  TotalBsmtSF    1460 non-null   int64  \n",
      " 13  1stFlrSF       1460 non-null   int64  \n",
      " 14  2ndFlrSF       1460 non-null   int64  \n",
      " 15  LowQualFinSF   1460 non-null   int64  \n",
      " 16  GrLivArea      1460 non-null   int64  \n",
      " 17  BsmtFullBath   1460 non-null   int64  \n",
      " 18  BsmtHalfBath   1460 non-null   int64  \n",
      " 19  FullBath       1460 non-null   int64  \n",
      " 20  HalfBath       1460 non-null   int64  \n",
      " 21  BedroomAbvGr   1460 non-null   int64  \n",
      " 22  KitchenAbvGr   1460 non-null   int64  \n",
      " 23  TotRmsAbvGrd   1460 non-null   int64  \n",
      " 24  Fireplaces     1460 non-null   int64  \n",
      " 25  GarageYrBlt    1460 non-null   float64\n",
      " 26  GarageCars     1460 non-null   int64  \n",
      " 27  GarageArea     1460 non-null   int64  \n",
      " 28  WoodDeckSF     1460 non-null   int64  \n",
      " 29  OpenPorchSF    1460 non-null   int64  \n",
      " 30  EnclosedPorch  1460 non-null   int64  \n",
      " 31  3SsnPorch      1460 non-null   int64  \n",
      " 32  ScreenPorch    1460 non-null   int64  \n",
      " 33  PoolArea       1460 non-null   int64  \n",
      " 34  MiscVal        1460 non-null   int64  \n",
      " 35  MoSold         1460 non-null   int64  \n",
      " 36  YrSold         1460 non-null   int64  \n",
      " 37  SalePrice      1460 non-null   int64  \n",
      "dtypes: float64(3), int64(35)\n",
      "memory usage: 433.6 KB\n"
     ]
    }
   ],
   "source": [
    "list_int_float = [j for j in df_tr.columns if (df_tr[j].dtype=='float64') or \n",
    "                  (df_tr[j].dtype=='int64')]\n",
    "\n",
    "df_tr[list_int_float].info()"
   ]
  },
  {
   "cell_type": "markdown",
   "id": "3f7bf870",
   "metadata": {
    "papermill": {
     "duration": 0.010795,
     "end_time": "2023-01-28T21:00:42.034414",
     "exception": false,
     "start_time": "2023-01-28T21:00:42.023619",
     "status": "completed"
    },
    "tags": []
   },
   "source": [
    "Finding correlation of integer and float type columns in training dataset."
   ]
  },
  {
   "cell_type": "code",
   "execution_count": 14,
   "id": "310ebd68",
   "metadata": {
    "execution": {
     "iopub.execute_input": "2023-01-28T21:00:42.059313Z",
     "iopub.status.busy": "2023-01-28T21:00:42.058816Z",
     "iopub.status.idle": "2023-01-28T21:00:42.075221Z",
     "shell.execute_reply": "2023-01-28T21:00:42.073662Z"
    },
    "papermill": {
     "duration": 0.031971,
     "end_time": "2023-01-28T21:00:42.077889",
     "exception": false,
     "start_time": "2023-01-28T21:00:42.045918",
     "status": "completed"
    },
    "tags": []
   },
   "outputs": [
    {
     "name": "stdout",
     "output_type": "stream",
     "text": [
      "{'Id': -0.021916719443430967, 'MSSubClass': -0.08428413512659509, 'LotFrontage': 0.3349008515405512, 'LotArea': 0.2638433538714051, 'OverallQual': 0.7909816005838053, 'OverallCond': -0.07785589404867797, 'YearBuilt': 0.5228973328794967, 'YearRemodAdd': 0.5071009671113866, 'MasVnrArea': 0.475241316773666, 'BsmtFinSF1': 0.3864198062421535, 'BsmtFinSF2': -0.011378121450215146, 'BsmtUnfSF': 0.21447910554696928, 'TotalBsmtSF': 0.6135805515591943, '1stFlrSF': 0.6058521846919153, '2ndFlrSF': 0.31933380283206736, 'LowQualFinSF': -0.02560613000067955, 'GrLivArea': 0.7086244776126515, 'BsmtFullBath': 0.22712223313149427, 'BsmtHalfBath': -0.01684415429735895, 'FullBath': 0.5606637627484453, 'HalfBath': 0.28410767559478256, 'BedroomAbvGr': 0.16821315430073963, 'KitchenAbvGr': -0.13590737084214105, 'TotRmsAbvGrd': 0.5337231555820284, 'Fireplaces': 0.46692883675152763, 'GarageYrBlt': 0.47017745374048125, 'GarageCars': 0.6404091972583519, 'GarageArea': 0.6234314389183622, 'WoodDeckSF': 0.32441344456812926, 'OpenPorchSF': 0.31585622711605504, 'EnclosedPorch': -0.1285779579259566, '3SsnPorch': 0.04458366533574838, 'ScreenPorch': 0.11144657114291112, 'PoolArea': 0.09240354949187318, 'MiscVal': -0.021189579640303213, 'MoSold': 0.046432245223819446, 'YrSold': -0.028922585168736813, 'SalePrice': 1.0}\n"
     ]
    }
   ],
   "source": [
    "dict_corr = df_tr[list_int_float].corr()['SalePrice'].to_dict()\n",
    "print(dict_corr)"
   ]
  },
  {
   "cell_type": "code",
   "execution_count": 15,
   "id": "1af7c1ed",
   "metadata": {
    "execution": {
     "iopub.execute_input": "2023-01-28T21:00:42.102677Z",
     "iopub.status.busy": "2023-01-28T21:00:42.101551Z",
     "iopub.status.idle": "2023-01-28T21:00:42.110149Z",
     "shell.execute_reply": "2023-01-28T21:00:42.108983Z"
    },
    "papermill": {
     "duration": 0.023641,
     "end_time": "2023-01-28T21:00:42.112776",
     "exception": false,
     "start_time": "2023-01-28T21:00:42.089135",
     "status": "completed"
    },
    "tags": []
   },
   "outputs": [
    {
     "name": "stdout",
     "output_type": "stream",
     "text": [
      "{'OverallQual': 0.7909816005838053, 'YearBuilt': 0.5228973328794967, 'YearRemodAdd': 0.5071009671113866, 'TotalBsmtSF': 0.6135805515591943, '1stFlrSF': 0.6058521846919153, 'GrLivArea': 0.7086244776126515, 'FullBath': 0.5606637627484453, 'TotRmsAbvGrd': 0.5337231555820284, 'GarageCars': 0.6404091972583519, 'GarageArea': 0.6234314389183622, 'SalePrice': 1.0}\n",
      "-------------------------------------------------\n",
      "\n",
      "Printing below all Keys from above dictionary:\n",
      "\n",
      "['OverallQual', 'YearBuilt', 'YearRemodAdd', 'TotalBsmtSF', '1stFlrSF', 'GrLivArea', 'FullBath', 'TotRmsAbvGrd', 'GarageCars', 'GarageArea', 'SalePrice']\n"
     ]
    }
   ],
   "source": [
    "dict_corr_ = {}\n",
    "for k in dict_corr.items():\n",
    "    if np.abs(k[1])>=0.5:\n",
    "        dict_corr_[k[0]] = k[1]\n",
    "\n",
    "print(dict_corr_)\n",
    "print(\"-------------------------------------------------\\n\")\n",
    "list_corr = [k[0] for k in dict_corr_.items()]\n",
    "print(\"Printing below all Keys from above dictionary:\\n\")\n",
    "print(list_corr)"
   ]
  },
  {
   "cell_type": "markdown",
   "id": "d9e8c83e",
   "metadata": {
    "papermill": {
     "duration": 0.010947,
     "end_time": "2023-01-28T21:00:42.135841",
     "exception": false,
     "start_time": "2023-01-28T21:00:42.124894",
     "status": "completed"
    },
    "tags": []
   },
   "source": [
    "We had filtered out columns based on correlation with output variable \"SalePrice\". These columns were integer or float datatypes. We will now evaluate what all columns to keep removing columns with low correlation with output variable."
   ]
  },
  {
   "cell_type": "code",
   "execution_count": 16,
   "id": "45ca0ab1",
   "metadata": {
    "execution": {
     "iopub.execute_input": "2023-01-28T21:00:42.160353Z",
     "iopub.status.busy": "2023-01-28T21:00:42.159934Z",
     "iopub.status.idle": "2023-01-28T21:00:42.166038Z",
     "shell.execute_reply": "2023-01-28T21:00:42.164875Z"
    },
    "papermill": {
     "duration": 0.02217,
     "end_time": "2023-01-28T21:00:42.169346",
     "exception": false,
     "start_time": "2023-01-28T21:00:42.147176",
     "status": "completed"
    },
    "tags": []
   },
   "outputs": [
    {
     "name": "stdout",
     "output_type": "stream",
     "text": [
      "['GarageType', 'OverallQual', 'Exterior2nd', 'TotalBsmtSF', 'BsmtFinType2', 'TotRmsAbvGrd', 'LandSlope', 'SalePrice', 'MSZoning', 'CentralAir', '1stFlrSF', 'SaleCondition', 'FireplaceQu', 'GarageQual', 'Exterior1st', 'RoofMatl', 'Foundation', 'Electrical', 'GarageCars', 'Street', 'Neighborhood', 'BsmtExposure', 'GrLivArea', 'RoofStyle', 'GarageCond', 'GarageArea', 'Utilities', 'BldgType', 'HeatingQC', 'ExterCond', 'Heating', 'Alley', 'BsmtQual', 'GarageFinish', 'MiscFeature', 'LotConfig', 'LandContour', 'LotShape', 'BsmtFinType1', 'PavedDrive', 'Fence', 'SaleType', 'YearBuilt', 'BsmtCond', 'HouseStyle', 'Functional', 'YearRemodAdd', 'ExterQual', 'Condition1', 'PoolQC', 'MasVnrType', 'Condition2', 'FullBath', 'KitchenQual']\n"
     ]
    }
   ],
   "source": [
    "list_drop = list(set(list_int_float) - set(list_corr))\n",
    "list_col_keep = list(set(list(df_tr.columns)) - set(list_drop))\n",
    "print(list_col_keep)"
   ]
  },
  {
   "cell_type": "code",
   "execution_count": 17,
   "id": "5554b198",
   "metadata": {
    "execution": {
     "iopub.execute_input": "2023-01-28T21:00:42.194761Z",
     "iopub.status.busy": "2023-01-28T21:00:42.194374Z",
     "iopub.status.idle": "2023-01-28T21:00:42.201192Z",
     "shell.execute_reply": "2023-01-28T21:00:42.199894Z"
    },
    "papermill": {
     "duration": 0.021745,
     "end_time": "2023-01-28T21:00:42.203330",
     "exception": false,
     "start_time": "2023-01-28T21:00:42.181585",
     "status": "completed"
    },
    "tags": []
   },
   "outputs": [],
   "source": [
    "df_tr_ = df_tr[list_col_keep]"
   ]
  },
  {
   "cell_type": "markdown",
   "id": "7b4643a8",
   "metadata": {
    "papermill": {
     "duration": 0.010889,
     "end_time": "2023-01-28T21:00:42.225544",
     "exception": false,
     "start_time": "2023-01-28T21:00:42.214655",
     "status": "completed"
    },
    "tags": []
   },
   "source": [
    "Ordering test dataset similar to training dataset..."
   ]
  },
  {
   "cell_type": "code",
   "execution_count": 18,
   "id": "6cf23b50",
   "metadata": {
    "execution": {
     "iopub.execute_input": "2023-01-28T21:00:42.250508Z",
     "iopub.status.busy": "2023-01-28T21:00:42.249661Z",
     "iopub.status.idle": "2023-01-28T21:00:42.256810Z",
     "shell.execute_reply": "2023-01-28T21:00:42.255564Z"
    },
    "papermill": {
     "duration": 0.022549,
     "end_time": "2023-01-28T21:00:42.259399",
     "exception": false,
     "start_time": "2023-01-28T21:00:42.236850",
     "status": "completed"
    },
    "tags": []
   },
   "outputs": [],
   "source": [
    "list_ = [j for j in list_col_keep if j!='SalePrice']\n",
    "list_.insert(0, 'Id')\n",
    "df_test_ = df_test[list_]"
   ]
  },
  {
   "cell_type": "markdown",
   "id": "b3567682",
   "metadata": {
    "papermill": {
     "duration": 0.011592,
     "end_time": "2023-01-28T21:00:42.282897",
     "exception": false,
     "start_time": "2023-01-28T21:00:42.271305",
     "status": "completed"
    },
    "tags": []
   },
   "source": [
    "Making list of category columns in training dataset..."
   ]
  },
  {
   "cell_type": "code",
   "execution_count": 19,
   "id": "cadcc8a8",
   "metadata": {
    "execution": {
     "iopub.execute_input": "2023-01-28T21:00:42.307907Z",
     "iopub.status.busy": "2023-01-28T21:00:42.307472Z",
     "iopub.status.idle": "2023-01-28T21:00:42.315753Z",
     "shell.execute_reply": "2023-01-28T21:00:42.314725Z"
    },
    "papermill": {
     "duration": 0.024344,
     "end_time": "2023-01-28T21:00:42.318871",
     "exception": false,
     "start_time": "2023-01-28T21:00:42.294527",
     "status": "completed"
    },
    "tags": []
   },
   "outputs": [
    {
     "name": "stdout",
     "output_type": "stream",
     "text": [
      "['GarageType', 'Exterior2nd', 'BsmtFinType2', 'LandSlope', 'MSZoning', 'CentralAir', 'SaleCondition', 'FireplaceQu', 'GarageQual', 'Exterior1st', 'RoofMatl', 'Foundation', 'Electrical', 'Street', 'Neighborhood', 'BsmtExposure', 'RoofStyle', 'GarageCond', 'Utilities', 'BldgType', 'HeatingQC', 'ExterCond', 'Heating', 'Alley', 'BsmtQual', 'GarageFinish', 'MiscFeature', 'LotConfig', 'LandContour', 'LotShape', 'BsmtFinType1', 'PavedDrive', 'Fence', 'SaleType', 'BsmtCond', 'HouseStyle', 'Functional', 'ExterQual', 'Condition1', 'PoolQC', 'MasVnrType', 'Condition2', 'KitchenQual']\n"
     ]
    }
   ],
   "source": [
    "cat_col = [k for k in list_col_keep if df_tr_[k].dtype==\"object\"]\n",
    "print(cat_col)"
   ]
  },
  {
   "cell_type": "markdown",
   "id": "91c90af8",
   "metadata": {
    "papermill": {
     "duration": 0.011209,
     "end_time": "2023-01-28T21:00:42.342831",
     "exception": false,
     "start_time": "2023-01-28T21:00:42.331622",
     "status": "completed"
    },
    "tags": []
   },
   "source": [
    "## Encoding"
   ]
  },
  {
   "cell_type": "code",
   "execution_count": 20,
   "id": "cca7ea33",
   "metadata": {
    "execution": {
     "iopub.execute_input": "2023-01-28T21:00:42.368493Z",
     "iopub.status.busy": "2023-01-28T21:00:42.367641Z",
     "iopub.status.idle": "2023-01-28T21:00:42.374952Z",
     "shell.execute_reply": "2023-01-28T21:00:42.373543Z"
    },
    "papermill": {
     "duration": 0.023616,
     "end_time": "2023-01-28T21:00:42.377963",
     "exception": false,
     "start_time": "2023-01-28T21:00:42.354347",
     "status": "completed"
    },
    "tags": []
   },
   "outputs": [],
   "source": [
    "cat_col_ordinal = ['LandContour', 'Condition2', 'HeatingQC', 'MSZoning', 'Neighborhood', \n",
    "                   'RoofMatl', 'Utilities', 'MasVnrType', 'KitchenQual', 'Exterior2nd', \n",
    "                    'BsmtCond', 'Exterior1st', 'HouseStyle', \n",
    "                   'Electrical', 'Fence', 'GarageQual', 'Alley', 'FireplaceQu', 'Foundation', \n",
    "                   'MiscFeature', 'RoofStyle', 'GarageFinish','LotShape', \n",
    "                   'GarageType', 'SaleCondition', 'BsmtFinType1', 'PavedDrive', 'Heating', \n",
    "                   'LandSlope', 'ExterQual', 'ExterCond', 'PoolQC', 'Condition1', \n",
    "                   'BsmtExposure', 'GarageCond', 'LotConfig', 'Functional', \n",
    "                   'BsmtFinType2', 'BsmtQual']\n",
    "\n",
    "cat_col_label = ['Street' ,'BldgType', 'SaleType', 'CentralAir']"
   ]
  },
  {
   "cell_type": "code",
   "execution_count": 21,
   "id": "07eab03c",
   "metadata": {
    "execution": {
     "iopub.execute_input": "2023-01-28T21:00:42.403582Z",
     "iopub.status.busy": "2023-01-28T21:00:42.403158Z",
     "iopub.status.idle": "2023-01-28T21:00:43.723011Z",
     "shell.execute_reply": "2023-01-28T21:00:43.721421Z"
    },
    "papermill": {
     "duration": 1.336404,
     "end_time": "2023-01-28T21:00:43.726533",
     "exception": false,
     "start_time": "2023-01-28T21:00:42.390129",
     "status": "completed"
    },
    "tags": []
   },
   "outputs": [
    {
     "name": "stdout",
     "output_type": "stream",
     "text": [
      "Ordinal Encoding starting for column LandContour\n",
      "Ordinal Encoding done for column LandContour\n",
      "---------------------------------------\n",
      "Ordinal Encoding starting for column Condition2\n",
      "Ordinal Encoding done for column Condition2\n",
      "---------------------------------------\n",
      "Ordinal Encoding starting for column HeatingQC\n",
      "Ordinal Encoding done for column HeatingQC\n",
      "---------------------------------------\n",
      "Ordinal Encoding starting for column MSZoning\n",
      "Ordinal Encoding done for column MSZoning\n",
      "---------------------------------------\n",
      "Ordinal Encoding starting for column Neighborhood\n",
      "Ordinal Encoding done for column Neighborhood\n",
      "---------------------------------------\n",
      "Ordinal Encoding starting for column RoofMatl\n",
      "Ordinal Encoding done for column RoofMatl\n",
      "---------------------------------------\n",
      "Ordinal Encoding starting for column Utilities\n",
      "Ordinal Encoding done for column Utilities\n",
      "---------------------------------------\n",
      "Ordinal Encoding starting for column MasVnrType\n",
      "Ordinal Encoding done for column MasVnrType\n",
      "---------------------------------------\n",
      "Ordinal Encoding starting for column KitchenQual\n",
      "Ordinal Encoding done for column KitchenQual\n",
      "---------------------------------------\n",
      "Ordinal Encoding starting for column Exterior2nd\n",
      "Ordinal Encoding done for column Exterior2nd\n",
      "---------------------------------------\n",
      "Ordinal Encoding starting for column BsmtCond\n",
      "Ordinal Encoding done for column BsmtCond\n",
      "---------------------------------------\n",
      "Ordinal Encoding starting for column Exterior1st\n",
      "Ordinal Encoding done for column Exterior1st\n",
      "---------------------------------------\n",
      "Ordinal Encoding starting for column HouseStyle\n",
      "Ordinal Encoding done for column HouseStyle\n",
      "---------------------------------------\n",
      "Ordinal Encoding starting for column Electrical\n",
      "Ordinal Encoding done for column Electrical\n",
      "---------------------------------------\n",
      "Ordinal Encoding starting for column Fence\n",
      "Ordinal Encoding done for column Fence\n",
      "---------------------------------------\n",
      "Ordinal Encoding starting for column GarageQual\n",
      "Ordinal Encoding done for column GarageQual\n",
      "---------------------------------------\n",
      "Ordinal Encoding starting for column Alley\n",
      "Ordinal Encoding done for column Alley\n",
      "---------------------------------------\n",
      "Ordinal Encoding starting for column FireplaceQu\n",
      "Ordinal Encoding done for column FireplaceQu\n",
      "---------------------------------------\n",
      "Ordinal Encoding starting for column Foundation\n",
      "Ordinal Encoding done for column Foundation\n",
      "---------------------------------------\n",
      "Ordinal Encoding starting for column MiscFeature\n",
      "Ordinal Encoding done for column MiscFeature\n",
      "---------------------------------------\n",
      "Ordinal Encoding starting for column RoofStyle\n",
      "Ordinal Encoding done for column RoofStyle\n",
      "---------------------------------------\n",
      "Ordinal Encoding starting for column GarageFinish\n",
      "Ordinal Encoding done for column GarageFinish\n",
      "---------------------------------------\n",
      "Ordinal Encoding starting for column LotShape\n",
      "Ordinal Encoding done for column LotShape\n",
      "---------------------------------------\n",
      "Ordinal Encoding starting for column GarageType\n",
      "Ordinal Encoding done for column GarageType\n",
      "---------------------------------------\n",
      "Ordinal Encoding starting for column SaleCondition\n",
      "Ordinal Encoding done for column SaleCondition\n",
      "---------------------------------------\n",
      "Ordinal Encoding starting for column BsmtFinType1\n",
      "Ordinal Encoding done for column BsmtFinType1\n",
      "---------------------------------------\n",
      "Ordinal Encoding starting for column PavedDrive\n",
      "Ordinal Encoding done for column PavedDrive\n",
      "---------------------------------------\n",
      "Ordinal Encoding starting for column Heating\n",
      "Ordinal Encoding done for column Heating\n",
      "---------------------------------------\n",
      "Ordinal Encoding starting for column LandSlope\n",
      "Ordinal Encoding done for column LandSlope\n",
      "---------------------------------------\n",
      "Ordinal Encoding starting for column ExterQual\n",
      "Ordinal Encoding done for column ExterQual\n",
      "---------------------------------------\n",
      "Ordinal Encoding starting for column ExterCond\n",
      "Ordinal Encoding done for column ExterCond\n",
      "---------------------------------------\n",
      "Ordinal Encoding starting for column PoolQC\n",
      "Ordinal Encoding done for column PoolQC\n",
      "---------------------------------------\n",
      "Ordinal Encoding starting for column Condition1\n",
      "Ordinal Encoding done for column Condition1\n",
      "---------------------------------------\n",
      "Ordinal Encoding starting for column BsmtExposure\n"
     ]
    },
    {
     "name": "stderr",
     "output_type": "stream",
     "text": [
      "/opt/conda/lib/python3.7/site-packages/pandas/core/indexing.py:1835: SettingWithCopyWarning: \n",
      "A value is trying to be set on a copy of a slice from a DataFrame.\n",
      "Try using .loc[row_indexer,col_indexer] = value instead\n",
      "\n",
      "See the caveats in the documentation: https://pandas.pydata.org/pandas-docs/stable/user_guide/indexing.html#returning-a-view-versus-a-copy\n",
      "  self._setitem_single_column(loc, value[:, i].tolist(), pi)\n",
      "/opt/conda/lib/python3.7/site-packages/pandas/core/indexing.py:1835: SettingWithCopyWarning: \n",
      "A value is trying to be set on a copy of a slice from a DataFrame.\n",
      "Try using .loc[row_indexer,col_indexer] = value instead\n",
      "\n",
      "See the caveats in the documentation: https://pandas.pydata.org/pandas-docs/stable/user_guide/indexing.html#returning-a-view-versus-a-copy\n",
      "  self._setitem_single_column(loc, value[:, i].tolist(), pi)\n",
      "/opt/conda/lib/python3.7/site-packages/pandas/core/indexing.py:1835: SettingWithCopyWarning: \n",
      "A value is trying to be set on a copy of a slice from a DataFrame.\n",
      "Try using .loc[row_indexer,col_indexer] = value instead\n",
      "\n",
      "See the caveats in the documentation: https://pandas.pydata.org/pandas-docs/stable/user_guide/indexing.html#returning-a-view-versus-a-copy\n",
      "  self._setitem_single_column(loc, value[:, i].tolist(), pi)\n",
      "/opt/conda/lib/python3.7/site-packages/pandas/core/indexing.py:1835: SettingWithCopyWarning: \n",
      "A value is trying to be set on a copy of a slice from a DataFrame.\n",
      "Try using .loc[row_indexer,col_indexer] = value instead\n",
      "\n",
      "See the caveats in the documentation: https://pandas.pydata.org/pandas-docs/stable/user_guide/indexing.html#returning-a-view-versus-a-copy\n",
      "  self._setitem_single_column(loc, value[:, i].tolist(), pi)\n",
      "/opt/conda/lib/python3.7/site-packages/pandas/core/indexing.py:1835: SettingWithCopyWarning: \n",
      "A value is trying to be set on a copy of a slice from a DataFrame.\n",
      "Try using .loc[row_indexer,col_indexer] = value instead\n",
      "\n",
      "See the caveats in the documentation: https://pandas.pydata.org/pandas-docs/stable/user_guide/indexing.html#returning-a-view-versus-a-copy\n",
      "  self._setitem_single_column(loc, value[:, i].tolist(), pi)\n",
      "/opt/conda/lib/python3.7/site-packages/pandas/core/indexing.py:1835: SettingWithCopyWarning: \n",
      "A value is trying to be set on a copy of a slice from a DataFrame.\n",
      "Try using .loc[row_indexer,col_indexer] = value instead\n",
      "\n",
      "See the caveats in the documentation: https://pandas.pydata.org/pandas-docs/stable/user_guide/indexing.html#returning-a-view-versus-a-copy\n",
      "  self._setitem_single_column(loc, value[:, i].tolist(), pi)\n",
      "/opt/conda/lib/python3.7/site-packages/pandas/core/indexing.py:1835: SettingWithCopyWarning: \n",
      "A value is trying to be set on a copy of a slice from a DataFrame.\n",
      "Try using .loc[row_indexer,col_indexer] = value instead\n",
      "\n",
      "See the caveats in the documentation: https://pandas.pydata.org/pandas-docs/stable/user_guide/indexing.html#returning-a-view-versus-a-copy\n",
      "  self._setitem_single_column(loc, value[:, i].tolist(), pi)\n",
      "/opt/conda/lib/python3.7/site-packages/pandas/core/indexing.py:1835: SettingWithCopyWarning: \n",
      "A value is trying to be set on a copy of a slice from a DataFrame.\n",
      "Try using .loc[row_indexer,col_indexer] = value instead\n",
      "\n",
      "See the caveats in the documentation: https://pandas.pydata.org/pandas-docs/stable/user_guide/indexing.html#returning-a-view-versus-a-copy\n",
      "  self._setitem_single_column(loc, value[:, i].tolist(), pi)\n",
      "/opt/conda/lib/python3.7/site-packages/pandas/core/indexing.py:1835: SettingWithCopyWarning: \n",
      "A value is trying to be set on a copy of a slice from a DataFrame.\n",
      "Try using .loc[row_indexer,col_indexer] = value instead\n",
      "\n",
      "See the caveats in the documentation: https://pandas.pydata.org/pandas-docs/stable/user_guide/indexing.html#returning-a-view-versus-a-copy\n",
      "  self._setitem_single_column(loc, value[:, i].tolist(), pi)\n",
      "/opt/conda/lib/python3.7/site-packages/pandas/core/indexing.py:1835: SettingWithCopyWarning: \n",
      "A value is trying to be set on a copy of a slice from a DataFrame.\n",
      "Try using .loc[row_indexer,col_indexer] = value instead\n",
      "\n",
      "See the caveats in the documentation: https://pandas.pydata.org/pandas-docs/stable/user_guide/indexing.html#returning-a-view-versus-a-copy\n",
      "  self._setitem_single_column(loc, value[:, i].tolist(), pi)\n",
      "/opt/conda/lib/python3.7/site-packages/pandas/core/indexing.py:1835: SettingWithCopyWarning: \n",
      "A value is trying to be set on a copy of a slice from a DataFrame.\n",
      "Try using .loc[row_indexer,col_indexer] = value instead\n",
      "\n",
      "See the caveats in the documentation: https://pandas.pydata.org/pandas-docs/stable/user_guide/indexing.html#returning-a-view-versus-a-copy\n",
      "  self._setitem_single_column(loc, value[:, i].tolist(), pi)\n",
      "/opt/conda/lib/python3.7/site-packages/pandas/core/indexing.py:1835: SettingWithCopyWarning: \n",
      "A value is trying to be set on a copy of a slice from a DataFrame.\n",
      "Try using .loc[row_indexer,col_indexer] = value instead\n",
      "\n",
      "See the caveats in the documentation: https://pandas.pydata.org/pandas-docs/stable/user_guide/indexing.html#returning-a-view-versus-a-copy\n",
      "  self._setitem_single_column(loc, value[:, i].tolist(), pi)\n",
      "/opt/conda/lib/python3.7/site-packages/pandas/core/indexing.py:1835: SettingWithCopyWarning: \n",
      "A value is trying to be set on a copy of a slice from a DataFrame.\n",
      "Try using .loc[row_indexer,col_indexer] = value instead\n",
      "\n",
      "See the caveats in the documentation: https://pandas.pydata.org/pandas-docs/stable/user_guide/indexing.html#returning-a-view-versus-a-copy\n",
      "  self._setitem_single_column(loc, value[:, i].tolist(), pi)\n",
      "/opt/conda/lib/python3.7/site-packages/pandas/core/indexing.py:1835: SettingWithCopyWarning: \n",
      "A value is trying to be set on a copy of a slice from a DataFrame.\n",
      "Try using .loc[row_indexer,col_indexer] = value instead\n",
      "\n",
      "See the caveats in the documentation: https://pandas.pydata.org/pandas-docs/stable/user_guide/indexing.html#returning-a-view-versus-a-copy\n",
      "  self._setitem_single_column(loc, value[:, i].tolist(), pi)\n",
      "/opt/conda/lib/python3.7/site-packages/pandas/core/indexing.py:1835: SettingWithCopyWarning: \n",
      "A value is trying to be set on a copy of a slice from a DataFrame.\n",
      "Try using .loc[row_indexer,col_indexer] = value instead\n",
      "\n",
      "See the caveats in the documentation: https://pandas.pydata.org/pandas-docs/stable/user_guide/indexing.html#returning-a-view-versus-a-copy\n",
      "  self._setitem_single_column(loc, value[:, i].tolist(), pi)\n",
      "/opt/conda/lib/python3.7/site-packages/pandas/core/indexing.py:1835: SettingWithCopyWarning: \n",
      "A value is trying to be set on a copy of a slice from a DataFrame.\n",
      "Try using .loc[row_indexer,col_indexer] = value instead\n",
      "\n",
      "See the caveats in the documentation: https://pandas.pydata.org/pandas-docs/stable/user_guide/indexing.html#returning-a-view-versus-a-copy\n",
      "  self._setitem_single_column(loc, value[:, i].tolist(), pi)\n",
      "/opt/conda/lib/python3.7/site-packages/pandas/core/indexing.py:1835: SettingWithCopyWarning: \n",
      "A value is trying to be set on a copy of a slice from a DataFrame.\n",
      "Try using .loc[row_indexer,col_indexer] = value instead\n",
      "\n",
      "See the caveats in the documentation: https://pandas.pydata.org/pandas-docs/stable/user_guide/indexing.html#returning-a-view-versus-a-copy\n",
      "  self._setitem_single_column(loc, value[:, i].tolist(), pi)\n",
      "/opt/conda/lib/python3.7/site-packages/pandas/core/indexing.py:1835: SettingWithCopyWarning: \n",
      "A value is trying to be set on a copy of a slice from a DataFrame.\n",
      "Try using .loc[row_indexer,col_indexer] = value instead\n",
      "\n",
      "See the caveats in the documentation: https://pandas.pydata.org/pandas-docs/stable/user_guide/indexing.html#returning-a-view-versus-a-copy\n",
      "  self._setitem_single_column(loc, value[:, i].tolist(), pi)\n",
      "/opt/conda/lib/python3.7/site-packages/pandas/core/indexing.py:1835: SettingWithCopyWarning: \n",
      "A value is trying to be set on a copy of a slice from a DataFrame.\n",
      "Try using .loc[row_indexer,col_indexer] = value instead\n",
      "\n",
      "See the caveats in the documentation: https://pandas.pydata.org/pandas-docs/stable/user_guide/indexing.html#returning-a-view-versus-a-copy\n",
      "  self._setitem_single_column(loc, value[:, i].tolist(), pi)\n",
      "/opt/conda/lib/python3.7/site-packages/pandas/core/indexing.py:1835: SettingWithCopyWarning: \n",
      "A value is trying to be set on a copy of a slice from a DataFrame.\n",
      "Try using .loc[row_indexer,col_indexer] = value instead\n",
      "\n",
      "See the caveats in the documentation: https://pandas.pydata.org/pandas-docs/stable/user_guide/indexing.html#returning-a-view-versus-a-copy\n",
      "  self._setitem_single_column(loc, value[:, i].tolist(), pi)\n",
      "/opt/conda/lib/python3.7/site-packages/pandas/core/indexing.py:1835: SettingWithCopyWarning: \n",
      "A value is trying to be set on a copy of a slice from a DataFrame.\n",
      "Try using .loc[row_indexer,col_indexer] = value instead\n",
      "\n",
      "See the caveats in the documentation: https://pandas.pydata.org/pandas-docs/stable/user_guide/indexing.html#returning-a-view-versus-a-copy\n",
      "  self._setitem_single_column(loc, value[:, i].tolist(), pi)\n",
      "/opt/conda/lib/python3.7/site-packages/pandas/core/indexing.py:1835: SettingWithCopyWarning: \n",
      "A value is trying to be set on a copy of a slice from a DataFrame.\n",
      "Try using .loc[row_indexer,col_indexer] = value instead\n",
      "\n",
      "See the caveats in the documentation: https://pandas.pydata.org/pandas-docs/stable/user_guide/indexing.html#returning-a-view-versus-a-copy\n",
      "  self._setitem_single_column(loc, value[:, i].tolist(), pi)\n",
      "/opt/conda/lib/python3.7/site-packages/pandas/core/indexing.py:1835: SettingWithCopyWarning: \n",
      "A value is trying to be set on a copy of a slice from a DataFrame.\n",
      "Try using .loc[row_indexer,col_indexer] = value instead\n",
      "\n",
      "See the caveats in the documentation: https://pandas.pydata.org/pandas-docs/stable/user_guide/indexing.html#returning-a-view-versus-a-copy\n",
      "  self._setitem_single_column(loc, value[:, i].tolist(), pi)\n",
      "/opt/conda/lib/python3.7/site-packages/pandas/core/indexing.py:1835: SettingWithCopyWarning: \n",
      "A value is trying to be set on a copy of a slice from a DataFrame.\n",
      "Try using .loc[row_indexer,col_indexer] = value instead\n",
      "\n",
      "See the caveats in the documentation: https://pandas.pydata.org/pandas-docs/stable/user_guide/indexing.html#returning-a-view-versus-a-copy\n",
      "  self._setitem_single_column(loc, value[:, i].tolist(), pi)\n",
      "/opt/conda/lib/python3.7/site-packages/pandas/core/indexing.py:1835: SettingWithCopyWarning: \n",
      "A value is trying to be set on a copy of a slice from a DataFrame.\n",
      "Try using .loc[row_indexer,col_indexer] = value instead\n",
      "\n",
      "See the caveats in the documentation: https://pandas.pydata.org/pandas-docs/stable/user_guide/indexing.html#returning-a-view-versus-a-copy\n",
      "  self._setitem_single_column(loc, value[:, i].tolist(), pi)\n",
      "/opt/conda/lib/python3.7/site-packages/pandas/core/indexing.py:1835: SettingWithCopyWarning: \n",
      "A value is trying to be set on a copy of a slice from a DataFrame.\n",
      "Try using .loc[row_indexer,col_indexer] = value instead\n",
      "\n",
      "See the caveats in the documentation: https://pandas.pydata.org/pandas-docs/stable/user_guide/indexing.html#returning-a-view-versus-a-copy\n",
      "  self._setitem_single_column(loc, value[:, i].tolist(), pi)\n",
      "/opt/conda/lib/python3.7/site-packages/pandas/core/indexing.py:1835: SettingWithCopyWarning: \n",
      "A value is trying to be set on a copy of a slice from a DataFrame.\n",
      "Try using .loc[row_indexer,col_indexer] = value instead\n",
      "\n",
      "See the caveats in the documentation: https://pandas.pydata.org/pandas-docs/stable/user_guide/indexing.html#returning-a-view-versus-a-copy\n",
      "  self._setitem_single_column(loc, value[:, i].tolist(), pi)\n",
      "/opt/conda/lib/python3.7/site-packages/pandas/core/indexing.py:1835: SettingWithCopyWarning: \n",
      "A value is trying to be set on a copy of a slice from a DataFrame.\n",
      "Try using .loc[row_indexer,col_indexer] = value instead\n",
      "\n",
      "See the caveats in the documentation: https://pandas.pydata.org/pandas-docs/stable/user_guide/indexing.html#returning-a-view-versus-a-copy\n",
      "  self._setitem_single_column(loc, value[:, i].tolist(), pi)\n",
      "/opt/conda/lib/python3.7/site-packages/pandas/core/indexing.py:1835: SettingWithCopyWarning: \n",
      "A value is trying to be set on a copy of a slice from a DataFrame.\n",
      "Try using .loc[row_indexer,col_indexer] = value instead\n",
      "\n",
      "See the caveats in the documentation: https://pandas.pydata.org/pandas-docs/stable/user_guide/indexing.html#returning-a-view-versus-a-copy\n",
      "  self._setitem_single_column(loc, value[:, i].tolist(), pi)\n",
      "/opt/conda/lib/python3.7/site-packages/pandas/core/indexing.py:1835: SettingWithCopyWarning: \n",
      "A value is trying to be set on a copy of a slice from a DataFrame.\n",
      "Try using .loc[row_indexer,col_indexer] = value instead\n",
      "\n",
      "See the caveats in the documentation: https://pandas.pydata.org/pandas-docs/stable/user_guide/indexing.html#returning-a-view-versus-a-copy\n",
      "  self._setitem_single_column(loc, value[:, i].tolist(), pi)\n",
      "/opt/conda/lib/python3.7/site-packages/pandas/core/indexing.py:1835: SettingWithCopyWarning: \n",
      "A value is trying to be set on a copy of a slice from a DataFrame.\n",
      "Try using .loc[row_indexer,col_indexer] = value instead\n",
      "\n",
      "See the caveats in the documentation: https://pandas.pydata.org/pandas-docs/stable/user_guide/indexing.html#returning-a-view-versus-a-copy\n",
      "  self._setitem_single_column(loc, value[:, i].tolist(), pi)\n",
      "/opt/conda/lib/python3.7/site-packages/pandas/core/indexing.py:1835: SettingWithCopyWarning: \n",
      "A value is trying to be set on a copy of a slice from a DataFrame.\n",
      "Try using .loc[row_indexer,col_indexer] = value instead\n",
      "\n",
      "See the caveats in the documentation: https://pandas.pydata.org/pandas-docs/stable/user_guide/indexing.html#returning-a-view-versus-a-copy\n",
      "  self._setitem_single_column(loc, value[:, i].tolist(), pi)\n",
      "/opt/conda/lib/python3.7/site-packages/pandas/core/indexing.py:1835: SettingWithCopyWarning: \n",
      "A value is trying to be set on a copy of a slice from a DataFrame.\n",
      "Try using .loc[row_indexer,col_indexer] = value instead\n",
      "\n",
      "See the caveats in the documentation: https://pandas.pydata.org/pandas-docs/stable/user_guide/indexing.html#returning-a-view-versus-a-copy\n",
      "  self._setitem_single_column(loc, value[:, i].tolist(), pi)\n",
      "/opt/conda/lib/python3.7/site-packages/pandas/core/indexing.py:1835: SettingWithCopyWarning: \n",
      "A value is trying to be set on a copy of a slice from a DataFrame.\n",
      "Try using .loc[row_indexer,col_indexer] = value instead\n",
      "\n",
      "See the caveats in the documentation: https://pandas.pydata.org/pandas-docs/stable/user_guide/indexing.html#returning-a-view-versus-a-copy\n",
      "  self._setitem_single_column(loc, value[:, i].tolist(), pi)\n",
      "/opt/conda/lib/python3.7/site-packages/pandas/core/indexing.py:1835: SettingWithCopyWarning: \n",
      "A value is trying to be set on a copy of a slice from a DataFrame.\n",
      "Try using .loc[row_indexer,col_indexer] = value instead\n",
      "\n",
      "See the caveats in the documentation: https://pandas.pydata.org/pandas-docs/stable/user_guide/indexing.html#returning-a-view-versus-a-copy\n",
      "  self._setitem_single_column(loc, value[:, i].tolist(), pi)\n",
      "/opt/conda/lib/python3.7/site-packages/pandas/core/indexing.py:1835: SettingWithCopyWarning: \n",
      "A value is trying to be set on a copy of a slice from a DataFrame.\n",
      "Try using .loc[row_indexer,col_indexer] = value instead\n",
      "\n",
      "See the caveats in the documentation: https://pandas.pydata.org/pandas-docs/stable/user_guide/indexing.html#returning-a-view-versus-a-copy\n",
      "  self._setitem_single_column(loc, value[:, i].tolist(), pi)\n",
      "/opt/conda/lib/python3.7/site-packages/pandas/core/indexing.py:1835: SettingWithCopyWarning: \n",
      "A value is trying to be set on a copy of a slice from a DataFrame.\n",
      "Try using .loc[row_indexer,col_indexer] = value instead\n",
      "\n",
      "See the caveats in the documentation: https://pandas.pydata.org/pandas-docs/stable/user_guide/indexing.html#returning-a-view-versus-a-copy\n",
      "  self._setitem_single_column(loc, value[:, i].tolist(), pi)\n",
      "/opt/conda/lib/python3.7/site-packages/pandas/core/indexing.py:1835: SettingWithCopyWarning: \n",
      "A value is trying to be set on a copy of a slice from a DataFrame.\n",
      "Try using .loc[row_indexer,col_indexer] = value instead\n",
      "\n",
      "See the caveats in the documentation: https://pandas.pydata.org/pandas-docs/stable/user_guide/indexing.html#returning-a-view-versus-a-copy\n",
      "  self._setitem_single_column(loc, value[:, i].tolist(), pi)\n",
      "/opt/conda/lib/python3.7/site-packages/pandas/core/indexing.py:1835: SettingWithCopyWarning: \n",
      "A value is trying to be set on a copy of a slice from a DataFrame.\n",
      "Try using .loc[row_indexer,col_indexer] = value instead\n",
      "\n",
      "See the caveats in the documentation: https://pandas.pydata.org/pandas-docs/stable/user_guide/indexing.html#returning-a-view-versus-a-copy\n",
      "  self._setitem_single_column(loc, value[:, i].tolist(), pi)\n",
      "/opt/conda/lib/python3.7/site-packages/pandas/core/indexing.py:1835: SettingWithCopyWarning: \n",
      "A value is trying to be set on a copy of a slice from a DataFrame.\n",
      "Try using .loc[row_indexer,col_indexer] = value instead\n",
      "\n",
      "See the caveats in the documentation: https://pandas.pydata.org/pandas-docs/stable/user_guide/indexing.html#returning-a-view-versus-a-copy\n",
      "  self._setitem_single_column(loc, value[:, i].tolist(), pi)\n",
      "/opt/conda/lib/python3.7/site-packages/pandas/core/indexing.py:1835: SettingWithCopyWarning: \n",
      "A value is trying to be set on a copy of a slice from a DataFrame.\n",
      "Try using .loc[row_indexer,col_indexer] = value instead\n",
      "\n",
      "See the caveats in the documentation: https://pandas.pydata.org/pandas-docs/stable/user_guide/indexing.html#returning-a-view-versus-a-copy\n",
      "  self._setitem_single_column(loc, value[:, i].tolist(), pi)\n",
      "/opt/conda/lib/python3.7/site-packages/pandas/core/indexing.py:1835: SettingWithCopyWarning: \n",
      "A value is trying to be set on a copy of a slice from a DataFrame.\n",
      "Try using .loc[row_indexer,col_indexer] = value instead\n",
      "\n",
      "See the caveats in the documentation: https://pandas.pydata.org/pandas-docs/stable/user_guide/indexing.html#returning-a-view-versus-a-copy\n",
      "  self._setitem_single_column(loc, value[:, i].tolist(), pi)\n",
      "/opt/conda/lib/python3.7/site-packages/pandas/core/indexing.py:1835: SettingWithCopyWarning: \n",
      "A value is trying to be set on a copy of a slice from a DataFrame.\n",
      "Try using .loc[row_indexer,col_indexer] = value instead\n",
      "\n",
      "See the caveats in the documentation: https://pandas.pydata.org/pandas-docs/stable/user_guide/indexing.html#returning-a-view-versus-a-copy\n",
      "  self._setitem_single_column(loc, value[:, i].tolist(), pi)\n",
      "/opt/conda/lib/python3.7/site-packages/pandas/core/indexing.py:1835: SettingWithCopyWarning: \n",
      "A value is trying to be set on a copy of a slice from a DataFrame.\n",
      "Try using .loc[row_indexer,col_indexer] = value instead\n",
      "\n",
      "See the caveats in the documentation: https://pandas.pydata.org/pandas-docs/stable/user_guide/indexing.html#returning-a-view-versus-a-copy\n",
      "  self._setitem_single_column(loc, value[:, i].tolist(), pi)\n",
      "/opt/conda/lib/python3.7/site-packages/pandas/core/indexing.py:1835: SettingWithCopyWarning: \n",
      "A value is trying to be set on a copy of a slice from a DataFrame.\n",
      "Try using .loc[row_indexer,col_indexer] = value instead\n",
      "\n",
      "See the caveats in the documentation: https://pandas.pydata.org/pandas-docs/stable/user_guide/indexing.html#returning-a-view-versus-a-copy\n",
      "  self._setitem_single_column(loc, value[:, i].tolist(), pi)\n",
      "/opt/conda/lib/python3.7/site-packages/pandas/core/indexing.py:1835: SettingWithCopyWarning: \n",
      "A value is trying to be set on a copy of a slice from a DataFrame.\n",
      "Try using .loc[row_indexer,col_indexer] = value instead\n",
      "\n",
      "See the caveats in the documentation: https://pandas.pydata.org/pandas-docs/stable/user_guide/indexing.html#returning-a-view-versus-a-copy\n",
      "  self._setitem_single_column(loc, value[:, i].tolist(), pi)\n",
      "/opt/conda/lib/python3.7/site-packages/pandas/core/indexing.py:1835: SettingWithCopyWarning: \n",
      "A value is trying to be set on a copy of a slice from a DataFrame.\n",
      "Try using .loc[row_indexer,col_indexer] = value instead\n",
      "\n",
      "See the caveats in the documentation: https://pandas.pydata.org/pandas-docs/stable/user_guide/indexing.html#returning-a-view-versus-a-copy\n",
      "  self._setitem_single_column(loc, value[:, i].tolist(), pi)\n",
      "/opt/conda/lib/python3.7/site-packages/pandas/core/indexing.py:1835: SettingWithCopyWarning: \n",
      "A value is trying to be set on a copy of a slice from a DataFrame.\n",
      "Try using .loc[row_indexer,col_indexer] = value instead\n",
      "\n",
      "See the caveats in the documentation: https://pandas.pydata.org/pandas-docs/stable/user_guide/indexing.html#returning-a-view-versus-a-copy\n",
      "  self._setitem_single_column(loc, value[:, i].tolist(), pi)\n",
      "/opt/conda/lib/python3.7/site-packages/pandas/core/indexing.py:1835: SettingWithCopyWarning: \n",
      "A value is trying to be set on a copy of a slice from a DataFrame.\n",
      "Try using .loc[row_indexer,col_indexer] = value instead\n",
      "\n",
      "See the caveats in the documentation: https://pandas.pydata.org/pandas-docs/stable/user_guide/indexing.html#returning-a-view-versus-a-copy\n",
      "  self._setitem_single_column(loc, value[:, i].tolist(), pi)\n",
      "/opt/conda/lib/python3.7/site-packages/pandas/core/indexing.py:1835: SettingWithCopyWarning: \n",
      "A value is trying to be set on a copy of a slice from a DataFrame.\n",
      "Try using .loc[row_indexer,col_indexer] = value instead\n",
      "\n",
      "See the caveats in the documentation: https://pandas.pydata.org/pandas-docs/stable/user_guide/indexing.html#returning-a-view-versus-a-copy\n",
      "  self._setitem_single_column(loc, value[:, i].tolist(), pi)\n",
      "/opt/conda/lib/python3.7/site-packages/pandas/core/indexing.py:1835: SettingWithCopyWarning: \n",
      "A value is trying to be set on a copy of a slice from a DataFrame.\n",
      "Try using .loc[row_indexer,col_indexer] = value instead\n",
      "\n",
      "See the caveats in the documentation: https://pandas.pydata.org/pandas-docs/stable/user_guide/indexing.html#returning-a-view-versus-a-copy\n",
      "  self._setitem_single_column(loc, value[:, i].tolist(), pi)\n",
      "/opt/conda/lib/python3.7/site-packages/pandas/core/indexing.py:1835: SettingWithCopyWarning: \n",
      "A value is trying to be set on a copy of a slice from a DataFrame.\n",
      "Try using .loc[row_indexer,col_indexer] = value instead\n",
      "\n",
      "See the caveats in the documentation: https://pandas.pydata.org/pandas-docs/stable/user_guide/indexing.html#returning-a-view-versus-a-copy\n",
      "  self._setitem_single_column(loc, value[:, i].tolist(), pi)\n",
      "/opt/conda/lib/python3.7/site-packages/pandas/core/indexing.py:1835: SettingWithCopyWarning: \n",
      "A value is trying to be set on a copy of a slice from a DataFrame.\n",
      "Try using .loc[row_indexer,col_indexer] = value instead\n",
      "\n",
      "See the caveats in the documentation: https://pandas.pydata.org/pandas-docs/stable/user_guide/indexing.html#returning-a-view-versus-a-copy\n",
      "  self._setitem_single_column(loc, value[:, i].tolist(), pi)\n",
      "/opt/conda/lib/python3.7/site-packages/pandas/core/indexing.py:1835: SettingWithCopyWarning: \n",
      "A value is trying to be set on a copy of a slice from a DataFrame.\n",
      "Try using .loc[row_indexer,col_indexer] = value instead\n",
      "\n",
      "See the caveats in the documentation: https://pandas.pydata.org/pandas-docs/stable/user_guide/indexing.html#returning-a-view-versus-a-copy\n",
      "  self._setitem_single_column(loc, value[:, i].tolist(), pi)\n",
      "/opt/conda/lib/python3.7/site-packages/pandas/core/indexing.py:1835: SettingWithCopyWarning: \n",
      "A value is trying to be set on a copy of a slice from a DataFrame.\n",
      "Try using .loc[row_indexer,col_indexer] = value instead\n",
      "\n",
      "See the caveats in the documentation: https://pandas.pydata.org/pandas-docs/stable/user_guide/indexing.html#returning-a-view-versus-a-copy\n",
      "  self._setitem_single_column(loc, value[:, i].tolist(), pi)\n",
      "/opt/conda/lib/python3.7/site-packages/pandas/core/indexing.py:1835: SettingWithCopyWarning: \n",
      "A value is trying to be set on a copy of a slice from a DataFrame.\n",
      "Try using .loc[row_indexer,col_indexer] = value instead\n",
      "\n",
      "See the caveats in the documentation: https://pandas.pydata.org/pandas-docs/stable/user_guide/indexing.html#returning-a-view-versus-a-copy\n",
      "  self._setitem_single_column(loc, value[:, i].tolist(), pi)\n",
      "/opt/conda/lib/python3.7/site-packages/pandas/core/indexing.py:1835: SettingWithCopyWarning: \n",
      "A value is trying to be set on a copy of a slice from a DataFrame.\n",
      "Try using .loc[row_indexer,col_indexer] = value instead\n",
      "\n",
      "See the caveats in the documentation: https://pandas.pydata.org/pandas-docs/stable/user_guide/indexing.html#returning-a-view-versus-a-copy\n",
      "  self._setitem_single_column(loc, value[:, i].tolist(), pi)\n",
      "/opt/conda/lib/python3.7/site-packages/pandas/core/indexing.py:1835: SettingWithCopyWarning: \n",
      "A value is trying to be set on a copy of a slice from a DataFrame.\n",
      "Try using .loc[row_indexer,col_indexer] = value instead\n",
      "\n",
      "See the caveats in the documentation: https://pandas.pydata.org/pandas-docs/stable/user_guide/indexing.html#returning-a-view-versus-a-copy\n",
      "  self._setitem_single_column(loc, value[:, i].tolist(), pi)\n",
      "/opt/conda/lib/python3.7/site-packages/pandas/core/indexing.py:1835: SettingWithCopyWarning: \n",
      "A value is trying to be set on a copy of a slice from a DataFrame.\n",
      "Try using .loc[row_indexer,col_indexer] = value instead\n",
      "\n",
      "See the caveats in the documentation: https://pandas.pydata.org/pandas-docs/stable/user_guide/indexing.html#returning-a-view-versus-a-copy\n",
      "  self._setitem_single_column(loc, value[:, i].tolist(), pi)\n",
      "/opt/conda/lib/python3.7/site-packages/pandas/core/indexing.py:1835: SettingWithCopyWarning: \n",
      "A value is trying to be set on a copy of a slice from a DataFrame.\n",
      "Try using .loc[row_indexer,col_indexer] = value instead\n",
      "\n",
      "See the caveats in the documentation: https://pandas.pydata.org/pandas-docs/stable/user_guide/indexing.html#returning-a-view-versus-a-copy\n",
      "  self._setitem_single_column(loc, value[:, i].tolist(), pi)\n",
      "/opt/conda/lib/python3.7/site-packages/pandas/core/indexing.py:1835: SettingWithCopyWarning: \n",
      "A value is trying to be set on a copy of a slice from a DataFrame.\n",
      "Try using .loc[row_indexer,col_indexer] = value instead\n",
      "\n",
      "See the caveats in the documentation: https://pandas.pydata.org/pandas-docs/stable/user_guide/indexing.html#returning-a-view-versus-a-copy\n",
      "  self._setitem_single_column(loc, value[:, i].tolist(), pi)\n",
      "/opt/conda/lib/python3.7/site-packages/pandas/core/indexing.py:1835: SettingWithCopyWarning: \n",
      "A value is trying to be set on a copy of a slice from a DataFrame.\n",
      "Try using .loc[row_indexer,col_indexer] = value instead\n",
      "\n",
      "See the caveats in the documentation: https://pandas.pydata.org/pandas-docs/stable/user_guide/indexing.html#returning-a-view-versus-a-copy\n",
      "  self._setitem_single_column(loc, value[:, i].tolist(), pi)\n",
      "/opt/conda/lib/python3.7/site-packages/pandas/core/indexing.py:1835: SettingWithCopyWarning: \n",
      "A value is trying to be set on a copy of a slice from a DataFrame.\n",
      "Try using .loc[row_indexer,col_indexer] = value instead\n",
      "\n",
      "See the caveats in the documentation: https://pandas.pydata.org/pandas-docs/stable/user_guide/indexing.html#returning-a-view-versus-a-copy\n",
      "  self._setitem_single_column(loc, value[:, i].tolist(), pi)\n",
      "/opt/conda/lib/python3.7/site-packages/pandas/core/indexing.py:1835: SettingWithCopyWarning: \n",
      "A value is trying to be set on a copy of a slice from a DataFrame.\n",
      "Try using .loc[row_indexer,col_indexer] = value instead\n",
      "\n",
      "See the caveats in the documentation: https://pandas.pydata.org/pandas-docs/stable/user_guide/indexing.html#returning-a-view-versus-a-copy\n",
      "  self._setitem_single_column(loc, value[:, i].tolist(), pi)\n",
      "/opt/conda/lib/python3.7/site-packages/pandas/core/indexing.py:1835: SettingWithCopyWarning: \n",
      "A value is trying to be set on a copy of a slice from a DataFrame.\n",
      "Try using .loc[row_indexer,col_indexer] = value instead\n",
      "\n",
      "See the caveats in the documentation: https://pandas.pydata.org/pandas-docs/stable/user_guide/indexing.html#returning-a-view-versus-a-copy\n",
      "  self._setitem_single_column(loc, value[:, i].tolist(), pi)\n",
      "/opt/conda/lib/python3.7/site-packages/pandas/core/indexing.py:1835: SettingWithCopyWarning: \n",
      "A value is trying to be set on a copy of a slice from a DataFrame.\n",
      "Try using .loc[row_indexer,col_indexer] = value instead\n",
      "\n",
      "See the caveats in the documentation: https://pandas.pydata.org/pandas-docs/stable/user_guide/indexing.html#returning-a-view-versus-a-copy\n",
      "  self._setitem_single_column(loc, value[:, i].tolist(), pi)\n",
      "/opt/conda/lib/python3.7/site-packages/pandas/core/indexing.py:1835: SettingWithCopyWarning: \n",
      "A value is trying to be set on a copy of a slice from a DataFrame.\n",
      "Try using .loc[row_indexer,col_indexer] = value instead\n",
      "\n",
      "See the caveats in the documentation: https://pandas.pydata.org/pandas-docs/stable/user_guide/indexing.html#returning-a-view-versus-a-copy\n",
      "  self._setitem_single_column(loc, value[:, i].tolist(), pi)\n",
      "/opt/conda/lib/python3.7/site-packages/pandas/core/indexing.py:1835: SettingWithCopyWarning: \n",
      "A value is trying to be set on a copy of a slice from a DataFrame.\n",
      "Try using .loc[row_indexer,col_indexer] = value instead\n",
      "\n",
      "See the caveats in the documentation: https://pandas.pydata.org/pandas-docs/stable/user_guide/indexing.html#returning-a-view-versus-a-copy\n",
      "  self._setitem_single_column(loc, value[:, i].tolist(), pi)\n",
      "/opt/conda/lib/python3.7/site-packages/pandas/core/indexing.py:1835: SettingWithCopyWarning: \n",
      "A value is trying to be set on a copy of a slice from a DataFrame.\n",
      "Try using .loc[row_indexer,col_indexer] = value instead\n",
      "\n",
      "See the caveats in the documentation: https://pandas.pydata.org/pandas-docs/stable/user_guide/indexing.html#returning-a-view-versus-a-copy\n",
      "  self._setitem_single_column(loc, value[:, i].tolist(), pi)\n"
     ]
    },
    {
     "name": "stdout",
     "output_type": "stream",
     "text": [
      "Ordinal Encoding done for column BsmtExposure\n",
      "---------------------------------------\n",
      "Ordinal Encoding starting for column GarageCond\n",
      "Ordinal Encoding done for column GarageCond\n",
      "---------------------------------------\n",
      "Ordinal Encoding starting for column LotConfig\n",
      "Ordinal Encoding done for column LotConfig\n",
      "---------------------------------------\n",
      "Ordinal Encoding starting for column Functional\n",
      "Ordinal Encoding done for column Functional\n",
      "---------------------------------------\n",
      "Ordinal Encoding starting for column BsmtFinType2\n",
      "Ordinal Encoding done for column BsmtFinType2\n",
      "---------------------------------------\n",
      "Ordinal Encoding starting for column BsmtQual\n",
      "Ordinal Encoding done for column BsmtQual\n",
      "---------------------------------------\n"
     ]
    },
    {
     "name": "stderr",
     "output_type": "stream",
     "text": [
      "/opt/conda/lib/python3.7/site-packages/pandas/core/indexing.py:1835: SettingWithCopyWarning: \n",
      "A value is trying to be set on a copy of a slice from a DataFrame.\n",
      "Try using .loc[row_indexer,col_indexer] = value instead\n",
      "\n",
      "See the caveats in the documentation: https://pandas.pydata.org/pandas-docs/stable/user_guide/indexing.html#returning-a-view-versus-a-copy\n",
      "  self._setitem_single_column(loc, value[:, i].tolist(), pi)\n",
      "/opt/conda/lib/python3.7/site-packages/pandas/core/indexing.py:1835: SettingWithCopyWarning: \n",
      "A value is trying to be set on a copy of a slice from a DataFrame.\n",
      "Try using .loc[row_indexer,col_indexer] = value instead\n",
      "\n",
      "See the caveats in the documentation: https://pandas.pydata.org/pandas-docs/stable/user_guide/indexing.html#returning-a-view-versus-a-copy\n",
      "  self._setitem_single_column(loc, value[:, i].tolist(), pi)\n",
      "/opt/conda/lib/python3.7/site-packages/pandas/core/indexing.py:1835: SettingWithCopyWarning: \n",
      "A value is trying to be set on a copy of a slice from a DataFrame.\n",
      "Try using .loc[row_indexer,col_indexer] = value instead\n",
      "\n",
      "See the caveats in the documentation: https://pandas.pydata.org/pandas-docs/stable/user_guide/indexing.html#returning-a-view-versus-a-copy\n",
      "  self._setitem_single_column(loc, value[:, i].tolist(), pi)\n",
      "/opt/conda/lib/python3.7/site-packages/pandas/core/indexing.py:1835: SettingWithCopyWarning: \n",
      "A value is trying to be set on a copy of a slice from a DataFrame.\n",
      "Try using .loc[row_indexer,col_indexer] = value instead\n",
      "\n",
      "See the caveats in the documentation: https://pandas.pydata.org/pandas-docs/stable/user_guide/indexing.html#returning-a-view-versus-a-copy\n",
      "  self._setitem_single_column(loc, value[:, i].tolist(), pi)\n",
      "/opt/conda/lib/python3.7/site-packages/pandas/core/indexing.py:1835: SettingWithCopyWarning: \n",
      "A value is trying to be set on a copy of a slice from a DataFrame.\n",
      "Try using .loc[row_indexer,col_indexer] = value instead\n",
      "\n",
      "See the caveats in the documentation: https://pandas.pydata.org/pandas-docs/stable/user_guide/indexing.html#returning-a-view-versus-a-copy\n",
      "  self._setitem_single_column(loc, value[:, i].tolist(), pi)\n",
      "/opt/conda/lib/python3.7/site-packages/pandas/core/indexing.py:1835: SettingWithCopyWarning: \n",
      "A value is trying to be set on a copy of a slice from a DataFrame.\n",
      "Try using .loc[row_indexer,col_indexer] = value instead\n",
      "\n",
      "See the caveats in the documentation: https://pandas.pydata.org/pandas-docs/stable/user_guide/indexing.html#returning-a-view-versus-a-copy\n",
      "  self._setitem_single_column(loc, value[:, i].tolist(), pi)\n",
      "/opt/conda/lib/python3.7/site-packages/pandas/core/indexing.py:1835: SettingWithCopyWarning: \n",
      "A value is trying to be set on a copy of a slice from a DataFrame.\n",
      "Try using .loc[row_indexer,col_indexer] = value instead\n",
      "\n",
      "See the caveats in the documentation: https://pandas.pydata.org/pandas-docs/stable/user_guide/indexing.html#returning-a-view-versus-a-copy\n",
      "  self._setitem_single_column(loc, value[:, i].tolist(), pi)\n",
      "/opt/conda/lib/python3.7/site-packages/pandas/core/indexing.py:1835: SettingWithCopyWarning: \n",
      "A value is trying to be set on a copy of a slice from a DataFrame.\n",
      "Try using .loc[row_indexer,col_indexer] = value instead\n",
      "\n",
      "See the caveats in the documentation: https://pandas.pydata.org/pandas-docs/stable/user_guide/indexing.html#returning-a-view-versus-a-copy\n",
      "  self._setitem_single_column(loc, value[:, i].tolist(), pi)\n",
      "/opt/conda/lib/python3.7/site-packages/pandas/core/indexing.py:1835: SettingWithCopyWarning: \n",
      "A value is trying to be set on a copy of a slice from a DataFrame.\n",
      "Try using .loc[row_indexer,col_indexer] = value instead\n",
      "\n",
      "See the caveats in the documentation: https://pandas.pydata.org/pandas-docs/stable/user_guide/indexing.html#returning-a-view-versus-a-copy\n",
      "  self._setitem_single_column(loc, value[:, i].tolist(), pi)\n"
     ]
    }
   ],
   "source": [
    "from sklearn.preprocessing import OrdinalEncoder\n",
    "\n",
    "\n",
    "for j in cat_col_ordinal:\n",
    "    print(\"Ordinal Encoding starting for column\",j)\n",
    "    OE = OrdinalEncoder(categories=[list(set(list(df_tr_.loc[:,j].unique())).\n",
    "                                         union(set(list(df_test_.loc[:,j].unique()))))])\n",
    "    df_tr_.loc[:,j] = OE.fit_transform(df_tr_[[j]])\n",
    "    df_test_.loc[:,j] = OE.transform(df_test_[[j]])\n",
    "    print(\"Ordinal Encoding done for column\",j)\n",
    "    print(\"---------------------------------------\")\n"
   ]
  },
  {
   "cell_type": "code",
   "execution_count": 22,
   "id": "6b15485e",
   "metadata": {
    "execution": {
     "iopub.execute_input": "2023-01-28T21:00:43.753955Z",
     "iopub.status.busy": "2023-01-28T21:00:43.753512Z",
     "iopub.status.idle": "2023-01-28T21:00:43.769803Z",
     "shell.execute_reply": "2023-01-28T21:00:43.768715Z"
    },
    "papermill": {
     "duration": 0.0339,
     "end_time": "2023-01-28T21:00:43.773459",
     "exception": false,
     "start_time": "2023-01-28T21:00:43.739559",
     "status": "completed"
    },
    "tags": []
   },
   "outputs": [
    {
     "name": "stdout",
     "output_type": "stream",
     "text": [
      "Label encoding for Street column\n",
      "Encoding done for Street column\n",
      "------------------------------\n",
      "Label encoding for BldgType column\n",
      "Encoding done for BldgType column\n",
      "------------------------------\n",
      "Label encoding for SaleType column\n",
      "Encoding done for SaleType column\n",
      "------------------------------\n",
      "Label encoding for CentralAir column\n",
      "Encoding done for CentralAir column\n",
      "------------------------------\n"
     ]
    },
    {
     "name": "stderr",
     "output_type": "stream",
     "text": [
      "/opt/conda/lib/python3.7/site-packages/pandas/core/indexing.py:1773: SettingWithCopyWarning: \n",
      "A value is trying to be set on a copy of a slice from a DataFrame.\n",
      "Try using .loc[row_indexer,col_indexer] = value instead\n",
      "\n",
      "See the caveats in the documentation: https://pandas.pydata.org/pandas-docs/stable/user_guide/indexing.html#returning-a-view-versus-a-copy\n",
      "  self._setitem_single_column(ilocs[0], value, pi)\n"
     ]
    }
   ],
   "source": [
    "from sklearn.preprocessing import LabelEncoder\n",
    "encoder = LabelEncoder()\n",
    "\n",
    "\n",
    "for col in cat_col_label:\n",
    "    print(\"Label encoding for\",col, \"column\")\n",
    "    df_tr_.loc[:,col] = encoder.fit_transform(df_tr_.loc[:,col])\n",
    "    df_test_.loc[:,col]  = encoder.fit_transform(df_test_.loc[:,col])\n",
    "    print(\"Encoding done for\",col,\"column\")\n",
    "    print(\"------------------------------\")\n",
    "        "
   ]
  },
  {
   "cell_type": "markdown",
   "id": "b8793b02",
   "metadata": {
    "papermill": {
     "duration": 0.01259,
     "end_time": "2023-01-28T21:00:43.800086",
     "exception": false,
     "start_time": "2023-01-28T21:00:43.787496",
     "status": "completed"
    },
    "tags": []
   },
   "source": [
    "Check if there is any missing values in Training and Test dataset."
   ]
  },
  {
   "cell_type": "code",
   "execution_count": 23,
   "id": "0bb1cfeb",
   "metadata": {
    "execution": {
     "iopub.execute_input": "2023-01-28T21:00:43.828979Z",
     "iopub.status.busy": "2023-01-28T21:00:43.828196Z",
     "iopub.status.idle": "2023-01-28T21:00:43.839015Z",
     "shell.execute_reply": "2023-01-28T21:00:43.838210Z"
    },
    "papermill": {
     "duration": 0.027518,
     "end_time": "2023-01-28T21:00:43.841153",
     "exception": false,
     "start_time": "2023-01-28T21:00:43.813635",
     "status": "completed"
    },
    "tags": []
   },
   "outputs": [
    {
     "data": {
      "text/plain": [
       "(0, 0)"
      ]
     },
     "execution_count": 23,
     "metadata": {},
     "output_type": "execute_result"
    }
   ],
   "source": [
    "df_tr_.isna().any().sum(), df_test_.isna().any().sum()"
   ]
  },
  {
   "cell_type": "markdown",
   "id": "5fd78cd4",
   "metadata": {
    "papermill": {
     "duration": 0.012418,
     "end_time": "2023-01-28T21:00:43.866371",
     "exception": false,
     "start_time": "2023-01-28T21:00:43.853953",
     "status": "completed"
    },
    "tags": []
   },
   "source": [
    "## Model Build"
   ]
  },
  {
   "cell_type": "code",
   "execution_count": 24,
   "id": "291940f7",
   "metadata": {
    "execution": {
     "iopub.execute_input": "2023-01-28T21:00:43.893418Z",
     "iopub.status.busy": "2023-01-28T21:00:43.893016Z",
     "iopub.status.idle": "2023-01-28T21:00:44.160598Z",
     "shell.execute_reply": "2023-01-28T21:00:44.159402Z"
    },
    "papermill": {
     "duration": 0.284358,
     "end_time": "2023-01-28T21:00:44.163411",
     "exception": false,
     "start_time": "2023-01-28T21:00:43.879053",
     "status": "completed"
    },
    "tags": []
   },
   "outputs": [],
   "source": [
    "from sklearn.ensemble import RandomForestRegressor\n",
    "from sklearn.model_selection import cross_val_score"
   ]
  },
  {
   "cell_type": "code",
   "execution_count": 25,
   "id": "af97e995",
   "metadata": {
    "execution": {
     "iopub.execute_input": "2023-01-28T21:00:44.192528Z",
     "iopub.status.busy": "2023-01-28T21:00:44.191443Z",
     "iopub.status.idle": "2023-01-28T21:00:44.200325Z",
     "shell.execute_reply": "2023-01-28T21:00:44.199150Z"
    },
    "papermill": {
     "duration": 0.026317,
     "end_time": "2023-01-28T21:00:44.202905",
     "exception": false,
     "start_time": "2023-01-28T21:00:44.176588",
     "status": "completed"
    },
    "tags": []
   },
   "outputs": [],
   "source": [
    "y = df_tr_['SalePrice']\n",
    "X = df_tr_.drop('SalePrice', axis=1)"
   ]
  },
  {
   "cell_type": "code",
   "execution_count": 26,
   "id": "682345c2",
   "metadata": {
    "execution": {
     "iopub.execute_input": "2023-01-28T21:00:44.230013Z",
     "iopub.status.busy": "2023-01-28T21:00:44.229572Z",
     "iopub.status.idle": "2023-01-28T21:00:53.662088Z",
     "shell.execute_reply": "2023-01-28T21:00:53.660841Z"
    },
    "papermill": {
     "duration": 9.449024,
     "end_time": "2023-01-28T21:00:53.664693",
     "exception": false,
     "start_time": "2023-01-28T21:00:44.215669",
     "status": "completed"
    },
    "tags": []
   },
   "outputs": [
    {
     "name": "stdout",
     "output_type": "stream",
     "text": [
      "0.8475251422403917\n"
     ]
    }
   ],
   "source": [
    "model = RandomForestRegressor(max_leaf_nodes=100)\n",
    "model.fit(X, y)\n",
    "score = cross_val_score(model, X, y, cv=10)\n",
    "print(score.mean())"
   ]
  },
  {
   "cell_type": "markdown",
   "id": "5cd565dc",
   "metadata": {
    "papermill": {
     "duration": 0.012234,
     "end_time": "2023-01-28T21:00:53.689750",
     "exception": false,
     "start_time": "2023-01-28T21:00:53.677516",
     "status": "completed"
    },
    "tags": []
   },
   "source": [
    "Extracting test id from test dataset..."
   ]
  },
  {
   "cell_type": "code",
   "execution_count": 27,
   "id": "4ad2f2f4",
   "metadata": {
    "execution": {
     "iopub.execute_input": "2023-01-28T21:00:53.716733Z",
     "iopub.status.busy": "2023-01-28T21:00:53.716303Z",
     "iopub.status.idle": "2023-01-28T21:00:53.724284Z",
     "shell.execute_reply": "2023-01-28T21:00:53.722920Z"
    },
    "papermill": {
     "duration": 0.024363,
     "end_time": "2023-01-28T21:00:53.726797",
     "exception": false,
     "start_time": "2023-01-28T21:00:53.702434",
     "status": "completed"
    },
    "tags": []
   },
   "outputs": [
    {
     "name": "stdout",
     "output_type": "stream",
     "text": [
      "0       1461\n",
      "1       1462\n",
      "2       1463\n",
      "3       1464\n",
      "4       1465\n",
      "        ... \n",
      "1454    2915\n",
      "1455    2916\n",
      "1456    2917\n",
      "1457    2918\n",
      "1458    2919\n",
      "Name: Id, Length: 1459, dtype: int64\n"
     ]
    }
   ],
   "source": [
    "test_id = df_test_['Id']\n",
    "print(test_id)"
   ]
  },
  {
   "cell_type": "markdown",
   "id": "2917cf9a",
   "metadata": {
    "papermill": {
     "duration": 0.012354,
     "end_time": "2023-01-28T21:00:53.751941",
     "exception": false,
     "start_time": "2023-01-28T21:00:53.739587",
     "status": "completed"
    },
    "tags": []
   },
   "source": [
    "Reordering test dataset columns per training dataset feeded to RandomForest model."
   ]
  },
  {
   "cell_type": "code",
   "execution_count": 28,
   "id": "c9c445b5",
   "metadata": {
    "execution": {
     "iopub.execute_input": "2023-01-28T21:00:53.779719Z",
     "iopub.status.busy": "2023-01-28T21:00:53.779322Z",
     "iopub.status.idle": "2023-01-28T21:00:53.785976Z",
     "shell.execute_reply": "2023-01-28T21:00:53.784815Z"
    },
    "papermill": {
     "duration": 0.023662,
     "end_time": "2023-01-28T21:00:53.788749",
     "exception": false,
     "start_time": "2023-01-28T21:00:53.765087",
     "status": "completed"
    },
    "tags": []
   },
   "outputs": [],
   "source": [
    "df_test_ = df_test_[X.columns]"
   ]
  },
  {
   "cell_type": "markdown",
   "id": "5b3974da",
   "metadata": {
    "papermill": {
     "duration": 0.012439,
     "end_time": "2023-01-28T21:00:53.814376",
     "exception": false,
     "start_time": "2023-01-28T21:00:53.801937",
     "status": "completed"
    },
    "tags": []
   },
   "source": [
    "## Evaluation"
   ]
  },
  {
   "cell_type": "code",
   "execution_count": 29,
   "id": "df92eb47",
   "metadata": {
    "execution": {
     "iopub.execute_input": "2023-01-28T21:00:53.842494Z",
     "iopub.status.busy": "2023-01-28T21:00:53.841915Z",
     "iopub.status.idle": "2023-01-28T21:00:53.874467Z",
     "shell.execute_reply": "2023-01-28T21:00:53.872958Z"
    },
    "papermill": {
     "duration": 0.04972,
     "end_time": "2023-01-28T21:00:53.876940",
     "exception": false,
     "start_time": "2023-01-28T21:00:53.827220",
     "status": "completed"
    },
    "tags": []
   },
   "outputs": [
    {
     "name": "stdout",
     "output_type": "stream",
     "text": [
      "[127195.79679816 150412.07589662 168414.63323675 ... 143388.32210062\n",
      " 118357.74732599 231894.14967918]\n"
     ]
    }
   ],
   "source": [
    "saleprice = model.predict(df_test_)\n",
    "print(saleprice)"
   ]
  },
  {
   "cell_type": "code",
   "execution_count": 30,
   "id": "65df4190",
   "metadata": {
    "execution": {
     "iopub.execute_input": "2023-01-28T21:00:53.904742Z",
     "iopub.status.busy": "2023-01-28T21:00:53.903837Z",
     "iopub.status.idle": "2023-01-28T21:00:53.923068Z",
     "shell.execute_reply": "2023-01-28T21:00:53.921915Z"
    },
    "papermill": {
     "duration": 0.035733,
     "end_time": "2023-01-28T21:00:53.925553",
     "exception": false,
     "start_time": "2023-01-28T21:00:53.889820",
     "status": "completed"
    },
    "tags": []
   },
   "outputs": [
    {
     "data": {
      "text/html": [
       "<div>\n",
       "<style scoped>\n",
       "    .dataframe tbody tr th:only-of-type {\n",
       "        vertical-align: middle;\n",
       "    }\n",
       "\n",
       "    .dataframe tbody tr th {\n",
       "        vertical-align: top;\n",
       "    }\n",
       "\n",
       "    .dataframe thead th {\n",
       "        text-align: right;\n",
       "    }\n",
       "</style>\n",
       "<table border=\"1\" class=\"dataframe\">\n",
       "  <thead>\n",
       "    <tr style=\"text-align: right;\">\n",
       "      <th></th>\n",
       "      <th>Id</th>\n",
       "      <th>SalePrice</th>\n",
       "    </tr>\n",
       "  </thead>\n",
       "  <tbody>\n",
       "    <tr>\n",
       "      <th>1316</th>\n",
       "      <td>2777</td>\n",
       "      <td>153702.869349</td>\n",
       "    </tr>\n",
       "    <tr>\n",
       "      <th>620</th>\n",
       "      <td>2081</td>\n",
       "      <td>124731.803815</td>\n",
       "    </tr>\n",
       "    <tr>\n",
       "      <th>677</th>\n",
       "      <td>2138</td>\n",
       "      <td>135362.491409</td>\n",
       "    </tr>\n",
       "    <tr>\n",
       "      <th>379</th>\n",
       "      <td>1840</td>\n",
       "      <td>156546.282018</td>\n",
       "    </tr>\n",
       "    <tr>\n",
       "      <th>1106</th>\n",
       "      <td>2567</td>\n",
       "      <td>132860.012687</td>\n",
       "    </tr>\n",
       "    <tr>\n",
       "      <th>1311</th>\n",
       "      <td>2772</td>\n",
       "      <td>125857.851129</td>\n",
       "    </tr>\n",
       "    <tr>\n",
       "      <th>406</th>\n",
       "      <td>1867</td>\n",
       "      <td>240031.941820</td>\n",
       "    </tr>\n",
       "    <tr>\n",
       "      <th>866</th>\n",
       "      <td>2327</td>\n",
       "      <td>214865.899340</td>\n",
       "    </tr>\n",
       "    <tr>\n",
       "      <th>346</th>\n",
       "      <td>1807</td>\n",
       "      <td>141964.346615</td>\n",
       "    </tr>\n",
       "    <tr>\n",
       "      <th>319</th>\n",
       "      <td>1780</td>\n",
       "      <td>176196.293259</td>\n",
       "    </tr>\n",
       "  </tbody>\n",
       "</table>\n",
       "</div>"
      ],
      "text/plain": [
       "        Id      SalePrice\n",
       "1316  2777  153702.869349\n",
       "620   2081  124731.803815\n",
       "677   2138  135362.491409\n",
       "379   1840  156546.282018\n",
       "1106  2567  132860.012687\n",
       "1311  2772  125857.851129\n",
       "406   1867  240031.941820\n",
       "866   2327  214865.899340\n",
       "346   1807  141964.346615\n",
       "319   1780  176196.293259"
      ]
     },
     "execution_count": 30,
     "metadata": {},
     "output_type": "execute_result"
    }
   ],
   "source": [
    "submission = pd.DataFrame({\n",
    "    \"Id\": test_id,\n",
    "    \"SalePrice\": saleprice\n",
    "})\n",
    "\n",
    "submission.to_csv(\"submission_shivam9400.csv\", index=False)\n",
    "submission.sample(10)"
   ]
  }
 ],
 "metadata": {
  "kernelspec": {
   "display_name": "Python 3",
   "language": "python",
   "name": "python3"
  },
  "language_info": {
   "codemirror_mode": {
    "name": "ipython",
    "version": 3
   },
   "file_extension": ".py",
   "mimetype": "text/x-python",
   "name": "python",
   "nbconvert_exporter": "python",
   "pygments_lexer": "ipython3",
   "version": "3.7.12"
  },
  "papermill": {
   "default_parameters": {},
   "duration": 22.043337,
   "end_time": "2023-01-28T21:00:54.660589",
   "environment_variables": {},
   "exception": null,
   "input_path": "__notebook__.ipynb",
   "output_path": "__notebook__.ipynb",
   "parameters": {},
   "start_time": "2023-01-28T21:00:32.617252",
   "version": "2.3.4"
  }
 },
 "nbformat": 4,
 "nbformat_minor": 5
}
