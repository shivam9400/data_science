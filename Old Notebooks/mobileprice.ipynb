{
 "cells": [
  {
   "cell_type": "code",
   "execution_count": 1,
   "id": "06adc54c",
   "metadata": {
    "_cell_guid": "b1076dfc-b9ad-4769-8c92-a6c4dae69d19",
    "_uuid": "8f2839f25d086af736a60e9eeb907d3b93b6e0e5",
    "execution": {
     "iopub.execute_input": "2023-01-14T13:20:24.521596Z",
     "iopub.status.busy": "2023-01-14T13:20:24.521138Z",
     "iopub.status.idle": "2023-01-14T13:20:24.544812Z",
     "shell.execute_reply": "2023-01-14T13:20:24.542315Z"
    },
    "papermill": {
     "duration": 0.045525,
     "end_time": "2023-01-14T13:20:24.548170",
     "exception": false,
     "start_time": "2023-01-14T13:20:24.502645",
     "status": "completed"
    },
    "tags": []
   },
   "outputs": [
    {
     "name": "stdout",
     "output_type": "stream",
     "text": [
      "/kaggle/input/mobile-price-classification/train.csv\n",
      "/kaggle/input/mobile-price-classification/test.csv\n"
     ]
    }
   ],
   "source": [
    "# This Python 3 environment comes with many helpful analytics libraries installed\n",
    "# It is defined by the kaggle/python Docker image: https://github.com/kaggle/docker-python\n",
    "# For example, here's several helpful packages to load\n",
    "\n",
    "import numpy as np # linear algebra\n",
    "import pandas as pd # data processing, CSV file I/O (e.g. pd.read_csv)\n",
    "\n",
    "# Input data files are available in the read-only \"../input/\" directory\n",
    "# For example, running this (by clicking run or pressing Shift+Enter) will list all files under the input directory\n",
    "\n",
    "import os\n",
    "for dirname, _, filenames in os.walk('/kaggle/input'):\n",
    "    for filename in filenames:\n",
    "        print(os.path.join(dirname, filename))\n",
    "\n",
    "# You can write up to 20GB to the current directory (/kaggle/working/) that gets preserved as output when you create a version using \"Save & Run All\" \n",
    "# You can also write temporary files to /kaggle/temp/, but they won't be saved outside of the current session"
   ]
  },
  {
   "cell_type": "markdown",
   "id": "b88d851f",
   "metadata": {
    "papermill": {
     "duration": 0.014821,
     "end_time": "2023-01-14T13:20:24.582343",
     "exception": false,
     "start_time": "2023-01-14T13:20:24.567522",
     "status": "completed"
    },
    "tags": []
   },
   "source": [
    "# Mobile Price Estimator"
   ]
  },
  {
   "cell_type": "markdown",
   "id": "42e1f33b",
   "metadata": {
    "papermill": {
     "duration": 0.013076,
     "end_time": "2023-01-14T13:20:24.611266",
     "exception": false,
     "start_time": "2023-01-14T13:20:24.598190",
     "status": "completed"
    },
    "tags": []
   },
   "source": [
    "# <h1 style='background-color:orange; border-radius: 50px 50px; text-align:center'>Table of Contents</h1>\n",
    "<a class='anchor' id='backtotop'></a>\n",
    "1. [Problem Statement](#probstatement)\n",
    "2. [Data Processing](#dataprocessing)\n",
    "3. [Exploratory Data Analysis](#eda)\n",
    "    1. [Column Definitions](#eda_coldef)\n",
    "    2. [Data Visualization](#eda_datavis)\n",
    "4. [Model Training](#model)\n",
    "    1. [Logistic Regression](#model_lr)\n",
    "    2. [KNN](#model_knn)\n",
    "    3. [SVC](#model_svc)\n",
    "    4. [Decision Tree](#model_dt)\n",
    "    5. [Random Forest](#model_rf)\n",
    "5. [Conclusion](#conclusion)"
   ]
  },
  {
   "cell_type": "markdown",
   "id": "affb5173",
   "metadata": {
    "papermill": {
     "duration": 0.015269,
     "end_time": "2023-01-14T13:20:24.639787",
     "exception": false,
     "start_time": "2023-01-14T13:20:24.624518",
     "status": "completed"
    },
    "tags": []
   },
   "source": [
    "<h1 style=\"background-color:orange;text-align:center;border-radius: 50px 50px;\">Problem Statement</h1>\n",
    "<a class='anchor' id='probstatement'></a>"
   ]
  },
  {
   "cell_type": "markdown",
   "id": "ce7dc045",
   "metadata": {
    "papermill": {
     "duration": 0.012926,
     "end_time": "2023-01-14T13:20:24.666107",
     "exception": false,
     "start_time": "2023-01-14T13:20:24.653181",
     "status": "completed"
    },
    "tags": []
   },
   "source": [
    "[back to top](#backtotop)"
   ]
  },
  {
   "cell_type": "markdown",
   "id": "d1571778",
   "metadata": {
    "papermill": {
     "duration": 0.013005,
     "end_time": "2023-01-14T13:20:24.692328",
     "exception": false,
     "start_time": "2023-01-14T13:20:24.679323",
     "status": "completed"
    },
    "tags": []
   },
   "source": [
    "A new company in the market wants to estimate cost of a mobile based on its features like RAM, internal memory etc."
   ]
  },
  {
   "cell_type": "markdown",
   "id": "f0fa0b2d",
   "metadata": {
    "papermill": {
     "duration": 0.012848,
     "end_time": "2023-01-14T13:20:24.718325",
     "exception": false,
     "start_time": "2023-01-14T13:20:24.705477",
     "status": "completed"
    },
    "tags": []
   },
   "source": [
    "<h1 style=\"background-color:orange;text-align:center;border-radius: 50px 50px;\">Data Processing</h1>\n",
    "<a class='anchor' id='dataprocessing'></a>"
   ]
  },
  {
   "cell_type": "markdown",
   "id": "518f8427",
   "metadata": {
    "papermill": {
     "duration": 0.012858,
     "end_time": "2023-01-14T13:20:24.744375",
     "exception": false,
     "start_time": "2023-01-14T13:20:24.731517",
     "status": "completed"
    },
    "tags": []
   },
   "source": [
    "[back to top](#backtotop)"
   ]
  },
  {
   "cell_type": "code",
   "execution_count": 2,
   "id": "a7630392",
   "metadata": {
    "execution": {
     "iopub.execute_input": "2023-01-14T13:20:24.772866Z",
     "iopub.status.busy": "2023-01-14T13:20:24.772465Z",
     "iopub.status.idle": "2023-01-14T13:20:24.827562Z",
     "shell.execute_reply": "2023-01-14T13:20:24.826387Z"
    },
    "papermill": {
     "duration": 0.072404,
     "end_time": "2023-01-14T13:20:24.829921",
     "exception": false,
     "start_time": "2023-01-14T13:20:24.757517",
     "status": "completed"
    },
    "tags": []
   },
   "outputs": [
    {
     "data": {
      "text/html": [
       "<div>\n",
       "<style scoped>\n",
       "    .dataframe tbody tr th:only-of-type {\n",
       "        vertical-align: middle;\n",
       "    }\n",
       "\n",
       "    .dataframe tbody tr th {\n",
       "        vertical-align: top;\n",
       "    }\n",
       "\n",
       "    .dataframe thead th {\n",
       "        text-align: right;\n",
       "    }\n",
       "</style>\n",
       "<table border=\"1\" class=\"dataframe\">\n",
       "  <thead>\n",
       "    <tr style=\"text-align: right;\">\n",
       "      <th></th>\n",
       "      <th>battery_power</th>\n",
       "      <th>blue</th>\n",
       "      <th>clock_speed</th>\n",
       "      <th>dual_sim</th>\n",
       "      <th>fc</th>\n",
       "      <th>four_g</th>\n",
       "      <th>int_memory</th>\n",
       "      <th>m_dep</th>\n",
       "      <th>mobile_wt</th>\n",
       "      <th>n_cores</th>\n",
       "      <th>...</th>\n",
       "      <th>px_height</th>\n",
       "      <th>px_width</th>\n",
       "      <th>ram</th>\n",
       "      <th>sc_h</th>\n",
       "      <th>sc_w</th>\n",
       "      <th>talk_time</th>\n",
       "      <th>three_g</th>\n",
       "      <th>touch_screen</th>\n",
       "      <th>wifi</th>\n",
       "      <th>price_range</th>\n",
       "    </tr>\n",
       "  </thead>\n",
       "  <tbody>\n",
       "    <tr>\n",
       "      <th>0</th>\n",
       "      <td>842</td>\n",
       "      <td>0</td>\n",
       "      <td>2.2</td>\n",
       "      <td>0</td>\n",
       "      <td>1</td>\n",
       "      <td>0</td>\n",
       "      <td>7</td>\n",
       "      <td>0.6</td>\n",
       "      <td>188</td>\n",
       "      <td>2</td>\n",
       "      <td>...</td>\n",
       "      <td>20</td>\n",
       "      <td>756</td>\n",
       "      <td>2549</td>\n",
       "      <td>9</td>\n",
       "      <td>7</td>\n",
       "      <td>19</td>\n",
       "      <td>0</td>\n",
       "      <td>0</td>\n",
       "      <td>1</td>\n",
       "      <td>1</td>\n",
       "    </tr>\n",
       "    <tr>\n",
       "      <th>1</th>\n",
       "      <td>1021</td>\n",
       "      <td>1</td>\n",
       "      <td>0.5</td>\n",
       "      <td>1</td>\n",
       "      <td>0</td>\n",
       "      <td>1</td>\n",
       "      <td>53</td>\n",
       "      <td>0.7</td>\n",
       "      <td>136</td>\n",
       "      <td>3</td>\n",
       "      <td>...</td>\n",
       "      <td>905</td>\n",
       "      <td>1988</td>\n",
       "      <td>2631</td>\n",
       "      <td>17</td>\n",
       "      <td>3</td>\n",
       "      <td>7</td>\n",
       "      <td>1</td>\n",
       "      <td>1</td>\n",
       "      <td>0</td>\n",
       "      <td>2</td>\n",
       "    </tr>\n",
       "    <tr>\n",
       "      <th>2</th>\n",
       "      <td>563</td>\n",
       "      <td>1</td>\n",
       "      <td>0.5</td>\n",
       "      <td>1</td>\n",
       "      <td>2</td>\n",
       "      <td>1</td>\n",
       "      <td>41</td>\n",
       "      <td>0.9</td>\n",
       "      <td>145</td>\n",
       "      <td>5</td>\n",
       "      <td>...</td>\n",
       "      <td>1263</td>\n",
       "      <td>1716</td>\n",
       "      <td>2603</td>\n",
       "      <td>11</td>\n",
       "      <td>2</td>\n",
       "      <td>9</td>\n",
       "      <td>1</td>\n",
       "      <td>1</td>\n",
       "      <td>0</td>\n",
       "      <td>2</td>\n",
       "    </tr>\n",
       "    <tr>\n",
       "      <th>3</th>\n",
       "      <td>615</td>\n",
       "      <td>1</td>\n",
       "      <td>2.5</td>\n",
       "      <td>0</td>\n",
       "      <td>0</td>\n",
       "      <td>0</td>\n",
       "      <td>10</td>\n",
       "      <td>0.8</td>\n",
       "      <td>131</td>\n",
       "      <td>6</td>\n",
       "      <td>...</td>\n",
       "      <td>1216</td>\n",
       "      <td>1786</td>\n",
       "      <td>2769</td>\n",
       "      <td>16</td>\n",
       "      <td>8</td>\n",
       "      <td>11</td>\n",
       "      <td>1</td>\n",
       "      <td>0</td>\n",
       "      <td>0</td>\n",
       "      <td>2</td>\n",
       "    </tr>\n",
       "    <tr>\n",
       "      <th>4</th>\n",
       "      <td>1821</td>\n",
       "      <td>1</td>\n",
       "      <td>1.2</td>\n",
       "      <td>0</td>\n",
       "      <td>13</td>\n",
       "      <td>1</td>\n",
       "      <td>44</td>\n",
       "      <td>0.6</td>\n",
       "      <td>141</td>\n",
       "      <td>2</td>\n",
       "      <td>...</td>\n",
       "      <td>1208</td>\n",
       "      <td>1212</td>\n",
       "      <td>1411</td>\n",
       "      <td>8</td>\n",
       "      <td>2</td>\n",
       "      <td>15</td>\n",
       "      <td>1</td>\n",
       "      <td>1</td>\n",
       "      <td>0</td>\n",
       "      <td>1</td>\n",
       "    </tr>\n",
       "  </tbody>\n",
       "</table>\n",
       "<p>5 rows × 21 columns</p>\n",
       "</div>"
      ],
      "text/plain": [
       "   battery_power  blue  clock_speed  dual_sim  fc  four_g  int_memory  m_dep  \\\n",
       "0            842     0          2.2         0   1       0           7    0.6   \n",
       "1           1021     1          0.5         1   0       1          53    0.7   \n",
       "2            563     1          0.5         1   2       1          41    0.9   \n",
       "3            615     1          2.5         0   0       0          10    0.8   \n",
       "4           1821     1          1.2         0  13       1          44    0.6   \n",
       "\n",
       "   mobile_wt  n_cores  ...  px_height  px_width   ram  sc_h  sc_w  talk_time  \\\n",
       "0        188        2  ...         20       756  2549     9     7         19   \n",
       "1        136        3  ...        905      1988  2631    17     3          7   \n",
       "2        145        5  ...       1263      1716  2603    11     2          9   \n",
       "3        131        6  ...       1216      1786  2769    16     8         11   \n",
       "4        141        2  ...       1208      1212  1411     8     2         15   \n",
       "\n",
       "   three_g  touch_screen  wifi  price_range  \n",
       "0        0             0     1            1  \n",
       "1        1             1     0            2  \n",
       "2        1             1     0            2  \n",
       "3        1             0     0            2  \n",
       "4        1             1     0            1  \n",
       "\n",
       "[5 rows x 21 columns]"
      ]
     },
     "metadata": {},
     "output_type": "display_data"
    }
   ],
   "source": [
    "# Importing training set\n",
    "df_train = pd.read_csv(\"/kaggle/input/mobile-price-classification/train.csv\")\n",
    "display(df_train.head())"
   ]
  },
  {
   "cell_type": "markdown",
   "id": "5ddef3f1",
   "metadata": {
    "papermill": {
     "duration": 0.013519,
     "end_time": "2023-01-14T13:20:24.856895",
     "exception": false,
     "start_time": "2023-01-14T13:20:24.843376",
     "status": "completed"
    },
    "tags": []
   },
   "source": [
    "<h1 style=\"background-color:orange;text-align:center;border-radius: 50px 50px;\">Exploratory Data Analysis</h1>\n",
    "<a class='anchor' id='eda'></a>"
   ]
  },
  {
   "cell_type": "markdown",
   "id": "933b7061",
   "metadata": {
    "papermill": {
     "duration": 0.012991,
     "end_time": "2023-01-14T13:20:24.883275",
     "exception": false,
     "start_time": "2023-01-14T13:20:24.870284",
     "status": "completed"
    },
    "tags": []
   },
   "source": [
    "[back to top](#backtotop)"
   ]
  },
  {
   "cell_type": "code",
   "execution_count": 3,
   "id": "f5023f89",
   "metadata": {
    "execution": {
     "iopub.execute_input": "2023-01-14T13:20:24.912842Z",
     "iopub.status.busy": "2023-01-14T13:20:24.911737Z",
     "iopub.status.idle": "2023-01-14T13:20:24.938977Z",
     "shell.execute_reply": "2023-01-14T13:20:24.937036Z"
    },
    "papermill": {
     "duration": 0.044725,
     "end_time": "2023-01-14T13:20:24.941879",
     "exception": false,
     "start_time": "2023-01-14T13:20:24.897154",
     "status": "completed"
    },
    "tags": []
   },
   "outputs": [
    {
     "name": "stdout",
     "output_type": "stream",
     "text": [
      "<class 'pandas.core.frame.DataFrame'>\n",
      "RangeIndex: 2000 entries, 0 to 1999\n",
      "Data columns (total 21 columns):\n",
      " #   Column         Non-Null Count  Dtype  \n",
      "---  ------         --------------  -----  \n",
      " 0   battery_power  2000 non-null   int64  \n",
      " 1   blue           2000 non-null   int64  \n",
      " 2   clock_speed    2000 non-null   float64\n",
      " 3   dual_sim       2000 non-null   int64  \n",
      " 4   fc             2000 non-null   int64  \n",
      " 5   four_g         2000 non-null   int64  \n",
      " 6   int_memory     2000 non-null   int64  \n",
      " 7   m_dep          2000 non-null   float64\n",
      " 8   mobile_wt      2000 non-null   int64  \n",
      " 9   n_cores        2000 non-null   int64  \n",
      " 10  pc             2000 non-null   int64  \n",
      " 11  px_height      2000 non-null   int64  \n",
      " 12  px_width       2000 non-null   int64  \n",
      " 13  ram            2000 non-null   int64  \n",
      " 14  sc_h           2000 non-null   int64  \n",
      " 15  sc_w           2000 non-null   int64  \n",
      " 16  talk_time      2000 non-null   int64  \n",
      " 17  three_g        2000 non-null   int64  \n",
      " 18  touch_screen   2000 non-null   int64  \n",
      " 19  wifi           2000 non-null   int64  \n",
      " 20  price_range    2000 non-null   int64  \n",
      "dtypes: float64(2), int64(19)\n",
      "memory usage: 328.2 KB\n"
     ]
    }
   ],
   "source": [
    "# Looking at columns in dataframe and number of non-null values in each of the column, also noting data type\n",
    "df_train.info()"
   ]
  },
  {
   "cell_type": "markdown",
   "id": "5d44128b",
   "metadata": {
    "papermill": {
     "duration": 0.013583,
     "end_time": "2023-01-14T13:20:24.969081",
     "exception": false,
     "start_time": "2023-01-14T13:20:24.955498",
     "status": "completed"
    },
    "tags": []
   },
   "source": [
    "Total 19 independent variables and 1 Dependent variable of \"price_range\". All columns  have numeric values with none having null values."
   ]
  },
  {
   "cell_type": "code",
   "execution_count": 4,
   "id": "bbfd9f3b",
   "metadata": {
    "execution": {
     "iopub.execute_input": "2023-01-14T13:20:24.998956Z",
     "iopub.status.busy": "2023-01-14T13:20:24.998512Z",
     "iopub.status.idle": "2023-01-14T13:20:25.005597Z",
     "shell.execute_reply": "2023-01-14T13:20:25.004318Z"
    },
    "papermill": {
     "duration": 0.02548,
     "end_time": "2023-01-14T13:20:25.008208",
     "exception": false,
     "start_time": "2023-01-14T13:20:24.982728",
     "status": "completed"
    },
    "tags": []
   },
   "outputs": [
    {
     "name": "stdout",
     "output_type": "stream",
     "text": [
      "Index(['battery_power', 'blue', 'clock_speed', 'dual_sim', 'fc', 'four_g',\n",
      "       'int_memory', 'm_dep', 'mobile_wt', 'n_cores', 'pc', 'px_height',\n",
      "       'px_width', 'ram', 'sc_h', 'sc_w', 'talk_time', 'three_g',\n",
      "       'touch_screen', 'wifi', 'price_range'],\n",
      "      dtype='object')\n",
      "\n",
      "\n",
      "There are total 21 columns in the training set.\n"
     ]
    }
   ],
   "source": [
    "# Printing names of columns in training set\n",
    "print(df_train.columns)\n",
    "print(\"\\n\")\n",
    "print(\"There are total {} columns in the training set.\".format(len(df_train.columns)))"
   ]
  },
  {
   "cell_type": "markdown",
   "id": "52f35678",
   "metadata": {
    "papermill": {
     "duration": 0.013564,
     "end_time": "2023-01-14T13:20:25.035783",
     "exception": false,
     "start_time": "2023-01-14T13:20:25.022219",
     "status": "completed"
    },
    "tags": []
   },
   "source": [
    "## <span style=\"background-color:orange;text-align:center;border-radius: 50px 50px;\">Column Definitions</span>\n",
    "<a class='anchor' id='eda_coldef'></a>"
   ]
  },
  {
   "cell_type": "markdown",
   "id": "fae7d7c7",
   "metadata": {
    "papermill": {
     "duration": 0.013571,
     "end_time": "2023-01-14T13:20:25.063718",
     "exception": false,
     "start_time": "2023-01-14T13:20:25.050147",
     "status": "completed"
    },
    "tags": []
   },
   "source": [
    "1. battery_power: Total energy battery can store in mAh.\n",
    "2. blue: Has bluetooth or not\n",
    "3. clock_speed: Microprocessor speed\n",
    "4. dual_sim: Has dual sim support or not\n",
    "5. fc: Front camera in mega pixels.\n",
    "6. four_g: Has 4G or not\n",
    "7. int_memory: Internal memory in gigabytes\n",
    "8. m_dep: Mobile depth in cm.\n",
    "9. mobile_wt: weight of mobile phone\n",
    "10. n_cores: number of cores of processor\n",
    "11. pc: Primary camera megapixels\n",
    "12. px_height: Pixel resolution height\n",
    "13. px_width: Pixel resolution width\n",
    "14. ram: RAM in MB\n",
    "15. sc_h: screen heigh in cm\n",
    "16. sc_w: screen width in cm\n",
    "17. talk_time: longest time a battery can last\n",
    "18. three_g: has 3g or not\n",
    "19. touch_screen: has touch screen or not\n",
    "20. wifi: Has wifi or not"
   ]
  },
  {
   "cell_type": "code",
   "execution_count": 5,
   "id": "f6abf7bf",
   "metadata": {
    "execution": {
     "iopub.execute_input": "2023-01-14T13:20:25.092900Z",
     "iopub.status.busy": "2023-01-14T13:20:25.092409Z",
     "iopub.status.idle": "2023-01-14T13:20:25.100242Z",
     "shell.execute_reply": "2023-01-14T13:20:25.099438Z"
    },
    "papermill": {
     "duration": 0.025145,
     "end_time": "2023-01-14T13:20:25.102618",
     "exception": false,
     "start_time": "2023-01-14T13:20:25.077473",
     "status": "completed"
    },
    "tags": []
   },
   "outputs": [
    {
     "data": {
      "text/plain": [
       "1    500\n",
       "2    500\n",
       "3    500\n",
       "0    500\n",
       "Name: price_range, dtype: int64"
      ]
     },
     "execution_count": 5,
     "metadata": {},
     "output_type": "execute_result"
    }
   ],
   "source": [
    "# Let's count number of unique values in \"price_range column\"\n",
    "df_train['price_range'].value_counts()"
   ]
  },
  {
   "cell_type": "markdown",
   "id": "63117aa2",
   "metadata": {
    "papermill": {
     "duration": 0.013721,
     "end_time": "2023-01-14T13:20:25.131074",
     "exception": false,
     "start_time": "2023-01-14T13:20:25.117353",
     "status": "completed"
    },
    "tags": []
   },
   "source": [
    "Each price range has equal number of occurence in the dataset."
   ]
  },
  {
   "cell_type": "code",
   "execution_count": 6,
   "id": "4209bafe",
   "metadata": {
    "execution": {
     "iopub.execute_input": "2023-01-14T13:20:25.161977Z",
     "iopub.status.busy": "2023-01-14T13:20:25.161530Z",
     "iopub.status.idle": "2023-01-14T13:20:25.292810Z",
     "shell.execute_reply": "2023-01-14T13:20:25.291252Z"
    },
    "papermill": {
     "duration": 0.151194,
     "end_time": "2023-01-14T13:20:25.297023",
     "exception": false,
     "start_time": "2023-01-14T13:20:25.145829",
     "status": "completed"
    },
    "tags": []
   },
   "outputs": [
    {
     "data": {
      "image/png": "[encoded data removed]",
      "text/plain": [
       "<Figure size 432x288 with 1 Axes>"
      ]
     },
     "metadata": {},
     "output_type": "display_data"
    }
   ],
   "source": [
    "import matplotlib.pyplot as plt\n",
    "plt.pie(df_train['price_range'].value_counts(),\n",
    "       labels = df_train['price_range'].value_counts().index)\n",
    "plt.title(\"Coverage of each price range\")\n",
    "plt.show()"
   ]
  },
  {
   "cell_type": "code",
   "execution_count": 7,
   "id": "1094fb12",
   "metadata": {
    "execution": {
     "iopub.execute_input": "2023-01-14T13:20:25.374543Z",
     "iopub.status.busy": "2023-01-14T13:20:25.373132Z",
     "iopub.status.idle": "2023-01-14T13:20:25.406583Z",
     "shell.execute_reply": "2023-01-14T13:20:25.405584Z"
    },
    "papermill": {
     "duration": 0.074862,
     "end_time": "2023-01-14T13:20:25.408681",
     "exception": false,
     "start_time": "2023-01-14T13:20:25.333819",
     "status": "completed"
    },
    "tags": []
   },
   "outputs": [
    {
     "data": {
      "text/html": [
       "<div>\n",
       "<style scoped>\n",
       "    .dataframe tbody tr th:only-of-type {\n",
       "        vertical-align: middle;\n",
       "    }\n",
       "\n",
       "    .dataframe tbody tr th {\n",
       "        vertical-align: top;\n",
       "    }\n",
       "\n",
       "    .dataframe thead th {\n",
       "        text-align: right;\n",
       "    }\n",
       "</style>\n",
       "<table border=\"1\" class=\"dataframe\">\n",
       "  <thead>\n",
       "    <tr style=\"text-align: right;\">\n",
       "      <th></th>\n",
       "      <th>id</th>\n",
       "      <th>battery_power</th>\n",
       "      <th>blue</th>\n",
       "      <th>clock_speed</th>\n",
       "      <th>dual_sim</th>\n",
       "      <th>fc</th>\n",
       "      <th>four_g</th>\n",
       "      <th>int_memory</th>\n",
       "      <th>m_dep</th>\n",
       "      <th>mobile_wt</th>\n",
       "      <th>...</th>\n",
       "      <th>pc</th>\n",
       "      <th>px_height</th>\n",
       "      <th>px_width</th>\n",
       "      <th>ram</th>\n",
       "      <th>sc_h</th>\n",
       "      <th>sc_w</th>\n",
       "      <th>talk_time</th>\n",
       "      <th>three_g</th>\n",
       "      <th>touch_screen</th>\n",
       "      <th>wifi</th>\n",
       "    </tr>\n",
       "  </thead>\n",
       "  <tbody>\n",
       "    <tr>\n",
       "      <th>0</th>\n",
       "      <td>1</td>\n",
       "      <td>1043</td>\n",
       "      <td>1</td>\n",
       "      <td>1.8</td>\n",
       "      <td>1</td>\n",
       "      <td>14</td>\n",
       "      <td>0</td>\n",
       "      <td>5</td>\n",
       "      <td>0.1</td>\n",
       "      <td>193</td>\n",
       "      <td>...</td>\n",
       "      <td>16</td>\n",
       "      <td>226</td>\n",
       "      <td>1412</td>\n",
       "      <td>3476</td>\n",
       "      <td>12</td>\n",
       "      <td>7</td>\n",
       "      <td>2</td>\n",
       "      <td>0</td>\n",
       "      <td>1</td>\n",
       "      <td>0</td>\n",
       "    </tr>\n",
       "    <tr>\n",
       "      <th>1</th>\n",
       "      <td>2</td>\n",
       "      <td>841</td>\n",
       "      <td>1</td>\n",
       "      <td>0.5</td>\n",
       "      <td>1</td>\n",
       "      <td>4</td>\n",
       "      <td>1</td>\n",
       "      <td>61</td>\n",
       "      <td>0.8</td>\n",
       "      <td>191</td>\n",
       "      <td>...</td>\n",
       "      <td>12</td>\n",
       "      <td>746</td>\n",
       "      <td>857</td>\n",
       "      <td>3895</td>\n",
       "      <td>6</td>\n",
       "      <td>0</td>\n",
       "      <td>7</td>\n",
       "      <td>1</td>\n",
       "      <td>0</td>\n",
       "      <td>0</td>\n",
       "    </tr>\n",
       "    <tr>\n",
       "      <th>2</th>\n",
       "      <td>3</td>\n",
       "      <td>1807</td>\n",
       "      <td>1</td>\n",
       "      <td>2.8</td>\n",
       "      <td>0</td>\n",
       "      <td>1</td>\n",
       "      <td>0</td>\n",
       "      <td>27</td>\n",
       "      <td>0.9</td>\n",
       "      <td>186</td>\n",
       "      <td>...</td>\n",
       "      <td>4</td>\n",
       "      <td>1270</td>\n",
       "      <td>1366</td>\n",
       "      <td>2396</td>\n",
       "      <td>17</td>\n",
       "      <td>10</td>\n",
       "      <td>10</td>\n",
       "      <td>0</td>\n",
       "      <td>1</td>\n",
       "      <td>1</td>\n",
       "    </tr>\n",
       "    <tr>\n",
       "      <th>3</th>\n",
       "      <td>4</td>\n",
       "      <td>1546</td>\n",
       "      <td>0</td>\n",
       "      <td>0.5</td>\n",
       "      <td>1</td>\n",
       "      <td>18</td>\n",
       "      <td>1</td>\n",
       "      <td>25</td>\n",
       "      <td>0.5</td>\n",
       "      <td>96</td>\n",
       "      <td>...</td>\n",
       "      <td>20</td>\n",
       "      <td>295</td>\n",
       "      <td>1752</td>\n",
       "      <td>3893</td>\n",
       "      <td>10</td>\n",
       "      <td>0</td>\n",
       "      <td>7</td>\n",
       "      <td>1</td>\n",
       "      <td>1</td>\n",
       "      <td>0</td>\n",
       "    </tr>\n",
       "    <tr>\n",
       "      <th>4</th>\n",
       "      <td>5</td>\n",
       "      <td>1434</td>\n",
       "      <td>0</td>\n",
       "      <td>1.4</td>\n",
       "      <td>0</td>\n",
       "      <td>11</td>\n",
       "      <td>1</td>\n",
       "      <td>49</td>\n",
       "      <td>0.5</td>\n",
       "      <td>108</td>\n",
       "      <td>...</td>\n",
       "      <td>18</td>\n",
       "      <td>749</td>\n",
       "      <td>810</td>\n",
       "      <td>1773</td>\n",
       "      <td>15</td>\n",
       "      <td>8</td>\n",
       "      <td>7</td>\n",
       "      <td>1</td>\n",
       "      <td>0</td>\n",
       "      <td>1</td>\n",
       "    </tr>\n",
       "  </tbody>\n",
       "</table>\n",
       "<p>5 rows × 21 columns</p>\n",
       "</div>"
      ],
      "text/plain": [
       "   id  battery_power  blue  clock_speed  dual_sim  fc  four_g  int_memory  \\\n",
       "0   1           1043     1          1.8         1  14       0           5   \n",
       "1   2            841     1          0.5         1   4       1          61   \n",
       "2   3           1807     1          2.8         0   1       0          27   \n",
       "3   4           1546     0          0.5         1  18       1          25   \n",
       "4   5           1434     0          1.4         0  11       1          49   \n",
       "\n",
       "   m_dep  mobile_wt  ...  pc  px_height  px_width   ram  sc_h  sc_w  \\\n",
       "0    0.1        193  ...  16        226      1412  3476    12     7   \n",
       "1    0.8        191  ...  12        746       857  3895     6     0   \n",
       "2    0.9        186  ...   4       1270      1366  2396    17    10   \n",
       "3    0.5         96  ...  20        295      1752  3893    10     0   \n",
       "4    0.5        108  ...  18        749       810  1773    15     8   \n",
       "\n",
       "   talk_time  three_g  touch_screen  wifi  \n",
       "0          2        0             1     0  \n",
       "1          7        1             0     0  \n",
       "2         10        0             1     1  \n",
       "3          7        1             1     0  \n",
       "4          7        1             0     1  \n",
       "\n",
       "[5 rows x 21 columns]"
      ]
     },
     "metadata": {},
     "output_type": "display_data"
    }
   ],
   "source": [
    "# Let's read the test data also\n",
    "df_test = pd.read_csv('/kaggle/input/mobile-price-classification/test.csv')\n",
    "display(df_test.head())"
   ]
  },
  {
   "cell_type": "markdown",
   "id": "531e3e62",
   "metadata": {
    "papermill": {
     "duration": 0.014314,
     "end_time": "2023-01-14T13:20:25.437746",
     "exception": false,
     "start_time": "2023-01-14T13:20:25.423432",
     "status": "completed"
    },
    "tags": []
   },
   "source": [
    "## <span style=\"background-color:orange;text-align:center;border-radius: 50px 50px;\">Data Visualization</span>\n",
    "<a class='anchor' id='eda_datavis'></a>"
   ]
  },
  {
   "cell_type": "markdown",
   "id": "59db88b0",
   "metadata": {
    "papermill": {
     "duration": 0.013885,
     "end_time": "2023-01-14T13:20:25.466047",
     "exception": false,
     "start_time": "2023-01-14T13:20:25.452162",
     "status": "completed"
    },
    "tags": []
   },
   "source": [
    "[back to top](#backtotop)"
   ]
  },
  {
   "cell_type": "code",
   "execution_count": 8,
   "id": "61eccb15",
   "metadata": {
    "execution": {
     "iopub.execute_input": "2023-01-14T13:20:25.496922Z",
     "iopub.status.busy": "2023-01-14T13:20:25.496220Z",
     "iopub.status.idle": "2023-01-14T13:20:25.502961Z",
     "shell.execute_reply": "2023-01-14T13:20:25.501799Z"
    },
    "papermill": {
     "duration": 0.025048,
     "end_time": "2023-01-14T13:20:25.505360",
     "exception": false,
     "start_time": "2023-01-14T13:20:25.480312",
     "status": "completed"
    },
    "tags": []
   },
   "outputs": [],
   "source": [
    "import matplotlib.pyplot as plt\n",
    "\n",
    "def plot_cols(dframe, col_to_plot: str):\n",
    "    '''\n",
    "    Input:\n",
    "    dframe --> dataframe\n",
    "    col_to_plot --> column in dframe dataframe in string format\n",
    "    -----------------------\n",
    "    The function plots unique values bar distribution corresponding to the\n",
    "    specified column in input dataframe.\n",
    "    '''\n",
    "    \n",
    "    fig, ax = plt.subplots(1,1, figsize=(16,8))\n",
    "    ax.bar(dframe[col_to_plot].value_counts().reset_index()['index'],\n",
    "           dframe[col_to_plot].value_counts().reset_index()[col_to_plot])\n",
    "    ax.set_xlabel(col_to_plot)"
   ]
  },
  {
   "cell_type": "code",
   "execution_count": 9,
   "id": "330d659d",
   "metadata": {
    "execution": {
     "iopub.execute_input": "2023-01-14T13:20:25.536539Z",
     "iopub.status.busy": "2023-01-14T13:20:25.536005Z",
     "iopub.status.idle": "2023-01-14T13:20:25.541525Z",
     "shell.execute_reply": "2023-01-14T13:20:25.540586Z"
    },
    "papermill": {
     "duration": 0.024508,
     "end_time": "2023-01-14T13:20:25.544355",
     "exception": false,
     "start_time": "2023-01-14T13:20:25.519847",
     "status": "completed"
    },
    "tags": []
   },
   "outputs": [
    {
     "name": "stdout",
     "output_type": "stream",
     "text": [
      "\n",
      "    Input:\n",
      "    dframe --> dataframe\n",
      "    col_to_plot --> column in dframe dataframe in string format\n",
      "    -----------------------\n",
      "    The function plots unique values bar distribution corresponding to the\n",
      "    specified column in input dataframe.\n",
      "    \n"
     ]
    }
   ],
   "source": [
    "print(plot_cols.__doc__)"
   ]
  },
  {
   "cell_type": "code",
   "execution_count": 10,
   "id": "91dc209a",
   "metadata": {
    "execution": {
     "iopub.execute_input": "2023-01-14T13:20:25.576119Z",
     "iopub.status.busy": "2023-01-14T13:20:25.575380Z",
     "iopub.status.idle": "2023-01-14T13:20:28.940975Z",
     "shell.execute_reply": "2023-01-14T13:20:28.939759Z"
    },
    "papermill": {
     "duration": 3.384647,
     "end_time": "2023-01-14T13:20:28.943830",
     "exception": false,
     "start_time": "2023-01-14T13:20:25.559183",
     "status": "completed"
    },
    "tags": []
   },
   "outputs": [
    {
     "data": {
      "image/png": "[encoded data removed]",
      "text/plain": [
       "<Figure size 1152x576 with 1 Axes>"
      ]
     },
     "metadata": {
      "needs_background": "light"
     },
     "output_type": "display_data"
    }
   ],
   "source": [
    "plot_cols(df_train, 'ram')"
   ]
  },
  {
   "cell_type": "code",
   "execution_count": 11,
   "id": "47cde56a",
   "metadata": {
    "execution": {
     "iopub.execute_input": "2023-01-14T13:20:28.978453Z",
     "iopub.status.busy": "2023-01-14T13:20:28.977851Z",
     "iopub.status.idle": "2023-01-14T13:20:29.229735Z",
     "shell.execute_reply": "2023-01-14T13:20:29.228759Z"
    },
    "papermill": {
     "duration": 0.272331,
     "end_time": "2023-01-14T13:20:29.232080",
     "exception": false,
     "start_time": "2023-01-14T13:20:28.959749",
     "status": "completed"
    },
    "tags": []
   },
   "outputs": [
    {
     "data": {
      "image/png": "[encoded data removed]",
      "text/plain": [
       "<Figure size 1152x576 with 1 Axes>"
      ]
     },
     "metadata": {
      "needs_background": "light"
     },
     "output_type": "display_data"
    }
   ],
   "source": [
    "plot_cols(df_train, 'blue')"
   ]
  },
  {
   "cell_type": "code",
   "execution_count": 12,
   "id": "98f802a6",
   "metadata": {
    "execution": {
     "iopub.execute_input": "2023-01-14T13:20:29.265249Z",
     "iopub.status.busy": "2023-01-14T13:20:29.264385Z",
     "iopub.status.idle": "2023-01-14T13:20:29.515949Z",
     "shell.execute_reply": "2023-01-14T13:20:29.514720Z"
    },
    "papermill": {
     "duration": 0.27169,
     "end_time": "2023-01-14T13:20:29.519090",
     "exception": false,
     "start_time": "2023-01-14T13:20:29.247400",
     "status": "completed"
    },
    "tags": []
   },
   "outputs": [
    {
     "data": {
      "image/png": "[encoded data removed]",
      "text/plain": [
       "<Figure size 1152x576 with 1 Axes>"
      ]
     },
     "metadata": {
      "needs_background": "light"
     },
     "output_type": "display_data"
    }
   ],
   "source": [
    "plot_cols(df_train, 'dual_sim')"
   ]
  },
  {
   "cell_type": "code",
   "execution_count": 13,
   "id": "db36b7db",
   "metadata": {
    "execution": {
     "iopub.execute_input": "2023-01-14T13:20:29.556601Z",
     "iopub.status.busy": "2023-01-14T13:20:29.555407Z",
     "iopub.status.idle": "2023-01-14T13:20:29.796617Z",
     "shell.execute_reply": "2023-01-14T13:20:29.795721Z"
    },
    "papermill": {
     "duration": 0.264358,
     "end_time": "2023-01-14T13:20:29.799074",
     "exception": false,
     "start_time": "2023-01-14T13:20:29.534716",
     "status": "completed"
    },
    "tags": []
   },
   "outputs": [
    {
     "data": {
      "image/png": "[encoded data removed]",
      "text/plain": [
       "<Figure size 1152x576 with 1 Axes>"
      ]
     },
     "metadata": {
      "needs_background": "light"
     },
     "output_type": "display_data"
    }
   ],
   "source": [
    "plot_cols(df_train, 'four_g')"
   ]
  },
  {
   "cell_type": "code",
   "execution_count": 14,
   "id": "cf181191",
   "metadata": {
    "execution": {
     "iopub.execute_input": "2023-01-14T13:20:29.833753Z",
     "iopub.status.busy": "2023-01-14T13:20:29.832544Z",
     "iopub.status.idle": "2023-01-14T13:20:30.088572Z",
     "shell.execute_reply": "2023-01-14T13:20:30.087381Z"
    },
    "papermill": {
     "duration": 0.276145,
     "end_time": "2023-01-14T13:20:30.091105",
     "exception": false,
     "start_time": "2023-01-14T13:20:29.814960",
     "status": "completed"
    },
    "tags": []
   },
   "outputs": [
    {
     "data": {
      "image/png": "[encoded data removed]",
      "text/plain": [
       "<Figure size 1152x576 with 1 Axes>"
      ]
     },
     "metadata": {
      "needs_background": "light"
     },
     "output_type": "display_data"
    }
   ],
   "source": [
    "plot_cols(df_train, 'three_g')"
   ]
  },
  {
   "cell_type": "code",
   "execution_count": 15,
   "id": "47a859f3",
   "metadata": {
    "execution": {
     "iopub.execute_input": "2023-01-14T13:20:30.125441Z",
     "iopub.status.busy": "2023-01-14T13:20:30.124134Z",
     "iopub.status.idle": "2023-01-14T13:20:31.445787Z",
     "shell.execute_reply": "2023-01-14T13:20:31.444577Z"
    },
    "papermill": {
     "duration": 1.341457,
     "end_time": "2023-01-14T13:20:31.448669",
     "exception": false,
     "start_time": "2023-01-14T13:20:30.107212",
     "status": "completed"
    },
    "tags": []
   },
   "outputs": [
    {
     "data": {
      "text/plain": [
       "<AxesSubplot:xlabel='three_g', ylabel='count'>"
      ]
     },
     "execution_count": 15,
     "metadata": {},
     "output_type": "execute_result"
    },
    {
     "data": {
      "image/png": "[encoded data removed]",
      "text/plain": [
       "<Figure size 1080x504 with 1 Axes>"
      ]
     },
     "metadata": {
      "needs_background": "light"
     },
     "output_type": "display_data"
    }
   ],
   "source": [
    "import seaborn as sns\n",
    "\n",
    "fig = plt.figure(figsize=(15,7))\n",
    "sns.countplot(x='three_g',\n",
    "             data=df_train,\n",
    "             hue='price_range')"
   ]
  },
  {
   "cell_type": "code",
   "execution_count": 16,
   "id": "28d1707f",
   "metadata": {
    "execution": {
     "iopub.execute_input": "2023-01-14T13:20:31.483092Z",
     "iopub.status.busy": "2023-01-14T13:20:31.482685Z",
     "iopub.status.idle": "2023-01-14T13:20:31.496353Z",
     "shell.execute_reply": "2023-01-14T13:20:31.495262Z"
    },
    "papermill": {
     "duration": 0.033984,
     "end_time": "2023-01-14T13:20:31.499159",
     "exception": false,
     "start_time": "2023-01-14T13:20:31.465175",
     "status": "completed"
    },
    "tags": []
   },
   "outputs": [],
   "source": [
    "cols_list = ['wifi', 'blue', 'dual_sim', 'three_g', 'four_g', 'touch_screen']\n",
    "\n",
    "df_col_list =[]\n",
    "\n",
    "for j in cols_list:\n",
    "    df_col_list.append(df_train.groupby('price_range')[j].value_counts())"
   ]
  },
  {
   "cell_type": "code",
   "execution_count": 17,
   "id": "e92f937f",
   "metadata": {
    "execution": {
     "iopub.execute_input": "2023-01-14T13:20:31.533461Z",
     "iopub.status.busy": "2023-01-14T13:20:31.532436Z",
     "iopub.status.idle": "2023-01-14T13:20:31.561884Z",
     "shell.execute_reply": "2023-01-14T13:20:31.560644Z"
    },
    "papermill": {
     "duration": 0.04931,
     "end_time": "2023-01-14T13:20:31.564482",
     "exception": false,
     "start_time": "2023-01-14T13:20:31.515172",
     "status": "completed"
    },
    "tags": []
   },
   "outputs": [
    {
     "data": {
      "text/html": [
       "<div>\n",
       "<style scoped>\n",
       "    .dataframe tbody tr th:only-of-type {\n",
       "        vertical-align: middle;\n",
       "    }\n",
       "\n",
       "    .dataframe tbody tr th {\n",
       "        vertical-align: top;\n",
       "    }\n",
       "\n",
       "    .dataframe thead th {\n",
       "        text-align: right;\n",
       "    }\n",
       "</style>\n",
       "<table border=\"1\" class=\"dataframe\">\n",
       "  <thead>\n",
       "    <tr style=\"text-align: right;\">\n",
       "      <th></th>\n",
       "      <th></th>\n",
       "      <th>wifi</th>\n",
       "      <th>blue</th>\n",
       "      <th>dual_sim</th>\n",
       "      <th>three_g</th>\n",
       "      <th>four_g</th>\n",
       "      <th>touch_screen</th>\n",
       "    </tr>\n",
       "    <tr>\n",
       "      <th>price_range</th>\n",
       "      <th></th>\n",
       "      <th></th>\n",
       "      <th></th>\n",
       "      <th></th>\n",
       "      <th></th>\n",
       "      <th></th>\n",
       "      <th></th>\n",
       "    </tr>\n",
       "  </thead>\n",
       "  <tbody>\n",
       "    <tr>\n",
       "      <th rowspan=\"2\" valign=\"top\">0</th>\n",
       "      <th>0</th>\n",
       "      <td>252</td>\n",
       "      <td>257</td>\n",
       "      <td>250</td>\n",
       "      <td>127</td>\n",
       "      <td>241</td>\n",
       "      <td>238</td>\n",
       "    </tr>\n",
       "    <tr>\n",
       "      <th>1</th>\n",
       "      <td>248</td>\n",
       "      <td>243</td>\n",
       "      <td>250</td>\n",
       "      <td>373</td>\n",
       "      <td>259</td>\n",
       "      <td>262</td>\n",
       "    </tr>\n",
       "    <tr>\n",
       "      <th rowspan=\"2\" valign=\"top\">1</th>\n",
       "      <th>0</th>\n",
       "      <td>248</td>\n",
       "      <td>255</td>\n",
       "      <td>245</td>\n",
       "      <td>122</td>\n",
       "      <td>238</td>\n",
       "      <td>239</td>\n",
       "    </tr>\n",
       "    <tr>\n",
       "      <th>1</th>\n",
       "      <td>252</td>\n",
       "      <td>245</td>\n",
       "      <td>255</td>\n",
       "      <td>378</td>\n",
       "      <td>262</td>\n",
       "      <td>261</td>\n",
       "    </tr>\n",
       "    <tr>\n",
       "      <th rowspan=\"2\" valign=\"top\">2</th>\n",
       "      <th>0</th>\n",
       "      <td>248</td>\n",
       "      <td>257</td>\n",
       "      <td>251</td>\n",
       "      <td>113</td>\n",
       "      <td>253</td>\n",
       "      <td>265</td>\n",
       "    </tr>\n",
       "    <tr>\n",
       "      <th>1</th>\n",
       "      <td>252</td>\n",
       "      <td>243</td>\n",
       "      <td>249</td>\n",
       "      <td>387</td>\n",
       "      <td>247</td>\n",
       "      <td>235</td>\n",
       "    </tr>\n",
       "    <tr>\n",
       "      <th rowspan=\"2\" valign=\"top\">3</th>\n",
       "      <th>0</th>\n",
       "      <td>238</td>\n",
       "      <td>241</td>\n",
       "      <td>235</td>\n",
       "      <td>115</td>\n",
       "      <td>225</td>\n",
       "      <td>252</td>\n",
       "    </tr>\n",
       "    <tr>\n",
       "      <th>1</th>\n",
       "      <td>262</td>\n",
       "      <td>259</td>\n",
       "      <td>265</td>\n",
       "      <td>385</td>\n",
       "      <td>275</td>\n",
       "      <td>248</td>\n",
       "    </tr>\n",
       "  </tbody>\n",
       "</table>\n",
       "</div>"
      ],
      "text/plain": [
       "               wifi  blue  dual_sim  three_g  four_g  touch_screen\n",
       "price_range                                                       \n",
       "0           0   252   257       250      127     241           238\n",
       "            1   248   243       250      373     259           262\n",
       "1           0   248   255       245      122     238           239\n",
       "            1   252   245       255      378     262           261\n",
       "2           0   248   257       251      113     253           265\n",
       "            1   252   243       249      387     247           235\n",
       "3           0   238   241       235      115     225           252\n",
       "            1   262   259       265      385     275           248"
      ]
     },
     "execution_count": 17,
     "metadata": {},
     "output_type": "execute_result"
    }
   ],
   "source": [
    "df_groupby_price = pd.DataFrame(df_col_list, index=cols_list).T\n",
    "df_groupby_price"
   ]
  },
  {
   "cell_type": "code",
   "execution_count": 18,
   "id": "39830e7f",
   "metadata": {
    "execution": {
     "iopub.execute_input": "2023-01-14T13:20:31.599122Z",
     "iopub.status.busy": "2023-01-14T13:20:31.598688Z",
     "iopub.status.idle": "2023-01-14T13:20:34.093354Z",
     "shell.execute_reply": "2023-01-14T13:20:34.092144Z"
    },
    "papermill": {
     "duration": 2.514896,
     "end_time": "2023-01-14T13:20:34.095923",
     "exception": false,
     "start_time": "2023-01-14T13:20:31.581027",
     "status": "completed"
    },
    "tags": []
   },
   "outputs": [
    {
     "data": {
      "text/html": [
       "        <script type=\"text/javascript\">\n",
       "        window.PlotlyConfig = {MathJaxConfig: 'local'};\n",
       "        if (window.MathJax && window.MathJax.Hub && window.MathJax.Hub.Config) {window.MathJax.Hub.Config({SVG: {font: \"STIX-Web\"}});}\n",
       "        if (typeof require !== 'undefined') {\n",
       "        require.undef(\"plotly\");\n",
       "        requirejs.config({\n",
       "            paths: {\n",
       "                'plotly': ['https://cdn.plot.ly/plotly-2.16.1.min']\n",
       "            }\n",
       "        });\n",
       "        require(['plotly'], function(Plotly) {\n",
       "            window._Plotly = Plotly;\n",
       "        });\n",
       "        }\n",
       "        </script>\n",
       "        "
      ]
     },
     "metadata": {},
     "output_type": "display_data"
    },
    {
     "data": {
      "text/html": [
       "<div>                            <div id=\"47681a14-0e63-4954-971e-28f69bde2808\" class=\"plotly-graph-div\" style=\"height:525px; width:100%;\"></div>            <script type=\"text/javascript\">                require([\"plotly\"], function(Plotly) {                    window.PLOTLYENV=window.PLOTLYENV || {};                                    if (document.getElementById(\"47681a14-0e63-4954-971e-28f69bde2808\")) {                    Plotly.newPlot(                        \"47681a14-0e63-4954-971e-28f69bde2808\",                        [{\"alignmentgroup\":\"True\",\"hovertemplate\":\"Price Range=%{x}<br>ram=%{y}<extra></extra>\",\"legendgroup\":\"\",\"marker\":{\"color\":\"#636efa\"},\"name\":\"\",\"notched\":false,\"offsetgroup\":\"\",\"orientation\":\"v\",\"showlegend\":false,\"x\":[1,2,2,2,1,1,3,0,0,0,3,3,1,2,0,0,3,3,1,1,3,3,1,0,1,2,3,3,2,0,3,0,1,3,0,1,1,3,2,2,2,3,1,1,0,1,3,1,0,3,2,2,3,1,2,2,0,3,1,2,1,0,0,2,2,3,3,3,0,3,3,2,0,3,0,1,0,0,3,1,3,2,3,1,1,1,0,3,2,2,3,2,0,0,1,3,0,2,0,1,3,1,1,0,0,1,3,3,3,3,1,1,0,2,3,3,2,1,0,1,2,3,3,3,2,3,2,1,3,0,3,1,2,1,2,2,1,3,0,0,2,0,3,2,0,3,1,3,2,2,1,3,1,2,0,1,0,0,3,1,2,2,0,0,2,3,1,2,3,1,3,1,2,2,3,2,0,3,2,1,0,0,2,3,3,0,2,3,1,3,1,2,3,3,2,2,2,3,1,1,0,1,0,2,2,2,2,1,3,3,2,2,0,2,0,3,0,1,1,3,0,0,3,2,3,3,3,2,2,3,3,3,0,1,2,0,1,3,1,0,2,2,3,2,3,3,0,1,1,0,2,2,1,0,0,2,0,1,0,3,1,1,0,0,3,1,3,1,2,1,0,0,3,1,2,2,3,1,0,0,3,3,1,1,2,1,3,3,1,1,3,3,2,3,0,1,3,1,0,1,3,0,0,3,0,1,1,2,0,2,3,2,3,0,2,3,1,0,0,1,0,3,3,0,0,0,2,1,2,1,1,1,1,1,2,2,3,0,2,2,2,1,2,3,0,1,2,2,2,2,1,3,0,2,2,1,2,0,0,3,1,0,3,2,0,0,2,3,2,1,3,1,3,0,3,2,0,1,0,3,1,2,2,2,2,3,3,1,2,3,3,1,3,3,1,3,3,0,1,3,2,3,3,2,2,3,3,0,2,2,0,3,1,2,3,2,1,1,1,0,1,2,2,0,2,2,0,3,1,1,3,1,3,1,0,0,3,1,3,0,0,1,3,1,0,0,2,2,2,1,1,1,3,0,3,2,1,3,1,0,2,2,1,0,0,3,3,0,0,1,3,3,1,0,2,2,3,0,3,3,0,3,0,3,1,0,2,2,1,2,0,3,2,0,1,2,3,1,2,3,0,3,1,0,0,1,2,2,2,2,3,3,0,1,1,2,1,3,3,3,3,1,3,3,3,3,2,3,2,2,0,0,3,1,2,2,0,2,2,1,0,3,1,1,1,1,1,2,2,1,3,1,0,1,0,0,2,2,2,0,3,1,2,1,2,0,0,1,3,3,3,3,3,3,0,2,2,0,0,3,3,3,0,0,3,0,0,1,2,0,2,3,1,3,2,0,2,2,0,0,1,3,0,1,1,2,2,0,2,2,0,1,3,0,2,2,3,1,3,2,2,1,2,2,1,1,0,1,0,1,0,3,1,1,3,1,3,2,1,1,0,2,0,2,0,2,0,1,3,1,2,2,0,1,0,3,2,1,3,2,0,0,1,2,0,0,0,2,3,1,2,1,0,0,0,2,3,2,3,0,3,2,1,2,1,0,2,0,0,1,3,0,3,1,1,1,3,2,2,0,0,3,0,3,3,2,3,3,3,0,2,1,2,0,3,1,0,1,3,1,3,3,1,0,1,1,2,1,3,3,0,2,0,3,2,0,0,2,1,2,3,3,2,1,2,2,3,1,2,3,3,1,1,2,1,2,0,2,0,3,0,0,0,3,3,0,2,2,3,1,3,0,1,2,0,0,0,3,2,0,2,2,1,0,2,0,3,3,2,3,0,3,2,3,2,2,1,0,3,3,1,0,0,2,1,2,3,3,3,3,0,0,0,1,0,2,0,1,2,0,0,3,3,1,3,3,2,3,3,1,1,3,0,3,3,3,3,2,2,3,2,1,3,2,3,0,0,3,0,0,3,2,1,0,2,1,2,2,1,2,2,0,2,0,2,2,2,3,0,0,3,3,1,0,1,0,0,3,3,3,0,2,2,1,2,2,2,0,3,1,1,3,3,1,2,3,2,2,0,3,3,0,2,2,0,3,3,0,1,1,0,1,2,1,3,1,0,0,3,2,0,1,0,1,2,1,1,2,2,0,3,2,3,1,2,3,3,2,2,2,3,0,0,1,0,3,0,0,2,1,1,1,3,0,1,3,3,3,1,3,2,3,1,1,2,3,0,0,1,1,1,0,3,2,0,1,3,0,3,1,0,3,3,1,0,0,0,3,3,1,1,1,1,0,0,3,2,0,3,3,2,0,0,0,2,3,0,1,3,1,2,0,0,2,0,2,0,3,3,1,3,3,1,0,0,0,0,1,1,2,2,2,1,2,0,0,3,0,1,1,0,3,2,0,1,2,3,2,3,1,1,1,1,3,1,1,2,2,1,2,3,1,2,0,1,0,3,0,0,0,0,1,3,0,1,1,0,3,3,2,1,0,1,2,2,2,1,1,0,1,2,2,2,0,0,1,3,1,3,0,0,1,0,3,1,0,0,2,3,3,1,3,3,1,3,2,0,2,2,3,3,3,3,1,2,2,1,2,0,2,3,2,2,1,0,1,1,0,2,0,2,2,2,2,1,2,2,0,1,1,2,1,1,3,0,1,3,0,2,0,2,2,2,2,2,0,0,2,1,2,0,3,1,3,2,2,3,2,0,3,3,1,0,0,3,2,2,0,3,2,0,3,2,0,1,2,2,1,0,2,0,2,1,2,1,1,3,0,1,1,2,0,3,1,2,2,1,3,2,0,2,2,2,3,0,0,3,2,1,2,0,0,2,3,2,0,0,0,2,3,0,2,2,1,1,1,2,1,0,2,1,3,3,0,0,2,3,1,3,1,0,3,3,0,1,3,1,1,2,3,0,3,0,1,1,3,2,0,0,3,1,3,1,2,2,3,0,3,1,1,0,3,0,2,0,2,2,3,2,0,3,1,0,3,3,1,1,0,3,1,3,1,1,2,0,1,3,3,3,3,1,3,0,1,1,0,1,3,1,1,2,1,1,1,1,2,2,2,3,3,2,1,1,2,1,2,3,2,0,3,3,1,2,3,2,1,1,2,1,1,0,0,0,0,2,1,1,2,0,2,0,2,2,0,3,1,0,3,0,1,3,3,0,0,1,1,3,2,3,0,2,1,0,0,0,0,3,0,0,0,3,0,2,2,0,1,1,2,0,0,1,1,0,2,2,2,0,1,3,0,0,2,2,3,1,1,1,1,2,1,1,3,0,3,0,1,0,0,0,0,3,2,1,0,2,1,0,0,1,2,0,1,1,2,1,1,1,2,1,3,3,0,3,2,0,1,2,3,3,0,1,1,1,1,3,1,2,0,2,3,1,3,1,1,2,0,1,2,3,0,1,3,0,0,0,0,0,3,1,2,2,2,1,1,3,0,1,2,2,3,1,1,3,0,1,0,1,3,3,3,3,1,1,0,1,2,2,3,1,1,0,3,3,0,2,2,1,2,2,0,2,3,3,3,2,2,3,2,2,1,1,1,2,0,1,0,3,2,0,2,2,2,2,1,0,0,0,1,2,1,0,3,2,0,3,2,0,1,2,1,0,0,0,2,0,3,1,1,2,3,3,2,1,2,1,2,3,0,2,3,1,0,3,1,0,2,1,2,1,2,3,2,3,2,3,3,3,3,2,2,2,3,1,1,1,0,0,3,2,1,0,3,3,1,0,3,2,1,2,3,2,2,3,1,1,1,1,0,2,1,0,1,0,3,0,3,1,1,3,3,1,1,1,3,2,1,3,1,1,2,3,0,1,1,3,2,1,2,2,3,2,1,1,1,3,3,3,0,3,2,3,1,3,2,1,2,3,3,0,0,0,2,2,0,2,0,2,1,3,3,0,1,2,0,2,0,2,2,2,0,2,0,2,0,2,1,2,3,1,3,0,0,2,2,3,3,1,2,1,1,3,0,0,2,1,0,1,2,1,3,0,1,3,0,2,3,3,2,0,3,1,1,0,2,2,2,0,3,3,0,3,2,3,0,2,0,2,1,3,3,0,3,2,0,2,1,2,3,1,1,3,0,1,1,3,0,1,0,1,2,0,1,3,3,1,2,1,0,0,1,0,1,0,0,1,3,3,1,0,2,0,3,1,2,2,1,2,3,3,0,0,1,2,2,2,1,2,1,0,2,3,0,0,3,0,3,0,0,3,3,0,3,0,0,0,0,3,3,2,0,0,0,0,3,0,2,3,2,3,3,2,3,1,0,2,0,0,1,1,1,2,2,0,0,3,0,1,2,0,3,1,0,0,3,0,1,0,3,3,0,1,2,2,2,3,0,1,3,3,1,3,0,1,0,0,2,1,0,2,0,3,1,0,2,1,2,1,3,0,2,3,1,1,1,2,1,3,2,2,2,2,3,1,0,0,0,0,2,1,2,1,0,1,3,0,3,0,3,3,1,2,0,2,1,1,0,2,1,0,2,2,1,0,3,1,3,0,2,1,1,1,1,2,2,1,3,1,0,1,1,0,3,0,3,3,0,2,3,0,3],\"x0\":\" \",\"xaxis\":\"x\",\"y\":[2549,2631,2603,2769,1411,1067,3220,700,1099,513,3946,3826,1482,2680,373,568,3554,3752,1835,2337,2819,3283,1433,1037,2583,2782,3763,3286,2373,478,3532,508,2227,3845,1262,1326,2113,3429,3169,2150,2484,3339,1878,1629,504,1152,3587,2296,1270,3238,2059,2053,3112,1440,2908,2552,905,3963,2056,2910,1457,431,470,2148,2955,3366,3068,3834,1050,3993,3378,2192,392,3709,590,1814,907,1449,3448,1837,3464,2593,3484,2009,2048,837,854,3210,2746,2334,2822,1971,1410,349,1418,3616,880,1601,1412,1692,2600,1308,2413,1047,1204,1799,2676,2597,3029,2343,2016,2213,790,3182,3472,2871,3187,1945,488,1214,2598,3242,3534,3426,2488,3255,2863,1496,3801,666,3799,1366,2962,2399,2338,2700,2235,3825,284,1427,1324,398,3685,2390,278,3556,2196,3799,2268,2965,2341,3557,1354,2147,505,1394,374,506,3702,1078,2945,2981,490,536,2317,3704,2126,2050,2462,1260,3770,1886,3323,2060,3926,2177,728,2478,2842,1617,1472,764,2337,3965,3693,797,1687,2940,1545,3834,2505,2243,3600,3971,2844,2227,1665,3355,1866,1287,1046,1441,690,2504,2677,2243,2984,1362,3629,3559,2571,2107,1022,2844,711,3117,978,1869,1179,3844,593,588,3836,2669,2958,3031,3388,2377,2458,2766,3054,3791,625,2227,3256,707,1457,3755,1733,720,3560,2311,3846,1717,3704,3800,278,1767,1846,829,2986,2394,2169,1181,575,2977,532,1702,1074,3352,1027,2039,461,527,3271,606,2513,1675,2698,1129,468,1210,3086,1595,2332,2589,3760,1851,417,294,3576,3945,927,2044,2334,1477,3161,3660,1604,2211,3822,3922,1203,2822,447,1652,3608,1228,666,1499,3321,1206,952,3927,311,955,1109,2969,725,1655,3490,1774,3615,714,2768,3739,610,715,663,1725,834,3865,3059,651,796,785,3252,1322,2832,1615,2125,990,1595,1213,2500,2801,3451,1201,3139,1938,3185,2111,2369,3625,1051,1036,2938,2855,2727,2973,2581,2690,916,2563,3359,941,2280,827,473,3865,1274,364,3699,2927,1470,1050,2616,2915,2686,1243,3264,2261,2993,706,2542,2523,336,2457,418,3917,1246,2971,2324,3121,3801,3333,3475,2360,2895,3652,3097,2101,3918,3869,732,3684,3969,1414,1892,3131,2532,3215,3323,1529,2403,3419,3648,1974,2806,2239,582,3890,1141,2511,3838,2734,2330,2244,1851,808,1587,2492,2122,1122,3709,3021,624,3937,1797,1458,3348,1834,2775,1277,457,438,3210,985,3701,1052,1175,1070,3411,1175,301,489,1733,2756,2612,1724,2190,1900,3915,1043,3817,2362,1107,2982,2042,1343,2610,2335,1614,1138,604,3652,3955,258,1066,1731,3860,3630,1965,1459,2323,3291,3272,918,3488,3961,590,3701,463,3644,1713,429,2765,2084,1125,2048,1223,3672,3100,343,1970,2728,3635,2180,2488,3864,1155,3566,864,869,591,1333,2208,2610,2819,1955,3416,3803,574,2129,1948,2978,1619,3716,3454,3777,2712,1434,3968,3383,3278,3970,2674,2776,2336,2430,891,728,3886,1711,2856,2447,814,2951,3653,1891,701,3139,2811,1701,1853,2445,2287,2003,3595,1726,3952,850,1446,1300,719,988,2606,2912,2339,1028,3173,1667,1897,1214,3269,445,1073,665,3129,3501,3461,3206,3717,3917,861,2885,2777,1017,980,2775,3309,3607,1257,759,3720,475,1122,1336,1185,705,3169,3483,1183,3373,2801,565,3153,3421,316,448,2366,3881,462,1480,1087,2711,2144,1165,2998,2249,752,1409,3072,1305,3597,3132,3856,1524,3673,3293,3035,584,2675,2382,1391,2346,606,1324,1076,643,783,3809,2104,1762,3137,1756,3663,2437,1432,1620,1655,2832,961,2608,514,2304,933,1896,3655,1973,3278,2183,824,2598,1254,3622,1704,1624,3809,2574,950,273,446,1510,1122,707,751,3393,3771,1851,2735,2253,452,1419,969,3441,3786,2710,3533,1735,3587,2298,2027,2406,2419,995,2078,1145,626,1509,3371,297,3508,2385,1301,2167,3914,2312,2297,411,665,3226,740,3878,3406,2440,3959,3703,3714,337,3176,1205,2473,1229,2896,2039,520,1378,3254,1803,2501,3762,1796,990,2630,1380,3487,1201,3015,3204,433,1906,898,2799,2020,770,305,2953,1671,2574,3772,2870,2577,2246,2405,3377,3619,1184,2965,3713,3798,1026,1086,2236,1303,3048,616,3764,419,2858,504,392,820,3387,3447,1403,2295,1973,3755,2073,3872,302,1519,2549,404,595,1663,2764,2614,1094,2826,2496,2103,966,2172,905,3916,3902,2487,3914,363,3233,2532,3836,3076,1513,1724,542,3481,3991,1790,509,282,3006,1913,1333,3746,3941,3970,3925,424,1284,277,1713,485,3002,418,1652,2893,1406,629,3724,3835,1354,2376,3438,2655,3361,3535,2150,2587,2736,676,2941,3336,3796,3654,2934,2889,3315,1993,2509,3534,2246,3165,286,776,3213,716,424,3486,3237,1944,643,2317,1436,3190,2338,1334,3657,2080,1609,3078,590,2552,3355,1968,3358,1539,942,3669,3612,2351,604,1285,515,654,2540,3869,3412,509,2547,2735,1369,2942,2812,3497,619,3483,1475,1950,3592,3573,2020,1329,3568,1947,1998,725,3302,3884,1185,1656,2870,911,3892,3897,656,606,1653,860,2197,3458,2066,3676,1518,1018,1360,3449,2524,703,1251,582,1732,1252,2146,1927,3328,2462,1172,3598,2437,3271,1511,2981,3119,3647,3148,2829,2373,3998,316,999,1808,589,3317,670,584,2173,1561,2073,1401,3764,1275,1464,2885,3458,3019,1083,3538,2493,3726,1531,601,2991,3912,309,323,1489,1322,1846,417,3269,3731,667,1241,3941,1018,3142,1444,934,3863,3506,1944,348,550,971,3984,2973,2019,1587,1870,1352,570,546,3624,2944,1209,2752,3868,3087,947,1484,347,3227,3299,1028,714,2641,1229,2622,929,1211,1653,511,3034,1414,2438,3744,1377,3520,3796,1699,336,1095,325,1223,1649,1898,2609,2265,2775,1445,2614,356,523,3745,1229,1402,2085,587,2457,2030,816,1667,2958,3705,2800,3773,2050,1754,1904,2705,3537,1370,1222,3102,2268,2648,2173,3162,1368,2746,619,724,912,2784,793,560,312,545,1591,2746,893,2514,1032,819,3672,3833,1482,2043,1229,1816,2166,2469,2575,1375,1732,673,2301,2676,1781,2248,921,391,1719,3262,1947,2693,441,1886,1267,687,2890,1737,887,398,2389,3431,3601,2459,3230,3646,2200,3862,3077,621,2372,2574,2857,3143,3197,2727,1519,2438,2674,2107,2262,815,2829,3022,2573,2678,1282,568,2074,2227,1080,2867,1075,3063,2479,2394,2814,2094,2315,2519,735,1891,1386,3260,2022,1716,3317,1454,2290,3940,461,2219,470,2495,2944,2361,1783,2832,931,1344,3916,1882,2865,757,3469,2399,3300,2719,3012,2836,2385,594,2968,3762,892,467,345,3033,2110,3105,874,3681,3865,737,3153,2800,315,1412,2286,2392,1857,1419,3305,959,2635,1754,2563,1936,1869,3637,896,2349,774,3397,485,3964,1887,2977,2114,1542,3038,2481,841,3565,1958,2454,3392,262,530,3703,2562,574,2632,259,688,2554,3859,2977,571,402,878,2130,3260,454,2638,2819,1464,1824,876,2706,659,455,2378,2278,3436,3424,401,681,3212,3105,2036,3153,1642,509,3465,3900,1105,2064,3117,1142,1060,2381,3366,1339,2560,285,2476,1862,3488,3178,733,756,3622,1277,3703,1905,2636,2014,3056,465,3869,1108,1906,851,3142,1300,1430,362,2456,2360,3700,2620,437,3774,1218,696,3407,3902,2086,1356,1704,3571,2132,3209,2096,1273,3623,368,854,3646,3130,3784,3885,1494,2973,1471,2001,1486,1321,1877,3499,2124,1221,2316,1068,1930,1316,1742,3265,2700,2115,3915,3144,1571,2253,1433,2583,1817,2915,3340,2790,577,3220,3488,1277,3593,2736,2311,1464,1355,2382,1886,832,751,436,722,1075,2802,1780,1247,3066,403,2518,1069,2651,2974,657,3372,1464,1326,3393,323,1628,2610,3721,763,792,1568,1276,3472,2520,3423,258,1868,2171,780,712,1012,318,3948,629,1161,1403,3707,1305,2926,2674,471,1724,1220,2754,594,1005,2439,2302,1083,2219,1571,2107,593,857,3518,1284,545,3566,2821,3442,1309,1179,1713,1663,1812,1384,1348,3957,1212,3925,348,1382,980,838,378,909,3632,3396,1861,348,2528,2190,663,961,1280,2189,531,2331,794,2644,1666,2157,1196,2072,1590,2916,3707,726,3577,2627,685,1693,2137,3696,3771,1342,1379,1164,908,1019,3685,1470,2299,999,3011,3142,1543,3692,2753,2156,2637,331,1214,2248,3073,422,2293,3958,432,1152,1303,797,298,3847,2110,1921,2423,1658,2361,1380,3892,315,2289,2182,2184,2872,2367,1919,3296,462,1591,1593,2456,2933,3154,3615,3563,1440,1907,324,1404,2738,2722,2294,1424,1133,555,3785,3675,435,3183,3495,1853,2648,2647,702,1836,3894,2944,3424,2678,2424,2671,3078,2304,1146,2335,1422,2096,1303,1115,456,3396,2750,941,2278,2273,2355,2328,2638,558,1345,425,2192,3397,1208,267,3518,3122,1050,3358,2929,624,1598,2052,1249,412,595,263,2577,639,3206,1550,1646,1930,3695,3235,2334,1998,2258,1869,1825,3946,436,2678,3887,1813,817,3614,2013,543,3400,2623,2700,1400,3127,2803,2518,3564,2515,3654,3930,3476,3242,2666,1695,3510,3438,2033,1017,1686,862,957,3494,3083,1656,313,3282,3629,1687,1149,3899,1783,1629,2528,3256,2341,2785,3761,1513,2240,820,1875,920,3615,1412,361,1540,1077,3610,512,3024,1610,2201,3338,3473,2203,940,1155,3872,1882,1798,2598,1567,1491,2003,3905,291,1693,1788,3322,1751,1641,2854,3115,3259,1612,2319,1258,1543,3991,3555,3411,524,3541,1998,3437,1637,3064,2855,1393,1633,2392,3284,464,1234,292,2521,2658,587,2190,879,1743,1181,3330,3564,562,1659,1816,1338,2992,315,3249,3242,2725,586,2454,804,2460,1295,2625,1999,2698,3742,1193,3511,885,1044,2548,2940,3966,3484,1246,2757,2378,1794,3933,1637,783,3094,1774,256,1365,2339,2049,3241,867,2175,3497,609,3285,3684,3586,2322,354,3204,1400,2308,1082,3104,2847,2256,1113,3210,3990,984,3117,1622,2967,1037,2908,1167,2715,1734,2259,2921,1244,3132,2488,1052,2927,2090,2131,3362,1053,1799,3124,1672,1552,1938,3202,1302,2296,575,2359,3314,440,2002,3167,3480,595,2466,1337,1462,503,2066,708,2029,308,552,2082,3314,3996,1795,594,2473,690,3845,2004,2083,2661,1903,2466,3779,3904,265,1417,1769,2948,2572,3267,1459,1633,2052,1086,2402,3376,1507,641,3451,1607,3521,1241,881,2563,3033,769,3454,819,435,586,650,3038,3736,2948,739,686,841,1183,3943,1037,2633,3911,1958,3297,3141,3351,2355,1308,991,3248,1519,493,1747,2517,1389,2522,1885,704,953,3206,928,2177,2610,489,3839,1861,299,340,3606,799,2367,445,3927,3756,770,1641,2343,2787,2495,3208,1234,1069,3568,3585,1974,2419,340,2282,298,968,2391,1534,696,2782,755,3746,2651,1341,2651,1824,1905,1456,3155,773,1829,3883,1675,1601,1958,2376,1647,3548,2694,2195,2506,2073,3767,1150,841,1675,1301,1817,2321,1974,3433,1205,872,2052,3654,1503,3104,343,3430,2470,1396,2668,1457,2452,1871,1112,967,2498,387,635,2711,2023,2215,824,3851,2156,2885,495,2358,1744,1832,2016,1300,2313,3248,2216,3142,1850,1424,1620,2592,296,3579,1180,3962,3978,668,2032,3057,869,3919],\"y0\":\" \",\"yaxis\":\"y\",\"type\":\"box\"}],                        {\"template\":{\"data\":{\"histogram2dcontour\":[{\"type\":\"histogram2dcontour\",\"colorbar\":{\"outlinewidth\":0,\"ticks\":\"\"},\"colorscale\":[[0.0,\"#0d0887\"],[0.1111111111111111,\"#46039f\"],[0.2222222222222222,\"#7201a8\"],[0.3333333333333333,\"#9c179e\"],[0.4444444444444444,\"#bd3786\"],[0.5555555555555556,\"#d8576b\"],[0.6666666666666666,\"#ed7953\"],[0.7777777777777778,\"#fb9f3a\"],[0.8888888888888888,\"#fdca26\"],[1.0,\"#f0f921\"]]}],\"choropleth\":[{\"type\":\"choropleth\",\"colorbar\":{\"outlinewidth\":0,\"ticks\":\"\"}}],\"histogram2d\":[{\"type\":\"histogram2d\",\"colorbar\":{\"outlinewidth\":0,\"ticks\":\"\"},\"colorscale\":[[0.0,\"#0d0887\"],[0.1111111111111111,\"#46039f\"],[0.2222222222222222,\"#7201a8\"],[0.3333333333333333,\"#9c179e\"],[0.4444444444444444,\"#bd3786\"],[0.5555555555555556,\"#d8576b\"],[0.6666666666666666,\"#ed7953\"],[0.7777777777777778,\"#fb9f3a\"],[0.8888888888888888,\"#fdca26\"],[1.0,\"#f0f921\"]]}],\"heatmap\":[{\"type\":\"heatmap\",\"colorbar\":{\"outlinewidth\":0,\"ticks\":\"\"},\"colorscale\":[[0.0,\"#0d0887\"],[0.1111111111111111,\"#46039f\"],[0.2222222222222222,\"#7201a8\"],[0.3333333333333333,\"#9c179e\"],[0.4444444444444444,\"#bd3786\"],[0.5555555555555556,\"#d8576b\"],[0.6666666666666666,\"#ed7953\"],[0.7777777777777778,\"#fb9f3a\"],[0.8888888888888888,\"#fdca26\"],[1.0,\"#f0f921\"]]}],\"heatmapgl\":[{\"type\":\"heatmapgl\",\"colorbar\":{\"outlinewidth\":0,\"ticks\":\"\"},\"colorscale\":[[0.0,\"#0d0887\"],[0.1111111111111111,\"#46039f\"],[0.2222222222222222,\"#7201a8\"],[0.3333333333333333,\"#9c179e\"],[0.4444444444444444,\"#bd3786\"],[0.5555555555555556,\"#d8576b\"],[0.6666666666666666,\"#ed7953\"],[0.7777777777777778,\"#fb9f3a\"],[0.8888888888888888,\"#fdca26\"],[1.0,\"#f0f921\"]]}],\"contourcarpet\":[{\"type\":\"contourcarpet\",\"colorbar\":{\"outlinewidth\":0,\"ticks\":\"\"}}],\"contour\":[{\"type\":\"contour\",\"colorbar\":{\"outlinewidth\":0,\"ticks\":\"\"},\"colorscale\":[[0.0,\"#0d0887\"],[0.1111111111111111,\"#46039f\"],[0.2222222222222222,\"#7201a8\"],[0.3333333333333333,\"#9c179e\"],[0.4444444444444444,\"#bd3786\"],[0.5555555555555556,\"#d8576b\"],[0.6666666666666666,\"#ed7953\"],[0.7777777777777778,\"#fb9f3a\"],[0.8888888888888888,\"#fdca26\"],[1.0,\"#f0f921\"]]}],\"surface\":[{\"type\":\"surface\",\"colorbar\":{\"outlinewidth\":0,\"ticks\":\"\"},\"colorscale\":[[0.0,\"#0d0887\"],[0.1111111111111111,\"#46039f\"],[0.2222222222222222,\"#7201a8\"],[0.3333333333333333,\"#9c179e\"],[0.4444444444444444,\"#bd3786\"],[0.5555555555555556,\"#d8576b\"],[0.6666666666666666,\"#ed7953\"],[0.7777777777777778,\"#fb9f3a\"],[0.8888888888888888,\"#fdca26\"],[1.0,\"#f0f921\"]]}],\"mesh3d\":[{\"type\":\"mesh3d\",\"colorbar\":{\"outlinewidth\":0,\"ticks\":\"\"}}],\"scatter\":[{\"fillpattern\":{\"fillmode\":\"overlay\",\"size\":10,\"solidity\":0.2},\"type\":\"scatter\"}],\"parcoords\":[{\"type\":\"parcoords\",\"line\":{\"colorbar\":{\"outlinewidth\":0,\"ticks\":\"\"}}}],\"scatterpolargl\":[{\"type\":\"scatterpolargl\",\"marker\":{\"colorbar\":{\"outlinewidth\":0,\"ticks\":\"\"}}}],\"bar\":[{\"error_x\":{\"color\":\"#2a3f5f\"},\"error_y\":{\"color\":\"#2a3f5f\"},\"marker\":{\"line\":{\"color\":\"#E5ECF6\",\"width\":0.5},\"pattern\":{\"fillmode\":\"overlay\",\"size\":10,\"solidity\":0.2}},\"type\":\"bar\"}],\"scattergeo\":[{\"type\":\"scattergeo\",\"marker\":{\"colorbar\":{\"outlinewidth\":0,\"ticks\":\"\"}}}],\"scatterpolar\":[{\"type\":\"scatterpolar\",\"marker\":{\"colorbar\":{\"outlinewidth\":0,\"ticks\":\"\"}}}],\"histogram\":[{\"marker\":{\"pattern\":{\"fillmode\":\"overlay\",\"size\":10,\"solidity\":0.2}},\"type\":\"histogram\"}],\"scattergl\":[{\"type\":\"scattergl\",\"marker\":{\"colorbar\":{\"outlinewidth\":0,\"ticks\":\"\"}}}],\"scatter3d\":[{\"type\":\"scatter3d\",\"line\":{\"colorbar\":{\"outlinewidth\":0,\"ticks\":\"\"}},\"marker\":{\"colorbar\":{\"outlinewidth\":0,\"ticks\":\"\"}}}],\"scattermapbox\":[{\"type\":\"scattermapbox\",\"marker\":{\"colorbar\":{\"outlinewidth\":0,\"ticks\":\"\"}}}],\"scatterternary\":[{\"type\":\"scatterternary\",\"marker\":{\"colorbar\":{\"outlinewidth\":0,\"ticks\":\"\"}}}],\"scattercarpet\":[{\"type\":\"scattercarpet\",\"marker\":{\"colorbar\":{\"outlinewidth\":0,\"ticks\":\"\"}}}],\"carpet\":[{\"aaxis\":{\"endlinecolor\":\"#2a3f5f\",\"gridcolor\":\"white\",\"linecolor\":\"white\",\"minorgridcolor\":\"white\",\"startlinecolor\":\"#2a3f5f\"},\"baxis\":{\"endlinecolor\":\"#2a3f5f\",\"gridcolor\":\"white\",\"linecolor\":\"white\",\"minorgridcolor\":\"white\",\"startlinecolor\":\"#2a3f5f\"},\"type\":\"carpet\"}],\"table\":[{\"cells\":{\"fill\":{\"color\":\"#EBF0F8\"},\"line\":{\"color\":\"white\"}},\"header\":{\"fill\":{\"color\":\"#C8D4E3\"},\"line\":{\"color\":\"white\"}},\"type\":\"table\"}],\"barpolar\":[{\"marker\":{\"line\":{\"color\":\"#E5ECF6\",\"width\":0.5},\"pattern\":{\"fillmode\":\"overlay\",\"size\":10,\"solidity\":0.2}},\"type\":\"barpolar\"}],\"pie\":[{\"automargin\":true,\"type\":\"pie\"}]},\"layout\":{\"autotypenumbers\":\"strict\",\"colorway\":[\"#636efa\",\"#EF553B\",\"#00cc96\",\"#ab63fa\",\"#FFA15A\",\"#19d3f3\",\"#FF6692\",\"#B6E880\",\"#FF97FF\",\"#FECB52\"],\"font\":{\"color\":\"#2a3f5f\"},\"hovermode\":\"closest\",\"hoverlabel\":{\"align\":\"left\"},\"paper_bgcolor\":\"white\",\"plot_bgcolor\":\"#E5ECF6\",\"polar\":{\"bgcolor\":\"#E5ECF6\",\"angularaxis\":{\"gridcolor\":\"white\",\"linecolor\":\"white\",\"ticks\":\"\"},\"radialaxis\":{\"gridcolor\":\"white\",\"linecolor\":\"white\",\"ticks\":\"\"}},\"ternary\":{\"bgcolor\":\"#E5ECF6\",\"aaxis\":{\"gridcolor\":\"white\",\"linecolor\":\"white\",\"ticks\":\"\"},\"baxis\":{\"gridcolor\":\"white\",\"linecolor\":\"white\",\"ticks\":\"\"},\"caxis\":{\"gridcolor\":\"white\",\"linecolor\":\"white\",\"ticks\":\"\"}},\"coloraxis\":{\"colorbar\":{\"outlinewidth\":0,\"ticks\":\"\"}},\"colorscale\":{\"sequential\":[[0.0,\"#0d0887\"],[0.1111111111111111,\"#46039f\"],[0.2222222222222222,\"#7201a8\"],[0.3333333333333333,\"#9c179e\"],[0.4444444444444444,\"#bd3786\"],[0.5555555555555556,\"#d8576b\"],[0.6666666666666666,\"#ed7953\"],[0.7777777777777778,\"#fb9f3a\"],[0.8888888888888888,\"#fdca26\"],[1.0,\"#f0f921\"]],\"sequentialminus\":[[0.0,\"#0d0887\"],[0.1111111111111111,\"#46039f\"],[0.2222222222222222,\"#7201a8\"],[0.3333333333333333,\"#9c179e\"],[0.4444444444444444,\"#bd3786\"],[0.5555555555555556,\"#d8576b\"],[0.6666666666666666,\"#ed7953\"],[0.7777777777777778,\"#fb9f3a\"],[0.8888888888888888,\"#fdca26\"],[1.0,\"#f0f921\"]],\"diverging\":[[0,\"#8e0152\"],[0.1,\"#c51b7d\"],[0.2,\"#de77ae\"],[0.3,\"#f1b6da\"],[0.4,\"#fde0ef\"],[0.5,\"#f7f7f7\"],[0.6,\"#e6f5d0\"],[0.7,\"#b8e186\"],[0.8,\"#7fbc41\"],[0.9,\"#4d9221\"],[1,\"#276419\"]]},\"xaxis\":{\"gridcolor\":\"white\",\"linecolor\":\"white\",\"ticks\":\"\",\"title\":{\"standoff\":15},\"zerolinecolor\":\"white\",\"automargin\":true,\"zerolinewidth\":2},\"yaxis\":{\"gridcolor\":\"white\",\"linecolor\":\"white\",\"ticks\":\"\",\"title\":{\"standoff\":15},\"zerolinecolor\":\"white\",\"automargin\":true,\"zerolinewidth\":2},\"scene\":{\"xaxis\":{\"backgroundcolor\":\"#E5ECF6\",\"gridcolor\":\"white\",\"linecolor\":\"white\",\"showbackground\":true,\"ticks\":\"\",\"zerolinecolor\":\"white\",\"gridwidth\":2},\"yaxis\":{\"backgroundcolor\":\"#E5ECF6\",\"gridcolor\":\"white\",\"linecolor\":\"white\",\"showbackground\":true,\"ticks\":\"\",\"zerolinecolor\":\"white\",\"gridwidth\":2},\"zaxis\":{\"backgroundcolor\":\"#E5ECF6\",\"gridcolor\":\"white\",\"linecolor\":\"white\",\"showbackground\":true,\"ticks\":\"\",\"zerolinecolor\":\"white\",\"gridwidth\":2}},\"shapedefaults\":{\"line\":{\"color\":\"#2a3f5f\"}},\"annotationdefaults\":{\"arrowcolor\":\"#2a3f5f\",\"arrowhead\":0,\"arrowwidth\":1},\"geo\":{\"bgcolor\":\"white\",\"landcolor\":\"#E5ECF6\",\"subunitcolor\":\"white\",\"showland\":true,\"showlakes\":true,\"lakecolor\":\"white\"},\"title\":{\"x\":0.05},\"mapbox\":{\"style\":\"light\"}}},\"xaxis\":{\"anchor\":\"y\",\"domain\":[0.0,1.0],\"title\":{\"text\":\"Price Range\"}},\"yaxis\":{\"anchor\":\"x\",\"domain\":[0.0,1.0],\"title\":{\"text\":\"ram\"}},\"legend\":{\"tracegroupgap\":0},\"title\":{\"text\":\"<b>Effect of ram on price\"},\"boxmode\":\"group\"},                        {\"responsive\": true}                    ).then(function(){\n",
       "                            \n",
       "var gd = document.getElementById('47681a14-0e63-4954-971e-28f69bde2808');\n",
       "var x = new MutationObserver(function (mutations, observer) {{\n",
       "        var display = window.getComputedStyle(gd).display;\n",
       "        if (!display || display === 'none') {{\n",
       "            console.log([gd, 'removed!']);\n",
       "            Plotly.purge(gd);\n",
       "            observer.disconnect();\n",
       "        }}\n",
       "}});\n",
       "\n",
       "// Listen for the removal of the full notebook cells\n",
       "var notebookContainer = gd.closest('#notebook-container');\n",
       "if (notebookContainer) {{\n",
       "    x.observe(notebookContainer, {childList: true});\n",
       "}}\n",
       "\n",
       "// Listen for the clearing of the current output cell\n",
       "var outputEl = gd.closest('.output');\n",
       "if (outputEl) {{\n",
       "    x.observe(outputEl, {childList: true});\n",
       "}}\n",
       "\n",
       "                        })                };                });            </script>        </div>"
      ]
     },
     "metadata": {},
     "output_type": "display_data"
    }
   ],
   "source": [
    "import plotly.express as px\n",
    "px.box(df_train, x='price_range', y='ram', labels={'price_range': 'Price Range'},\n",
    "      title=\"<b>Effect of ram on price\")"
   ]
  },
  {
   "cell_type": "code",
   "execution_count": 19,
   "id": "ca5fbfd7",
   "metadata": {
    "execution": {
     "iopub.execute_input": "2023-01-14T13:20:34.133549Z",
     "iopub.status.busy": "2023-01-14T13:20:34.133124Z",
     "iopub.status.idle": "2023-01-14T13:20:34.192207Z",
     "shell.execute_reply": "2023-01-14T13:20:34.191215Z"
    },
    "papermill": {
     "duration": 0.081695,
     "end_time": "2023-01-14T13:20:34.194471",
     "exception": false,
     "start_time": "2023-01-14T13:20:34.112776",
     "status": "completed"
    },
    "tags": []
   },
   "outputs": [
    {
     "data": {
      "text/html": [
       "<div>                            <div id=\"85689f94-e8e0-4713-be52-5b5dda5f480d\" class=\"plotly-graph-div\" style=\"height:525px; width:100%;\"></div>            <script type=\"text/javascript\">                require([\"plotly\"], function(Plotly) {                    window.PLOTLYENV=window.PLOTLYENV || {};                                    if (document.getElementById(\"85689f94-e8e0-4713-be52-5b5dda5f480d\")) {                    Plotly.newPlot(                        \"85689f94-e8e0-4713-be52-5b5dda5f480d\",                        [{\"alignmentgroup\":\"True\",\"hovertemplate\":\"price_range=%{x}<br>battery_power=%{y}<extra></extra>\",\"legendgroup\":\"\",\"marker\":{\"color\":\"#636efa\"},\"name\":\"\",\"notched\":false,\"offsetgroup\":\"\",\"orientation\":\"v\",\"showlegend\":false,\"x\":[1,2,2,2,1,1,3,0,0,0,3,3,1,2,0,0,3,3,1,1,3,3,1,0,1,2,3,3,2,0,3,0,1,3,0,1,1,3,2,2,2,3,1,1,0,1,3,1,0,3,2,2,3,1,2,2,0,3,1,2,1,0,0,2,2,3,3,3,0,3,3,2,0,3,0,1,0,0,3,1,3,2,3,1,1,1,0,3,2,2,3,2,0,0,1,3,0,2,0,1,3,1,1,0,0,1,3,3,3,3,1,1,0,2,3,3,2,1,0,1,2,3,3,3,2,3,2,1,3,0,3,1,2,1,2,2,1,3,0,0,2,0,3,2,0,3,1,3,2,2,1,3,1,2,0,1,0,0,3,1,2,2,0,0,2,3,1,2,3,1,3,1,2,2,3,2,0,3,2,1,0,0,2,3,3,0,2,3,1,3,1,2,3,3,2,2,2,3,1,1,0,1,0,2,2,2,2,1,3,3,2,2,0,2,0,3,0,1,1,3,0,0,3,2,3,3,3,2,2,3,3,3,0,1,2,0,1,3,1,0,2,2,3,2,3,3,0,1,1,0,2,2,1,0,0,2,0,1,0,3,1,1,0,0,3,1,3,1,2,1,0,0,3,1,2,2,3,1,0,0,3,3,1,1,2,1,3,3,1,1,3,3,2,3,0,1,3,1,0,1,3,0,0,3,0,1,1,2,0,2,3,2,3,0,2,3,1,0,0,1,0,3,3,0,0,0,2,1,2,1,1,1,1,1,2,2,3,0,2,2,2,1,2,3,0,1,2,2,2,2,1,3,0,2,2,1,2,0,0,3,1,0,3,2,0,0,2,3,2,1,3,1,3,0,3,2,0,1,0,3,1,2,2,2,2,3,3,1,2,3,3,1,3,3,1,3,3,0,1,3,2,3,3,2,2,3,3,0,2,2,0,3,1,2,3,2,1,1,1,0,1,2,2,0,2,2,0,3,1,1,3,1,3,1,0,0,3,1,3,0,0,1,3,1,0,0,2,2,2,1,1,1,3,0,3,2,1,3,1,0,2,2,1,0,0,3,3,0,0,1,3,3,1,0,2,2,3,0,3,3,0,3,0,3,1,0,2,2,1,2,0,3,2,0,1,2,3,1,2,3,0,3,1,0,0,1,2,2,2,2,3,3,0,1,1,2,1,3,3,3,3,1,3,3,3,3,2,3,2,2,0,0,3,1,2,2,0,2,2,1,0,3,1,1,1,1,1,2,2,1,3,1,0,1,0,0,2,2,2,0,3,1,2,1,2,0,0,1,3,3,3,3,3,3,0,2,2,0,0,3,3,3,0,0,3,0,0,1,2,0,2,3,1,3,2,0,2,2,0,0,1,3,0,1,1,2,2,0,2,2,0,1,3,0,2,2,3,1,3,2,2,1,2,2,1,1,0,1,0,1,0,3,1,1,3,1,3,2,1,1,0,2,0,2,0,2,0,1,3,1,2,2,0,1,0,3,2,1,3,2,0,0,1,2,0,0,0,2,3,1,2,1,0,0,0,2,3,2,3,0,3,2,1,2,1,0,2,0,0,1,3,0,3,1,1,1,3,2,2,0,0,3,0,3,3,2,3,3,3,0,2,1,2,0,3,1,0,1,3,1,3,3,1,0,1,1,2,1,3,3,0,2,0,3,2,0,0,2,1,2,3,3,2,1,2,2,3,1,2,3,3,1,1,2,1,2,0,2,0,3,0,0,0,3,3,0,2,2,3,1,3,0,1,2,0,0,0,3,2,0,2,2,1,0,2,0,3,3,2,3,0,3,2,3,2,2,1,0,3,3,1,0,0,2,1,2,3,3,3,3,0,0,0,1,0,2,0,1,2,0,0,3,3,1,3,3,2,3,3,1,1,3,0,3,3,3,3,2,2,3,2,1,3,2,3,0,0,3,0,0,3,2,1,0,2,1,2,2,1,2,2,0,2,0,2,2,2,3,0,0,3,3,1,0,1,0,0,3,3,3,0,2,2,1,2,2,2,0,3,1,1,3,3,1,2,3,2,2,0,3,3,0,2,2,0,3,3,0,1,1,0,1,2,1,3,1,0,0,3,2,0,1,0,1,2,1,1,2,2,0,3,2,3,1,2,3,3,2,2,2,3,0,0,1,0,3,0,0,2,1,1,1,3,0,1,3,3,3,1,3,2,3,1,1,2,3,0,0,1,1,1,0,3,2,0,1,3,0,3,1,0,3,3,1,0,0,0,3,3,1,1,1,1,0,0,3,2,0,3,3,2,0,0,0,2,3,0,1,3,1,2,0,0,2,0,2,0,3,3,1,3,3,1,0,0,0,0,1,1,2,2,2,1,2,0,0,3,0,1,1,0,3,2,0,1,2,3,2,3,1,1,1,1,3,1,1,2,2,1,2,3,1,2,0,1,0,3,0,0,0,0,1,3,0,1,1,0,3,3,2,1,0,1,2,2,2,1,1,0,1,2,2,2,0,0,1,3,1,3,0,0,1,0,3,1,0,0,2,3,3,1,3,3,1,3,2,0,2,2,3,3,3,3,1,2,2,1,2,0,2,3,2,2,1,0,1,1,0,2,0,2,2,2,2,1,2,2,0,1,1,2,1,1,3,0,1,3,0,2,0,2,2,2,2,2,0,0,2,1,2,0,3,1,3,2,2,3,2,0,3,3,1,0,0,3,2,2,0,3,2,0,3,2,0,1,2,2,1,0,2,0,2,1,2,1,1,3,0,1,1,2,0,3,1,2,2,1,3,2,0,2,2,2,3,0,0,3,2,1,2,0,0,2,3,2,0,0,0,2,3,0,2,2,1,1,1,2,1,0,2,1,3,3,0,0,2,3,1,3,1,0,3,3,0,1,3,1,1,2,3,0,3,0,1,1,3,2,0,0,3,1,3,1,2,2,3,0,3,1,1,0,3,0,2,0,2,2,3,2,0,3,1,0,3,3,1,1,0,3,1,3,1,1,2,0,1,3,3,3,3,1,3,0,1,1,0,1,3,1,1,2,1,1,1,1,2,2,2,3,3,2,1,1,2,1,2,3,2,0,3,3,1,2,3,2,1,1,2,1,1,0,0,0,0,2,1,1,2,0,2,0,2,2,0,3,1,0,3,0,1,3,3,0,0,1,1,3,2,3,0,2,1,0,0,0,0,3,0,0,0,3,0,2,2,0,1,1,2,0,0,1,1,0,2,2,2,0,1,3,0,0,2,2,3,1,1,1,1,2,1,1,3,0,3,0,1,0,0,0,0,3,2,1,0,2,1,0,0,1,2,0,1,1,2,1,1,1,2,1,3,3,0,3,2,0,1,2,3,3,0,1,1,1,1,3,1,2,0,2,3,1,3,1,1,2,0,1,2,3,0,1,3,0,0,0,0,0,3,1,2,2,2,1,1,3,0,1,2,2,3,1,1,3,0,1,0,1,3,3,3,3,1,1,0,1,2,2,3,1,1,0,3,3,0,2,2,1,2,2,0,2,3,3,3,2,2,3,2,2,1,1,1,2,0,1,0,3,2,0,2,2,2,2,1,0,0,0,1,2,1,0,3,2,0,3,2,0,1,2,1,0,0,0,2,0,3,1,1,2,3,3,2,1,2,1,2,3,0,2,3,1,0,3,1,0,2,1,2,1,2,3,2,3,2,3,3,3,3,2,2,2,3,1,1,1,0,0,3,2,1,0,3,3,1,0,3,2,1,2,3,2,2,3,1,1,1,1,0,2,1,0,1,0,3,0,3,1,1,3,3,1,1,1,3,2,1,3,1,1,2,3,0,1,1,3,2,1,2,2,3,2,1,1,1,3,3,3,0,3,2,3,1,3,2,1,2,3,3,0,0,0,2,2,0,2,0,2,1,3,3,0,1,2,0,2,0,2,2,2,0,2,0,2,0,2,1,2,3,1,3,0,0,2,2,3,3,1,2,1,1,3,0,0,2,1,0,1,2,1,3,0,1,3,0,2,3,3,2,0,3,1,1,0,2,2,2,0,3,3,0,3,2,3,0,2,0,2,1,3,3,0,3,2,0,2,1,2,3,1,1,3,0,1,1,3,0,1,0,1,2,0,1,3,3,1,2,1,0,0,1,0,1,0,0,1,3,3,1,0,2,0,3,1,2,2,1,2,3,3,0,0,1,2,2,2,1,2,1,0,2,3,0,0,3,0,3,0,0,3,3,0,3,0,0,0,0,3,3,2,0,0,0,0,3,0,2,3,2,3,3,2,3,1,0,2,0,0,1,1,1,2,2,0,0,3,0,1,2,0,3,1,0,0,3,0,1,0,3,3,0,1,2,2,2,3,0,1,3,3,1,3,0,1,0,0,2,1,0,2,0,3,1,0,2,1,2,1,3,0,2,3,1,1,1,2,1,3,2,2,2,2,3,1,0,0,0,0,2,1,2,1,0,1,3,0,3,0,3,3,1,2,0,2,1,1,0,2,1,0,2,2,1,0,3,1,3,0,2,1,1,1,1,2,2,1,3,1,0,1,1,0,3,0,3,3,0,2,3,0,3],\"x0\":\" \",\"xaxis\":\"x\",\"y\":[842,1021,563,615,1821,1859,1821,1954,1445,509,769,1520,1815,803,1866,775,838,595,1131,682,772,1709,1949,1602,503,961,519,956,1453,851,1579,1568,1319,1310,644,725,589,1725,790,560,1347,1646,1253,1656,1195,1514,1723,1054,578,596,1547,1760,1654,1457,1073,1936,823,987,1757,1063,1484,799,1156,1720,702,616,1358,1866,1242,1166,1448,1407,605,1038,797,819,1114,1234,1199,1103,1589,999,1510,1008,1127,1412,1496,1083,668,1309,1724,1977,885,879,1322,1137,1355,1665,657,593,1883,1732,543,1939,553,832,1661,1657,1135,1775,783,617,867,1310,1804,1900,909,1084,1308,1778,1701,772,825,1379,1166,1659,826,1564,1957,1571,1414,1790,645,668,1652,1213,1272,866,536,523,1753,1218,1537,786,1678,1814,1101,1461,1216,506,843,742,1692,1485,1547,1692,637,1224,1356,1840,1481,961,1296,1193,1441,517,748,1126,1572,1569,1270,1854,625,1577,534,946,685,1949,947,801,703,1165,1082,959,1502,1380,1266,1934,1905,1831,596,1562,1490,1523,640,1526,1989,1308,609,1905,1703,1445,1087,671,1472,765,1642,1265,664,1277,1395,1539,1049,1827,903,1987,1154,1336,1886,1551,850,660,1225,1452,1686,1634,1708,1151,1578,1689,1488,1313,1715,1442,528,1523,1133,1718,1330,1799,633,724,822,1918,1891,1373,862,1273,957,1617,893,1210,708,835,1450,973,601,507,564,1559,754,728,1431,767,1722,1992,1876,1054,1283,1281,1066,730,1053,1611,793,1220,1662,1281,538,823,1733,1429,1839,659,1953,1172,612,1563,1191,615,1893,1563,1995,1517,832,1162,1595,1329,928,1656,1937,977,768,1464,1177,1348,1956,1751,1530,1997,1414,1707,894,645,1163,1126,1648,1170,508,1097,728,1980,1504,1379,1698,920,1144,1995,1430,972,662,1867,1730,1723,1882,803,580,668,1391,1560,821,811,1989,1034,618,654,576,667,869,635,609,1557,1604,1182,848,1610,1828,880,1394,1960,809,899,1976,879,916,763,508,825,1864,1725,1108,1011,1703,1067,1334,775,1899,930,1058,1187,1874,1482,1809,864,625,1880,1138,560,1117,1712,1836,1036,1860,1375,1945,1896,788,880,1323,1868,1266,1042,1479,1476,1552,1454,1007,652,1504,1726,1029,1582,1478,1178,707,755,912,651,1483,914,1456,1178,1503,1681,715,1876,1190,1755,1197,1048,1887,1772,1421,1464,728,954,685,1472,853,1469,1310,1654,902,1448,1631,1608,1991,1349,1589,1844,712,972,1406,1289,932,1747,1172,1128,664,513,1742,1512,1986,965,1067,1583,1653,1433,765,1845,752,1948,1077,932,1968,1122,1588,601,1615,1589,1417,1697,1330,1476,1579,1277,1089,1663,1949,1138,685,1889,857,1902,1225,1066,1554,1337,1926,869,1278,1773,1661,1438,1661,1846,1260,512,581,1872,687,1062,1678,1417,1074,1832,1039,1059,1606,1928,1875,1128,1748,1413,825,1589,535,1780,1671,1821,1076,532,777,1217,1656,1185,577,737,704,525,504,793,569,1590,707,767,1350,1117,641,1002,1408,1900,726,1544,1454,1230,1552,1519,723,1191,1168,1229,1758,1290,574,1271,1170,1269,1288,1366,1572,1627,1701,1900,1974,1197,587,934,1195,1853,1164,1512,1232,1813,946,739,704,1663,1966,1219,612,1658,1263,1395,621,652,1175,561,1137,1835,1170,1595,1719,1770,1312,1878,1871,922,1975,1212,1430,1958,1836,557,539,880,1369,1109,843,598,972,1944,1225,644,1919,501,1620,1227,1359,1914,1645,1063,946,1231,1397,701,570,1993,955,924,600,518,1063,920,1715,1841,543,1762,1112,709,1315,1762,1462,571,666,1994,1583,1778,1926,966,568,1897,1695,1623,914,1721,890,600,1677,723,638,852,1979,710,1034,600,1027,1260,1793,675,658,1694,804,1713,706,1362,1527,768,1314,705,1403,1486,781,986,1310,560,1348,1567,1940,1979,561,1717,535,1413,1358,1519,1254,1591,977,1640,663,1744,1624,1108,1188,817,863,1397,1108,1068,1702,808,1156,1271,696,1981,614,1590,1945,1135,1049,1807,984,720,1536,771,503,675,1936,1303,1004,1972,1822,1159,1782,894,1884,1648,798,802,1276,1331,1620,1996,1092,1018,545,554,1264,1030,1432,558,829,1741,1849,733,1872,1853,1149,891,1911,550,576,1760,969,1160,827,1786,774,819,1042,1368,1592,1067,1892,915,774,1848,1501,1614,911,1520,1647,1347,967,1442,1204,1320,1800,1567,1439,1422,1591,880,1929,1642,1511,1312,1852,972,691,807,1113,721,1188,1512,805,918,1320,1236,1387,1883,839,1593,1722,1954,1788,1628,1965,833,571,1808,1860,1368,1161,1224,902,787,854,1184,1973,510,966,1438,1986,1907,1489,1843,825,1286,840,757,814,1195,767,1068,994,1550,1878,623,1829,525,1065,1425,1296,642,1664,1498,981,1236,1673,712,569,603,1332,1413,1064,1444,1366,906,1554,1187,1156,1918,841,730,878,1059,1578,1829,1132,1652,912,1181,1497,1790,1742,1549,1372,1112,1005,783,1698,899,1062,989,1983,1800,1254,868,1205,1284,626,1763,694,1265,816,904,979,1531,934,1624,874,1027,1966,1048,1496,959,1349,1689,1558,582,1485,1991,553,1231,805,764,894,1589,1456,743,1061,1428,674,832,1625,907,1631,1584,1382,633,1444,852,922,1745,862,1754,1008,1569,1596,1807,1660,1861,648,1379,1910,1807,1923,1345,904,1239,1330,516,672,892,1778,1130,1359,1866,1597,1046,1035,1175,1261,1068,1713,1688,1413,559,1483,860,1090,686,818,1456,774,1068,1373,1777,594,1524,511,1402,965,1270,919,1963,1977,1881,683,772,536,1694,1633,1371,551,1221,1000,1986,1119,1699,1099,1576,950,1081,606,502,957,1658,1681,1983,1753,1632,1949,1696,688,1104,1122,504,1154,1727,1674,1948,1218,531,1057,576,1960,673,718,864,547,623,1793,1720,812,980,643,1925,1408,1522,587,1959,1872,1043,1809,1703,1095,1414,1659,1540,1342,1189,518,1449,516,1569,1312,1893,1076,530,1044,1330,1836,1741,1869,1331,1655,605,1245,1709,846,1403,688,775,1154,1375,1827,1697,741,1672,514,1375,989,1510,1266,1396,808,1542,745,1735,586,1341,781,501,1224,1970,618,1537,1018,1545,1871,1729,680,1106,635,618,1671,1562,1975,831,1524,1528,1447,1344,564,921,1413,831,802,1923,1193,904,1285,1635,1923,1851,727,1396,877,696,1009,1526,987,1414,1732,1587,1097,504,1159,1910,865,1930,860,1268,999,622,1250,763,1100,815,618,553,673,563,1590,1031,909,1880,1479,1271,709,1744,1314,1136,1039,1300,732,511,1092,921,1030,1130,1299,1009,1735,1129,708,894,530,1481,1068,1487,1524,1093,1816,627,989,1895,805,713,864,1177,582,1898,1158,1451,1820,984,580,1263,1237,514,1515,721,603,1426,1820,1215,697,717,1348,1164,578,1971,1794,1558,1597,1240,1994,1221,989,1180,718,1670,534,1566,1935,504,913,1317,917,712,1083,1039,1747,1449,1872,1796,1097,1562,1433,740,676,503,1020,896,1824,1512,1053,1944,1174,627,1602,1733,586,1528,875,1602,1426,1370,609,840,991,1724,584,860,1541,615,912,1278,1365,1702,589,1347,1644,956,1089,871,664,1874,1928,888,1077,1023,1426,831,1496,1433,1095,643,1142,730,1901,1510,1924,1825,1275,987,1538,1965,808,712,1507,912,769,948,507,1384,1766,1407,614,1972,1039,511,1811,1159,1848,1988,1469,1423,1974,835,1429,947,1446,1332,1498,1576,1398,1885,798,1436,1998,1321,1021,1339,1210,1949,882,1549,1991,796,1012,1318,1708,598,541,818,1414,601,561,1616,1263,1604,539,1071,826,771,1811,1842,1420,1763,1163,1805,610,1533,1924,1801,1726,794,1686,1444,1004,1242,539,717,1540,672,1325,950,948,1328,1447,1973,1731,1617,1791,851,856,714,951,1303,1550,1759,1448,1987,908,820,904,667,1109,1333,1352,1600,1454,1489,1823,1581,1672,1283,630,659,1811,688,514,1933,915,1006,1134,599,973,1180,1237,659,1142,1002,1392,602,1249,531,1450,1342,832,867,1404,840,1368,1927,1714,1201,1796,1147,776,510,1045,1497,1425,726,1576,714,1595,541,1617,1154,1638,1150,1254,1806,603,1834,520,565,1689,742,1143,761,959,772,1015,1824,1130,1183,574,1472,1868,1375,881,1742,1225,1970,1186,1762,1731,852,848,1575,1554,1972,827,1063,1695,1343,834,595,1081,911,844,1335,1883,1128,826,1650,1162,1517,963,1837,1028,1831,571,1770,970,642,622,600,1412,733,1070,875,1994,823,1908,790,1330,1660,1776,1611,1410,1772,1280,1712,1562,891,1957,1110,875,1211,769,671,1872,1076,1325,911,1273,1062,1317,940,729,1494,1546,1253,895,793,1628,625,1110,999,1856,1715,1897,1202,1171,964,1973,1992,546,1093,1880,1765,1640,1830,826,1864,586,1206,832,848,1851,1166,1776,1254,1494,984,1179,513,557,744,1129,1148,1793,1310,1604,1676,1001,1086,1986,634,502,1641,623,962,1057,1862,555,1000,841,865,999,1232,1194,612,1362,1469,986,1843,1561,1695,667,1768,1269,1109,936,1713,1175,1940,855,771,645,1307,1948,1509,626,1190,1727,1670,1150,1208,1812,770,1559,1902,1751,1416,1288,1003,1715,1967,962,1487,1569,1146,1379,1504,1945,1630,1125,614,854,1470,1826,807,1996,1083,1035,1521,1314,535,673,1219,1606,1603,1958,695,1441,1470,1890,1152,1619,1002,742,1306,1424,942,1934,1290,930,1699,1849,1922,548,916,1783,1083,1698,1969,869,1337,637,833,1248,1174,1831,1002,1010,1117,990,1564,1065,1982,1607,1066,681,1163,1285,753,1779,987,511,1044,1855,946,657,1673,731,926,1261,618,936,1485,1339,508,1938,995,1086,1322,1864,1944,581,1020,1936,1329,808,994,1811,765,993,1136,719,733,1946,1230,1577,1514,579,574,1072,843,1492,1807,909,1876,1436,1251,636,1354,930,1830,1424,583,648,1203,1777,1299,1494,527,793,873,722,1250,1358,1035,1289,1445,1702,534,628,713,1207,683,594,537,1565,1052,713,1766,584,1541,837,935,665,680,877,1493,1762,842,925,1692,1576,1065,958,623,897,1110,616,1680,1715,983,720,1660,1564,592,969,1356,504,1546,689,1685,1792,1786,1944,1077,648,1702,1571,856,1786,914,1615,649,1646,1189,1043,1920,1220,1748,907,1193,1766,1278,1234,1961,1745,1442,1083,868,864,1142,608,983,1720,1802,591,1205,1369,713,1082,1719,1544,1090,1991,1367,1179,721,1549,1349,1799,1075,684,1837,1619,965,730,1361,1494,1027,1807,709,689,955,1872,1259,695,1969,759,936,1176,1802,772,1318,591,569,764,1056,1982,1830,1122,1023,1283,1602,732,1854,718,897,1405,798,1035,1396,1749,1588,1600,1522,1279,719,544,1007,590,1788,748,757,1561,1327,797,727,686,1515,555,1589,1976,1884,1063,672,635,1906,1753,659,1583,1783,1667,640,1913,538,1191,816,915,1157,1201,1379,1483,1614,930,1454,1784,1262,797,1829,1139,618,1547,586,1617,1882,674,1467,858,794,1965,1911,1512,510],\"y0\":\" \",\"yaxis\":\"y\",\"type\":\"box\"}],                        {\"template\":{\"data\":{\"histogram2dcontour\":[{\"type\":\"histogram2dcontour\",\"colorbar\":{\"outlinewidth\":0,\"ticks\":\"\"},\"colorscale\":[[0.0,\"#0d0887\"],[0.1111111111111111,\"#46039f\"],[0.2222222222222222,\"#7201a8\"],[0.3333333333333333,\"#9c179e\"],[0.4444444444444444,\"#bd3786\"],[0.5555555555555556,\"#d8576b\"],[0.6666666666666666,\"#ed7953\"],[0.7777777777777778,\"#fb9f3a\"],[0.8888888888888888,\"#fdca26\"],[1.0,\"#f0f921\"]]}],\"choropleth\":[{\"type\":\"choropleth\",\"colorbar\":{\"outlinewidth\":0,\"ticks\":\"\"}}],\"histogram2d\":[{\"type\":\"histogram2d\",\"colorbar\":{\"outlinewidth\":0,\"ticks\":\"\"},\"colorscale\":[[0.0,\"#0d0887\"],[0.1111111111111111,\"#46039f\"],[0.2222222222222222,\"#7201a8\"],[0.3333333333333333,\"#9c179e\"],[0.4444444444444444,\"#bd3786\"],[0.5555555555555556,\"#d8576b\"],[0.6666666666666666,\"#ed7953\"],[0.7777777777777778,\"#fb9f3a\"],[0.8888888888888888,\"#fdca26\"],[1.0,\"#f0f921\"]]}],\"heatmap\":[{\"type\":\"heatmap\",\"colorbar\":{\"outlinewidth\":0,\"ticks\":\"\"},\"colorscale\":[[0.0,\"#0d0887\"],[0.1111111111111111,\"#46039f\"],[0.2222222222222222,\"#7201a8\"],[0.3333333333333333,\"#9c179e\"],[0.4444444444444444,\"#bd3786\"],[0.5555555555555556,\"#d8576b\"],[0.6666666666666666,\"#ed7953\"],[0.7777777777777778,\"#fb9f3a\"],[0.8888888888888888,\"#fdca26\"],[1.0,\"#f0f921\"]]}],\"heatmapgl\":[{\"type\":\"heatmapgl\",\"colorbar\":{\"outlinewidth\":0,\"ticks\":\"\"},\"colorscale\":[[0.0,\"#0d0887\"],[0.1111111111111111,\"#46039f\"],[0.2222222222222222,\"#7201a8\"],[0.3333333333333333,\"#9c179e\"],[0.4444444444444444,\"#bd3786\"],[0.5555555555555556,\"#d8576b\"],[0.6666666666666666,\"#ed7953\"],[0.7777777777777778,\"#fb9f3a\"],[0.8888888888888888,\"#fdca26\"],[1.0,\"#f0f921\"]]}],\"contourcarpet\":[{\"type\":\"contourcarpet\",\"colorbar\":{\"outlinewidth\":0,\"ticks\":\"\"}}],\"contour\":[{\"type\":\"contour\",\"colorbar\":{\"outlinewidth\":0,\"ticks\":\"\"},\"colorscale\":[[0.0,\"#0d0887\"],[0.1111111111111111,\"#46039f\"],[0.2222222222222222,\"#7201a8\"],[0.3333333333333333,\"#9c179e\"],[0.4444444444444444,\"#bd3786\"],[0.5555555555555556,\"#d8576b\"],[0.6666666666666666,\"#ed7953\"],[0.7777777777777778,\"#fb9f3a\"],[0.8888888888888888,\"#fdca26\"],[1.0,\"#f0f921\"]]}],\"surface\":[{\"type\":\"surface\",\"colorbar\":{\"outlinewidth\":0,\"ticks\":\"\"},\"colorscale\":[[0.0,\"#0d0887\"],[0.1111111111111111,\"#46039f\"],[0.2222222222222222,\"#7201a8\"],[0.3333333333333333,\"#9c179e\"],[0.4444444444444444,\"#bd3786\"],[0.5555555555555556,\"#d8576b\"],[0.6666666666666666,\"#ed7953\"],[0.7777777777777778,\"#fb9f3a\"],[0.8888888888888888,\"#fdca26\"],[1.0,\"#f0f921\"]]}],\"mesh3d\":[{\"type\":\"mesh3d\",\"colorbar\":{\"outlinewidth\":0,\"ticks\":\"\"}}],\"scatter\":[{\"fillpattern\":{\"fillmode\":\"overlay\",\"size\":10,\"solidity\":0.2},\"type\":\"scatter\"}],\"parcoords\":[{\"type\":\"parcoords\",\"line\":{\"colorbar\":{\"outlinewidth\":0,\"ticks\":\"\"}}}],\"scatterpolargl\":[{\"type\":\"scatterpolargl\",\"marker\":{\"colorbar\":{\"outlinewidth\":0,\"ticks\":\"\"}}}],\"bar\":[{\"error_x\":{\"color\":\"#2a3f5f\"},\"error_y\":{\"color\":\"#2a3f5f\"},\"marker\":{\"line\":{\"color\":\"#E5ECF6\",\"width\":0.5},\"pattern\":{\"fillmode\":\"overlay\",\"size\":10,\"solidity\":0.2}},\"type\":\"bar\"}],\"scattergeo\":[{\"type\":\"scattergeo\",\"marker\":{\"colorbar\":{\"outlinewidth\":0,\"ticks\":\"\"}}}],\"scatterpolar\":[{\"type\":\"scatterpolar\",\"marker\":{\"colorbar\":{\"outlinewidth\":0,\"ticks\":\"\"}}}],\"histogram\":[{\"marker\":{\"pattern\":{\"fillmode\":\"overlay\",\"size\":10,\"solidity\":0.2}},\"type\":\"histogram\"}],\"scattergl\":[{\"type\":\"scattergl\",\"marker\":{\"colorbar\":{\"outlinewidth\":0,\"ticks\":\"\"}}}],\"scatter3d\":[{\"type\":\"scatter3d\",\"line\":{\"colorbar\":{\"outlinewidth\":0,\"ticks\":\"\"}},\"marker\":{\"colorbar\":{\"outlinewidth\":0,\"ticks\":\"\"}}}],\"scattermapbox\":[{\"type\":\"scattermapbox\",\"marker\":{\"colorbar\":{\"outlinewidth\":0,\"ticks\":\"\"}}}],\"scatterternary\":[{\"type\":\"scatterternary\",\"marker\":{\"colorbar\":{\"outlinewidth\":0,\"ticks\":\"\"}}}],\"scattercarpet\":[{\"type\":\"scattercarpet\",\"marker\":{\"colorbar\":{\"outlinewidth\":0,\"ticks\":\"\"}}}],\"carpet\":[{\"aaxis\":{\"endlinecolor\":\"#2a3f5f\",\"gridcolor\":\"white\",\"linecolor\":\"white\",\"minorgridcolor\":\"white\",\"startlinecolor\":\"#2a3f5f\"},\"baxis\":{\"endlinecolor\":\"#2a3f5f\",\"gridcolor\":\"white\",\"linecolor\":\"white\",\"minorgridcolor\":\"white\",\"startlinecolor\":\"#2a3f5f\"},\"type\":\"carpet\"}],\"table\":[{\"cells\":{\"fill\":{\"color\":\"#EBF0F8\"},\"line\":{\"color\":\"white\"}},\"header\":{\"fill\":{\"color\":\"#C8D4E3\"},\"line\":{\"color\":\"white\"}},\"type\":\"table\"}],\"barpolar\":[{\"marker\":{\"line\":{\"color\":\"#E5ECF6\",\"width\":0.5},\"pattern\":{\"fillmode\":\"overlay\",\"size\":10,\"solidity\":0.2}},\"type\":\"barpolar\"}],\"pie\":[{\"automargin\":true,\"type\":\"pie\"}]},\"layout\":{\"autotypenumbers\":\"strict\",\"colorway\":[\"#636efa\",\"#EF553B\",\"#00cc96\",\"#ab63fa\",\"#FFA15A\",\"#19d3f3\",\"#FF6692\",\"#B6E880\",\"#FF97FF\",\"#FECB52\"],\"font\":{\"color\":\"#2a3f5f\"},\"hovermode\":\"closest\",\"hoverlabel\":{\"align\":\"left\"},\"paper_bgcolor\":\"white\",\"plot_bgcolor\":\"#E5ECF6\",\"polar\":{\"bgcolor\":\"#E5ECF6\",\"angularaxis\":{\"gridcolor\":\"white\",\"linecolor\":\"white\",\"ticks\":\"\"},\"radialaxis\":{\"gridcolor\":\"white\",\"linecolor\":\"white\",\"ticks\":\"\"}},\"ternary\":{\"bgcolor\":\"#E5ECF6\",\"aaxis\":{\"gridcolor\":\"white\",\"linecolor\":\"white\",\"ticks\":\"\"},\"baxis\":{\"gridcolor\":\"white\",\"linecolor\":\"white\",\"ticks\":\"\"},\"caxis\":{\"gridcolor\":\"white\",\"linecolor\":\"white\",\"ticks\":\"\"}},\"coloraxis\":{\"colorbar\":{\"outlinewidth\":0,\"ticks\":\"\"}},\"colorscale\":{\"sequential\":[[0.0,\"#0d0887\"],[0.1111111111111111,\"#46039f\"],[0.2222222222222222,\"#7201a8\"],[0.3333333333333333,\"#9c179e\"],[0.4444444444444444,\"#bd3786\"],[0.5555555555555556,\"#d8576b\"],[0.6666666666666666,\"#ed7953\"],[0.7777777777777778,\"#fb9f3a\"],[0.8888888888888888,\"#fdca26\"],[1.0,\"#f0f921\"]],\"sequentialminus\":[[0.0,\"#0d0887\"],[0.1111111111111111,\"#46039f\"],[0.2222222222222222,\"#7201a8\"],[0.3333333333333333,\"#9c179e\"],[0.4444444444444444,\"#bd3786\"],[0.5555555555555556,\"#d8576b\"],[0.6666666666666666,\"#ed7953\"],[0.7777777777777778,\"#fb9f3a\"],[0.8888888888888888,\"#fdca26\"],[1.0,\"#f0f921\"]],\"diverging\":[[0,\"#8e0152\"],[0.1,\"#c51b7d\"],[0.2,\"#de77ae\"],[0.3,\"#f1b6da\"],[0.4,\"#fde0ef\"],[0.5,\"#f7f7f7\"],[0.6,\"#e6f5d0\"],[0.7,\"#b8e186\"],[0.8,\"#7fbc41\"],[0.9,\"#4d9221\"],[1,\"#276419\"]]},\"xaxis\":{\"gridcolor\":\"white\",\"linecolor\":\"white\",\"ticks\":\"\",\"title\":{\"standoff\":15},\"zerolinecolor\":\"white\",\"automargin\":true,\"zerolinewidth\":2},\"yaxis\":{\"gridcolor\":\"white\",\"linecolor\":\"white\",\"ticks\":\"\",\"title\":{\"standoff\":15},\"zerolinecolor\":\"white\",\"automargin\":true,\"zerolinewidth\":2},\"scene\":{\"xaxis\":{\"backgroundcolor\":\"#E5ECF6\",\"gridcolor\":\"white\",\"linecolor\":\"white\",\"showbackground\":true,\"ticks\":\"\",\"zerolinecolor\":\"white\",\"gridwidth\":2},\"yaxis\":{\"backgroundcolor\":\"#E5ECF6\",\"gridcolor\":\"white\",\"linecolor\":\"white\",\"showbackground\":true,\"ticks\":\"\",\"zerolinecolor\":\"white\",\"gridwidth\":2},\"zaxis\":{\"backgroundcolor\":\"#E5ECF6\",\"gridcolor\":\"white\",\"linecolor\":\"white\",\"showbackground\":true,\"ticks\":\"\",\"zerolinecolor\":\"white\",\"gridwidth\":2}},\"shapedefaults\":{\"line\":{\"color\":\"#2a3f5f\"}},\"annotationdefaults\":{\"arrowcolor\":\"#2a3f5f\",\"arrowhead\":0,\"arrowwidth\":1},\"geo\":{\"bgcolor\":\"white\",\"landcolor\":\"#E5ECF6\",\"subunitcolor\":\"white\",\"showland\":true,\"showlakes\":true,\"lakecolor\":\"white\"},\"title\":{\"x\":0.05},\"mapbox\":{\"style\":\"light\"}}},\"xaxis\":{\"anchor\":\"y\",\"domain\":[0.0,1.0],\"title\":{\"text\":\"price_range\"}},\"yaxis\":{\"anchor\":\"x\",\"domain\":[0.0,1.0],\"title\":{\"text\":\"battery_power\"}},\"legend\":{\"tracegroupgap\":0},\"title\":{\"text\":\"<b>Effect of battery power on price\"},\"boxmode\":\"group\"},                        {\"responsive\": true}                    ).then(function(){\n",
       "                            \n",
       "var gd = document.getElementById('85689f94-e8e0-4713-be52-5b5dda5f480d');\n",
       "var x = new MutationObserver(function (mutations, observer) {{\n",
       "        var display = window.getComputedStyle(gd).display;\n",
       "        if (!display || display === 'none') {{\n",
       "            console.log([gd, 'removed!']);\n",
       "            Plotly.purge(gd);\n",
       "            observer.disconnect();\n",
       "        }}\n",
       "}});\n",
       "\n",
       "// Listen for the removal of the full notebook cells\n",
       "var notebookContainer = gd.closest('#notebook-container');\n",
       "if (notebookContainer) {{\n",
       "    x.observe(notebookContainer, {childList: true});\n",
       "}}\n",
       "\n",
       "// Listen for the clearing of the current output cell\n",
       "var outputEl = gd.closest('.output');\n",
       "if (outputEl) {{\n",
       "    x.observe(outputEl, {childList: true});\n",
       "}}\n",
       "\n",
       "                        })                };                });            </script>        </div>"
      ]
     },
     "metadata": {},
     "output_type": "display_data"
    }
   ],
   "source": [
    "px.box(df_train, x='price_range', y='battery_power',title=\"<b>Effect of battery power on price\")"
   ]
  },
  {
   "cell_type": "markdown",
   "id": "702af79d",
   "metadata": {
    "papermill": {
     "duration": 0.01662,
     "end_time": "2023-01-14T13:20:34.228247",
     "exception": false,
     "start_time": "2023-01-14T13:20:34.211627",
     "status": "completed"
    },
    "tags": []
   },
   "source": [
    "**We can say as the battery power and ram increases, price range increases for the mobile.**"
   ]
  },
  {
   "cell_type": "markdown",
   "id": "70c5c861",
   "metadata": {
    "papermill": {
     "duration": 0.016645,
     "end_time": "2023-01-14T13:20:34.261760",
     "exception": false,
     "start_time": "2023-01-14T13:20:34.245115",
     "status": "completed"
    },
    "tags": []
   },
   "source": [
    "<h1 style=\"background-color:orange;text-align:center;border-radius: 50px 50px;\">Model Training</h1>\n",
    "<a class='anchor' id='model'></a>"
   ]
  },
  {
   "cell_type": "markdown",
   "id": "c5d93f55",
   "metadata": {
    "papermill": {
     "duration": 0.01679,
     "end_time": "2023-01-14T13:20:34.296047",
     "exception": false,
     "start_time": "2023-01-14T13:20:34.279257",
     "status": "completed"
    },
    "tags": []
   },
   "source": [
    "[back to top](#backtotop)"
   ]
  },
  {
   "cell_type": "code",
   "execution_count": 20,
   "id": "c01e521d",
   "metadata": {
    "execution": {
     "iopub.execute_input": "2023-01-14T13:20:34.333128Z",
     "iopub.status.busy": "2023-01-14T13:20:34.332746Z",
     "iopub.status.idle": "2023-01-14T13:20:34.547735Z",
     "shell.execute_reply": "2023-01-14T13:20:34.546470Z"
    },
    "papermill": {
     "duration": 0.236953,
     "end_time": "2023-01-14T13:20:34.550388",
     "exception": false,
     "start_time": "2023-01-14T13:20:34.313435",
     "status": "completed"
    },
    "tags": []
   },
   "outputs": [],
   "source": [
    "# Importing libraries\n",
    "# Preparing dataset of independent variables and dependent variable\n",
    "\n",
    "from sklearn.model_selection import train_test_split\n",
    "\n",
    "x_data = df_train.drop('price_range', axis=1)\n",
    "y_data = df_train['price_range'].values"
   ]
  },
  {
   "cell_type": "code",
   "execution_count": 21,
   "id": "3d89e0c4",
   "metadata": {
    "execution": {
     "iopub.execute_input": "2023-01-14T13:20:34.587944Z",
     "iopub.status.busy": "2023-01-14T13:20:34.587524Z",
     "iopub.status.idle": "2023-01-14T13:20:34.601235Z",
     "shell.execute_reply": "2023-01-14T13:20:34.599730Z"
    },
    "papermill": {
     "duration": 0.03576,
     "end_time": "2023-01-14T13:20:34.603860",
     "exception": false,
     "start_time": "2023-01-14T13:20:34.568100",
     "status": "completed"
    },
    "tags": []
   },
   "outputs": [
    {
     "name": "stdout",
     "output_type": "stream",
     "text": [
      "(2000, 20)\n"
     ]
    }
   ],
   "source": [
    "# Normalization\n",
    "x_norm = ((x_data - np.min(x_data))/(np.max(x_data)-np.min(x_data))).values\n",
    "print(x_norm.shape)\n"
   ]
  },
  {
   "cell_type": "code",
   "execution_count": 22,
   "id": "abe5aba8",
   "metadata": {
    "execution": {
     "iopub.execute_input": "2023-01-14T13:20:34.641061Z",
     "iopub.status.busy": "2023-01-14T13:20:34.640677Z",
     "iopub.status.idle": "2023-01-14T13:20:34.648169Z",
     "shell.execute_reply": "2023-01-14T13:20:34.646891Z"
    },
    "papermill": {
     "duration": 0.028733,
     "end_time": "2023-01-14T13:20:34.650714",
     "exception": false,
     "start_time": "2023-01-14T13:20:34.621981",
     "status": "completed"
    },
    "tags": []
   },
   "outputs": [
    {
     "name": "stdout",
     "output_type": "stream",
     "text": [
      "(1800, 20) (200, 20) (1800,) (200,)\n"
     ]
    }
   ],
   "source": [
    "# Splitting into training and test dataset\n",
    "x_train,x_test,y_train,y_test=train_test_split(x_norm,y_data,test_size=0.10)\n",
    "\n",
    "print(x_train.shape, x_test.shape, y_train.shape, y_test.shape)"
   ]
  },
  {
   "cell_type": "markdown",
   "id": "69ea7390",
   "metadata": {
    "papermill": {
     "duration": 0.016864,
     "end_time": "2023-01-14T13:20:34.684769",
     "exception": false,
     "start_time": "2023-01-14T13:20:34.667905",
     "status": "completed"
    },
    "tags": []
   },
   "source": [
    "## <span style=\"background-color:orange;text-align:center;border-radius: 50px 50px;\">Logistic Regression</h2>\n",
    "<a class='anchor' id='model_lr'></a>"
   ]
  },
  {
   "cell_type": "markdown",
   "id": "be787f08",
   "metadata": {
    "papermill": {
     "duration": 0.017358,
     "end_time": "2023-01-14T13:20:34.720202",
     "exception": false,
     "start_time": "2023-01-14T13:20:34.702844",
     "status": "completed"
    },
    "tags": []
   },
   "source": [
    "[back to top](#backtotop)"
   ]
  },
  {
   "cell_type": "code",
   "execution_count": 23,
   "id": "2c994099",
   "metadata": {
    "execution": {
     "iopub.execute_input": "2023-01-14T13:20:34.757777Z",
     "iopub.status.busy": "2023-01-14T13:20:34.757360Z",
     "iopub.status.idle": "2023-01-14T13:20:34.848669Z",
     "shell.execute_reply": "2023-01-14T13:20:34.847158Z"
    },
    "papermill": {
     "duration": 0.114056,
     "end_time": "2023-01-14T13:20:34.852077",
     "exception": false,
     "start_time": "2023-01-14T13:20:34.738021",
     "status": "completed"
    },
    "tags": []
   },
   "outputs": [],
   "source": [
    "# Importing library\n",
    "from sklearn.linear_model import LogisticRegression"
   ]
  },
  {
   "cell_type": "code",
   "execution_count": 24,
   "id": "057d973e",
   "metadata": {
    "execution": {
     "iopub.execute_input": "2023-01-14T13:20:34.888918Z",
     "iopub.status.busy": "2023-01-14T13:20:34.888526Z",
     "iopub.status.idle": "2023-01-14T13:20:35.013838Z",
     "shell.execute_reply": "2023-01-14T13:20:35.012878Z"
    },
    "papermill": {
     "duration": 0.146009,
     "end_time": "2023-01-14T13:20:35.016093",
     "exception": false,
     "start_time": "2023-01-14T13:20:34.870084",
     "status": "completed"
    },
    "tags": []
   },
   "outputs": [
    {
     "data": {
      "text/plain": [
       "LogisticRegression(max_iter=2000)"
      ]
     },
     "execution_count": 24,
     "metadata": {},
     "output_type": "execute_result"
    }
   ],
   "source": [
    "# Fitting data to classifier\n",
    "lr = LogisticRegression(max_iter=2000)\n",
    "lr.fit(x_train, y_train)"
   ]
  },
  {
   "cell_type": "code",
   "execution_count": 25,
   "id": "694d5ace",
   "metadata": {
    "execution": {
     "iopub.execute_input": "2023-01-14T13:20:35.054724Z",
     "iopub.status.busy": "2023-01-14T13:20:35.054273Z",
     "iopub.status.idle": "2023-01-14T13:20:35.062025Z",
     "shell.execute_reply": "2023-01-14T13:20:35.060139Z"
    },
    "papermill": {
     "duration": 0.02949,
     "end_time": "2023-01-14T13:20:35.064696",
     "exception": false,
     "start_time": "2023-01-14T13:20:35.035206",
     "status": "completed"
    },
    "tags": []
   },
   "outputs": [
    {
     "name": "stdout",
     "output_type": "stream",
     "text": [
      "{'Test Set LR': 92.0}\n"
     ]
    }
   ],
   "source": [
    "score_dict={}\n",
    "score_dict['Test Set LR'] = round(lr.score(x_test, y_test)*100,2)\n",
    "\n",
    "print(score_dict)"
   ]
  },
  {
   "cell_type": "markdown",
   "id": "b5030d07",
   "metadata": {
    "papermill": {
     "duration": 0.017324,
     "end_time": "2023-01-14T13:20:35.099717",
     "exception": false,
     "start_time": "2023-01-14T13:20:35.082393",
     "status": "completed"
    },
    "tags": []
   },
   "source": [
    "## <span style=\"background-color:orange;text-align:center;border-radius: 50px 50px;\">KNN</span>\n",
    "<a class='anchor' id='model_knn'></a>"
   ]
  },
  {
   "cell_type": "markdown",
   "id": "d0f5027b",
   "metadata": {
    "papermill": {
     "duration": 0.017345,
     "end_time": "2023-01-14T13:20:35.134987",
     "exception": false,
     "start_time": "2023-01-14T13:20:35.117642",
     "status": "completed"
    },
    "tags": []
   },
   "source": [
    "[back to top](#backtotop)"
   ]
  },
  {
   "cell_type": "code",
   "execution_count": 26,
   "id": "1d07c3b3",
   "metadata": {
    "execution": {
     "iopub.execute_input": "2023-01-14T13:20:35.171623Z",
     "iopub.status.busy": "2023-01-14T13:20:35.171191Z",
     "iopub.status.idle": "2023-01-14T13:20:35.230541Z",
     "shell.execute_reply": "2023-01-14T13:20:35.229538Z"
    },
    "papermill": {
     "duration": 0.080821,
     "end_time": "2023-01-14T13:20:35.233165",
     "exception": false,
     "start_time": "2023-01-14T13:20:35.152344",
     "status": "completed"
    },
    "tags": []
   },
   "outputs": [],
   "source": [
    "# Importing libraries\n",
    "from sklearn.neighbors import KNeighborsClassifier"
   ]
  },
  {
   "cell_type": "code",
   "execution_count": 27,
   "id": "1fdef2c9",
   "metadata": {
    "execution": {
     "iopub.execute_input": "2023-01-14T13:20:35.269995Z",
     "iopub.status.busy": "2023-01-14T13:20:35.269607Z",
     "iopub.status.idle": "2023-01-14T13:20:35.278038Z",
     "shell.execute_reply": "2023-01-14T13:20:35.277121Z"
    },
    "papermill": {
     "duration": 0.029496,
     "end_time": "2023-01-14T13:20:35.280165",
     "exception": false,
     "start_time": "2023-01-14T13:20:35.250669",
     "status": "completed"
    },
    "tags": []
   },
   "outputs": [
    {
     "data": {
      "text/plain": [
       "KNeighborsClassifier(n_neighbors=100)"
      ]
     },
     "execution_count": 27,
     "metadata": {},
     "output_type": "execute_result"
    }
   ],
   "source": [
    "# Fitting the classifier\n",
    "knn=KNeighborsClassifier(n_neighbors=100)\n",
    "knn.fit(x_train, y_train)"
   ]
  },
  {
   "cell_type": "code",
   "execution_count": 28,
   "id": "3ffd3c4d",
   "metadata": {
    "execution": {
     "iopub.execute_input": "2023-01-14T13:20:35.318672Z",
     "iopub.status.busy": "2023-01-14T13:20:35.318205Z",
     "iopub.status.idle": "2023-01-14T13:20:35.383575Z",
     "shell.execute_reply": "2023-01-14T13:20:35.382198Z"
    },
    "papermill": {
     "duration": 0.089486,
     "end_time": "2023-01-14T13:20:35.387537",
     "exception": false,
     "start_time": "2023-01-14T13:20:35.298051",
     "status": "completed"
    },
    "tags": []
   },
   "outputs": [
    {
     "name": "stdout",
     "output_type": "stream",
     "text": [
      "{'Test Set LR': 92.0, 'Test Set KNN': 52.0}\n"
     ]
    }
   ],
   "source": [
    "score_dict['Test Set KNN'] = round(knn.score(x_test, y_test),2)*100\n",
    "print(score_dict)"
   ]
  },
  {
   "cell_type": "markdown",
   "id": "b4591a64",
   "metadata": {
    "papermill": {
     "duration": 0.029524,
     "end_time": "2023-01-14T13:20:35.462748",
     "exception": false,
     "start_time": "2023-01-14T13:20:35.433224",
     "status": "completed"
    },
    "tags": []
   },
   "source": [
    "## <span style=\"background-color:orange;text-align:center;border-radius: 50px 50px;\">SVC</span>\n",
    "<a class='anchor' id='model_svc'></a>"
   ]
  },
  {
   "cell_type": "markdown",
   "id": "8b60ff0a",
   "metadata": {
    "papermill": {
     "duration": 0.017292,
     "end_time": "2023-01-14T13:20:35.497667",
     "exception": false,
     "start_time": "2023-01-14T13:20:35.480375",
     "status": "completed"
    },
    "tags": []
   },
   "source": [
    "[back to top](#backtotop)"
   ]
  },
  {
   "cell_type": "code",
   "execution_count": 29,
   "id": "ab1b692a",
   "metadata": {
    "execution": {
     "iopub.execute_input": "2023-01-14T13:20:35.535529Z",
     "iopub.status.busy": "2023-01-14T13:20:35.535115Z",
     "iopub.status.idle": "2023-01-14T13:20:35.540334Z",
     "shell.execute_reply": "2023-01-14T13:20:35.539140Z"
    },
    "papermill": {
     "duration": 0.02674,
     "end_time": "2023-01-14T13:20:35.542707",
     "exception": false,
     "start_time": "2023-01-14T13:20:35.515967",
     "status": "completed"
    },
    "tags": []
   },
   "outputs": [],
   "source": [
    "# Importing libraries\n",
    "from sklearn.svm import SVC"
   ]
  },
  {
   "cell_type": "code",
   "execution_count": 30,
   "id": "0b687793",
   "metadata": {
    "execution": {
     "iopub.execute_input": "2023-01-14T13:20:35.579872Z",
     "iopub.status.busy": "2023-01-14T13:20:35.579487Z",
     "iopub.status.idle": "2023-01-14T13:20:35.769870Z",
     "shell.execute_reply": "2023-01-14T13:20:35.768563Z"
    },
    "papermill": {
     "duration": 0.212225,
     "end_time": "2023-01-14T13:20:35.772397",
     "exception": false,
     "start_time": "2023-01-14T13:20:35.560172",
     "status": "completed"
    },
    "tags": []
   },
   "outputs": [
    {
     "data": {
      "text/plain": [
       "SVC(random_state=1)"
      ]
     },
     "execution_count": 30,
     "metadata": {},
     "output_type": "execute_result"
    }
   ],
   "source": [
    "# Fitting the data\n",
    "svm=SVC(random_state=1)\n",
    "svm.fit(x_train,y_train)"
   ]
  },
  {
   "cell_type": "code",
   "execution_count": 31,
   "id": "a5a01f5e",
   "metadata": {
    "execution": {
     "iopub.execute_input": "2023-01-14T13:20:35.810061Z",
     "iopub.status.busy": "2023-01-14T13:20:35.808938Z",
     "iopub.status.idle": "2023-01-14T13:20:35.838453Z",
     "shell.execute_reply": "2023-01-14T13:20:35.837106Z"
    },
    "papermill": {
     "duration": 0.051449,
     "end_time": "2023-01-14T13:20:35.841555",
     "exception": false,
     "start_time": "2023-01-14T13:20:35.790106",
     "status": "completed"
    },
    "tags": []
   },
   "outputs": [
    {
     "name": "stdout",
     "output_type": "stream",
     "text": [
      "{'Test Set LR': 92.0, 'Test Set KNN': 52.0, 'Test Set SVM': 86.0}\n"
     ]
    }
   ],
   "source": [
    "score_dict['Test Set SVM'] = round(svm.score(x_test, y_test),2)*100\n",
    "print(score_dict)"
   ]
  },
  {
   "cell_type": "markdown",
   "id": "ce7b92de",
   "metadata": {
    "papermill": {
     "duration": 0.017782,
     "end_time": "2023-01-14T13:20:35.878121",
     "exception": false,
     "start_time": "2023-01-14T13:20:35.860339",
     "status": "completed"
    },
    "tags": []
   },
   "source": [
    "## <span style=\"background-color:orange;text-align:center;border-radius: 50px 50px;\">Decision Tree</span>\n",
    "<a class='anchor' id='model_dt'></a>"
   ]
  },
  {
   "cell_type": "markdown",
   "id": "a124e25c",
   "metadata": {
    "papermill": {
     "duration": 0.017782,
     "end_time": "2023-01-14T13:20:35.913906",
     "exception": false,
     "start_time": "2023-01-14T13:20:35.896124",
     "status": "completed"
    },
    "tags": []
   },
   "source": [
    "[back to top](#backtotop)"
   ]
  },
  {
   "cell_type": "code",
   "execution_count": 32,
   "id": "6564edc3",
   "metadata": {
    "execution": {
     "iopub.execute_input": "2023-01-14T13:20:35.951747Z",
     "iopub.status.busy": "2023-01-14T13:20:35.951323Z",
     "iopub.status.idle": "2023-01-14T13:20:36.004574Z",
     "shell.execute_reply": "2023-01-14T13:20:36.003361Z"
    },
    "papermill": {
     "duration": 0.075192,
     "end_time": "2023-01-14T13:20:36.007376",
     "exception": false,
     "start_time": "2023-01-14T13:20:35.932184",
     "status": "completed"
    },
    "tags": []
   },
   "outputs": [
    {
     "data": {
      "text/plain": [
       "DecisionTreeClassifier()"
      ]
     },
     "execution_count": 32,
     "metadata": {},
     "output_type": "execute_result"
    }
   ],
   "source": [
    "from sklearn.tree import DecisionTreeClassifier\n",
    "\n",
    "dt=DecisionTreeClassifier()\n",
    "\n",
    "dt.fit(x_train,y_train)"
   ]
  },
  {
   "cell_type": "code",
   "execution_count": 33,
   "id": "9c7249fc",
   "metadata": {
    "execution": {
     "iopub.execute_input": "2023-01-14T13:20:36.045581Z",
     "iopub.status.busy": "2023-01-14T13:20:36.044809Z",
     "iopub.status.idle": "2023-01-14T13:20:36.052460Z",
     "shell.execute_reply": "2023-01-14T13:20:36.050878Z"
    },
    "papermill": {
     "duration": 0.029515,
     "end_time": "2023-01-14T13:20:36.054726",
     "exception": false,
     "start_time": "2023-01-14T13:20:36.025211",
     "status": "completed"
    },
    "tags": []
   },
   "outputs": [
    {
     "name": "stdout",
     "output_type": "stream",
     "text": [
      "{'Test Set LR': 92.0, 'Test Set KNN': 52.0, 'Test Set SVM': 86.0, 'Test Set DT': 82.0}\n"
     ]
    }
   ],
   "source": [
    "score_dict['Test Set DT'] = round(dt.score(x_test, y_test),2)*100\n",
    "print(score_dict)"
   ]
  },
  {
   "cell_type": "markdown",
   "id": "8bee8d3b",
   "metadata": {
    "papermill": {
     "duration": 0.017962,
     "end_time": "2023-01-14T13:20:36.090534",
     "exception": false,
     "start_time": "2023-01-14T13:20:36.072572",
     "status": "completed"
    },
    "tags": []
   },
   "source": [
    "## <span style=\"background-color:orange;text-align:center;border-radius: 50px 50px;\">Random Forest</span>\n",
    "<a class='anchor' id='model_rf'></a>"
   ]
  },
  {
   "cell_type": "markdown",
   "id": "e12e6d93",
   "metadata": {
    "papermill": {
     "duration": 0.018721,
     "end_time": "2023-01-14T13:20:36.126994",
     "exception": false,
     "start_time": "2023-01-14T13:20:36.108273",
     "status": "completed"
    },
    "tags": []
   },
   "source": [
    "[back to top](#backtotop)"
   ]
  },
  {
   "cell_type": "code",
   "execution_count": 34,
   "id": "9e0846ff",
   "metadata": {
    "execution": {
     "iopub.execute_input": "2023-01-14T13:20:36.165194Z",
     "iopub.status.busy": "2023-01-14T13:20:36.164498Z",
     "iopub.status.idle": "2023-01-14T13:20:36.244425Z",
     "shell.execute_reply": "2023-01-14T13:20:36.243111Z"
    },
    "papermill": {
     "duration": 0.102331,
     "end_time": "2023-01-14T13:20:36.247118",
     "exception": false,
     "start_time": "2023-01-14T13:20:36.144787",
     "status": "completed"
    },
    "tags": []
   },
   "outputs": [],
   "source": [
    "# Importing libraries\n",
    "from sklearn.ensemble import RandomForestClassifier\n",
    "rf=RandomForestClassifier(n_estimators=100, random_state=1)"
   ]
  },
  {
   "cell_type": "code",
   "execution_count": 35,
   "id": "bb1da9fa",
   "metadata": {
    "execution": {
     "iopub.execute_input": "2023-01-14T13:20:36.285463Z",
     "iopub.status.busy": "2023-01-14T13:20:36.284728Z",
     "iopub.status.idle": "2023-01-14T13:20:36.731279Z",
     "shell.execute_reply": "2023-01-14T13:20:36.730450Z"
    },
    "papermill": {
     "duration": 0.468518,
     "end_time": "2023-01-14T13:20:36.733765",
     "exception": false,
     "start_time": "2023-01-14T13:20:36.265247",
     "status": "completed"
    },
    "tags": []
   },
   "outputs": [
    {
     "data": {
      "text/plain": [
       "RandomForestClassifier(random_state=1)"
      ]
     },
     "execution_count": 35,
     "metadata": {},
     "output_type": "execute_result"
    }
   ],
   "source": [
    "rf.fit(x_train,y_train)"
   ]
  },
  {
   "cell_type": "code",
   "execution_count": 36,
   "id": "dd193028",
   "metadata": {
    "execution": {
     "iopub.execute_input": "2023-01-14T13:20:36.773994Z",
     "iopub.status.busy": "2023-01-14T13:20:36.773313Z",
     "iopub.status.idle": "2023-01-14T13:20:36.799519Z",
     "shell.execute_reply": "2023-01-14T13:20:36.797931Z"
    },
    "papermill": {
     "duration": 0.050074,
     "end_time": "2023-01-14T13:20:36.802227",
     "exception": false,
     "start_time": "2023-01-14T13:20:36.752153",
     "status": "completed"
    },
    "tags": []
   },
   "outputs": [
    {
     "name": "stdout",
     "output_type": "stream",
     "text": [
      "{'Test Set LR': 92.0, 'Test Set KNN': 52.0, 'Test Set SVM': 86.0, 'Test Set DT': 82.0, 'Test Set RF': 89.0}\n"
     ]
    }
   ],
   "source": [
    "score_dict['Test Set RF'] = round(rf.score(x_test, y_test),2)*100\n",
    "print(score_dict)"
   ]
  },
  {
   "cell_type": "markdown",
   "id": "0ccc1ba0",
   "metadata": {
    "papermill": {
     "duration": 0.017749,
     "end_time": "2023-01-14T13:20:36.837997",
     "exception": false,
     "start_time": "2023-01-14T13:20:36.820248",
     "status": "completed"
    },
    "tags": []
   },
   "source": [
    "<h1 style=\"background-color:orange;text-align:center;border-radius: 50px 50px;\">Conclusions</h1>\n",
    "<a class='anchor' id='conclusion'></a>"
   ]
  },
  {
   "cell_type": "markdown",
   "id": "c2b4f362",
   "metadata": {
    "papermill": {
     "duration": 0.017627,
     "end_time": "2023-01-14T13:20:36.873756",
     "exception": false,
     "start_time": "2023-01-14T13:20:36.856129",
     "status": "completed"
    },
    "tags": []
   },
   "source": [
    "[back to top](#backtotop)"
   ]
  },
  {
   "cell_type": "code",
   "execution_count": 37,
   "id": "dfba49d8",
   "metadata": {
    "execution": {
     "iopub.execute_input": "2023-01-14T13:20:36.911819Z",
     "iopub.status.busy": "2023-01-14T13:20:36.911036Z",
     "iopub.status.idle": "2023-01-14T13:20:36.918016Z",
     "shell.execute_reply": "2023-01-14T13:20:36.916377Z"
    },
    "papermill": {
     "duration": 0.030334,
     "end_time": "2023-01-14T13:20:36.922173",
     "exception": false,
     "start_time": "2023-01-14T13:20:36.891839",
     "status": "completed"
    },
    "tags": []
   },
   "outputs": [
    {
     "name": "stdout",
     "output_type": "stream",
     "text": [
      "{'Test Set LR': 92.0, 'Test Set KNN': 52.0, 'Test Set SVM': 86.0, 'Test Set DT': 82.0, 'Test Set RF': 89.0}\n"
     ]
    }
   ],
   "source": [
    "print(score_dict)"
   ]
  },
  {
   "cell_type": "code",
   "execution_count": 38,
   "id": "039d7575",
   "metadata": {
    "execution": {
     "iopub.execute_input": "2023-01-14T13:20:36.962694Z",
     "iopub.status.busy": "2023-01-14T13:20:36.962201Z",
     "iopub.status.idle": "2023-01-14T13:20:37.177511Z",
     "shell.execute_reply": "2023-01-14T13:20:37.175543Z"
    },
    "papermill": {
     "duration": 0.240102,
     "end_time": "2023-01-14T13:20:37.181594",
     "exception": false,
     "start_time": "2023-01-14T13:20:36.941492",
     "status": "completed"
    },
    "tags": []
   },
   "outputs": [
    {
     "data": {
      "image/png": "[encoded data removed]",
      "text/plain": [
       "<Figure size 1008x504 with 1 Axes>"
      ]
     },
     "metadata": {
      "needs_background": "light"
     },
     "output_type": "display_data"
    }
   ],
   "source": [
    "plt.figure(figsize=(14, 7))\n",
    "plt.bar(list(score_dict.keys()), list(score_dict.values()), tick_label=list(score_dict.keys()))\n",
    "plt.show()"
   ]
  }
 ],
 "metadata": {
  "kernelspec": {
   "display_name": "Python 3",
   "language": "python",
   "name": "python3"
  },
  "language_info": {
   "codemirror_mode": {
    "name": "ipython",
    "version": 3
   },
   "file_extension": ".py",
   "mimetype": "text/x-python",
   "name": "python",
   "nbconvert_exporter": "python",
   "pygments_lexer": "ipython3",
   "version": "3.7.12"
  },
  "papermill": {
   "default_parameters": {},
   "duration": 22.860296,
   "end_time": "2023-01-14T13:20:38.130908",
   "environment_variables": {},
   "exception": null,
   "input_path": "__notebook__.ipynb",
   "output_path": "__notebook__.ipynb",
   "parameters": {},
   "start_time": "2023-01-14T13:20:15.270612",
   "version": "2.3.4"
  }
 },
 "nbformat": 4,
 "nbformat_minor": 5
}
