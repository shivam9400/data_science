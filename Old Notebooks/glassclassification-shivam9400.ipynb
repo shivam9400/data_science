{
 "cells": [
  {
   "cell_type": "markdown",
   "id": "49993cd0",
   "metadata": {
    "_cell_guid": "b1076dfc-b9ad-4769-8c92-a6c4dae69d19",
    "_uuid": "8f2839f25d086af736a60e9eeb907d3b93b6e0e5",
    "papermill": {
     "duration": 0.007901,
     "end_time": "2023-03-12T15:33:14.375441",
     "exception": false,
     "start_time": "2023-03-12T15:33:14.367540",
     "status": "completed"
    },
    "tags": []
   },
   "source": [
    "#### This Python 3 environment comes with many helpful analytics libraries installed\n",
    "# It is defined by the kaggle/python Docker image: https://github.com/kaggle/docker-python\n",
    "# For example, here's several helpful packages to load\n",
    "\n",
    "import numpy as np # linear algebra\n",
    "import pandas as pd # data processing, CSV file I/O (e.g. pd.read_csv)\n",
    "\n",
    "# Input data files are available in the read-only \"../input/\" directory\n",
    "# For example, running this (by clicking run or pressing Shift+Enter) will list all files under the input directory\n",
    "\n",
    "import os\n",
    "for dirname, _, filenames in os.walk('/kaggle/input'):\n",
    "    for filename in filenames:\n",
    "        print(os.path.join(dirname, filename))\n",
    "\n",
    "# You can write up to 20GB to the current directory (/kaggle/working/) that gets preserved as output when you create a version using \"Save & Run All\" \n",
    "# You can also write temporary files to /kaggle/temp/, but they won't be saved outside of the current session"
   ]
  },
  {
   "cell_type": "markdown",
   "id": "64cdd40e",
   "metadata": {
    "papermill": {
     "duration": 0.006632,
     "end_time": "2023-03-12T15:33:14.389171",
     "exception": false,
     "start_time": "2023-03-12T15:33:14.382539",
     "status": "completed"
    },
    "tags": []
   },
   "source": [
    "# <u>Data Exploration</u>"
   ]
  },
  {
   "cell_type": "code",
   "execution_count": 1,
   "id": "524db6e3",
   "metadata": {
    "execution": {
     "iopub.execute_input": "2023-03-12T15:33:14.405217Z",
     "iopub.status.busy": "2023-03-12T15:33:14.404511Z",
     "iopub.status.idle": "2023-03-12T15:33:14.455245Z",
     "shell.execute_reply": "2023-03-12T15:33:14.453699Z"
    },
    "papermill": {
     "duration": 0.062452,
     "end_time": "2023-03-12T15:33:14.458492",
     "exception": false,
     "start_time": "2023-03-12T15:33:14.396040",
     "status": "completed"
    },
    "tags": []
   },
   "outputs": [
    {
     "data": {
      "text/html": [
       "<div>\n",
       "<style scoped>\n",
       "    .dataframe tbody tr th:only-of-type {\n",
       "        vertical-align: middle;\n",
       "    }\n",
       "\n",
       "    .dataframe tbody tr th {\n",
       "        vertical-align: top;\n",
       "    }\n",
       "\n",
       "    .dataframe thead th {\n",
       "        text-align: right;\n",
       "    }\n",
       "</style>\n",
       "<table border=\"1\" class=\"dataframe\">\n",
       "  <thead>\n",
       "    <tr style=\"text-align: right;\">\n",
       "      <th></th>\n",
       "      <th>RI</th>\n",
       "      <th>Na</th>\n",
       "      <th>Mg</th>\n",
       "      <th>Al</th>\n",
       "      <th>Si</th>\n",
       "      <th>K</th>\n",
       "      <th>Ca</th>\n",
       "      <th>Ba</th>\n",
       "      <th>Fe</th>\n",
       "      <th>Type</th>\n",
       "    </tr>\n",
       "  </thead>\n",
       "  <tbody>\n",
       "    <tr>\n",
       "      <th>0</th>\n",
       "      <td>1.52101</td>\n",
       "      <td>13.64</td>\n",
       "      <td>4.49</td>\n",
       "      <td>1.10</td>\n",
       "      <td>71.78</td>\n",
       "      <td>0.06</td>\n",
       "      <td>8.75</td>\n",
       "      <td>0.0</td>\n",
       "      <td>0.0</td>\n",
       "      <td>1</td>\n",
       "    </tr>\n",
       "    <tr>\n",
       "      <th>1</th>\n",
       "      <td>1.51761</td>\n",
       "      <td>13.89</td>\n",
       "      <td>3.60</td>\n",
       "      <td>1.36</td>\n",
       "      <td>72.73</td>\n",
       "      <td>0.48</td>\n",
       "      <td>7.83</td>\n",
       "      <td>0.0</td>\n",
       "      <td>0.0</td>\n",
       "      <td>1</td>\n",
       "    </tr>\n",
       "    <tr>\n",
       "      <th>2</th>\n",
       "      <td>1.51618</td>\n",
       "      <td>13.53</td>\n",
       "      <td>3.55</td>\n",
       "      <td>1.54</td>\n",
       "      <td>72.99</td>\n",
       "      <td>0.39</td>\n",
       "      <td>7.78</td>\n",
       "      <td>0.0</td>\n",
       "      <td>0.0</td>\n",
       "      <td>1</td>\n",
       "    </tr>\n",
       "    <tr>\n",
       "      <th>3</th>\n",
       "      <td>1.51766</td>\n",
       "      <td>13.21</td>\n",
       "      <td>3.69</td>\n",
       "      <td>1.29</td>\n",
       "      <td>72.61</td>\n",
       "      <td>0.57</td>\n",
       "      <td>8.22</td>\n",
       "      <td>0.0</td>\n",
       "      <td>0.0</td>\n",
       "      <td>1</td>\n",
       "    </tr>\n",
       "    <tr>\n",
       "      <th>4</th>\n",
       "      <td>1.51742</td>\n",
       "      <td>13.27</td>\n",
       "      <td>3.62</td>\n",
       "      <td>1.24</td>\n",
       "      <td>73.08</td>\n",
       "      <td>0.55</td>\n",
       "      <td>8.07</td>\n",
       "      <td>0.0</td>\n",
       "      <td>0.0</td>\n",
       "      <td>1</td>\n",
       "    </tr>\n",
       "  </tbody>\n",
       "</table>\n",
       "</div>"
      ],
      "text/plain": [
       "        RI     Na    Mg    Al     Si     K    Ca   Ba   Fe  Type\n",
       "0  1.52101  13.64  4.49  1.10  71.78  0.06  8.75  0.0  0.0     1\n",
       "1  1.51761  13.89  3.60  1.36  72.73  0.48  7.83  0.0  0.0     1\n",
       "2  1.51618  13.53  3.55  1.54  72.99  0.39  7.78  0.0  0.0     1\n",
       "3  1.51766  13.21  3.69  1.29  72.61  0.57  8.22  0.0  0.0     1\n",
       "4  1.51742  13.27  3.62  1.24  73.08  0.55  8.07  0.0  0.0     1"
      ]
     },
     "execution_count": 1,
     "metadata": {},
     "output_type": "execute_result"
    }
   ],
   "source": [
    "import pandas as pd\n",
    "df=pd.read_csv('/kaggle/input/glass/glass.csv')\n",
    "df.head()"
   ]
  },
  {
   "cell_type": "code",
   "execution_count": 2,
   "id": "702675eb",
   "metadata": {
    "execution": {
     "iopub.execute_input": "2023-03-12T15:33:14.474922Z",
     "iopub.status.busy": "2023-03-12T15:33:14.474518Z",
     "iopub.status.idle": "2023-03-12T15:33:14.498331Z",
     "shell.execute_reply": "2023-03-12T15:33:14.497031Z"
    },
    "papermill": {
     "duration": 0.035364,
     "end_time": "2023-03-12T15:33:14.501252",
     "exception": false,
     "start_time": "2023-03-12T15:33:14.465888",
     "status": "completed"
    },
    "tags": []
   },
   "outputs": [
    {
     "name": "stdout",
     "output_type": "stream",
     "text": [
      "RI has following unique values [1.52101 1.51761 1.51618 1.51766 1.51742 1.51596 1.51743 1.51756 1.51918\n",
      " 1.51755 1.51571 1.51763 1.51589 1.51748 1.51784 1.52196 1.51911 1.51735\n",
      " 1.5175  1.51966 1.51736 1.51751 1.5172  1.51764 1.51793 1.51721 1.51768\n",
      " 1.51747 1.51775 1.51753 1.51783 1.51567 1.51909 1.51797 1.52213 1.51779\n",
      " 1.5221  1.51786 1.519   1.51869 1.52667 1.52223 1.51898 1.5232  1.51926\n",
      " 1.51808 1.51837 1.51778 1.51769 1.51215 1.51824 1.51754 1.51905 1.51977\n",
      " 1.52172 1.52227 1.52099 1.52152 1.523   1.51574 1.51848 1.51593 1.51631\n",
      " 1.5159  1.51645 1.51627 1.51613 1.51592 1.51646 1.51594 1.51409 1.51625\n",
      " 1.51569 1.5164  1.51841 1.51605 1.51588 1.51629 1.5186  1.51689 1.51811\n",
      " 1.51655 1.5173  1.5182  1.52725 1.5241  1.52475 1.53125 1.53393 1.52222\n",
      " 1.51818 1.52664 1.52739 1.52777 1.51892 1.51847 1.51846 1.51829 1.51708\n",
      " 1.51673 1.51652 1.51844 1.51663 1.51687 1.51707 1.52177 1.51872 1.51667\n",
      " 1.52081 1.52068 1.5202  1.52614 1.51813 1.518   1.51789 1.51806 1.51711\n",
      " 1.51674 1.5169  1.51851 1.51662 1.51709 1.5166  1.51839 1.5161  1.5167\n",
      " 1.51643 1.51665 1.52127 1.51694 1.52121 1.51776 1.51796 1.51832 1.51934\n",
      " 1.52211 1.51514 1.51915 1.52171 1.52151 1.51969 1.51666 1.51994 1.52369\n",
      " 1.51316 1.51321 1.52043 1.52058 1.52119 1.51937 1.51852 1.51299 1.51888\n",
      " 1.51916 1.51115 1.51131 1.51838 1.52315 1.52247 1.52365 1.51602 1.51623\n",
      " 1.51719 1.51683 1.51545 1.51556 1.51727 1.51531 1.51609 1.51508 1.51653\n",
      " 1.51658 1.51617 1.51732 1.51831 1.51685 1.52065 1.51651]\n",
      "\n",
      "Na has following unique values [13.64 13.89 13.53 13.21 13.27 12.79 13.3  13.15 14.04 13.   12.72 12.8\n",
      " 12.88 12.86 12.61 12.81 12.68 14.36 13.9  13.02 12.82 14.77 12.78 13.38\n",
      " 12.98 12.87 12.56 13.08 12.65 12.84 12.85 12.57 12.69 13.29 12.74 14.21\n",
      " 12.71 13.73 12.73 13.49 13.19 13.99 13.58 13.72 13.2  13.43 13.14 12.45\n",
      " 12.99 13.48 13.39 13.6  13.81 13.51 14.17 13.69 13.05 13.12 13.31 14.86\n",
      " 13.09 13.34 13.44 13.92 13.25 13.41 14.25 13.36 13.24 13.4  13.01 12.55\n",
      " 12.93 12.9  12.2  12.67 12.96 12.75 12.35 12.62 13.8  13.83 11.45 10.73\n",
      " 12.3  14.43 11.23 11.02 12.64 13.46 13.1  13.56 13.23 12.94 13.78 13.55\n",
      " 13.98 13.75 13.7  13.71 13.33 12.89 13.65 12.16 14.32 13.42 13.04 14.03\n",
      " 13.5  14.19 14.01 11.56 11.03 12.97 14.   13.79 14.46 14.09 14.4  14.99\n",
      " 14.15 14.56 17.38 15.79 13.88 14.85 14.2  14.75 14.14 13.87 14.7  14.38\n",
      " 15.01 15.15 11.95 14.8  14.95 14.94 14.39 14.37 14.92 14.23]\n",
      "\n",
      "Mg has following unique values [4.49 3.6  3.55 3.69 3.62 3.61 3.58 3.46 3.66 3.43 3.56 3.59 3.54 3.67\n",
      " 3.85 3.73 3.75 3.57 3.5  3.48 3.52 3.49 3.47 3.45 3.53 3.82 3.42 3.39\n",
      " 3.84 3.37 3.7  3.77 3.35 3.72 3.33 2.87 2.84 2.81 2.71 3.74 3.86 3.81\n",
      " 3.65 3.87 3.09 3.44 3.41 3.34 3.25 2.88 2.96 2.85 2.72 2.76 3.15 2.9\n",
      " 0.   3.83 3.97 3.89 3.9  3.68 3.64 3.76 2.28 2.09 1.35 1.01 3.98 3.93\n",
      " 3.8  3.63 3.51 3.18 3.4  3.36 3.78 2.68 1.85 1.88 1.71 1.61 0.33 2.39\n",
      " 2.41 2.24 2.19 1.74 0.78 3.2  3.26 2.2  1.83 1.78]\n",
      "\n",
      "Al has following unique values [1.1  1.36 1.54 1.29 1.24 1.62 1.14 1.05 1.37 1.56 1.27 1.4  1.31 1.23\n",
      " 1.16 0.89 1.18 1.69 1.49 0.29 1.35 1.15 1.21 1.41 1.33 1.43 1.28 1.3\n",
      " 1.38 1.34 1.32 0.47 1.12 1.2  0.72 1.19 0.71 0.79 0.51 1.17 1.11 0.88\n",
      " 0.78 0.9  0.87 0.82 1.74 1.52 1.57 1.51 1.25 1.9  2.12 1.55 2.08 1.47\n",
      " 1.48 1.87 1.45 1.58 1.06 1.71 1.44 1.63 0.83 0.66 1.88 2.1  1.   0.56\n",
      " 0.77 0.75 0.67 1.26 1.81 1.53 1.67 1.08 1.64 1.61 1.07 1.79 1.76 0.65\n",
      " 1.22 0.58 0.91 3.5  1.86 1.65 1.83 3.04 3.02 2.17 1.66 2.09 0.34 2.22\n",
      " 2.06 2.38 2.79 2.   1.98 2.68 2.54 2.34 2.66 2.51 2.25 2.42 1.99 2.27\n",
      " 1.8  1.82 2.74 2.88 2.02 1.94]\n",
      "\n",
      "Si has following unique values [71.78 72.73 72.99 72.61 73.08 72.97 73.09 73.24 72.08 73.2  73.01 73.28\n",
      " 73.21 73.29 73.11 71.36 72.12 72.75 72.02 72.79 73.02 72.85 73.   72.64\n",
      " 73.04 73.15 72.86 73.27 73.39 72.95 72.74 71.81 72.96 71.77 73.03 72.76\n",
      " 71.76 71.95 72.72 71.57 71.99 71.75 72.36 72.84 72.98 73.7  71.72 71.79\n",
      " 71.35 72.01 71.96 72.22 72.32 72.2  71.87 73.1  72.87 73.12 72.39 72.83\n",
      " 72.88 72.66 73.17 72.81 72.28 73.25 72.65 72.89 73.23 73.06 73.26 72.26\n",
      " 72.34 73.55 72.92 73.81 70.57 71.15 72.19 69.81 70.16 72.67 74.45 72.55\n",
      " 72.44 72.38 72.33 72.06 72.53 72.45 72.4  72.52 72.51 72.18 71.24 72.49\n",
      " 72.78 73.07 73.36 73.14 72.54 72.57 72.77 72.7  72.48 71.5  72.69 72.04\n",
      " 71.94 72.14 69.89 73.44 73.75 73.88 70.48 70.7  72.25 72.37 74.55 72.5\n",
      " 73.48 75.41 71.25 70.26 70.43 73.46 73.05 73.5  75.18 73.72 73.3  73.42\n",
      " 73.61]\n",
      "\n",
      "K has following unique values [0.06 0.48 0.39 0.57 0.55 0.64 0.58 0.56 0.67 0.6  0.69 0.54 0.61 0.15\n",
      " 0.03 0.59 0.62 0.5  0.65 0.51 0.11 0.17 0.02 0.13 0.09 0.14 0.12 0.23\n",
      " 0.   0.18 0.19 0.16 0.72 0.66 0.37 0.68 1.1  0.45 0.38 0.63 0.44 0.07\n",
      " 0.73 0.7  0.35 0.08 0.81 0.1  0.49 0.53 0.33 0.52 1.68 0.47 0.97 0.32\n",
      " 6.21 0.76 1.76 1.46 0.31 0.04 0.05 2.7  1.41]\n",
      "\n",
      "Ca has following unique values [ 8.75  7.83  7.78  8.22  8.07  8.17  8.24  8.3   8.4   8.09  8.56  8.05\n",
      "  8.38  8.5   8.39  8.7   9.15  8.89  8.44  8.52  9.    8.59  8.43  8.53\n",
      "  8.54  8.49  8.69  8.55  8.57  8.78  8.68  9.57  8.77  8.64  9.74  8.76\n",
      "  8.83  9.82 10.02  8.91 10.06  9.14  9.03  9.07  9.02  9.06  8.35  8.03\n",
      "  8.27  8.67  9.54  9.69  9.61  9.4   9.85 10.17  7.36  8.32  7.89  7.9\n",
      "  7.96  8.04  7.94  7.97  7.86  8.1   7.08  8.21  8.08  8.12  8.96  8.6\n",
      "  9.13  8.9   8.79  9.23  9.42 11.64 10.79 13.24 13.3  16.19 11.52 10.99\n",
      " 14.68 14.96 14.4   8.28  8.31  7.88  8.42  7.99 10.56 11.14 13.44  8.15\n",
      "  8.11  8.41  8.23  8.18  8.81  8.33  9.49  8.93  8.58  8.65  9.65  8.99\n",
      "  5.87 10.09 11.41 11.62 11.53 11.32 12.24  6.96  6.93 12.5   9.7  11.27\n",
      "  9.77  9.26  9.32  7.59  9.95 10.88 11.22  6.65  5.43  5.79  9.76  8.61\n",
      "  9.04  9.41  8.95  9.08  8.34  8.71  6.47  9.45  9.18  8.48  8.62]\n",
      "\n",
      "Ba has following unique values [0.   0.09 0.11 0.69 0.14 3.15 0.27 0.06 0.15 2.2  0.24 1.19 1.63 1.68\n",
      " 0.76 0.64 0.4  1.59 1.57 0.61 0.81 0.66 0.53 0.63 0.56 1.71 0.67 1.55\n",
      " 1.38 2.88 0.54 1.06 1.64 1.67]\n",
      "\n",
      "Fe has following unique values [0.   0.26 0.11 0.24 0.17 0.07 0.19 0.14 0.22 0.06 0.3  0.16 0.1  0.09\n",
      " 0.31 0.03 0.12 0.32 0.15 0.2  0.34 0.28 0.08 0.29 0.21 0.18 0.25 0.35\n",
      " 0.37 0.51 0.05 0.01]\n",
      "\n",
      "Type has following unique values [1 2 3 5 6 7]\n",
      "\n"
     ]
    }
   ],
   "source": [
    "for j in df.columns:\n",
    "    print(j, \"has following unique values\", df[j].unique())\n",
    "    print(\"\")"
   ]
  },
  {
   "cell_type": "code",
   "execution_count": 3,
   "id": "f40cae14",
   "metadata": {
    "execution": {
     "iopub.execute_input": "2023-03-12T15:33:14.518534Z",
     "iopub.status.busy": "2023-03-12T15:33:14.517651Z",
     "iopub.status.idle": "2023-03-12T15:33:14.528863Z",
     "shell.execute_reply": "2023-03-12T15:33:14.527499Z"
    },
    "papermill": {
     "duration": 0.023177,
     "end_time": "2023-03-12T15:33:14.531765",
     "exception": false,
     "start_time": "2023-03-12T15:33:14.508588",
     "status": "completed"
    },
    "tags": []
   },
   "outputs": [
    {
     "data": {
      "text/plain": [
       "RI      False\n",
       "Na      False\n",
       "Mg      False\n",
       "Al      False\n",
       "Si      False\n",
       "K       False\n",
       "Ca      False\n",
       "Ba      False\n",
       "Fe      False\n",
       "Type    False\n",
       "dtype: bool"
      ]
     },
     "execution_count": 3,
     "metadata": {},
     "output_type": "execute_result"
    }
   ],
   "source": [
    "df.isnull().any()"
   ]
  },
  {
   "cell_type": "code",
   "execution_count": 4,
   "id": "97df406c",
   "metadata": {
    "execution": {
     "iopub.execute_input": "2023-03-12T15:33:14.548206Z",
     "iopub.status.busy": "2023-03-12T15:33:14.547827Z",
     "iopub.status.idle": "2023-03-12T15:33:14.559268Z",
     "shell.execute_reply": "2023-03-12T15:33:14.557385Z"
    },
    "papermill": {
     "duration": 0.022721,
     "end_time": "2023-03-12T15:33:14.561910",
     "exception": false,
     "start_time": "2023-03-12T15:33:14.539189",
     "status": "completed"
    },
    "tags": []
   },
   "outputs": [
    {
     "name": "stdout",
     "output_type": "stream",
     "text": [
      "Duplicate values:  1\n",
      "Length of dataset: 214\n"
     ]
    }
   ],
   "source": [
    "print(\"Duplicate values: \", df.duplicated().sum())\n",
    "print(\"Length of dataset:\", len(df))"
   ]
  },
  {
   "cell_type": "code",
   "execution_count": 5,
   "id": "0a4be8cc",
   "metadata": {
    "execution": {
     "iopub.execute_input": "2023-03-12T15:33:14.579342Z",
     "iopub.status.busy": "2023-03-12T15:33:14.578667Z",
     "iopub.status.idle": "2023-03-12T15:33:14.590270Z",
     "shell.execute_reply": "2023-03-12T15:33:14.588631Z"
    },
    "papermill": {
     "duration": 0.023574,
     "end_time": "2023-03-12T15:33:14.593204",
     "exception": false,
     "start_time": "2023-03-12T15:33:14.569630",
     "status": "completed"
    },
    "tags": []
   },
   "outputs": [
    {
     "name": "stdout",
     "output_type": "stream",
     "text": [
      "Length of dataset: 213\n"
     ]
    }
   ],
   "source": [
    "df.drop_duplicates(inplace=True)\n",
    "print(\"Length of dataset:\", len(df))"
   ]
  },
  {
   "cell_type": "code",
   "execution_count": 6,
   "id": "88599d1d",
   "metadata": {
    "execution": {
     "iopub.execute_input": "2023-03-12T15:33:14.610593Z",
     "iopub.status.busy": "2023-03-12T15:33:14.609709Z",
     "iopub.status.idle": "2023-03-12T15:33:14.620356Z",
     "shell.execute_reply": "2023-03-12T15:33:14.619057Z"
    },
    "papermill": {
     "duration": 0.021605,
     "end_time": "2023-03-12T15:33:14.622592",
     "exception": false,
     "start_time": "2023-03-12T15:33:14.600987",
     "status": "completed"
    },
    "tags": []
   },
   "outputs": [
    {
     "data": {
      "text/plain": [
       "2    76\n",
       "1    69\n",
       "7    29\n",
       "3    17\n",
       "5    13\n",
       "6     9\n",
       "Name: Type, dtype: int64"
      ]
     },
     "execution_count": 6,
     "metadata": {},
     "output_type": "execute_result"
    }
   ],
   "source": [
    "df['Type'].value_counts()"
   ]
  },
  {
   "cell_type": "code",
   "execution_count": 7,
   "id": "b34e3394",
   "metadata": {
    "execution": {
     "iopub.execute_input": "2023-03-12T15:33:14.640647Z",
     "iopub.status.busy": "2023-03-12T15:33:14.640235Z",
     "iopub.status.idle": "2023-03-12T15:33:16.043070Z",
     "shell.execute_reply": "2023-03-12T15:33:16.041633Z"
    },
    "papermill": {
     "duration": 1.414528,
     "end_time": "2023-03-12T15:33:16.045683",
     "exception": false,
     "start_time": "2023-03-12T15:33:14.631155",
     "status": "completed"
    },
    "tags": []
   },
   "outputs": [
    {
     "data": {
      "image/png": "[encoded data removed]",
      "text/plain": [
       "<Figure size 640x480 with 1 Axes>"
      ]
     },
     "metadata": {},
     "output_type": "display_data"
    }
   ],
   "source": [
    "import seaborn as sns\n",
    "import matplotlib.pyplot as plt\n",
    "\n",
    "sns.countplot(x=\"Type\", data=df)\n",
    "count=0\n",
    "for j in list(df['Type'].unique()):\n",
    "    count=count+1\n",
    "    plt.text(count-1.15, df['Type'].value_counts()[j]+1,df['Type'].value_counts()[j])"
   ]
  },
  {
   "cell_type": "code",
   "execution_count": 8,
   "id": "fb24e908",
   "metadata": {
    "execution": {
     "iopub.execute_input": "2023-03-12T15:33:16.063623Z",
     "iopub.status.busy": "2023-03-12T15:33:16.063187Z",
     "iopub.status.idle": "2023-03-12T15:33:16.108674Z",
     "shell.execute_reply": "2023-03-12T15:33:16.107461Z"
    },
    "papermill": {
     "duration": 0.057704,
     "end_time": "2023-03-12T15:33:16.111278",
     "exception": false,
     "start_time": "2023-03-12T15:33:16.053574",
     "status": "completed"
    },
    "tags": []
   },
   "outputs": [
    {
     "data": {
      "text/html": [
       "<div>\n",
       "<style scoped>\n",
       "    .dataframe tbody tr th:only-of-type {\n",
       "        vertical-align: middle;\n",
       "    }\n",
       "\n",
       "    .dataframe tbody tr th {\n",
       "        vertical-align: top;\n",
       "    }\n",
       "\n",
       "    .dataframe thead th {\n",
       "        text-align: right;\n",
       "    }\n",
       "</style>\n",
       "<table border=\"1\" class=\"dataframe\">\n",
       "  <thead>\n",
       "    <tr style=\"text-align: right;\">\n",
       "      <th></th>\n",
       "      <th>RI</th>\n",
       "      <th>Na</th>\n",
       "      <th>Mg</th>\n",
       "      <th>Al</th>\n",
       "      <th>Si</th>\n",
       "      <th>K</th>\n",
       "      <th>Ca</th>\n",
       "      <th>Ba</th>\n",
       "      <th>Fe</th>\n",
       "      <th>Type</th>\n",
       "    </tr>\n",
       "  </thead>\n",
       "  <tbody>\n",
       "    <tr>\n",
       "      <th>count</th>\n",
       "      <td>213.000000</td>\n",
       "      <td>213.000000</td>\n",
       "      <td>213.000000</td>\n",
       "      <td>213.000000</td>\n",
       "      <td>213.000000</td>\n",
       "      <td>213.000000</td>\n",
       "      <td>213.000000</td>\n",
       "      <td>213.000000</td>\n",
       "      <td>213.000000</td>\n",
       "      <td>213.000000</td>\n",
       "    </tr>\n",
       "    <tr>\n",
       "      <th>mean</th>\n",
       "      <td>1.518348</td>\n",
       "      <td>13.404085</td>\n",
       "      <td>2.679202</td>\n",
       "      <td>1.449484</td>\n",
       "      <td>72.655070</td>\n",
       "      <td>0.498873</td>\n",
       "      <td>8.954085</td>\n",
       "      <td>0.175869</td>\n",
       "      <td>0.057277</td>\n",
       "      <td>2.788732</td>\n",
       "    </tr>\n",
       "    <tr>\n",
       "      <th>std</th>\n",
       "      <td>0.003033</td>\n",
       "      <td>0.816662</td>\n",
       "      <td>1.443691</td>\n",
       "      <td>0.495925</td>\n",
       "      <td>0.773998</td>\n",
       "      <td>0.653185</td>\n",
       "      <td>1.425882</td>\n",
       "      <td>0.498245</td>\n",
       "      <td>0.097589</td>\n",
       "      <td>2.105130</td>\n",
       "    </tr>\n",
       "    <tr>\n",
       "      <th>min</th>\n",
       "      <td>1.511150</td>\n",
       "      <td>10.730000</td>\n",
       "      <td>0.000000</td>\n",
       "      <td>0.290000</td>\n",
       "      <td>69.810000</td>\n",
       "      <td>0.000000</td>\n",
       "      <td>5.430000</td>\n",
       "      <td>0.000000</td>\n",
       "      <td>0.000000</td>\n",
       "      <td>1.000000</td>\n",
       "    </tr>\n",
       "    <tr>\n",
       "      <th>25%</th>\n",
       "      <td>1.516520</td>\n",
       "      <td>12.900000</td>\n",
       "      <td>2.090000</td>\n",
       "      <td>1.190000</td>\n",
       "      <td>72.280000</td>\n",
       "      <td>0.130000</td>\n",
       "      <td>8.240000</td>\n",
       "      <td>0.000000</td>\n",
       "      <td>0.000000</td>\n",
       "      <td>1.000000</td>\n",
       "    </tr>\n",
       "    <tr>\n",
       "      <th>50%</th>\n",
       "      <td>1.517680</td>\n",
       "      <td>13.300000</td>\n",
       "      <td>3.480000</td>\n",
       "      <td>1.360000</td>\n",
       "      <td>72.790000</td>\n",
       "      <td>0.560000</td>\n",
       "      <td>8.600000</td>\n",
       "      <td>0.000000</td>\n",
       "      <td>0.000000</td>\n",
       "      <td>2.000000</td>\n",
       "    </tr>\n",
       "    <tr>\n",
       "      <th>75%</th>\n",
       "      <td>1.519150</td>\n",
       "      <td>13.810000</td>\n",
       "      <td>3.600000</td>\n",
       "      <td>1.630000</td>\n",
       "      <td>73.090000</td>\n",
       "      <td>0.610000</td>\n",
       "      <td>9.150000</td>\n",
       "      <td>0.000000</td>\n",
       "      <td>0.100000</td>\n",
       "      <td>3.000000</td>\n",
       "    </tr>\n",
       "    <tr>\n",
       "      <th>max</th>\n",
       "      <td>1.533930</td>\n",
       "      <td>17.380000</td>\n",
       "      <td>4.490000</td>\n",
       "      <td>3.500000</td>\n",
       "      <td>75.410000</td>\n",
       "      <td>6.210000</td>\n",
       "      <td>16.190000</td>\n",
       "      <td>3.150000</td>\n",
       "      <td>0.510000</td>\n",
       "      <td>7.000000</td>\n",
       "    </tr>\n",
       "  </tbody>\n",
       "</table>\n",
       "</div>"
      ],
      "text/plain": [
       "               RI          Na          Mg          Al          Si           K  \\\n",
       "count  213.000000  213.000000  213.000000  213.000000  213.000000  213.000000   \n",
       "mean     1.518348   13.404085    2.679202    1.449484   72.655070    0.498873   \n",
       "std      0.003033    0.816662    1.443691    0.495925    0.773998    0.653185   \n",
       "min      1.511150   10.730000    0.000000    0.290000   69.810000    0.000000   \n",
       "25%      1.516520   12.900000    2.090000    1.190000   72.280000    0.130000   \n",
       "50%      1.517680   13.300000    3.480000    1.360000   72.790000    0.560000   \n",
       "75%      1.519150   13.810000    3.600000    1.630000   73.090000    0.610000   \n",
       "max      1.533930   17.380000    4.490000    3.500000   75.410000    6.210000   \n",
       "\n",
       "               Ca          Ba          Fe        Type  \n",
       "count  213.000000  213.000000  213.000000  213.000000  \n",
       "mean     8.954085    0.175869    0.057277    2.788732  \n",
       "std      1.425882    0.498245    0.097589    2.105130  \n",
       "min      5.430000    0.000000    0.000000    1.000000  \n",
       "25%      8.240000    0.000000    0.000000    1.000000  \n",
       "50%      8.600000    0.000000    0.000000    2.000000  \n",
       "75%      9.150000    0.000000    0.100000    3.000000  \n",
       "max     16.190000    3.150000    0.510000    7.000000  "
      ]
     },
     "execution_count": 8,
     "metadata": {},
     "output_type": "execute_result"
    }
   ],
   "source": [
    "df.describe()"
   ]
  },
  {
   "cell_type": "code",
   "execution_count": 9,
   "id": "ae36c2cf",
   "metadata": {
    "execution": {
     "iopub.execute_input": "2023-03-12T15:33:16.129564Z",
     "iopub.status.busy": "2023-03-12T15:33:16.129120Z",
     "iopub.status.idle": "2023-03-12T15:33:16.960750Z",
     "shell.execute_reply": "2023-03-12T15:33:16.959696Z"
    },
    "papermill": {
     "duration": 0.844842,
     "end_time": "2023-03-12T15:33:16.964586",
     "exception": false,
     "start_time": "2023-03-12T15:33:16.119744",
     "status": "completed"
    },
    "tags": []
   },
   "outputs": [
    {
     "data": {
      "text/plain": [
       "<AxesSubplot:>"
      ]
     },
     "execution_count": 9,
     "metadata": {},
     "output_type": "execute_result"
    },
    {
     "data": {
      "image/png": "[encoded data removed]",
      "text/plain": [
       "<Figure size 1000x500 with 2 Axes>"
      ]
     },
     "metadata": {},
     "output_type": "display_data"
    }
   ],
   "source": [
    "plt.figure(figsize=(10,5))\n",
    "sns.heatmap(df.corr(), annot=True)"
   ]
  },
  {
   "cell_type": "markdown",
   "id": "16f564b2",
   "metadata": {
    "papermill": {
     "duration": 0.009707,
     "end_time": "2023-03-12T15:33:16.984214",
     "exception": false,
     "start_time": "2023-03-12T15:33:16.974507",
     "status": "completed"
    },
    "tags": []
   },
   "source": [
    "# <u>Machine Learning</u>"
   ]
  },
  {
   "cell_type": "code",
   "execution_count": 10,
   "id": "40462a7c",
   "metadata": {
    "execution": {
     "iopub.execute_input": "2023-03-12T15:33:17.005840Z",
     "iopub.status.busy": "2023-03-12T15:33:17.005418Z",
     "iopub.status.idle": "2023-03-12T15:33:17.011819Z",
     "shell.execute_reply": "2023-03-12T15:33:17.010572Z"
    },
    "papermill": {
     "duration": 0.020106,
     "end_time": "2023-03-12T15:33:17.014034",
     "exception": false,
     "start_time": "2023-03-12T15:33:16.993928",
     "status": "completed"
    },
    "tags": []
   },
   "outputs": [],
   "source": [
    "x = df.iloc[:,:-1].values\n",
    "y = df.iloc[:,-1].values"
   ]
  },
  {
   "cell_type": "code",
   "execution_count": 11,
   "id": "e9b7e149",
   "metadata": {
    "execution": {
     "iopub.execute_input": "2023-03-12T15:33:17.035916Z",
     "iopub.status.busy": "2023-03-12T15:33:17.034958Z",
     "iopub.status.idle": "2023-03-12T15:33:17.042366Z",
     "shell.execute_reply": "2023-03-12T15:33:17.041172Z"
    },
    "papermill": {
     "duration": 0.020644,
     "end_time": "2023-03-12T15:33:17.044673",
     "exception": false,
     "start_time": "2023-03-12T15:33:17.024029",
     "status": "completed"
    },
    "tags": []
   },
   "outputs": [
    {
     "data": {
      "text/plain": [
       "((213, 9), (213,))"
      ]
     },
     "execution_count": 11,
     "metadata": {},
     "output_type": "execute_result"
    }
   ],
   "source": [
    "x.shape, y.shape"
   ]
  },
  {
   "cell_type": "code",
   "execution_count": 12,
   "id": "947f45bc",
   "metadata": {
    "execution": {
     "iopub.execute_input": "2023-03-12T15:33:17.066843Z",
     "iopub.status.busy": "2023-03-12T15:33:17.065706Z",
     "iopub.status.idle": "2023-03-12T15:33:17.762069Z",
     "shell.execute_reply": "2023-03-12T15:33:17.761045Z"
    },
    "papermill": {
     "duration": 0.710522,
     "end_time": "2023-03-12T15:33:17.764890",
     "exception": false,
     "start_time": "2023-03-12T15:33:17.054368",
     "status": "completed"
    },
    "tags": []
   },
   "outputs": [],
   "source": [
    "# Oversampling\n",
    "from imblearn.over_sampling import SMOTE\n",
    "oversample=SMOTE()\n",
    "xo,yo=oversample.fit_resample(x,y)"
   ]
  },
  {
   "cell_type": "code",
   "execution_count": 13,
   "id": "0be1be56",
   "metadata": {
    "execution": {
     "iopub.execute_input": "2023-03-12T15:33:17.786701Z",
     "iopub.status.busy": "2023-03-12T15:33:17.786253Z",
     "iopub.status.idle": "2023-03-12T15:33:17.792821Z",
     "shell.execute_reply": "2023-03-12T15:33:17.791997Z"
    },
    "papermill": {
     "duration": 0.01998,
     "end_time": "2023-03-12T15:33:17.794895",
     "exception": false,
     "start_time": "2023-03-12T15:33:17.774915",
     "status": "completed"
    },
    "tags": []
   },
   "outputs": [
    {
     "data": {
      "text/plain": [
       "((456, 9), (456,))"
      ]
     },
     "execution_count": 13,
     "metadata": {},
     "output_type": "execute_result"
    }
   ],
   "source": [
    "xo.shape, yo.shape"
   ]
  },
  {
   "cell_type": "code",
   "execution_count": 14,
   "id": "263f78a6",
   "metadata": {
    "execution": {
     "iopub.execute_input": "2023-03-12T15:33:17.817503Z",
     "iopub.status.busy": "2023-03-12T15:33:17.816332Z",
     "iopub.status.idle": "2023-03-12T15:33:17.827225Z",
     "shell.execute_reply": "2023-03-12T15:33:17.826404Z"
    },
    "papermill": {
     "duration": 0.024478,
     "end_time": "2023-03-12T15:33:17.829518",
     "exception": false,
     "start_time": "2023-03-12T15:33:17.805040",
     "status": "completed"
    },
    "tags": []
   },
   "outputs": [
    {
     "data": {
      "text/plain": [
       "1    76\n",
       "2    76\n",
       "3    76\n",
       "5    76\n",
       "6    76\n",
       "7    76\n",
       "dtype: int64"
      ]
     },
     "execution_count": 14,
     "metadata": {},
     "output_type": "execute_result"
    }
   ],
   "source": [
    "pd.DataFrame(yo).value_counts()"
   ]
  },
  {
   "cell_type": "code",
   "execution_count": 15,
   "id": "decd1fff",
   "metadata": {
    "execution": {
     "iopub.execute_input": "2023-03-12T15:33:17.853597Z",
     "iopub.status.busy": "2023-03-12T15:33:17.852623Z",
     "iopub.status.idle": "2023-03-12T15:33:17.860599Z",
     "shell.execute_reply": "2023-03-12T15:33:17.859421Z"
    },
    "papermill": {
     "duration": 0.022097,
     "end_time": "2023-03-12T15:33:17.862993",
     "exception": false,
     "start_time": "2023-03-12T15:33:17.840896",
     "status": "completed"
    },
    "tags": []
   },
   "outputs": [],
   "source": [
    "#splitting test and train data\n",
    "from sklearn.model_selection import train_test_split\n",
    "x_train,x_test,y_train,y_test = train_test_split(xo,yo,test_size=0.20,random_state=1)"
   ]
  },
  {
   "cell_type": "code",
   "execution_count": 16,
   "id": "f480b30d",
   "metadata": {
    "execution": {
     "iopub.execute_input": "2023-03-12T15:33:17.885705Z",
     "iopub.status.busy": "2023-03-12T15:33:17.884970Z",
     "iopub.status.idle": "2023-03-12T15:33:17.892805Z",
     "shell.execute_reply": "2023-03-12T15:33:17.891713Z"
    },
    "papermill": {
     "duration": 0.02197,
     "end_time": "2023-03-12T15:33:17.895053",
     "exception": false,
     "start_time": "2023-03-12T15:33:17.873083",
     "status": "completed"
    },
    "tags": []
   },
   "outputs": [
    {
     "data": {
      "text/plain": [
       "((364, 9), (92, 9), (364,), (92,))"
      ]
     },
     "execution_count": 16,
     "metadata": {},
     "output_type": "execute_result"
    }
   ],
   "source": [
    "x_train.shape, x_test.shape, y_train.shape, y_test.shape "
   ]
  },
  {
   "cell_type": "code",
   "execution_count": 17,
   "id": "8d445845",
   "metadata": {
    "execution": {
     "iopub.execute_input": "2023-03-12T15:33:17.917956Z",
     "iopub.status.busy": "2023-03-12T15:33:17.917194Z",
     "iopub.status.idle": "2023-03-12T15:33:17.923568Z",
     "shell.execute_reply": "2023-03-12T15:33:17.922576Z"
    },
    "papermill": {
     "duration": 0.020183,
     "end_time": "2023-03-12T15:33:17.925695",
     "exception": false,
     "start_time": "2023-03-12T15:33:17.905512",
     "status": "completed"
    },
    "tags": []
   },
   "outputs": [
    {
     "data": {
      "text/plain": [
       "array([0, 1, 2, 3, 4, 5, 6, 7, 8])"
      ]
     },
     "execution_count": 17,
     "metadata": {},
     "output_type": "execute_result"
    }
   ],
   "source": [
    "import numpy as np\n",
    "np.arange(0,9)"
   ]
  },
  {
   "cell_type": "code",
   "execution_count": 18,
   "id": "784a354c",
   "metadata": {
    "execution": {
     "iopub.execute_input": "2023-03-12T15:33:17.948494Z",
     "iopub.status.busy": "2023-03-12T15:33:17.947565Z",
     "iopub.status.idle": "2023-03-12T15:33:18.236957Z",
     "shell.execute_reply": "2023-03-12T15:33:18.235551Z"
    },
    "papermill": {
     "duration": 0.303614,
     "end_time": "2023-03-12T15:33:18.239556",
     "exception": false,
     "start_time": "2023-03-12T15:33:17.935942",
     "status": "completed"
    },
    "tags": []
   },
   "outputs": [
    {
     "data": {
      "image/png": "[encoded data removed]",
      "text/plain": [
       "<Figure size 1000x500 with 1 Axes>"
      ]
     },
     "metadata": {},
     "output_type": "display_data"
    }
   ],
   "source": [
    "import numpy as np\n",
    "\n",
    "list_cols=[]\n",
    "for j in np.arange(0, 9):\n",
    "    list_cols.append(xo[:,j])\n",
    "\n",
    "plt.figure(figsize=(10, 5))\n",
    "plt.boxplot(list_cols)\n",
    "plt.show()"
   ]
  },
  {
   "cell_type": "code",
   "execution_count": 19,
   "id": "ba69bb1b",
   "metadata": {
    "execution": {
     "iopub.execute_input": "2023-03-12T15:33:18.262957Z",
     "iopub.status.busy": "2023-03-12T15:33:18.262258Z",
     "iopub.status.idle": "2023-03-12T15:33:18.269530Z",
     "shell.execute_reply": "2023-03-12T15:33:18.268517Z"
    },
    "papermill": {
     "duration": 0.021556,
     "end_time": "2023-03-12T15:33:18.271816",
     "exception": false,
     "start_time": "2023-03-12T15:33:18.250260",
     "status": "completed"
    },
    "tags": []
   },
   "outputs": [],
   "source": [
    "#normalization using standard scalar\n",
    "from sklearn.preprocessing import StandardScaler\n",
    "scaler=StandardScaler()\n",
    "\n",
    "x_train=scaler.fit_transform(x_train)\n",
    "x_test=scaler.transform(x_test)"
   ]
  },
  {
   "cell_type": "code",
   "execution_count": 20,
   "id": "0a01e2f0",
   "metadata": {
    "execution": {
     "iopub.execute_input": "2023-03-12T15:33:18.295284Z",
     "iopub.status.busy": "2023-03-12T15:33:18.294878Z",
     "iopub.status.idle": "2023-03-12T15:33:18.308960Z",
     "shell.execute_reply": "2023-03-12T15:33:18.307609Z"
    },
    "papermill": {
     "duration": 0.028872,
     "end_time": "2023-03-12T15:33:18.311605",
     "exception": false,
     "start_time": "2023-03-12T15:33:18.282733",
     "status": "completed"
    },
    "tags": []
   },
   "outputs": [
    {
     "data": {
      "text/plain": [
       "KNeighborsClassifier(n_neighbors=3)"
      ]
     },
     "execution_count": 20,
     "metadata": {},
     "output_type": "execute_result"
    }
   ],
   "source": [
    "#KNN model creation\n",
    "from sklearn.neighbors import KNeighborsClassifier\n",
    "model= KNeighborsClassifier(n_neighbors=3)\n",
    "model.fit(x_train,y_train)"
   ]
  },
  {
   "cell_type": "code",
   "execution_count": 21,
   "id": "f2aa9e93",
   "metadata": {
    "execution": {
     "iopub.execute_input": "2023-03-12T15:33:18.336573Z",
     "iopub.status.busy": "2023-03-12T15:33:18.335361Z",
     "iopub.status.idle": "2023-03-12T15:33:18.346376Z",
     "shell.execute_reply": "2023-03-12T15:33:18.345281Z"
    },
    "papermill": {
     "duration": 0.026161,
     "end_time": "2023-03-12T15:33:18.348730",
     "exception": false,
     "start_time": "2023-03-12T15:33:18.322569",
     "status": "completed"
    },
    "tags": []
   },
   "outputs": [
    {
     "data": {
      "text/plain": [
       "array([1, 3, 5, 3, 3, 6, 6, 7, 7, 2, 5, 6, 5, 7, 1, 5, 1, 5, 1, 6, 3, 5,\n",
       "       5, 1, 1, 7, 1, 3, 7, 1, 2, 1, 6, 3, 5, 7, 3, 5, 1, 3, 1, 3, 5, 3,\n",
       "       6, 5, 2, 5, 6, 1, 5, 7, 3, 7, 7, 6, 7, 3, 5, 5, 2, 3, 5, 6, 3, 6,\n",
       "       5, 6, 3, 5, 7, 5, 1, 6, 7, 5, 1, 7, 6, 7, 1, 3, 6, 2, 2, 5, 1, 3,\n",
       "       6, 1, 1, 3])"
      ]
     },
     "execution_count": 21,
     "metadata": {},
     "output_type": "execute_result"
    }
   ],
   "source": [
    "y_pred= model.predict(x_test)\n",
    "y_pred"
   ]
  },
  {
   "cell_type": "markdown",
   "id": "3d1649f4",
   "metadata": {
    "papermill": {
     "duration": 0.010448,
     "end_time": "2023-03-12T15:33:18.370072",
     "exception": false,
     "start_time": "2023-03-12T15:33:18.359624",
     "status": "completed"
    },
    "tags": []
   },
   "source": [
    "# <u>Performance Evaluation</u>"
   ]
  },
  {
   "cell_type": "markdown",
   "id": "543dde21",
   "metadata": {
    "papermill": {
     "duration": 0.010313,
     "end_time": "2023-03-12T15:33:18.391215",
     "exception": false,
     "start_time": "2023-03-12T15:33:18.380902",
     "status": "completed"
    },
    "tags": []
   },
   "source": []
  },
  {
   "cell_type": "code",
   "execution_count": 22,
   "id": "551683b5",
   "metadata": {
    "execution": {
     "iopub.execute_input": "2023-03-12T15:33:18.414733Z",
     "iopub.status.busy": "2023-03-12T15:33:18.414266Z",
     "iopub.status.idle": "2023-03-12T15:33:18.424666Z",
     "shell.execute_reply": "2023-03-12T15:33:18.423637Z"
    },
    "papermill": {
     "duration": 0.025073,
     "end_time": "2023-03-12T15:33:18.426937",
     "exception": false,
     "start_time": "2023-03-12T15:33:18.401864",
     "status": "completed"
    },
    "tags": []
   },
   "outputs": [
    {
     "data": {
      "text/plain": [
       "array([[12,  0,  3,  0,  0,  0],\n",
       "       [ 2,  6,  1,  0,  1,  0],\n",
       "       [ 1,  0, 14,  0,  0,  0],\n",
       "       [ 0,  0,  0, 20,  0,  0],\n",
       "       [ 0,  0,  0,  0, 14,  0],\n",
       "       [ 3,  0,  0,  1,  0, 14]])"
      ]
     },
     "execution_count": 22,
     "metadata": {},
     "output_type": "execute_result"
    }
   ],
   "source": [
    "#importing evaluation metrics\n",
    "from sklearn.metrics import classification_report,accuracy_score,confusion_matrix,ConfusionMatrixDisplay\n",
    "matrix=confusion_matrix(y_test,y_pred)\n",
    "matrix"
   ]
  },
  {
   "cell_type": "code",
   "execution_count": 23,
   "id": "6c9ea9cd",
   "metadata": {
    "execution": {
     "iopub.execute_input": "2023-03-12T15:33:18.450602Z",
     "iopub.status.busy": "2023-03-12T15:33:18.450162Z",
     "iopub.status.idle": "2023-03-12T15:33:18.891723Z",
     "shell.execute_reply": "2023-03-12T15:33:18.890487Z"
    },
    "papermill": {
     "duration": 0.456321,
     "end_time": "2023-03-12T15:33:18.894227",
     "exception": false,
     "start_time": "2023-03-12T15:33:18.437906",
     "status": "completed"
    },
    "tags": []
   },
   "outputs": [
    {
     "data": {
      "text/plain": [
       "<sklearn.metrics._plot.confusion_matrix.ConfusionMatrixDisplay at 0x7fc67b659c90>"
      ]
     },
     "execution_count": 23,
     "metadata": {},
     "output_type": "execute_result"
    },
    {
     "data": {
      "image/png": "[encoded data removed]",
      "text/plain": [
       "<Figure size 640x480 with 2 Axes>"
      ]
     },
     "metadata": {},
     "output_type": "display_data"
    }
   ],
   "source": [
    "cmd=ConfusionMatrixDisplay(matrix)\n",
    "cmd.plot()"
   ]
  },
  {
   "cell_type": "code",
   "execution_count": 24,
   "id": "4616f712",
   "metadata": {
    "execution": {
     "iopub.execute_input": "2023-03-12T15:33:18.919518Z",
     "iopub.status.busy": "2023-03-12T15:33:18.918366Z",
     "iopub.status.idle": "2023-03-12T15:33:18.925282Z",
     "shell.execute_reply": "2023-03-12T15:33:18.923970Z"
    },
    "papermill": {
     "duration": 0.022216,
     "end_time": "2023-03-12T15:33:18.927928",
     "exception": false,
     "start_time": "2023-03-12T15:33:18.905712",
     "status": "completed"
    },
    "tags": []
   },
   "outputs": [
    {
     "name": "stdout",
     "output_type": "stream",
     "text": [
      "the accuracy of this model is:  0.8695652173913043\n"
     ]
    }
   ],
   "source": [
    "score=accuracy_score(y_test,y_pred)\n",
    "print('the accuracy of this model is: ',score)"
   ]
  }
 ],
 "metadata": {
  "kernelspec": {
   "display_name": "Python 3",
   "language": "python",
   "name": "python3"
  },
  "language_info": {
   "codemirror_mode": {
    "name": "ipython",
    "version": 3
   },
   "file_extension": ".py",
   "mimetype": "text/x-python",
   "name": "python",
   "nbconvert_exporter": "python",
   "pygments_lexer": "ipython3",
   "version": "3.7.12"
  },
  "papermill": {
   "default_parameters": {},
   "duration": 15.467371,
   "end_time": "2023-03-12T15:33:19.762065",
   "environment_variables": {},
   "exception": null,
   "input_path": "__notebook__.ipynb",
   "output_path": "__notebook__.ipynb",
   "parameters": {},
   "start_time": "2023-03-12T15:33:04.294694",
   "version": "2.4.0"
  }
 },
 "nbformat": 4,
 "nbformat_minor": 5
}
