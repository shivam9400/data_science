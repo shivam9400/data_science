{
 "cells": [
  {
   "cell_type": "code",
   "execution_count": 1,
   "id": "fa4f326e",
   "metadata": {
    "_cell_guid": "b1076dfc-b9ad-4769-8c92-a6c4dae69d19",
    "_uuid": "8f2839f25d086af736a60e9eeb907d3b93b6e0e5",
    "execution": {
     "iopub.execute_input": "2023-01-14T15:25:57.138811Z",
     "iopub.status.busy": "2023-01-14T15:25:57.138183Z",
     "iopub.status.idle": "2023-01-14T15:25:57.160371Z",
     "shell.execute_reply": "2023-01-14T15:25:57.159235Z"
    },
    "papermill": {
     "duration": 0.037811,
     "end_time": "2023-01-14T15:25:57.163710",
     "exception": false,
     "start_time": "2023-01-14T15:25:57.125899",
     "status": "completed"
    },
    "tags": []
   },
   "outputs": [
    {
     "name": "stdout",
     "output_type": "stream",
     "text": [
      "/kaggle/input/yeh-concret-data/Concrete_Data_Yeh.csv\n"
     ]
    }
   ],
   "source": [
    "# This Python 3 environment comes with many helpful analytics libraries installed\n",
    "# It is defined by the kaggle/python Docker image: https://github.com/kaggle/docker-python\n",
    "# For example, here's several helpful packages to load\n",
    "\n",
    "import numpy as np # linear algebra\n",
    "import pandas as pd # data processing, CSV file I/O (e.g. pd.read_csv)\n",
    "\n",
    "# Input data files are available in the read-only \"../input/\" directory\n",
    "# For example, running this (by clicking run or pressing Shift+Enter) will list all files under the input directory\n",
    "\n",
    "import os\n",
    "for dirname, _, filenames in os.walk('/kaggle/input'):\n",
    "    for filename in filenames:\n",
    "        print(os.path.join(dirname, filename))\n",
    "\n",
    "# You can write up to 20GB to the current directory (/kaggle/working/) that gets preserved as output when you create a version using \"Save & Run All\" \n",
    "# You can also write temporary files to /kaggle/temp/, but they won't be saved outside of the current session"
   ]
  },
  {
   "cell_type": "markdown",
   "id": "77940ec8",
   "metadata": {
    "papermill": {
     "duration": 0.012192,
     "end_time": "2023-01-14T15:25:57.187562",
     "exception": false,
     "start_time": "2023-01-14T15:25:57.175370",
     "status": "completed"
    },
    "tags": []
   },
   "source": [
    "# Table of Contents <a class='anchor' id='backtotop'></a>\n",
    "1. [Data Processing](#dataprocessing)\n",
    "2. [Exploratory Data Analysis](#eda)\n",
    "    1. [Key Points](#eda_keypoints)\n",
    "    2. [Data Visualization](#eda_dataviz)\n",
    "    3. [Correlation](#eda_corr)\n",
    "3. [Model Training](#model)\n",
    "    1. [Train Test Split](#model_traintestsplit)\n",
    "    2. [Algorithm](#model_algo)"
   ]
  },
  {
   "cell_type": "markdown",
   "id": "7961ab3e",
   "metadata": {
    "papermill": {
     "duration": 0.012973,
     "end_time": "2023-01-14T15:25:57.211992",
     "exception": false,
     "start_time": "2023-01-14T15:25:57.199019",
     "status": "completed"
    },
    "tags": []
   },
   "source": [
    "# Data Processing <a class='anchor' id='dataprocessing'></a>"
   ]
  },
  {
   "cell_type": "markdown",
   "id": "f006744b",
   "metadata": {
    "papermill": {
     "duration": 0.012152,
     "end_time": "2023-01-14T15:25:57.232876",
     "exception": false,
     "start_time": "2023-01-14T15:25:57.220724",
     "status": "completed"
    },
    "tags": []
   },
   "source": [
    "[back to top](#backtotop)"
   ]
  },
  {
   "cell_type": "code",
   "execution_count": 2,
   "id": "85f871b8",
   "metadata": {
    "execution": {
     "iopub.execute_input": "2023-01-14T15:25:57.263210Z",
     "iopub.status.busy": "2023-01-14T15:25:57.262235Z",
     "iopub.status.idle": "2023-01-14T15:25:57.318698Z",
     "shell.execute_reply": "2023-01-14T15:25:57.317355Z"
    },
    "papermill": {
     "duration": 0.07311,
     "end_time": "2023-01-14T15:25:57.321275",
     "exception": false,
     "start_time": "2023-01-14T15:25:57.248165",
     "status": "completed"
    },
    "tags": []
   },
   "outputs": [
    {
     "data": {
      "text/html": [
       "<div>\n",
       "<style scoped>\n",
       "    .dataframe tbody tr th:only-of-type {\n",
       "        vertical-align: middle;\n",
       "    }\n",
       "\n",
       "    .dataframe tbody tr th {\n",
       "        vertical-align: top;\n",
       "    }\n",
       "\n",
       "    .dataframe thead th {\n",
       "        text-align: right;\n",
       "    }\n",
       "</style>\n",
       "<table border=\"1\" class=\"dataframe\">\n",
       "  <thead>\n",
       "    <tr style=\"text-align: right;\">\n",
       "      <th></th>\n",
       "      <th>cement</th>\n",
       "      <th>slag</th>\n",
       "      <th>flyash</th>\n",
       "      <th>water</th>\n",
       "      <th>superplasticizer</th>\n",
       "      <th>coarseaggregate</th>\n",
       "      <th>fineaggregate</th>\n",
       "      <th>age</th>\n",
       "      <th>csMPa</th>\n",
       "    </tr>\n",
       "  </thead>\n",
       "  <tbody>\n",
       "    <tr>\n",
       "      <th>0</th>\n",
       "      <td>540.0</td>\n",
       "      <td>0.0</td>\n",
       "      <td>0.0</td>\n",
       "      <td>162.0</td>\n",
       "      <td>2.5</td>\n",
       "      <td>1040.0</td>\n",
       "      <td>676.0</td>\n",
       "      <td>28</td>\n",
       "      <td>79.99</td>\n",
       "    </tr>\n",
       "    <tr>\n",
       "      <th>1</th>\n",
       "      <td>540.0</td>\n",
       "      <td>0.0</td>\n",
       "      <td>0.0</td>\n",
       "      <td>162.0</td>\n",
       "      <td>2.5</td>\n",
       "      <td>1055.0</td>\n",
       "      <td>676.0</td>\n",
       "      <td>28</td>\n",
       "      <td>61.89</td>\n",
       "    </tr>\n",
       "    <tr>\n",
       "      <th>2</th>\n",
       "      <td>332.5</td>\n",
       "      <td>142.5</td>\n",
       "      <td>0.0</td>\n",
       "      <td>228.0</td>\n",
       "      <td>0.0</td>\n",
       "      <td>932.0</td>\n",
       "      <td>594.0</td>\n",
       "      <td>270</td>\n",
       "      <td>40.27</td>\n",
       "    </tr>\n",
       "    <tr>\n",
       "      <th>3</th>\n",
       "      <td>332.5</td>\n",
       "      <td>142.5</td>\n",
       "      <td>0.0</td>\n",
       "      <td>228.0</td>\n",
       "      <td>0.0</td>\n",
       "      <td>932.0</td>\n",
       "      <td>594.0</td>\n",
       "      <td>365</td>\n",
       "      <td>41.05</td>\n",
       "    </tr>\n",
       "    <tr>\n",
       "      <th>4</th>\n",
       "      <td>198.6</td>\n",
       "      <td>132.4</td>\n",
       "      <td>0.0</td>\n",
       "      <td>192.0</td>\n",
       "      <td>0.0</td>\n",
       "      <td>978.4</td>\n",
       "      <td>825.5</td>\n",
       "      <td>360</td>\n",
       "      <td>44.30</td>\n",
       "    </tr>\n",
       "  </tbody>\n",
       "</table>\n",
       "</div>"
      ],
      "text/plain": [
       "   cement   slag  flyash  water  superplasticizer  coarseaggregate  \\\n",
       "0   540.0    0.0     0.0  162.0               2.5           1040.0   \n",
       "1   540.0    0.0     0.0  162.0               2.5           1055.0   \n",
       "2   332.5  142.5     0.0  228.0               0.0            932.0   \n",
       "3   332.5  142.5     0.0  228.0               0.0            932.0   \n",
       "4   198.6  132.4     0.0  192.0               0.0            978.4   \n",
       "\n",
       "   fineaggregate  age  csMPa  \n",
       "0          676.0   28  79.99  \n",
       "1          676.0   28  61.89  \n",
       "2          594.0  270  40.27  \n",
       "3          594.0  365  41.05  \n",
       "4          825.5  360  44.30  "
      ]
     },
     "execution_count": 2,
     "metadata": {},
     "output_type": "execute_result"
    }
   ],
   "source": [
    "# Lets import dataset\n",
    "\n",
    "import pandas as pd\n",
    "df = pd.read_csv(\"/kaggle/input/yeh-concret-data/Concrete_Data_Yeh.csv\")\n",
    "df.head()"
   ]
  },
  {
   "cell_type": "markdown",
   "id": "7c6a08fd",
   "metadata": {
    "papermill": {
     "duration": 0.008148,
     "end_time": "2023-01-14T15:25:57.338166",
     "exception": false,
     "start_time": "2023-01-14T15:25:57.330018",
     "status": "completed"
    },
    "tags": []
   },
   "source": [
    "# Exploratory Data Analysis <a class='anchor' id='eda'></a>\n",
    "[back to top](#backtotop)"
   ]
  },
  {
   "cell_type": "code",
   "execution_count": 3,
   "id": "e3b7f70c",
   "metadata": {
    "execution": {
     "iopub.execute_input": "2023-01-14T15:25:57.357397Z",
     "iopub.status.busy": "2023-01-14T15:25:57.356541Z",
     "iopub.status.idle": "2023-01-14T15:25:57.364532Z",
     "shell.execute_reply": "2023-01-14T15:25:57.363315Z"
    },
    "papermill": {
     "duration": 0.020377,
     "end_time": "2023-01-14T15:25:57.366958",
     "exception": false,
     "start_time": "2023-01-14T15:25:57.346581",
     "status": "completed"
    },
    "tags": []
   },
   "outputs": [
    {
     "data": {
      "text/plain": [
       "Index(['cement', 'slag', 'flyash', 'water', 'superplasticizer',\n",
       "       'coarseaggregate', 'fineaggregate', 'age', 'csMPa'],\n",
       "      dtype='object')"
      ]
     },
     "execution_count": 3,
     "metadata": {},
     "output_type": "execute_result"
    }
   ],
   "source": [
    "df.columns"
   ]
  },
  {
   "cell_type": "code",
   "execution_count": 4,
   "id": "64d3bc5e",
   "metadata": {
    "execution": {
     "iopub.execute_input": "2023-01-14T15:25:57.386414Z",
     "iopub.status.busy": "2023-01-14T15:25:57.385702Z",
     "iopub.status.idle": "2023-01-14T15:25:57.393077Z",
     "shell.execute_reply": "2023-01-14T15:25:57.391865Z"
    },
    "papermill": {
     "duration": 0.020375,
     "end_time": "2023-01-14T15:25:57.396032",
     "exception": false,
     "start_time": "2023-01-14T15:25:57.375657",
     "status": "completed"
    },
    "tags": []
   },
   "outputs": [
    {
     "name": "stdout",
     "output_type": "stream",
     "text": [
      "There are no NaN values in dataset\n"
     ]
    }
   ],
   "source": [
    "if df.isnull().values.any():\n",
    "    print(\"There are NaN values in the dataset.\")\n",
    "else:\n",
    "    print(\"There are no NaN values in dataset\")"
   ]
  },
  {
   "cell_type": "code",
   "execution_count": 5,
   "id": "9d386b96",
   "metadata": {
    "execution": {
     "iopub.execute_input": "2023-01-14T15:25:57.415421Z",
     "iopub.status.busy": "2023-01-14T15:25:57.415022Z",
     "iopub.status.idle": "2023-01-14T15:25:57.468748Z",
     "shell.execute_reply": "2023-01-14T15:25:57.467445Z"
    },
    "papermill": {
     "duration": 0.066844,
     "end_time": "2023-01-14T15:25:57.471622",
     "exception": false,
     "start_time": "2023-01-14T15:25:57.404778",
     "status": "completed"
    },
    "tags": []
   },
   "outputs": [
    {
     "data": {
      "text/html": [
       "<div>\n",
       "<style scoped>\n",
       "    .dataframe tbody tr th:only-of-type {\n",
       "        vertical-align: middle;\n",
       "    }\n",
       "\n",
       "    .dataframe tbody tr th {\n",
       "        vertical-align: top;\n",
       "    }\n",
       "\n",
       "    .dataframe thead th {\n",
       "        text-align: right;\n",
       "    }\n",
       "</style>\n",
       "<table border=\"1\" class=\"dataframe\">\n",
       "  <thead>\n",
       "    <tr style=\"text-align: right;\">\n",
       "      <th></th>\n",
       "      <th>cement</th>\n",
       "      <th>slag</th>\n",
       "      <th>flyash</th>\n",
       "      <th>water</th>\n",
       "      <th>superplasticizer</th>\n",
       "      <th>coarseaggregate</th>\n",
       "      <th>fineaggregate</th>\n",
       "      <th>age</th>\n",
       "      <th>csMPa</th>\n",
       "    </tr>\n",
       "  </thead>\n",
       "  <tbody>\n",
       "    <tr>\n",
       "      <th>count</th>\n",
       "      <td>1030.000000</td>\n",
       "      <td>1030.000000</td>\n",
       "      <td>1030.000000</td>\n",
       "      <td>1030.000000</td>\n",
       "      <td>1030.000000</td>\n",
       "      <td>1030.000000</td>\n",
       "      <td>1030.000000</td>\n",
       "      <td>1030.000000</td>\n",
       "      <td>1030.000000</td>\n",
       "    </tr>\n",
       "    <tr>\n",
       "      <th>mean</th>\n",
       "      <td>281.167864</td>\n",
       "      <td>73.895825</td>\n",
       "      <td>54.188350</td>\n",
       "      <td>181.567282</td>\n",
       "      <td>6.204660</td>\n",
       "      <td>972.918932</td>\n",
       "      <td>773.580485</td>\n",
       "      <td>45.662136</td>\n",
       "      <td>35.817961</td>\n",
       "    </tr>\n",
       "    <tr>\n",
       "      <th>std</th>\n",
       "      <td>104.506364</td>\n",
       "      <td>86.279342</td>\n",
       "      <td>63.997004</td>\n",
       "      <td>21.354219</td>\n",
       "      <td>5.973841</td>\n",
       "      <td>77.753954</td>\n",
       "      <td>80.175980</td>\n",
       "      <td>63.169912</td>\n",
       "      <td>16.705742</td>\n",
       "    </tr>\n",
       "    <tr>\n",
       "      <th>min</th>\n",
       "      <td>102.000000</td>\n",
       "      <td>0.000000</td>\n",
       "      <td>0.000000</td>\n",
       "      <td>121.800000</td>\n",
       "      <td>0.000000</td>\n",
       "      <td>801.000000</td>\n",
       "      <td>594.000000</td>\n",
       "      <td>1.000000</td>\n",
       "      <td>2.330000</td>\n",
       "    </tr>\n",
       "    <tr>\n",
       "      <th>25%</th>\n",
       "      <td>192.375000</td>\n",
       "      <td>0.000000</td>\n",
       "      <td>0.000000</td>\n",
       "      <td>164.900000</td>\n",
       "      <td>0.000000</td>\n",
       "      <td>932.000000</td>\n",
       "      <td>730.950000</td>\n",
       "      <td>7.000000</td>\n",
       "      <td>23.710000</td>\n",
       "    </tr>\n",
       "    <tr>\n",
       "      <th>50%</th>\n",
       "      <td>272.900000</td>\n",
       "      <td>22.000000</td>\n",
       "      <td>0.000000</td>\n",
       "      <td>185.000000</td>\n",
       "      <td>6.400000</td>\n",
       "      <td>968.000000</td>\n",
       "      <td>779.500000</td>\n",
       "      <td>28.000000</td>\n",
       "      <td>34.445000</td>\n",
       "    </tr>\n",
       "    <tr>\n",
       "      <th>75%</th>\n",
       "      <td>350.000000</td>\n",
       "      <td>142.950000</td>\n",
       "      <td>118.300000</td>\n",
       "      <td>192.000000</td>\n",
       "      <td>10.200000</td>\n",
       "      <td>1029.400000</td>\n",
       "      <td>824.000000</td>\n",
       "      <td>56.000000</td>\n",
       "      <td>46.135000</td>\n",
       "    </tr>\n",
       "    <tr>\n",
       "      <th>max</th>\n",
       "      <td>540.000000</td>\n",
       "      <td>359.400000</td>\n",
       "      <td>200.100000</td>\n",
       "      <td>247.000000</td>\n",
       "      <td>32.200000</td>\n",
       "      <td>1145.000000</td>\n",
       "      <td>992.600000</td>\n",
       "      <td>365.000000</td>\n",
       "      <td>82.600000</td>\n",
       "    </tr>\n",
       "  </tbody>\n",
       "</table>\n",
       "</div>"
      ],
      "text/plain": [
       "            cement         slag       flyash        water  superplasticizer  \\\n",
       "count  1030.000000  1030.000000  1030.000000  1030.000000       1030.000000   \n",
       "mean    281.167864    73.895825    54.188350   181.567282          6.204660   \n",
       "std     104.506364    86.279342    63.997004    21.354219          5.973841   \n",
       "min     102.000000     0.000000     0.000000   121.800000          0.000000   \n",
       "25%     192.375000     0.000000     0.000000   164.900000          0.000000   \n",
       "50%     272.900000    22.000000     0.000000   185.000000          6.400000   \n",
       "75%     350.000000   142.950000   118.300000   192.000000         10.200000   \n",
       "max     540.000000   359.400000   200.100000   247.000000         32.200000   \n",
       "\n",
       "       coarseaggregate  fineaggregate          age        csMPa  \n",
       "count      1030.000000    1030.000000  1030.000000  1030.000000  \n",
       "mean        972.918932     773.580485    45.662136    35.817961  \n",
       "std          77.753954      80.175980    63.169912    16.705742  \n",
       "min         801.000000     594.000000     1.000000     2.330000  \n",
       "25%         932.000000     730.950000     7.000000    23.710000  \n",
       "50%         968.000000     779.500000    28.000000    34.445000  \n",
       "75%        1029.400000     824.000000    56.000000    46.135000  \n",
       "max        1145.000000     992.600000   365.000000    82.600000  "
      ]
     },
     "execution_count": 5,
     "metadata": {},
     "output_type": "execute_result"
    }
   ],
   "source": [
    "df.describe()"
   ]
  },
  {
   "cell_type": "markdown",
   "id": "9cc34236",
   "metadata": {
    "papermill": {
     "duration": 0.013422,
     "end_time": "2023-01-14T15:25:57.494536",
     "exception": false,
     "start_time": "2023-01-14T15:25:57.481114",
     "status": "completed"
    },
    "tags": []
   },
   "source": [
    "## Key Points <a class='anchor' id='eda_keypoints'></a>\n",
    "[back to top](#backtotop)"
   ]
  },
  {
   "cell_type": "markdown",
   "id": "54ec3302",
   "metadata": {
    "papermill": {
     "duration": 0.010493,
     "end_time": "2023-01-14T15:25:57.517185",
     "exception": false,
     "start_time": "2023-01-14T15:25:57.506692",
     "status": "completed"
    },
    "tags": []
   },
   "source": [
    "1. <u>'cement'</u> - Median ~ Mean\n",
    "2. <u>'slag'</u> - Mean > Median, which means the data is <b>skewed</b> (right)\n",
    "3. <u>'flyash'</u> - Median = 0, Mean >  Median, data is <b>skewed</b> (right)\n",
    "4. <u>'water'</u> - Median ~ Mean\n",
    "5. <u>'superplasticizer'</u> -  Median ~ Mean\n",
    "6. <u>'coarseaggregate'</u> - Median ~ Mean\n",
    "7. <u>'fineaggregate'</u> - Median ~ Mean\n",
    "8. <u>'age'</u> - Mean > Median, which means the data is <b>skewed</b> (right)"
   ]
  },
  {
   "cell_type": "markdown",
   "id": "401a7146",
   "metadata": {
    "papermill": {
     "duration": 0.012263,
     "end_time": "2023-01-14T15:25:57.544098",
     "exception": false,
     "start_time": "2023-01-14T15:25:57.531835",
     "status": "completed"
    },
    "tags": []
   },
   "source": [
    "## Data Visualization <a class='anchor' id='eda_dataviz'></a>\n",
    "[back to top](#backtotop)"
   ]
  },
  {
   "cell_type": "code",
   "execution_count": 6,
   "id": "2893e741",
   "metadata": {
    "execution": {
     "iopub.execute_input": "2023-01-14T15:25:57.564813Z",
     "iopub.status.busy": "2023-01-14T15:25:57.564250Z",
     "iopub.status.idle": "2023-01-14T15:25:58.823580Z",
     "shell.execute_reply": "2023-01-14T15:25:58.822507Z"
    },
    "papermill": {
     "duration": 1.273078,
     "end_time": "2023-01-14T15:25:58.826469",
     "exception": false,
     "start_time": "2023-01-14T15:25:57.553391",
     "status": "completed"
    },
    "tags": []
   },
   "outputs": [],
   "source": [
    "import matplotlib.pyplot as plt\n",
    "import seaborn as sns\n",
    "\n",
    "def plot_colwise(dframe, col_name:str):\n",
    "    \n",
    "    print(\"There are {} unique values in {} column\".format(len(dframe[col_name].value_counts()), col_name))\n",
    "    print(\" \")\n",
    "    fig, ax = plt.subplots(1,1, figsize=(15, 7))\n",
    "    ax.bar(dframe[col_name].value_counts().index, df[col_name].value_counts())\n",
    "    ax.set_title(\"Unique value plots for \"+col_name+ ' column')\n"
   ]
  },
  {
   "cell_type": "code",
   "execution_count": 7,
   "id": "c5986f9c",
   "metadata": {
    "execution": {
     "iopub.execute_input": "2023-01-14T15:25:58.847571Z",
     "iopub.status.busy": "2023-01-14T15:25:58.846422Z",
     "iopub.status.idle": "2023-01-14T15:26:05.815183Z",
     "shell.execute_reply": "2023-01-14T15:26:05.813850Z"
    },
    "papermill": {
     "duration": 6.981975,
     "end_time": "2023-01-14T15:26:05.818008",
     "exception": false,
     "start_time": "2023-01-14T15:25:58.836033",
     "status": "completed"
    },
    "tags": []
   },
   "outputs": [
    {
     "name": "stdout",
     "output_type": "stream",
     "text": [
      "There are 278 unique values in cement column\n",
      " \n",
      "There are 185 unique values in slag column\n",
      " \n",
      "There are 156 unique values in flyash column\n",
      " \n",
      "There are 195 unique values in water column\n",
      " \n",
      "There are 111 unique values in superplasticizer column\n",
      " \n",
      "There are 284 unique values in coarseaggregate column\n",
      " \n",
      "There are 302 unique values in fineaggregate column\n",
      " \n",
      "There are 14 unique values in age column\n",
      " \n",
      "There are 845 unique values in csMPa column\n",
      " \n"
     ]
    },
    {
     "data": {
      "image/png": "[encoded data removed]",
      "text/plain": [
       "<Figure size 1080x504 with 1 Axes>"
      ]
     },
     "metadata": {
      "needs_background": "light"
     },
     "output_type": "display_data"
    },
    {
     "data": {
      "image/png": "[encoded data removed]",
      "text/plain": [
       "<Figure size 1080x504 with 1 Axes>"
      ]
     },
     "metadata": {
      "needs_background": "light"
     },
     "output_type": "display_data"
    },
    {
     "data": {
      "image/png": "[encoded data removed]",
      "text/plain": [
       "<Figure size 1080x504 with 1 Axes>"
      ]
     },
     "metadata": {
      "needs_background": "light"
     },
     "output_type": "display_data"
    },
    {
     "data": {
      "image/png": "[encoded data removed]",
      "text/plain": [
       "<Figure size 1080x504 with 1 Axes>"
      ]
     },
     "metadata": {
      "needs_background": "light"
     },
     "output_type": "display_data"
    },
    {
     "data": {
      "image/png": "[encoded data removed]",
      "text/plain": [
       "<Figure size 1080x504 with 1 Axes>"
      ]
     },
     "metadata": {
      "needs_background": "light"
     },
     "output_type": "display_data"
    },
    {
     "data": {
      "image/png": "[encoded data removed]",
      "text/plain": [
       "<Figure size 1080x504 with 1 Axes>"
      ]
     },
     "metadata": {
      "needs_background": "light"
     },
     "output_type": "display_data"
    },
    {
     "data": {
      "image/png": "[encoded data removed]",
      "text/plain": [
       "<Figure size 1080x504 with 1 Axes>"
      ]
     },
     "metadata": {
      "needs_background": "light"
     },
     "output_type": "display_data"
    },
    {
     "data": {
      "image/png": "[encoded data removed]",
      "text/plain": [
       "<Figure size 1080x504 with 1 Axes>"
      ]
     },
     "metadata": {
      "needs_background": "light"
     },
     "output_type": "display_data"
    },
    {
     "data": {
      "image/png": "[encoded data removed]",
      "text/plain": [
       "<Figure size 1080x504 with 1 Axes>"
      ]
     },
     "metadata": {
      "needs_background": "light"
     },
     "output_type": "display_data"
    }
   ],
   "source": [
    "for j in df.columns:\n",
    "    plot_colwise(df, j)"
   ]
  },
  {
   "cell_type": "code",
   "execution_count": 8,
   "id": "1e7efd90",
   "metadata": {
    "execution": {
     "iopub.execute_input": "2023-01-14T15:26:05.844952Z",
     "iopub.status.busy": "2023-01-14T15:26:05.844532Z",
     "iopub.status.idle": "2023-01-14T15:26:05.851459Z",
     "shell.execute_reply": "2023-01-14T15:26:05.850143Z"
    },
    "papermill": {
     "duration": 0.023068,
     "end_time": "2023-01-14T15:26:05.854132",
     "exception": false,
     "start_time": "2023-01-14T15:26:05.831064",
     "status": "completed"
    },
    "tags": []
   },
   "outputs": [],
   "source": [
    "def plot_colwise_skewness(dframe, col_name:str):\n",
    "    \n",
    "    skew_val = dframe[col_name].skew()\n",
    "    \n",
    "    plt.figure(figsize=(15, 7))\n",
    "    sns.histplot(dframe[col_name], kde=True, stat='density', label='Skew = %.3f' %skew_val,\n",
    "                bins=30, color='r')\n",
    "    plt.legend(loc='best')\n",
    "    plt.title('Histogram for {} column'.format(col_name))"
   ]
  },
  {
   "cell_type": "code",
   "execution_count": 9,
   "id": "4f6b3bcd",
   "metadata": {
    "execution": {
     "iopub.execute_input": "2023-01-14T15:26:05.879948Z",
     "iopub.status.busy": "2023-01-14T15:26:05.879221Z",
     "iopub.status.idle": "2023-01-14T15:26:07.068107Z",
     "shell.execute_reply": "2023-01-14T15:26:07.066772Z"
    },
    "papermill": {
     "duration": 1.204768,
     "end_time": "2023-01-14T15:26:07.070623",
     "exception": false,
     "start_time": "2023-01-14T15:26:05.865855",
     "status": "completed"
    },
    "tags": []
   },
   "outputs": [
    {
     "data": {
      "image/png": "[encoded data removed]",
      "text/plain": [
       "<Figure size 1080x504 with 1 Axes>"
      ]
     },
     "metadata": {
      "needs_background": "light"
     },
     "output_type": "display_data"
    },
    {
     "data": {
      "image/png": "[encoded data removed]",
      "text/plain": [
       "<Figure size 1080x504 with 1 Axes>"
      ]
     },
     "metadata": {
      "needs_background": "light"
     },
     "output_type": "display_data"
    },
    {
     "data": {
      "image/png": "[encoded data removed]",
      "text/plain": [
       "<Figure size 1080x504 with 1 Axes>"
      ]
     },
     "metadata": {
      "needs_background": "light"
     },
     "output_type": "display_data"
    }
   ],
   "source": [
    "for j in ['slag', 'flyash', 'age']:\n",
    "    plot_colwise_skewness(df, j)"
   ]
  },
  {
   "cell_type": "markdown",
   "id": "db2632e4",
   "metadata": {
    "execution": {
     "iopub.execute_input": "2023-01-14T14:06:01.533719Z",
     "iopub.status.busy": "2023-01-14T14:06:01.533180Z",
     "iopub.status.idle": "2023-01-14T14:06:01.559261Z",
     "shell.execute_reply": "2023-01-14T14:06:01.557970Z",
     "shell.execute_reply.started": "2023-01-14T14:06:01.533670Z"
    },
    "papermill": {
     "duration": 0.012407,
     "end_time": "2023-01-14T15:26:07.096097",
     "exception": false,
     "start_time": "2023-01-14T15:26:07.083690",
     "status": "completed"
    },
    "tags": []
   },
   "source": [
    "## Correlation <a class='anchor' id='eda_corr'></a>\n",
    "[back to top](#backtotop)"
   ]
  },
  {
   "cell_type": "code",
   "execution_count": 10,
   "id": "0d05aa60",
   "metadata": {
    "execution": {
     "iopub.execute_input": "2023-01-14T15:26:07.123652Z",
     "iopub.status.busy": "2023-01-14T15:26:07.123189Z",
     "iopub.status.idle": "2023-01-14T15:26:07.129022Z",
     "shell.execute_reply": "2023-01-14T15:26:07.127800Z"
    },
    "papermill": {
     "duration": 0.022858,
     "end_time": "2023-01-14T15:26:07.131705",
     "exception": false,
     "start_time": "2023-01-14T15:26:07.108847",
     "status": "completed"
    },
    "tags": []
   },
   "outputs": [],
   "source": [
    "import seaborn as sns"
   ]
  },
  {
   "cell_type": "markdown",
   "id": "02761233",
   "metadata": {
    "papermill": {
     "duration": 0.012249,
     "end_time": "2023-01-14T15:26:07.156924",
     "exception": false,
     "start_time": "2023-01-14T15:26:07.144675",
     "status": "completed"
    },
    "tags": []
   },
   "source": []
  },
  {
   "cell_type": "code",
   "execution_count": 11,
   "id": "86a17dfd",
   "metadata": {
    "execution": {
     "iopub.execute_input": "2023-01-14T15:26:07.185067Z",
     "iopub.status.busy": "2023-01-14T15:26:07.184620Z",
     "iopub.status.idle": "2023-01-14T15:26:08.000039Z",
     "shell.execute_reply": "2023-01-14T15:26:07.998796Z"
    },
    "papermill": {
     "duration": 0.832451,
     "end_time": "2023-01-14T15:26:08.002783",
     "exception": false,
     "start_time": "2023-01-14T15:26:07.170332",
     "status": "completed"
    },
    "tags": []
   },
   "outputs": [
    {
     "data": {
      "text/plain": [
       "<AxesSubplot:>"
      ]
     },
     "execution_count": 11,
     "metadata": {},
     "output_type": "execute_result"
    },
    {
     "data": {
      "image/png": "[encoded data removed]",
      "text/plain": [
       "<Figure size 1080x504 with 2 Axes>"
      ]
     },
     "metadata": {
      "needs_background": "light"
     },
     "output_type": "display_data"
    }
   ],
   "source": [
    "plt.figure(figsize=(15,7))\n",
    "sns.heatmap(df.corr(), annot=True, cmap='Blues')"
   ]
  },
  {
   "cell_type": "markdown",
   "id": "56bc3b83",
   "metadata": {
    "papermill": {
     "duration": 0.013975,
     "end_time": "2023-01-14T15:26:08.031255",
     "exception": false,
     "start_time": "2023-01-14T15:26:08.017280",
     "status": "completed"
    },
    "tags": []
   },
   "source": [
    "We'll have to find out how each of the independent variables correlate to the dependent variable / output."
   ]
  },
  {
   "cell_type": "code",
   "execution_count": 12,
   "id": "94ecbe77",
   "metadata": {
    "execution": {
     "iopub.execute_input": "2023-01-14T15:26:08.061874Z",
     "iopub.status.busy": "2023-01-14T15:26:08.061420Z",
     "iopub.status.idle": "2023-01-14T15:26:08.073442Z",
     "shell.execute_reply": "2023-01-14T15:26:08.072095Z"
    },
    "papermill": {
     "duration": 0.030822,
     "end_time": "2023-01-14T15:26:08.076277",
     "exception": false,
     "start_time": "2023-01-14T15:26:08.045455",
     "status": "completed"
    },
    "tags": []
   },
   "outputs": [
    {
     "data": {
      "text/plain": [
       "cement              0.497832\n",
       "superplasticizer    0.366079\n",
       "age                 0.328873\n",
       "water               0.289633\n",
       "fineaggregate       0.167241\n",
       "coarseaggregate     0.164935\n",
       "slag                0.134829\n",
       "flyash              0.105755\n",
       "Name: csMPa, dtype: float64"
      ]
     },
     "execution_count": 12,
     "metadata": {},
     "output_type": "execute_result"
    }
   ],
   "source": [
    "import numpy as np \n",
    "\n",
    "corr_series = np.abs(df.corr().iloc[-1, :-1]).sort_values(ascending=False)\n",
    "corr_series"
   ]
  },
  {
   "cell_type": "code",
   "execution_count": 13,
   "id": "b7ce77a7",
   "metadata": {
    "execution": {
     "iopub.execute_input": "2023-01-14T15:26:08.106845Z",
     "iopub.status.busy": "2023-01-14T15:26:08.106416Z",
     "iopub.status.idle": "2023-01-14T15:26:08.386323Z",
     "shell.execute_reply": "2023-01-14T15:26:08.384899Z"
    },
    "papermill": {
     "duration": 0.298808,
     "end_time": "2023-01-14T15:26:08.389524",
     "exception": false,
     "start_time": "2023-01-14T15:26:08.090716",
     "status": "completed"
    },
    "tags": []
   },
   "outputs": [
    {
     "data": {
      "text/plain": [
       "Text(0.5, 1.0, 'Effect of IV on DV')"
      ]
     },
     "execution_count": 13,
     "metadata": {},
     "output_type": "execute_result"
    },
    {
     "data": {
      "image/png": "[encoded data removed]",
      "text/plain": [
       "<Figure size 1008x432 with 1 Axes>"
      ]
     },
     "metadata": {
      "needs_background": "light"
     },
     "output_type": "display_data"
    }
   ],
   "source": [
    "plt.figure(figsize=(14,6))\n",
    "corr_series.plot(kind='bar')\n",
    "plt.title(\"Effect of IV on DV\")"
   ]
  },
  {
   "cell_type": "markdown",
   "id": "a5288f97",
   "metadata": {
    "papermill": {
     "duration": 0.014803,
     "end_time": "2023-01-14T15:26:08.420037",
     "exception": false,
     "start_time": "2023-01-14T15:26:08.405234",
     "status": "completed"
    },
    "tags": []
   },
   "source": [
    "# Model Training <a class='anchor' id='model'></a>\n",
    "[back to top](#backtotop)"
   ]
  },
  {
   "cell_type": "markdown",
   "id": "156dd28b",
   "metadata": {
    "papermill": {
     "duration": 0.014525,
     "end_time": "2023-01-14T15:26:08.449977",
     "exception": false,
     "start_time": "2023-01-14T15:26:08.435452",
     "status": "completed"
    },
    "tags": []
   },
   "source": [
    "## Train Test Split <a class='anchor' id='model_traintestsplit'></a>\n",
    "[back to top](#backtotop)"
   ]
  },
  {
   "cell_type": "code",
   "execution_count": 14,
   "id": "cdd0ea0b",
   "metadata": {
    "execution": {
     "iopub.execute_input": "2023-01-14T15:26:08.480854Z",
     "iopub.status.busy": "2023-01-14T15:26:08.480428Z",
     "iopub.status.idle": "2023-01-14T15:26:08.487663Z",
     "shell.execute_reply": "2023-01-14T15:26:08.486195Z"
    },
    "papermill": {
     "duration": 0.025648,
     "end_time": "2023-01-14T15:26:08.490160",
     "exception": false,
     "start_time": "2023-01-14T15:26:08.464512",
     "status": "completed"
    },
    "tags": []
   },
   "outputs": [],
   "source": [
    "# Making X, y datasets from main dataset\n",
    "X = df.drop('csMPa', axis=1)\n",
    "y = df['csMPa']"
   ]
  },
  {
   "cell_type": "code",
   "execution_count": 15,
   "id": "5d1a62b2",
   "metadata": {
    "execution": {
     "iopub.execute_input": "2023-01-14T15:26:08.521678Z",
     "iopub.status.busy": "2023-01-14T15:26:08.521237Z",
     "iopub.status.idle": "2023-01-14T15:26:08.792434Z",
     "shell.execute_reply": "2023-01-14T15:26:08.791324Z"
    },
    "papermill": {
     "duration": 0.290249,
     "end_time": "2023-01-14T15:26:08.795168",
     "exception": false,
     "start_time": "2023-01-14T15:26:08.504919",
     "status": "completed"
    },
    "tags": []
   },
   "outputs": [
    {
     "name": "stdout",
     "output_type": "stream",
     "text": [
      "(824, 8) (206, 8) (824,) (206,)\n"
     ]
    }
   ],
   "source": [
    "from sklearn.model_selection import train_test_split\n",
    "\n",
    "X_train, X_test, y_train, y_test = train_test_split(X, y, test_size=0.2, random_state=0)\n",
    "\n",
    "print(X_train.shape, X_test.shape, y_train.shape, y_test.shape)"
   ]
  },
  {
   "cell_type": "markdown",
   "id": "28345d4e",
   "metadata": {
    "papermill": {
     "duration": 0.015433,
     "end_time": "2023-01-14T15:26:08.825398",
     "exception": false,
     "start_time": "2023-01-14T15:26:08.809965",
     "status": "completed"
    },
    "tags": []
   },
   "source": [
    "## Algorithms <a class='anchor' id='model_algo'></a>\n",
    "[back to top](#backtotop)"
   ]
  },
  {
   "cell_type": "code",
   "execution_count": 16,
   "id": "00bcf573",
   "metadata": {
    "execution": {
     "iopub.execute_input": "2023-01-14T15:26:08.857045Z",
     "iopub.status.busy": "2023-01-14T15:26:08.856564Z",
     "iopub.status.idle": "2023-01-14T15:26:09.033271Z",
     "shell.execute_reply": "2023-01-14T15:26:09.032166Z"
    },
    "papermill": {
     "duration": 0.195729,
     "end_time": "2023-01-14T15:26:09.035822",
     "exception": false,
     "start_time": "2023-01-14T15:26:08.840093",
     "status": "completed"
    },
    "tags": []
   },
   "outputs": [],
   "source": [
    "from sklearn.pipeline import Pipeline\n",
    "from sklearn.compose import ColumnTransformer\n",
    "from sklearn.impute import SimpleImputer\n",
    "from sklearn.preprocessing import StandardScaler"
   ]
  },
  {
   "cell_type": "markdown",
   "id": "df977455",
   "metadata": {
    "papermill": {
     "duration": 0.014061,
     "end_time": "2023-01-14T15:26:09.064494",
     "exception": false,
     "start_time": "2023-01-14T15:26:09.050433",
     "status": "completed"
    },
    "tags": []
   },
   "source": []
  },
  {
   "cell_type": "code",
   "execution_count": 17,
   "id": "3d7c4ef6",
   "metadata": {
    "execution": {
     "iopub.execute_input": "2023-01-14T15:26:09.095335Z",
     "iopub.status.busy": "2023-01-14T15:26:09.094881Z",
     "iopub.status.idle": "2023-01-14T15:26:09.100102Z",
     "shell.execute_reply": "2023-01-14T15:26:09.099247Z"
    },
    "papermill": {
     "duration": 0.023412,
     "end_time": "2023-01-14T15:26:09.102383",
     "exception": false,
     "start_time": "2023-01-14T15:26:09.078971",
     "status": "completed"
    },
    "tags": []
   },
   "outputs": [],
   "source": [
    "num_pipeline = Pipeline(steps=[\n",
    "    ('impute', SimpleImputer(strategy='mean')),\n",
    "    ('standarize',StandardScaler())\n",
    "])"
   ]
  },
  {
   "cell_type": "markdown",
   "id": "97a00e15",
   "metadata": {
    "papermill": {
     "duration": 0.015349,
     "end_time": "2023-01-14T15:26:09.133806",
     "exception": false,
     "start_time": "2023-01-14T15:26:09.118457",
     "status": "completed"
    },
    "tags": []
   },
   "source": []
  },
  {
   "cell_type": "code",
   "execution_count": 18,
   "id": "2b65f9bf",
   "metadata": {
    "execution": {
     "iopub.execute_input": "2023-01-14T15:26:09.165544Z",
     "iopub.status.busy": "2023-01-14T15:26:09.164742Z",
     "iopub.status.idle": "2023-01-14T15:26:09.171213Z",
     "shell.execute_reply": "2023-01-14T15:26:09.169982Z"
    },
    "papermill": {
     "duration": 0.024796,
     "end_time": "2023-01-14T15:26:09.173755",
     "exception": false,
     "start_time": "2023-01-14T15:26:09.148959",
     "status": "completed"
    },
    "tags": []
   },
   "outputs": [],
   "source": [
    "def train_model(algorithm, X_train, y_train):\n",
    "    \n",
    "    model = Pipeline(steps=[\n",
    "        ('preprocessing', num_pipeline),\n",
    "        ('algorithm', algorithm)\n",
    "    ])\n",
    "    \n",
    "    model.fit(X_train, y_train)\n",
    "    return model"
   ]
  },
  {
   "cell_type": "code",
   "execution_count": 19,
   "id": "b7e88515",
   "metadata": {
    "execution": {
     "iopub.execute_input": "2023-01-14T15:26:09.206149Z",
     "iopub.status.busy": "2023-01-14T15:26:09.205133Z",
     "iopub.status.idle": "2023-01-14T15:26:09.316085Z",
     "shell.execute_reply": "2023-01-14T15:26:09.315112Z"
    },
    "papermill": {
     "duration": 0.130313,
     "end_time": "2023-01-14T15:26:09.318746",
     "exception": false,
     "start_time": "2023-01-14T15:26:09.188433",
     "status": "completed"
    },
    "tags": []
   },
   "outputs": [],
   "source": [
    "from sklearn.ensemble import RandomForestRegressor, GradientBoostingRegressor\n",
    "from sklearn.svm import SVR\n",
    "from sklearn.tree import DecisionTreeRegressor\n",
    "from sklearn.linear_model import LinearRegression\n",
    "from sklearn.neighbors import KNeighborsRegressor\n",
    "import time\n",
    "from sklearn.metrics import mean_squared_error, mean_absolute_error"
   ]
  },
  {
   "cell_type": "code",
   "execution_count": 20,
   "id": "edeef1e0",
   "metadata": {
    "execution": {
     "iopub.execute_input": "2023-01-14T15:26:09.350662Z",
     "iopub.status.busy": "2023-01-14T15:26:09.350023Z",
     "iopub.status.idle": "2023-01-14T15:26:09.354559Z",
     "shell.execute_reply": "2023-01-14T15:26:09.353674Z"
    },
    "papermill": {
     "duration": 0.023328,
     "end_time": "2023-01-14T15:26:09.357079",
     "exception": false,
     "start_time": "2023-01-14T15:26:09.333751",
     "status": "completed"
    },
    "tags": []
   },
   "outputs": [],
   "source": [
    "algorithms = [RandomForestRegressor(), \n",
    "              GradientBoostingRegressor(),\n",
    "              SVR(),\n",
    "              DecisionTreeRegressor(),\n",
    "              LinearRegression(), \n",
    "              KNeighborsRegressor()]"
   ]
  },
  {
   "cell_type": "code",
   "execution_count": 21,
   "id": "f321924f",
   "metadata": {
    "execution": {
     "iopub.execute_input": "2023-01-14T15:26:09.388804Z",
     "iopub.status.busy": "2023-01-14T15:26:09.388126Z",
     "iopub.status.idle": "2023-01-14T15:26:16.071248Z",
     "shell.execute_reply": "2023-01-14T15:26:16.069728Z"
    },
    "papermill": {
     "duration": 6.703544,
     "end_time": "2023-01-14T15:26:16.075329",
     "exception": false,
     "start_time": "2023-01-14T15:26:09.371785",
     "status": "completed"
    },
    "tags": []
   },
   "outputs": [
    {
     "name": "stdout",
     "output_type": "stream",
     "text": [
      "RandomForestRegressor\n",
      "Time taken: 0.3913877010345459\n",
      "GradientBoostingRegressor\n",
      "Time taken: 0.1434791088104248\n",
      "SVR\n",
      "Time taken: 0.05013918876647949\n",
      "DecisionTreeRegressor\n",
      "Time taken: 0.010382890701293945\n",
      "LinearRegression\n",
      "Time taken: 0.02020120620727539\n",
      "KNeighborsRegressor\n",
      "Time taken: 0.00792384147644043\n"
     ]
    }
   ],
   "source": [
    "algo_name = []\n",
    "algo_time = []\n",
    "algo_mse = []\n",
    "algo_mae = []\n",
    "\n",
    "for algo in algorithms:\n",
    "    name = type(algo).__name__\n",
    "    algo_name.append(name)\n",
    "    print(name)\n",
    "    \n",
    "    start_time = time.time()\n",
    "    time.sleep(1)\n",
    "    model = train_model(algo, X_train, y_train)\n",
    "    end_time = time.time()\n",
    "    print(\"Time taken: {}\".format(end_time-start_time-1))\n",
    "    algo_time.append(end_time-start_time-1)\n",
    "    \n",
    "    pred = model.predict(X_test)\n",
    "    algo_mse.append(mean_squared_error(y_test, pred))\n",
    "    algo_mae.append(mean_absolute_error(y_test, pred))"
   ]
  },
  {
   "cell_type": "code",
   "execution_count": 22,
   "id": "f4453f23",
   "metadata": {
    "execution": {
     "iopub.execute_input": "2023-01-14T15:26:16.108085Z",
     "iopub.status.busy": "2023-01-14T15:26:16.107670Z",
     "iopub.status.idle": "2023-01-14T15:26:16.113312Z",
     "shell.execute_reply": "2023-01-14T15:26:16.111876Z"
    },
    "papermill": {
     "duration": 0.024845,
     "end_time": "2023-01-14T15:26:16.115746",
     "exception": false,
     "start_time": "2023-01-14T15:26:16.090901",
     "status": "completed"
    },
    "tags": []
   },
   "outputs": [],
   "source": [
    "result_dict = {'Algorithm': algo_name, \"MSE\": algo_mse, \"MAE\": algo_mae, \"Time\": algo_time}"
   ]
  },
  {
   "cell_type": "code",
   "execution_count": 23,
   "id": "306f6c03",
   "metadata": {
    "execution": {
     "iopub.execute_input": "2023-01-14T15:26:16.149638Z",
     "iopub.status.busy": "2023-01-14T15:26:16.148660Z",
     "iopub.status.idle": "2023-01-14T15:26:16.163518Z",
     "shell.execute_reply": "2023-01-14T15:26:16.162343Z"
    },
    "papermill": {
     "duration": 0.035328,
     "end_time": "2023-01-14T15:26:16.166078",
     "exception": false,
     "start_time": "2023-01-14T15:26:16.130750",
     "status": "completed"
    },
    "tags": []
   },
   "outputs": [
    {
     "data": {
      "text/html": [
       "<div>\n",
       "<style scoped>\n",
       "    .dataframe tbody tr th:only-of-type {\n",
       "        vertical-align: middle;\n",
       "    }\n",
       "\n",
       "    .dataframe tbody tr th {\n",
       "        vertical-align: top;\n",
       "    }\n",
       "\n",
       "    .dataframe thead th {\n",
       "        text-align: right;\n",
       "    }\n",
       "</style>\n",
       "<table border=\"1\" class=\"dataframe\">\n",
       "  <thead>\n",
       "    <tr style=\"text-align: right;\">\n",
       "      <th></th>\n",
       "      <th>Algorithm</th>\n",
       "      <th>MSE</th>\n",
       "      <th>MAE</th>\n",
       "      <th>Time</th>\n",
       "    </tr>\n",
       "  </thead>\n",
       "  <tbody>\n",
       "    <tr>\n",
       "      <th>0</th>\n",
       "      <td>RandomForestRegressor</td>\n",
       "      <td>20.605443</td>\n",
       "      <td>3.243563</td>\n",
       "      <td>0.391388</td>\n",
       "    </tr>\n",
       "    <tr>\n",
       "      <th>1</th>\n",
       "      <td>GradientBoostingRegressor</td>\n",
       "      <td>24.889985</td>\n",
       "      <td>3.696356</td>\n",
       "      <td>0.143479</td>\n",
       "    </tr>\n",
       "    <tr>\n",
       "      <th>3</th>\n",
       "      <td>DecisionTreeRegressor</td>\n",
       "      <td>57.871164</td>\n",
       "      <td>4.866748</td>\n",
       "      <td>0.010383</td>\n",
       "    </tr>\n",
       "    <tr>\n",
       "      <th>5</th>\n",
       "      <td>KNeighborsRegressor</td>\n",
       "      <td>75.517389</td>\n",
       "      <td>6.908097</td>\n",
       "      <td>0.007924</td>\n",
       "    </tr>\n",
       "    <tr>\n",
       "      <th>2</th>\n",
       "      <td>SVR</td>\n",
       "      <td>91.524783</td>\n",
       "      <td>7.581353</td>\n",
       "      <td>0.050139</td>\n",
       "    </tr>\n",
       "    <tr>\n",
       "      <th>4</th>\n",
       "      <td>LinearRegression</td>\n",
       "      <td>95.617174</td>\n",
       "      <td>7.864642</td>\n",
       "      <td>0.020201</td>\n",
       "    </tr>\n",
       "  </tbody>\n",
       "</table>\n",
       "</div>"
      ],
      "text/plain": [
       "                   Algorithm        MSE       MAE      Time\n",
       "0      RandomForestRegressor  20.605443  3.243563  0.391388\n",
       "1  GradientBoostingRegressor  24.889985  3.696356  0.143479\n",
       "3      DecisionTreeRegressor  57.871164  4.866748  0.010383\n",
       "5        KNeighborsRegressor  75.517389  6.908097  0.007924\n",
       "2                        SVR  91.524783  7.581353  0.050139\n",
       "4           LinearRegression  95.617174  7.864642  0.020201"
      ]
     },
     "metadata": {},
     "output_type": "display_data"
    }
   ],
   "source": [
    "df_result = pd.DataFrame(result_dict)\n",
    "display(df_result.sort_values(by='MSE'))"
   ]
  }
 ],
 "metadata": {
  "kernelspec": {
   "display_name": "Python 3",
   "language": "python",
   "name": "python3"
  },
  "language_info": {
   "codemirror_mode": {
    "name": "ipython",
    "version": 3
   },
   "file_extension": ".py",
   "mimetype": "text/x-python",
   "name": "python",
   "nbconvert_exporter": "python",
   "pygments_lexer": "ipython3",
   "version": "3.7.12"
  },
  "papermill": {
   "default_parameters": {},
   "duration": 29.536232,
   "end_time": "2023-01-14T15:26:17.205969",
   "environment_variables": {},
   "exception": null,
   "input_path": "__notebook__.ipynb",
   "output_path": "__notebook__.ipynb",
   "parameters": {},
   "start_time": "2023-01-14T15:25:47.669737",
   "version": "2.3.4"
  }
 },
 "nbformat": 4,
 "nbformat_minor": 5
}
