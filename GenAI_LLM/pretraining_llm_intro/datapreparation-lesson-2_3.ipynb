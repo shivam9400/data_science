{
 "cells": [
  {
   "cell_type": "markdown",
   "id": "f5f15f90-68bc-4d41-add1-aeaee8a9d21a",
   "metadata": {},
   "source": [
    "# Lecture 2: Data Preparation"
   ]
  },
  {
   "cell_type": "markdown",
   "id": "6c0f43cf-bd7c-4a3b-911e-3963b7d30b60",
   "metadata": {},
   "source": [
    "*This notebook also has Lesson 3.*"
   ]
  },
  {
   "cell_type": "markdown",
   "id": "2513de9a-74be-4b61-a00f-19d158703e79",
   "metadata": {},
   "source": [
    "In this notebook, we'll carry out some of the data cleaning steps required to prepare data for pretraining."
   ]
  },
  {
   "cell_type": "code",
   "execution_count": 1,
   "id": "f72caad8-34d6-4deb-a7f4-49d8d67925cd",
   "metadata": {
    "execution": {
     "iopub.execute_input": "2025-06-07T07:22:37.605200Z",
     "iopub.status.busy": "2025-06-07T07:22:37.604913Z",
     "iopub.status.idle": "2025-06-07T07:22:37.613779Z",
     "shell.execute_reply": "2025-06-07T07:22:37.613107Z",
     "shell.execute_reply.started": "2025-06-07T07:22:37.605171Z"
    },
    "height": 47,
    "trusted": true
   },
   "outputs": [],
   "source": [
    "import warnings\n",
    "warnings.filterwarnings(\"ignore\")"
   ]
  },
  {
   "cell_type": "markdown",
   "id": "4772e5df",
   "metadata": {},
   "source": [
    "## Sourcing datasets for pretraining"
   ]
  },
  {
   "cell_type": "markdown",
   "id": "9f38ae78-151d-4555-8b59-5b5d5dcb363e",
   "metadata": {},
   "source": [
    "In this section, we'll see two ways to source data for training:\n",
    "1. Download an existing dataset from Hugging Face\n",
    "2. Create a dataset of python scripts sourced from Github"
   ]
  },
  {
   "cell_type": "markdown",
   "id": "26bb00f5-7ce5-426f-b9ca-6d9bdf4f03a4",
   "metadata": {},
   "source": [
    "### Download data from Hugging face"
   ]
  },
  {
   "cell_type": "markdown",
   "id": "266ebff4-70a4-4a3d-9d3e-e1b99648ccf8",
   "metadata": {},
   "source": [
    "The dataset we'll download is a subset of a much larger dataset called **Red Pajama**. The full, 1 trillion token dataset is available on Hugging Face at [this link](https://huggingface.co/datasets/togethercomputer/RedPajama-Data-1T)."
   ]
  },
  {
   "cell_type": "code",
   "execution_count": 2,
   "id": "f7bc396b-faaa-452a-be0e-7b17a79b8e0e",
   "metadata": {
    "execution": {
     "iopub.execute_input": "2025-06-07T07:22:37.615271Z",
     "iopub.status.busy": "2025-06-07T07:22:37.615083Z",
     "iopub.status.idle": "2025-06-07T07:22:42.937372Z",
     "shell.execute_reply": "2025-06-07T07:22:42.936656Z",
     "shell.execute_reply.started": "2025-06-07T07:22:37.615256Z"
    },
    "height": 98,
    "trusted": true
   },
   "outputs": [
    {
     "data": {
      "application/vnd.jupyter.widget-view+json": {
       "model_id": "cf33314c314a4dd5bcf21ba356e10744",
       "version_major": 2,
       "version_minor": 0
      },
      "text/plain": [
       "pretraining_dataset.parquet:   0%|          | 0.00/150M [00:00<?, ?B/s]"
      ]
     },
     "metadata": {},
     "output_type": "display_data"
    },
    {
     "data": {
      "application/vnd.jupyter.widget-view+json": {
       "model_id": "b6d543a9708d4a539d368e5a27de1d30",
       "version_major": 2,
       "version_minor": 0
      },
      "text/plain": [
       "Generating train split:   0%|          | 0/60000 [00:00<?, ? examples/s]"
      ]
     },
     "metadata": {},
     "output_type": "display_data"
    }
   ],
   "source": [
    "import datasets\n",
    "\n",
    "pretraining_dataset = datasets.load_dataset(\n",
    "    \"upstage/Pretraining_Dataset\",\n",
    "    split=\"train\"\n",
    ")"
   ]
  },
  {
   "cell_type": "code",
   "execution_count": 3,
   "id": "ae796e0e-c719-4b39-be29-286aa5a436fb",
   "metadata": {
    "execution": {
     "iopub.execute_input": "2025-06-07T07:22:42.938577Z",
     "iopub.status.busy": "2025-06-07T07:22:42.938211Z",
     "iopub.status.idle": "2025-06-07T07:22:42.942697Z",
     "shell.execute_reply": "2025-06-07T07:22:42.942004Z",
     "shell.execute_reply.started": "2025-06-07T07:22:42.938560Z"
    },
    "height": 30,
    "trusted": true
   },
   "outputs": [
    {
     "name": "stdout",
     "output_type": "stream",
     "text": [
      "Dataset({\n",
      "    features: ['text', 'meta'],\n",
      "    num_rows: 60000\n",
      "})\n"
     ]
    }
   ],
   "source": [
    "print(pretraining_dataset)"
   ]
  },
  {
   "cell_type": "code",
   "execution_count": 4,
   "id": "3765e9c6-5f18-4325-8157-206e3bb199fa",
   "metadata": {
    "execution": {
     "iopub.execute_input": "2025-06-07T07:22:42.943905Z",
     "iopub.status.busy": "2025-06-07T07:22:42.943639Z",
     "iopub.status.idle": "2025-06-07T07:22:42.958049Z",
     "shell.execute_reply": "2025-06-07T07:22:42.957491Z",
     "shell.execute_reply.started": "2025-06-07T07:22:42.943870Z"
    },
    "height": 64,
    "trusted": true
   },
   "outputs": [],
   "source": [
    "# We only need \"text\" column\n",
    "pretraining_dataset = pretraining_dataset.select_columns(\n",
    "    [\"text\"]\n",
    ")"
   ]
  },
  {
   "cell_type": "code",
   "execution_count": 5,
   "id": "84aaf8af-c20b-49ea-ba75-65ea7f87c146",
   "metadata": {
    "execution": {
     "iopub.execute_input": "2025-06-07T07:22:42.960048Z",
     "iopub.status.busy": "2025-06-07T07:22:42.959839Z",
     "iopub.status.idle": "2025-06-07T07:22:42.971438Z",
     "shell.execute_reply": "2025-06-07T07:22:42.970737Z",
     "shell.execute_reply.started": "2025-06-07T07:22:42.960033Z"
    },
    "height": 30,
    "trusted": true
   },
   "outputs": [
    {
     "name": "stdout",
     "output_type": "stream",
     "text": [
      "In 1793 Zaman Shah, a grandson of Ahmad Shah Durrani, won a brief war of succession to become ruler of Afghanistan. The support of Painda Khan, chief of the Baraksai branch of the Durrani tribe, was decisive in his victory. In the next fifty year., the brothers of Zaman shah and the sons of Painda Khan were to dominate the affairs of Afghanistan. The Durrani tribe was very large with several branches and numerous clans. 1 Abmad Shah and his successors belonged to the Sadozai clan, but other clan\n"
     ]
    }
   ],
   "source": [
    "# Let's see how it looks like ...\n",
    "print(pretraining_dataset[0][\"text\"][:500])"
   ]
  },
  {
   "cell_type": "markdown",
   "id": "56ca9d93",
   "metadata": {},
   "source": [
    "### Compare pretraining and fine-tuning datasets"
   ]
  },
  {
   "cell_type": "markdown",
   "id": "8f3c980a-b512-431d-b2d3-1ff4a0fe571c",
   "metadata": {},
   "source": [
    "Now, we'll download a fine-tuning dataset to contrast with the pretraining dataset loaded above. \n",
    "\n",
    "***Note***: [Alpaca model and instruction tuning dataset](https://crfm.stanford.edu/2023/03/13/alpaca.html). "
   ]
  },
  {
   "cell_type": "code",
   "execution_count": 6,
   "id": "5fb48e62-11fa-47a3-8e2c-8b9ae4011c7f",
   "metadata": {
    "execution": {
     "iopub.execute_input": "2025-06-07T07:22:42.972237Z",
     "iopub.status.busy": "2025-06-07T07:22:42.972047Z",
     "iopub.status.idle": "2025-06-07T07:22:46.783016Z",
     "shell.execute_reply": "2025-06-07T07:22:46.782292Z",
     "shell.execute_reply.started": "2025-06-07T07:22:42.972214Z"
    },
    "height": 98,
    "trusted": true
   },
   "outputs": [
    {
     "data": {
      "application/vnd.jupyter.widget-view+json": {
       "model_id": "9ff3503b53cf4d18b80477113572cbb1",
       "version_major": 2,
       "version_minor": 0
      },
      "text/plain": [
       "README.md:   0%|          | 0.00/1.39k [00:00<?, ?B/s]"
      ]
     },
     "metadata": {},
     "output_type": "display_data"
    },
    {
     "data": {
      "application/vnd.jupyter.widget-view+json": {
       "model_id": "f3eda7b844e74b50b2c13d554e775442",
       "version_major": 2,
       "version_minor": 0
      },
      "text/plain": [
       "alpaca_gpt4_data.json:   0%|          | 0.00/43.4M [00:00<?, ?B/s]"
      ]
     },
     "metadata": {},
     "output_type": "display_data"
    },
    {
     "data": {
      "application/vnd.jupyter.widget-view+json": {
       "model_id": "b6182c843d4b4410a6629543d5b53d8c",
       "version_major": 2,
       "version_minor": 0
      },
      "text/plain": [
       "Generating train split:   0%|          | 0/52002 [00:00<?, ? examples/s]"
      ]
     },
     "metadata": {},
     "output_type": "display_data"
    },
    {
     "name": "stdout",
     "output_type": "stream",
     "text": [
      "Dataset({\n",
      "    features: ['instruction', 'input', 'output'],\n",
      "    num_rows: 52002\n",
      "})\n"
     ]
    }
   ],
   "source": [
    "instruction_dataset = datasets.load_dataset(\n",
    "    \"c-s-ale/alpaca-gpt4-data\",\n",
    "    split='train'\n",
    ")\n",
    "print(instruction_dataset)"
   ]
  },
  {
   "cell_type": "code",
   "execution_count": 7,
   "id": "768b3d25-2bca-4a93-b3b0-bd05c55bf70e",
   "metadata": {
    "execution": {
     "iopub.execute_input": "2025-06-07T07:22:46.784165Z",
     "iopub.status.busy": "2025-06-07T07:22:46.783793Z",
     "iopub.status.idle": "2025-06-07T07:22:46.789167Z",
     "shell.execute_reply": "2025-06-07T07:22:46.788470Z",
     "shell.execute_reply.started": "2025-06-07T07:22:46.784131Z"
    },
    "height": 81,
    "trusted": true
   },
   "outputs": [
    {
     "name": "stdout",
     "output_type": "stream",
     "text": [
      "Instruction: Compare and contrast the Cuban Missile Crisis and the Vietnam War.\n",
      "Input: \n",
      "Output: The Cuban Missile Crisis (1962) and the Vietnam War (1955-1975) were two pivotal events in US history that occurred during the Cold War. Although both events were characterized by heightened tensions between the United States and Communist powers, they had some key differences that set them apart.\n",
      "\n",
      "The Cuban Missile Crisis was a 13-day political and military standoff between the United States and the Soviet Union over the installation of Soviet nuclear missiles in Cuba, just 90 miles from US shores. In contrast, the Vietnam War was a prolonged conflict that lasted for almost two decades, involving the US, South Vietnam, North Vietnam, and other Communist allies. The war was a result of the US attempting to contain the spread of communism in Southeast Asia.\n",
      "\n",
      "The Cuban Missile Crisis is often considered the closest the world ever came to nuclear war, with the US and the Soviet Union coming to the brink of a full-scale confrontation. Ultimately, a peaceful resolution was reached, with the Soviet Union agreeing to remove the missiles from Cuba in exchange for a US promise not to invade Cuba and a secret agreement to remove US missiles from Turkey. In contrast, the Vietnam War resulted in significant devastation, with millions of lives lost, many more injured, and widespread destruction of infrastructure.\n",
      "\n",
      "Another major difference between the two events was domestic support. During the Cuban Missile Crisis, there was widespread public support for the US government's actions, and President Kennedy's handling of the situation is often cited as one of his greatest accomplishments. However, the Vietnam War was deeply unpopular among the American public, and anti-war sentiment grew steadily over the years. The war resulted in a significant loss of faith in the US government and military, and it is still remembered as one of the most divisive conflicts in American history.\n",
      "\n",
      "In conclusion, while the Cuban Missile Crisis and the Vietnam War were both major events in the Cold War, they differed in their duration, outcome, and domestic support. The Cuban Missile Crisis was a short, intense standoff that was resolved peacefully, whereas the Vietnam War was a prolonged conflict that resulted in widespread devastation and was deeply unpopular at home.\n"
     ]
    }
   ],
   "source": [
    "i=21\n",
    "print(\"Instruction: \" + instruction_dataset[i][\"instruction\"] \n",
    "      + \"\\nInput: \" + instruction_dataset[i][\"input\"] \n",
    "      + \"\\nOutput: \" + instruction_dataset[i][\"output\"])"
   ]
  },
  {
   "cell_type": "markdown",
   "id": "42ef4d82",
   "metadata": {},
   "source": [
    "In contrast to the pretraining data, fine-tuning datasets are structured into question-answer pairs or instruction-response sets that can include additional input context if required."
   ]
  },
  {
   "cell_type": "markdown",
   "id": "1c044dcb-85f8-4e2f-9e40-0451040a7cf8",
   "metadata": {},
   "source": [
    "### Scrape python code from Github"
   ]
  },
  {
   "cell_type": "markdown",
   "id": "a6288d0f",
   "metadata": {},
   "source": [
    "Let's download a selection of python scripts from Github and then prepare them as a Hugging Face `Dataset` object to use in training. \n",
    "\n",
    "The same pattern here will work for preparing any text scraped from the web."
   ]
  },
  {
   "cell_type": "code",
   "execution_count": null,
   "id": "c14d65d1-1a52-4777-95f8-4a2f84a3c9ac",
   "metadata": {
    "execution": {
     "iopub.execute_input": "2025-06-07T07:22:46.790472Z",
     "iopub.status.busy": "2025-06-07T07:22:46.790180Z",
     "iopub.status.idle": "2025-06-07T07:22:46.802130Z",
     "shell.execute_reply": "2025-06-07T07:22:46.801318Z",
     "shell.execute_reply.started": "2025-06-07T07:22:46.790448Z"
    },
    "height": 115,
    "trusted": true
   },
   "outputs": [],
   "source": [
    "# Import some required packages\n",
    "import os\n",
    "import requests\n",
    "\n",
    "# Path to directory to store python scripts\n",
    "code_dir = \"./working/code/\""
   ]
  },
  {
   "cell_type": "code",
   "execution_count": 9,
   "id": "87e769d0-4928-43c1-9199-432a8667b7c4",
   "metadata": {
    "execution": {
     "iopub.execute_input": "2025-06-07T07:22:46.803139Z",
     "iopub.status.busy": "2025-06-07T07:22:46.802877Z",
     "iopub.status.idle": "2025-06-07T07:22:46.815083Z",
     "shell.execute_reply": "2025-06-07T07:22:46.814405Z",
     "shell.execute_reply.started": "2025-06-07T07:22:46.803123Z"
    },
    "trusted": true
   },
   "outputs": [],
   "source": [
    "# if code_dir does not exist, then create it\n",
    "\n",
    "if not os.path.exists(code_dir):\n",
    "    os.makedirs(code_dir)"
   ]
  },
  {
   "cell_type": "code",
   "execution_count": 10,
   "id": "7e4a0b0b-2e76-4567-9ef5-f3b6d8020851",
   "metadata": {
    "execution": {
     "iopub.execute_input": "2025-06-07T07:22:46.816067Z",
     "iopub.status.busy": "2025-06-07T07:22:46.815785Z",
     "iopub.status.idle": "2025-06-07T07:22:46.827818Z",
     "shell.execute_reply": "2025-06-07T07:22:46.827248Z",
     "shell.execute_reply.started": "2025-06-07T07:22:46.816051Z"
    },
    "height": 200,
    "trusted": true
   },
   "outputs": [],
   "source": [
    "urls = [\n",
    "    \"https://raw.githubusercontent.com/TheAlgorithms/Python/master/searches/double_linear_search_recursion.py\",\n",
    "    \"https://raw.githubusercontent.com/KosingZhu/tensorflow/master/tensorflow/python/tools/module_util.py\",\n",
    "    \"https://raw.githubusercontent.com/EricRemmerswaal/tensorflow/master/tensorflow/python/distribute/distribute_coordinator_context.py\",\n",
    "    \"https://raw.githubusercontent.com/computationalartist/tensorflow/master/tensorflow/python/ops/numpy_ops/integration_test/benchmarks/numpy_mlp.py\",\n",
    "    \"https://raw.githubusercontent.com/Van-an/tensorflow/master/tensorflow/python/distribute/coordinator/values.py\",\n",
    "    \"https://raw.githubusercontent.com/nkgwer/tensorflow/master/tensorflow/lite/tools/visualize.py\",\n",
    "    \"https://raw.githubusercontent.com/gitblazer/youtube-dl/master/youtube_dl/version.py\",\n",
    "    \"https://raw.githubusercontent.com/Joshua-Barawa/My-Photos/master/venv/lib/python3.8/site-packages/django/contrib/messages/__init__.py\",\n",
    "    \"https://raw.githubusercontent.com/PaliC/pytorch/master/test/fx/test_subgraph_rewriter.py\"\n",
    "]"
   ]
  },
  {
   "cell_type": "code",
   "execution_count": 11,
   "id": "4bc904ed-da23-40c0-b600-bcb1feebbd31",
   "metadata": {
    "execution": {
     "iopub.execute_input": "2025-06-07T07:22:46.828541Z",
     "iopub.status.busy": "2025-06-07T07:22:46.828371Z",
     "iopub.status.idle": "2025-06-07T07:22:48.510662Z",
     "shell.execute_reply": "2025-06-07T07:22:48.510019Z",
     "shell.execute_reply.started": "2025-06-07T07:22:46.828528Z"
    },
    "height": 149,
    "trusted": true
   },
   "outputs": [
    {
     "data": {
      "application/vnd.jupyter.widget-view+json": {
       "model_id": "5b9004c196a343489eca6773c2a3ec7a",
       "version_major": 2,
       "version_minor": 0
      },
      "text/plain": [
       "  0%|          | 0/9 [00:00<?, ?it/s]"
      ]
     },
     "metadata": {},
     "output_type": "display_data"
    },
    {
     "name": "stdout",
     "output_type": "stream",
     "text": [
      "Working on url: https://raw.githubusercontent.com/TheAlgorithms/Python/master/searches/double_linear_search_recursion.py\n",
      "Working on url: https://raw.githubusercontent.com/KosingZhu/tensorflow/master/tensorflow/python/tools/module_util.py\n",
      "Working on url: https://raw.githubusercontent.com/EricRemmerswaal/tensorflow/master/tensorflow/python/distribute/distribute_coordinator_context.py\n",
      "Working on url: https://raw.githubusercontent.com/computationalartist/tensorflow/master/tensorflow/python/ops/numpy_ops/integration_test/benchmarks/numpy_mlp.py\n",
      "Working on url: https://raw.githubusercontent.com/Van-an/tensorflow/master/tensorflow/python/distribute/coordinator/values.py\n",
      "Working on url: https://raw.githubusercontent.com/nkgwer/tensorflow/master/tensorflow/lite/tools/visualize.py\n",
      "Working on url: https://raw.githubusercontent.com/gitblazer/youtube-dl/master/youtube_dl/version.py\n",
      "Working on url: https://raw.githubusercontent.com/Joshua-Barawa/My-Photos/master/venv/lib/python3.8/site-packages/django/contrib/messages/__init__.py\n",
      "Working on url: https://raw.githubusercontent.com/PaliC/pytorch/master/test/fx/test_subgraph_rewriter.py\n"
     ]
    }
   ],
   "source": [
    "# Retrieve the python scripts\n",
    "from tqdm.auto import tqdm\n",
    "\n",
    "pbar = tqdm(total=len(urls))\n",
    "\n",
    "for url in urls:\n",
    "    print(f\"Working on url: {url}\")\n",
    "    response = requests.get(url)\n",
    "    file_name = os.path.basename(url)\n",
    "    file_path = os.path.join(code_dir, file_name)\n",
    "    \n",
    "    with open(file_path, \"wb\") as file:\n",
    "        file.write(response.content)\n",
    "        \n",
    "    pbar.update(1)"
   ]
  },
  {
   "cell_type": "code",
   "execution_count": 12,
   "id": "807f9164-ed85-4df8-bb01-e5ed5a41cba5",
   "metadata": {
    "execution": {
     "iopub.execute_input": "2025-06-07T07:22:48.511778Z",
     "iopub.status.busy": "2025-06-07T07:22:48.511510Z",
     "iopub.status.idle": "2025-06-07T07:22:48.516326Z",
     "shell.execute_reply": "2025-06-07T07:22:48.515573Z",
     "shell.execute_reply.started": "2025-06-07T07:22:48.511754Z"
    },
    "height": 64,
    "trusted": true
   },
   "outputs": [
    {
     "name": "stdout",
     "output_type": "stream",
     "text": [
      "module_util.py\n",
      "numpy_mlp.py\n",
      "test_subgraph_rewriter.py\n",
      "double_linear_search_recursion.py\n",
      "distribute_coordinator_context.py\n",
      "__init__.py\n",
      "version.py\n",
      "values.py\n",
      "visualize.py\n"
     ]
    }
   ],
   "source": [
    "files = os.listdir(code_dir)\n",
    "for file in files:\n",
    "    print(file)"
   ]
  },
  {
   "cell_type": "code",
   "execution_count": 13,
   "id": "0c9b603c-9fd4-410b-b013-802a6d055c49",
   "metadata": {
    "execution": {
     "iopub.execute_input": "2025-06-07T07:22:48.517390Z",
     "iopub.status.busy": "2025-06-07T07:22:48.517195Z",
     "iopub.status.idle": "2025-06-07T07:22:48.529613Z",
     "shell.execute_reply": "2025-06-07T07:22:48.528873Z",
     "shell.execute_reply.started": "2025-06-07T07:22:48.517376Z"
    },
    "height": 98,
    "trusted": true
   },
   "outputs": [],
   "source": [
    "code_dataset = []\n",
    "\n",
    "for file in os.listdir(code_dir):\n",
    "    code_dataset.append(\n",
    "        {'text': open(os.path.join(code_dir, file), 'r').read()}\n",
    "    )"
   ]
  },
  {
   "cell_type": "code",
   "execution_count": 14,
   "id": "d9b56f17-ab3a-4ca7-9609-eaa6c718f82f",
   "metadata": {
    "execution": {
     "iopub.execute_input": "2025-06-07T07:22:48.532917Z",
     "iopub.status.busy": "2025-06-07T07:22:48.532739Z",
     "iopub.status.idle": "2025-06-07T07:22:48.541604Z",
     "shell.execute_reply": "2025-06-07T07:22:48.541063Z",
     "shell.execute_reply.started": "2025-06-07T07:22:48.532896Z"
    },
    "trusted": true
   },
   "outputs": [
    {
     "name": "stdout",
     "output_type": "stream",
     "text": [
      "1 element has text of length 1905.\n",
      "2 element has text of length 14.\n",
      "3 element has text of length 15037.\n",
      "4 element has text of length 911.\n",
      "5 element has text of length 14.\n",
      "6 element has text of length 106.\n",
      "7 element has text of length 68.\n",
      "8 element has text of length 17041.\n",
      "9 element has text of length 16631.\n"
     ]
    }
   ],
   "source": [
    "for i, elem in enumerate(code_dataset):\n",
    "    for k, v in elem.items():\n",
    "        print(\"{} element has {} of length {}.\".format(i+1, \n",
    "                                                       k, \n",
    "                                                       len(v)\n",
    "                                                      )\n",
    "             )"
   ]
  },
  {
   "cell_type": "code",
   "execution_count": 15,
   "id": "cfa9b259-5434-4d2c-96a1-d0c68149a3cd",
   "metadata": {
    "execution": {
     "iopub.execute_input": "2025-06-07T07:22:48.542620Z",
     "iopub.status.busy": "2025-06-07T07:22:48.542361Z",
     "iopub.status.idle": "2025-06-07T07:22:48.558027Z",
     "shell.execute_reply": "2025-06-07T07:22:48.557341Z",
     "shell.execute_reply.started": "2025-06-07T07:22:48.542600Z"
    },
    "height": 47,
    "trusted": true
   },
   "outputs": [
    {
     "name": "stdout",
     "output_type": "stream",
     "text": [
      "Dataset({\n",
      "    features: ['text'],\n",
      "    num_rows: 9\n",
      "})\n"
     ]
    }
   ],
   "source": [
    "# Convert list to Hugging Face `Dataset` object\n",
    "code_dataset = datasets.Dataset.from_list(code_dataset)\n",
    "print(code_dataset)"
   ]
  },
  {
   "cell_type": "code",
   "execution_count": 16,
   "id": "3d2b129e-4307-4b8c-a94c-b348fd66a7fe",
   "metadata": {
    "execution": {
     "iopub.execute_input": "2025-06-07T07:22:48.558934Z",
     "iopub.status.busy": "2025-06-07T07:22:48.558747Z",
     "iopub.status.idle": "2025-06-07T07:22:48.572545Z",
     "shell.execute_reply": "2025-06-07T07:22:48.571940Z",
     "shell.execute_reply.started": "2025-06-07T07:22:48.558921Z"
    },
    "height": 81,
    "trusted": true
   },
   "outputs": [
    {
     "name": "stdout",
     "output_type": "stream",
     "text": [
      "Dataset({\n",
      "    features: ['text'],\n",
      "    num_rows: 60009\n",
      "})\n"
     ]
    }
   ],
   "source": [
    "# Combine the python code dataset with the pretraining dataset\n",
    "\n",
    "dataset = datasets.concatenate_datasets(\n",
    "    [pretraining_dataset, code_dataset]\n",
    ")\n",
    "print(dataset)"
   ]
  },
  {
   "cell_type": "markdown",
   "id": "73cf07e4-5be3-4e1f-99e0-c14013d10fd3",
   "metadata": {},
   "source": [
    "## Data cleaning"
   ]
  },
  {
   "cell_type": "markdown",
   "id": "16374f10-c253-4a41-9635-54c93be7b8a4",
   "metadata": {},
   "source": [
    "Let's do following cleaning steps:\n",
    "1. Filter out samples that are too short\n",
    "2. Remove repetitions within a single text example\n",
    "3. Remove duplicated documents\n",
    "4. Quality filter to remove non-English texts "
   ]
  },
  {
   "cell_type": "code",
   "execution_count": 17,
   "id": "185ba49c-c777-4429-b01c-f0b03f33a4df",
   "metadata": {
    "execution": {
     "iopub.execute_input": "2025-06-07T07:22:48.573498Z",
     "iopub.status.busy": "2025-06-07T07:22:48.573271Z",
     "iopub.status.idle": "2025-06-07T07:22:48.583826Z",
     "shell.execute_reply": "2025-06-07T07:22:48.583271Z",
     "shell.execute_reply.started": "2025-06-07T07:22:48.573483Z"
    },
    "height": 30,
    "trusted": true
   },
   "outputs": [
    {
     "data": {
      "text/plain": [
       "60009"
      ]
     },
     "execution_count": 17,
     "metadata": {},
     "output_type": "execute_result"
    }
   ],
   "source": [
    "memory_numrows = [dataset.num_rows]\n",
    "dataset.num_rows"
   ]
  },
  {
   "cell_type": "markdown",
   "id": "c657a5ba",
   "metadata": {},
   "source": [
    "### Remove examples that are too short"
   ]
  },
  {
   "cell_type": "code",
   "execution_count": 18,
   "id": "b6f293b4-486d-4361-ba9f-6038864e67de",
   "metadata": {
    "execution": {
     "iopub.execute_input": "2025-06-07T07:22:48.584705Z",
     "iopub.status.busy": "2025-06-07T07:22:48.584503Z",
     "iopub.status.idle": "2025-06-07T07:22:48.595565Z",
     "shell.execute_reply": "2025-06-07T07:22:48.594988Z",
     "shell.execute_reply.started": "2025-06-07T07:22:48.584684Z"
    },
    "height": 200,
    "trusted": true
   },
   "outputs": [],
   "source": [
    "import heapq\n",
    "\n",
    "def paragraph_length_filter(x):\n",
    "    \"\"\"\n",
    "    The function checks if a text is long enough both in number of lines \n",
    "    and in line length:\n",
    "          1. At least 3 lines\n",
    "          2. The 3 longest lines must each be at least 3 characters\n",
    "    \n",
    "    Returns False if a page has too few lines or lines are too short.\n",
    "    \"\"\"\n",
    "    lines = x['text'].split('\\n')\n",
    "    if (\n",
    "        len(lines) < 3  # checking if total lines are less than 3?\n",
    "        # Look at the lengths of all the lines. Pick the 3 longest lines. \n",
    "        # If any of those is less than 3 characters, \n",
    "        # this page isn't useful — reject it.\n",
    "        or min(heapq.nlargest(3, [len(line) for line in lines])) < 3\n",
    "    ):\n",
    "        return False\n",
    "    return True"
   ]
  },
  {
   "cell_type": "code",
   "execution_count": 19,
   "id": "2755ea1a-a9d3-4771-950e-73304d21252b",
   "metadata": {
    "execution": {
     "iopub.execute_input": "2025-06-07T07:22:48.596390Z",
     "iopub.status.busy": "2025-06-07T07:22:48.596187Z",
     "iopub.status.idle": "2025-06-07T07:22:49.519100Z",
     "shell.execute_reply": "2025-06-07T07:22:49.518529Z",
     "shell.execute_reply.started": "2025-06-07T07:22:48.596376Z"
    },
    "height": 81,
    "trusted": true
   },
   "outputs": [
    {
     "data": {
      "application/vnd.jupyter.widget-view+json": {
       "model_id": "3b92bd62d3f34889b043484a68547ab1",
       "version_major": 2,
       "version_minor": 0
      },
      "text/plain": [
       "Filter:   0%|          | 0/60009 [00:00<?, ? examples/s]"
      ]
     },
     "metadata": {},
     "output_type": "display_data"
    }
   ],
   "source": [
    "dataset = dataset.filter(\n",
    "    paragraph_length_filter,\n",
    "    load_from_cache_file=False\n",
    ")"
   ]
  },
  {
   "cell_type": "code",
   "execution_count": 20,
   "id": "a87c47c4-9331-4b44-a5e2-6b81dfbd7bf1",
   "metadata": {
    "execution": {
     "iopub.execute_input": "2025-06-07T07:22:49.519934Z",
     "iopub.status.busy": "2025-06-07T07:22:49.519729Z",
     "iopub.status.idle": "2025-06-07T07:22:49.524257Z",
     "shell.execute_reply": "2025-06-07T07:22:49.523500Z",
     "shell.execute_reply.started": "2025-06-07T07:22:49.519912Z"
    },
    "height": 30,
    "trusted": true
   },
   "outputs": [
    {
     "name": "stdout",
     "output_type": "stream",
     "text": [
      "Dataset now has 52356 rows, which are 7653 rows less than previous version.\n"
     ]
    }
   ],
   "source": [
    "memory_numrows.append(dataset.num_rows)\n",
    "print(\"Dataset now has {} rows, which are {} rows less than previous version.\".\n",
    "      format(dataset.num_rows, memory_numrows[-2]-dataset.num_rows))"
   ]
  },
  {
   "cell_type": "markdown",
   "id": "eced32d0",
   "metadata": {},
   "source": [
    "### Remove repeated text within training examples"
   ]
  },
  {
   "cell_type": "code",
   "execution_count": 21,
   "id": "6b0a79c4-e714-42d4-bdb7-d3930d74c5de",
   "metadata": {
    "execution": {
     "iopub.execute_input": "2025-06-07T07:22:49.525636Z",
     "iopub.status.busy": "2025-06-07T07:22:49.525010Z",
     "iopub.status.idle": "2025-06-07T07:22:49.539626Z",
     "shell.execute_reply": "2025-06-07T07:22:49.538903Z",
     "shell.execute_reply.started": "2025-06-07T07:22:49.525611Z"
    },
    "height": 268,
    "trusted": true
   },
   "outputs": [],
   "source": [
    "def find_duplicates(paragraphs):\n",
    "    \"\"\"\n",
    "    Use this function to find the number of repetitions (same sentences)\n",
    "    in a paragraph.\n",
    "    \"\"\"\n",
    "    # store unique elements that we've seen\n",
    "    unique_x = set()\n",
    "\n",
    "    # track,\n",
    "    #   1. total character count of duplicate elements\n",
    "    #   2. number of duplicate elements\n",
    "    duplicate_chars = 0\n",
    "    duplicate_elements = 0\n",
    "\n",
    "    # iterate over each element in a paragraph, if element already in unique_x -->\n",
    "    # this means, it is a duplicate. In such case, add num of elements to\n",
    "    # duplicate_chars and 1 to duplicate_elements.\n",
    "    for element in paragraphs:\n",
    "        if element in unique_x:\n",
    "            duplicate_chars += len(element)\n",
    "            duplicate_elements += 1\n",
    "        else:\n",
    "            unique_x.add(element)\n",
    "    return duplicate_elements, duplicate_chars"
   ]
  },
  {
   "cell_type": "code",
   "execution_count": 22,
   "id": "f5dc415c-35e1-4d63-95bc-74775bfdaba4",
   "metadata": {
    "execution": {
     "iopub.execute_input": "2025-06-07T07:22:49.540583Z",
     "iopub.status.busy": "2025-06-07T07:22:49.540356Z",
     "iopub.status.idle": "2025-06-07T07:22:49.552962Z",
     "shell.execute_reply": "2025-06-07T07:22:49.552359Z",
     "shell.execute_reply.started": "2025-06-07T07:22:49.540561Z"
    },
    "height": 251,
    "trusted": true
   },
   "outputs": [],
   "source": [
    "import re\n",
    "\n",
    "def paragraph_repetition_filter(x):\n",
    "    \"\"\"\n",
    "    Returns False if a page has too many repetitions i.e,\n",
    "        1. more than 30% of the paragraph is duplicates\n",
    "        2. more than 20% characters in the page are from duplicated paragraphs\n",
    "    \"\"\"\n",
    "    # get the text\n",
    "    text = x['text']\n",
    "    \n",
    "    # Split by paragraphs (2 or more newlines)\n",
    "    paragraphs = re.compile(r\"\\n{2,}\").split(text.strip()) \n",
    "\n",
    "    # Find number of duplicates in paragraphs\n",
    "    paragraphs_duplicates, char_duplicates = find_duplicates(paragraphs)\n",
    "    if paragraphs_duplicates / len(paragraphs) > 0.3: # more than 30% is duplicate\n",
    "        return False\n",
    "    if char_duplicates / len(text) > 0.2: # more than 20% of para length\n",
    "                                          # belongs to duplicate characters\n",
    "        return False\n",
    "    return True"
   ]
  },
  {
   "cell_type": "code",
   "execution_count": 23,
   "id": "522708f3-58fa-4f7e-bf34-a3f282b309e4",
   "metadata": {
    "execution": {
     "iopub.execute_input": "2025-06-07T07:22:49.553879Z",
     "iopub.status.busy": "2025-06-07T07:22:49.553662Z",
     "iopub.status.idle": "2025-06-07T07:22:53.377700Z",
     "shell.execute_reply": "2025-06-07T07:22:53.376993Z",
     "shell.execute_reply.started": "2025-06-07T07:22:49.553865Z"
    },
    "height": 81,
    "trusted": true
   },
   "outputs": [
    {
     "data": {
      "application/vnd.jupyter.widget-view+json": {
       "model_id": "4b34e01174104804bd4067753433c4e9",
       "version_major": 2,
       "version_minor": 0
      },
      "text/plain": [
       "Filter:   0%|          | 0/52356 [00:00<?, ? examples/s]"
      ]
     },
     "metadata": {},
     "output_type": "display_data"
    }
   ],
   "source": [
    "dataset = dataset.filter(\n",
    "    paragraph_repetition_filter,\n",
    "    load_from_cache_file=False\n",
    ")"
   ]
  },
  {
   "cell_type": "code",
   "execution_count": 24,
   "id": "e81f0202-b3ef-4953-8203-5062ad20402d",
   "metadata": {
    "execution": {
     "iopub.execute_input": "2025-06-07T07:22:53.378776Z",
     "iopub.status.busy": "2025-06-07T07:22:53.378516Z",
     "iopub.status.idle": "2025-06-07T07:22:53.382930Z",
     "shell.execute_reply": "2025-06-07T07:22:53.382280Z",
     "shell.execute_reply.started": "2025-06-07T07:22:53.378752Z"
    },
    "height": 30,
    "trusted": true
   },
   "outputs": [
    {
     "name": "stdout",
     "output_type": "stream",
     "text": [
      "Dataset now has 52326 rows, which are 30 rows less than previous version.\n"
     ]
    }
   ],
   "source": [
    "memory_numrows.append(dataset.num_rows)\n",
    "print(\"Dataset now has {} rows, which are {} rows less than previous version.\".\n",
    "      format(dataset.num_rows, memory_numrows[-2]-dataset.num_rows))"
   ]
  },
  {
   "cell_type": "markdown",
   "id": "515b4f79",
   "metadata": {},
   "source": [
    "### Deduplication"
   ]
  },
  {
   "cell_type": "code",
   "execution_count": 25,
   "id": "b8dcd316-20f1-4def-959e-ce3dfe9426c4",
   "metadata": {
    "execution": {
     "iopub.execute_input": "2025-06-07T07:22:53.384271Z",
     "iopub.status.busy": "2025-06-07T07:22:53.383914Z",
     "iopub.status.idle": "2025-06-07T07:22:54.600045Z",
     "shell.execute_reply": "2025-06-07T07:22:54.599301Z",
     "shell.execute_reply.started": "2025-06-07T07:22:53.384249Z"
    },
    "height": 268,
    "trusted": true
   },
   "outputs": [
    {
     "data": {
      "application/vnd.jupyter.widget-view+json": {
       "model_id": "3412976243b245ea820a22a446d1ee80",
       "version_major": 2,
       "version_minor": 0
      },
      "text/plain": [
       "Filter:   0%|          | 0/52326 [00:00<?, ? examples/s]"
      ]
     },
     "metadata": {},
     "output_type": "display_data"
    }
   ],
   "source": [
    "def deduplication(ds):\n",
    "    def dedup_func(x):\n",
    "        \"\"\"Use this function to remove duplicate entries\"\"\"\n",
    "        if x['text'] in unique_text:\n",
    "            return False\n",
    "        else:\n",
    "            unique_text.add(x['text'])\n",
    "            return True\n",
    "\n",
    "    unique_text = set()\n",
    "\n",
    "    ds = ds.filter(dedup_func, load_from_cache_file=False, num_proc=1)\n",
    "    return ds\n",
    "\n",
    "dataset = deduplication(dataset)"
   ]
  },
  {
   "cell_type": "code",
   "execution_count": 26,
   "id": "754444d7-def6-499c-9da8-d18136a4ee6b",
   "metadata": {
    "execution": {
     "iopub.execute_input": "2025-06-07T07:22:54.601574Z",
     "iopub.status.busy": "2025-06-07T07:22:54.601201Z",
     "iopub.status.idle": "2025-06-07T07:22:54.605509Z",
     "shell.execute_reply": "2025-06-07T07:22:54.604893Z",
     "shell.execute_reply.started": "2025-06-07T07:22:54.601555Z"
    },
    "height": 30,
    "trusted": true
   },
   "outputs": [
    {
     "name": "stdout",
     "output_type": "stream",
     "text": [
      "Dataset now has 43597 rows, which are 8729 rows less than previous version.\n"
     ]
    }
   ],
   "source": [
    "memory_numrows.append(dataset.num_rows)\n",
    "print(\"Dataset now has {} rows, which are {} rows less than previous version.\".\n",
    "      format(dataset.num_rows, memory_numrows[-2]-dataset.num_rows))"
   ]
  },
  {
   "cell_type": "markdown",
   "id": "72eb3a2c",
   "metadata": {},
   "source": [
    "### Quality filter - Language"
   ]
  },
  {
   "cell_type": "code",
   "execution_count": 27,
   "id": "64ae5c3e-ae16-495c-a651-0b0200169569",
   "metadata": {
    "execution": {
     "iopub.execute_input": "2025-06-07T07:22:54.606405Z",
     "iopub.status.busy": "2025-06-07T07:22:54.606149Z",
     "iopub.status.idle": "2025-06-07T07:22:58.352470Z",
     "shell.execute_reply": "2025-06-07T07:22:58.351719Z",
     "shell.execute_reply.started": "2025-06-07T07:22:54.606379Z"
    },
    "height": 30,
    "trusted": true
   },
   "outputs": [
    {
     "name": "stdout",
     "output_type": "stream",
     "text": [
      "Requirement already satisfied: fasttext in /usr/local/lib/python3.11/dist-packages (0.9.3)\n",
      "Requirement already satisfied: pybind11>=2.2 in /usr/local/lib/python3.11/dist-packages (from fasttext) (2.13.6)\n",
      "Requirement already satisfied: setuptools>=0.7.0 in /usr/local/lib/python3.11/dist-packages (from fasttext) (75.2.0)\n",
      "Requirement already satisfied: numpy in /usr/local/lib/python3.11/dist-packages (from fasttext) (1.26.4)\n",
      "Requirement already satisfied: mkl_fft in /usr/local/lib/python3.11/dist-packages (from numpy->fasttext) (1.3.8)\n",
      "Requirement already satisfied: mkl_random in /usr/local/lib/python3.11/dist-packages (from numpy->fasttext) (1.2.4)\n",
      "Requirement already satisfied: mkl_umath in /usr/local/lib/python3.11/dist-packages (from numpy->fasttext) (0.1.1)\n",
      "Requirement already satisfied: mkl in /usr/local/lib/python3.11/dist-packages (from numpy->fasttext) (2025.1.0)\n",
      "Requirement already satisfied: tbb4py in /usr/local/lib/python3.11/dist-packages (from numpy->fasttext) (2022.1.0)\n",
      "Requirement already satisfied: mkl-service in /usr/local/lib/python3.11/dist-packages (from numpy->fasttext) (2.4.1)\n",
      "Requirement already satisfied: intel-openmp<2026,>=2024 in /usr/local/lib/python3.11/dist-packages (from mkl->numpy->fasttext) (2024.2.0)\n",
      "Requirement already satisfied: tbb==2022.* in /usr/local/lib/python3.11/dist-packages (from mkl->numpy->fasttext) (2022.1.0)\n",
      "Requirement already satisfied: tcmlib==1.* in /usr/local/lib/python3.11/dist-packages (from tbb==2022.*->mkl->numpy->fasttext) (1.3.0)\n",
      "Requirement already satisfied: intel-cmplr-lib-rt in /usr/local/lib/python3.11/dist-packages (from mkl_umath->numpy->fasttext) (2024.2.0)\n",
      "Requirement already satisfied: intel-cmplr-lib-ur==2024.2.0 in /usr/local/lib/python3.11/dist-packages (from intel-openmp<2026,>=2024->mkl->numpy->fasttext) (2024.2.0)\n"
     ]
    }
   ],
   "source": [
    "!pip install fasttext"
   ]
  },
  {
   "cell_type": "code",
   "execution_count": 28,
   "id": "f40069b0-08a0-4820-b47e-1bb98f3a5b2f",
   "metadata": {
    "execution": {
     "iopub.execute_input": "2025-06-07T07:22:58.353840Z",
     "iopub.status.busy": "2025-06-07T07:22:58.353605Z",
     "iopub.status.idle": "2025-06-07T07:22:59.213515Z",
     "shell.execute_reply": "2025-06-07T07:22:59.212542Z",
     "shell.execute_reply.started": "2025-06-07T07:22:58.353817Z"
    },
    "trusted": true
   },
   "outputs": [
    {
     "name": "stdout",
     "output_type": "stream",
     "text": [
      "--2025-06-07 07:22:58--  https://dl.fbaipublicfiles.com/fasttext/supervised-models/lid.176.bin\n",
      "Resolving dl.fbaipublicfiles.com (dl.fbaipublicfiles.com)... 3.163.189.14, 3.163.189.96, 3.163.189.108, ...\n",
      "Connecting to dl.fbaipublicfiles.com (dl.fbaipublicfiles.com)|3.163.189.14|:443... connected.\n",
      "HTTP request sent, awaiting response... 200 OK\n",
      "Length: 131266198 (125M) [application/octet-stream]\n",
      "Saving to: ‘lid.176.bin’\n",
      "\n",
      "lid.176.bin         100%[===================>] 125.18M   200MB/s    in 0.6s    \n",
      "\n",
      "2025-06-07 07:22:59 (200 MB/s) - ‘lid.176.bin’ saved [131266198/131266198]\n",
      "\n"
     ]
    }
   ],
   "source": [
    "!wget https://dl.fbaipublicfiles.com/fasttext/supervised-models/lid.176.bin"
   ]
  },
  {
   "cell_type": "code",
   "execution_count": 29,
   "id": "ec3f568d-44cb-48b6-ad09-1bb6cba58810",
   "metadata": {
    "execution": {
     "iopub.execute_input": "2025-06-07T07:22:59.214938Z",
     "iopub.status.busy": "2025-06-07T07:22:59.214691Z",
     "iopub.status.idle": "2025-06-07T07:23:00.217639Z",
     "shell.execute_reply": "2025-06-07T07:23:00.216999Z",
     "shell.execute_reply.started": "2025-06-07T07:22:59.214915Z"
    },
    "trusted": true
   },
   "outputs": [
    {
     "name": "stdout",
     "output_type": "stream",
     "text": [
      "(('__label__en',), array([0.98663521]))\n"
     ]
    }
   ],
   "source": [
    "import fasttext\n",
    "\n",
    "# Load the model\n",
    "model = fasttext.load_model('lid.176.bin')\n",
    "\n",
    "# Predict the language of a text\n",
    "text = \"This is a sample sentence.\"\n",
    "predictions = model.predict(text)\n",
    "print(predictions)\n"
   ]
  },
  {
   "cell_type": "code",
   "execution_count": null,
   "id": "f11bc056-faeb-470d-acc2-9c1bae47c3c1",
   "metadata": {
    "execution": {
     "iopub.execute_input": "2025-06-07T07:23:00.218626Z",
     "iopub.status.busy": "2025-06-07T07:23:00.218389Z",
     "iopub.status.idle": "2025-06-07T07:23:14.902669Z",
     "shell.execute_reply": "2025-06-07T07:23:14.901915Z",
     "shell.execute_reply.started": "2025-06-07T07:23:00.218600Z"
    },
    "height": 319,
    "trusted": true
   },
   "outputs": [
    {
     "name": "stderr",
     "output_type": "stream",
     "text": [
      "Parameter 'function'=<function english_language_filter.<locals>.is_english at 0x7f8001f4b4c0> of the transform datasets.arrow_dataset.Dataset.filter@2.0.1 couldn't be hashed properly, a random hash was used instead. Make sure your transforms and parameters are serializable with pickle or dill for the dataset fingerprinting and caching to work. If you reuse this transform, the caching mechanism will consider it to be different from the previous calls and recompute everything. This warning is only showed once. Subsequent hashing failures won't be showed.\n"
     ]
    },
    {
     "data": {
      "application/vnd.jupyter.widget-view+json": {
       "model_id": "8292d9c7d74a43d28829fe6ad936d386",
       "version_major": 2,
       "version_minor": 0
      },
      "text/plain": [
       "Filter:   0%|          | 0/43597 [00:00<?, ? examples/s]"
      ]
     },
     "metadata": {},
     "output_type": "display_data"
    }
   ],
   "source": [
    "import urllib, fasttext\n",
    "\n",
    "def english_language_filter(ds):\n",
    "    # load language detection model\n",
    "    model = fasttext.load_model(\"./working/lid.176.bin\")\n",
    "    def is_english(x):\n",
    "        # Predict language of the text and probability\n",
    "        language, score = model.predict(x['text'].replace(\"\\n\", \"\"))\n",
    "\n",
    "        language = language[0].split(\"__\")[2]\n",
    "        return score > 0.4 and language == \"en\"  # True if both conditions are true\n",
    "        \n",
    "    ds = ds.filter(is_english, load_from_cache_file=False, num_proc=1)\n",
    "    return ds\n",
    "\n",
    "dataset = english_language_filter(dataset)"
   ]
  },
  {
   "cell_type": "code",
   "execution_count": 31,
   "id": "f71f18f5-53b6-42fa-bb3a-d321904e3dc1",
   "metadata": {
    "execution": {
     "iopub.execute_input": "2025-06-07T07:23:14.903862Z",
     "iopub.status.busy": "2025-06-07T07:23:14.903598Z",
     "iopub.status.idle": "2025-06-07T07:23:14.908513Z",
     "shell.execute_reply": "2025-06-07T07:23:14.907893Z",
     "shell.execute_reply.started": "2025-06-07T07:23:14.903840Z"
    },
    "height": 30,
    "trusted": true
   },
   "outputs": [
    {
     "name": "stdout",
     "output_type": "stream",
     "text": [
      "Dataset now has 40473 rows, which are 3124 rows less than previous version.\n"
     ]
    }
   ],
   "source": [
    "memory_numrows.append(dataset.num_rows)\n",
    "print(\"Dataset now has {} rows, which are {} rows less than previous version.\".\n",
    "      format(dataset.num_rows, memory_numrows[-2]-dataset.num_rows))"
   ]
  },
  {
   "cell_type": "markdown",
   "id": "428dcbc5",
   "metadata": {},
   "source": [
    "## Save the dataset to disk"
   ]
  },
  {
   "cell_type": "code",
   "execution_count": null,
   "id": "21e68cc7-058a-4783-9dd5-96c2ef9a752e",
   "metadata": {
    "execution": {
     "iopub.execute_input": "2025-06-07T07:23:14.909424Z",
     "iopub.status.busy": "2025-06-07T07:23:14.909239Z",
     "iopub.status.idle": "2025-06-07T07:23:16.110489Z",
     "shell.execute_reply": "2025-06-07T07:23:16.109885Z",
     "shell.execute_reply.started": "2025-06-07T07:23:14.909410Z"
    },
    "height": 47,
    "trusted": true
   },
   "outputs": [
    {
     "data": {
      "application/vnd.jupyter.widget-view+json": {
       "model_id": "5ad28c89cdc841bc8285c6f21003a987",
       "version_major": 2,
       "version_minor": 0
      },
      "text/plain": [
       "Creating parquet from Arrow format:   0%|          | 0/41 [00:00<?, ?ba/s]"
      ]
     },
     "metadata": {},
     "output_type": "display_data"
    },
    {
     "data": {
      "text/plain": [
       "197100832"
      ]
     },
     "execution_count": 32,
     "metadata": {},
     "output_type": "execute_result"
    }
   ],
   "source": [
    "file_path = \"./working/data/preprocessed_dataset.parquet\"\n",
    "dataset.to_parquet(file_path)"
   ]
  },
  {
   "cell_type": "markdown",
   "id": "71c9feb2-546b-4c5a-ad7a-fd93884b43e4",
   "metadata": {},
   "source": [
    "# Lecture 3: Data Packaging"
   ]
  },
  {
   "cell_type": "markdown",
   "id": "d5b7ea95-f76d-4d2d-95fd-38d1efde1d2c",
   "metadata": {},
   "source": [
    "## Load the stored dataset"
   ]
  },
  {
   "cell_type": "code",
   "execution_count": null,
   "id": "bc25c3b7-854c-46e2-8405-3cd3994bf089",
   "metadata": {
    "execution": {
     "iopub.execute_input": "2025-06-07T07:23:16.111604Z",
     "iopub.status.busy": "2025-06-07T07:23:16.111331Z",
     "iopub.status.idle": "2025-06-07T07:23:17.022228Z",
     "shell.execute_reply": "2025-06-07T07:23:17.021650Z",
     "shell.execute_reply.started": "2025-06-07T07:23:16.111580Z"
    },
    "height": 30,
    "trusted": true
   },
   "outputs": [
    {
     "data": {
      "application/vnd.jupyter.widget-view+json": {
       "model_id": "a6df7b1a254a4426ae4f292f38608984",
       "version_major": 2,
       "version_minor": 0
      },
      "text/plain": [
       "Generating train split: 0 examples [00:00, ? examples/s]"
      ]
     },
     "metadata": {},
     "output_type": "display_data"
    },
    {
     "name": "stdout",
     "output_type": "stream",
     "text": [
      "Dataset({\n",
      "    features: ['text'],\n",
      "    num_rows: 40473\n",
      "})\n"
     ]
    }
   ],
   "source": [
    "import datasets\n",
    "\n",
    "dataset = datasets.load_dataset(\n",
    "    \"parquet\", \n",
    "    data_files=\"./working/data/preprocessed_dataset.parquet\", \n",
    "    split=\"train\"\n",
    ")\n",
    "\n",
    "print(dataset)"
   ]
  },
  {
   "cell_type": "code",
   "execution_count": 34,
   "id": "f5933c23-07d1-4db9-a3c8-164fc9c5ae93",
   "metadata": {
    "execution": {
     "iopub.execute_input": "2025-06-07T07:23:17.023267Z",
     "iopub.status.busy": "2025-06-07T07:23:17.023009Z",
     "iopub.status.idle": "2025-06-07T07:23:17.028917Z",
     "shell.execute_reply": "2025-06-07T07:23:17.028408Z",
     "shell.execute_reply.started": "2025-06-07T07:23:17.023241Z"
    },
    "height": 30,
    "trusted": true
   },
   "outputs": [
    {
     "name": "stdout",
     "output_type": "stream",
     "text": [
      "Dataset({\n",
      "    features: ['text'],\n",
      "    num_rows: 4048\n",
      "})\n"
     ]
    }
   ],
   "source": [
    "dataset = dataset.shard(num_shards=10, \n",
    "                        index=0)\n",
    "print(dataset)"
   ]
  },
  {
   "cell_type": "code",
   "execution_count": 35,
   "id": "9fd2cb60-e263-4f0a-8c41-eea29a210c1e",
   "metadata": {
    "execution": {
     "iopub.execute_input": "2025-06-07T07:23:17.029931Z",
     "iopub.status.busy": "2025-06-07T07:23:17.029692Z",
     "iopub.status.idle": "2025-06-07T07:23:28.748170Z",
     "shell.execute_reply": "2025-06-07T07:23:28.747559Z",
     "shell.execute_reply.started": "2025-06-07T07:23:17.029915Z"
    },
    "height": 30,
    "trusted": true
   },
   "outputs": [
    {
     "data": {
      "application/vnd.jupyter.widget-view+json": {
       "model_id": "04ee584471714a349b218e965ac8e43f",
       "version_major": 2,
       "version_minor": 0
      },
      "text/plain": [
       "tokenizer_config.json:   0%|          | 0.00/966 [00:00<?, ?B/s]"
      ]
     },
     "metadata": {},
     "output_type": "display_data"
    },
    {
     "data": {
      "application/vnd.jupyter.widget-view+json": {
       "model_id": "22da0f8b58ab4eb7a4afa627ff042621",
       "version_major": 2,
       "version_minor": 0
      },
      "text/plain": [
       "tokenizer.model:   0%|          | 0.00/493k [00:00<?, ?B/s]"
      ]
     },
     "metadata": {},
     "output_type": "display_data"
    },
    {
     "data": {
      "application/vnd.jupyter.widget-view+json": {
       "model_id": "a17e41d65e4244c6a994a41669209cc8",
       "version_major": 2,
       "version_minor": 0
      },
      "text/plain": [
       "special_tokens_map.json:   0%|          | 0.00/72.0 [00:00<?, ?B/s]"
      ]
     },
     "metadata": {},
     "output_type": "display_data"
    },
    {
     "data": {
      "application/vnd.jupyter.widget-view+json": {
       "model_id": "89126b8ccca549f88b9e80685c417397",
       "version_major": 2,
       "version_minor": 0
      },
      "text/plain": [
       "tokenizer.json:   0%|          | 0.00/1.80M [00:00<?, ?B/s]"
      ]
     },
     "metadata": {},
     "output_type": "display_data"
    }
   ],
   "source": [
    "# let's load a tokenizer \n",
    "\n",
    "from transformers import AutoTokenizer\n",
    "\n",
    "checkpoint_solar = \"upstage/SOLAR-10.7B-v1.0\"\n",
    "tokenizer = AutoTokenizer.from_pretrained(\n",
    "    checkpoint_solar, \n",
    "    use_fast=False\n",
    ")"
   ]
  },
  {
   "cell_type": "code",
   "execution_count": 36,
   "id": "0189f4cc-8917-46d0-ad3a-4a9f27edb132",
   "metadata": {
    "execution": {
     "iopub.execute_input": "2025-06-07T07:23:28.749219Z",
     "iopub.status.busy": "2025-06-07T07:23:28.748819Z",
     "iopub.status.idle": "2025-06-07T07:23:28.754507Z",
     "shell.execute_reply": "2025-06-07T07:23:28.753780Z",
     "shell.execute_reply.started": "2025-06-07T07:23:28.749201Z"
    },
    "trusted": true
   },
   "outputs": [
    {
     "data": {
      "text/plain": [
       "['▁I', \"'\", 'm', '▁a', '▁short', '▁sentence']"
      ]
     },
     "execution_count": 36,
     "metadata": {},
     "output_type": "execute_result"
    }
   ],
   "source": [
    "tokenizer.tokenize(\"I'm a short sentence\")"
   ]
  },
  {
   "cell_type": "code",
   "execution_count": 37,
   "id": "fe782493-2475-4666-a162-3ae043b295d0",
   "metadata": {
    "execution": {
     "iopub.execute_input": "2025-06-07T07:23:28.755466Z",
     "iopub.status.busy": "2025-06-07T07:23:28.755224Z",
     "iopub.status.idle": "2025-06-07T07:23:29.307260Z",
     "shell.execute_reply": "2025-06-07T07:23:29.306433Z",
     "shell.execute_reply.started": "2025-06-07T07:23:28.755441Z"
    },
    "trusted": true
   },
   "outputs": [],
   "source": [
    "def tokenization(example):\n",
    "    # Tokenize\n",
    "    tokens = tokenizer.tokenize(example[\"text\"])\n",
    "\n",
    "    # Convert tokens to ids\n",
    "    token_ids = tokenizer.convert_tokens_to_ids(tokens)\n",
    "\n",
    "    # Add <bos>, <eos> tokens to the front and back of tokens_ids \n",
    "    # bos: begin of sequence, eos: end of sequence\n",
    "    token_ids = [\n",
    "        tokenizer.bos_token_id] \\\n",
    "        + token_ids \\\n",
    "        + [tokenizer.eos_token_id\n",
    "    ]\n",
    "    example[\"input_ids\"] = token_ids\n",
    "\n",
    "    # We will be using this column to count the total number of tokens \n",
    "    # in the final dataset\n",
    "    example[\"num_tokens\"] = len(token_ids)\n",
    "    return example"
   ]
  },
  {
   "cell_type": "code",
   "execution_count": 38,
   "id": "37ccf7d4-f017-4a7c-b94f-e9512a40738d",
   "metadata": {
    "execution": {
     "iopub.execute_input": "2025-06-07T07:23:29.308399Z",
     "iopub.status.busy": "2025-06-07T07:23:29.308147Z",
     "iopub.status.idle": "2025-06-07T07:23:53.806638Z",
     "shell.execute_reply": "2025-06-07T07:23:53.805854Z",
     "shell.execute_reply.started": "2025-06-07T07:23:29.308381Z"
    },
    "trusted": true
   },
   "outputs": [
    {
     "data": {
      "application/vnd.jupyter.widget-view+json": {
       "model_id": "c55b73fb713b4a568d2ec8fa11fb3638",
       "version_major": 2,
       "version_minor": 0
      },
      "text/plain": [
       "Map:   0%|          | 0/4048 [00:00<?, ? examples/s]"
      ]
     },
     "metadata": {},
     "output_type": "display_data"
    },
    {
     "name": "stdout",
     "output_type": "stream",
     "text": [
      "Dataset({\n",
      "    features: ['text', 'input_ids', 'num_tokens'],\n",
      "    num_rows: 4048\n",
      "})\n"
     ]
    }
   ],
   "source": [
    "dataset = dataset.map(tokenization, \n",
    "                      load_from_cache_file=False)\n",
    "print(dataset)"
   ]
  },
  {
   "cell_type": "code",
   "execution_count": 39,
   "id": "4b9abde1-0d42-4ec7-982b-d1fc9db52430",
   "metadata": {
    "execution": {
     "iopub.execute_input": "2025-06-07T07:23:53.807686Z",
     "iopub.status.busy": "2025-06-07T07:23:53.807435Z",
     "iopub.status.idle": "2025-06-07T07:23:53.817330Z",
     "shell.execute_reply": "2025-06-07T07:23:53.816758Z",
     "shell.execute_reply.started": "2025-06-07T07:23:53.807666Z"
    },
    "trusted": true
   },
   "outputs": [
    {
     "name": "stdout",
     "output_type": "stream",
     "text": [
      "len(text): 2441 \t len(input_ids): 644\n",
      "len(text): 19254 \t len(input_ids): 5459\n",
      "len(text): 1327 \t len(input_ids): 358\n",
      "len(text): 1320 \t len(input_ids): 279\n"
     ]
    }
   ],
   "source": [
    "for example in dataset.select(range(4)):\n",
    "    print(\"len(text): {} \\t len(input_ids): {}\".\n",
    "          format(\n",
    "              len(example['text']),\n",
    "              len(example['input_ids'])\n",
    "          )\n",
    "         )\n"
   ]
  },
  {
   "cell_type": "markdown",
   "id": "5712f833-35af-4456-b029-5fabbb17d865",
   "metadata": {},
   "source": [
    "## Packing the dataset"
   ]
  },
  {
   "cell_type": "code",
   "execution_count": 40,
   "id": "aaa0a4a4-3dc0-47c1-bb19-9d0727d0092c",
   "metadata": {
    "execution": {
     "iopub.execute_input": "2025-06-07T07:23:53.818202Z",
     "iopub.status.busy": "2025-06-07T07:23:53.817972Z",
     "iopub.status.idle": "2025-06-07T07:23:56.089668Z",
     "shell.execute_reply": "2025-06-07T07:23:56.089058Z",
     "shell.execute_reply.started": "2025-06-07T07:23:53.818187Z"
    },
    "trusted": true
   },
   "outputs": [
    {
     "name": "stdout",
     "output_type": "stream",
     "text": [
      "4924245\n"
     ]
    }
   ],
   "source": [
    "# concatenate input_ids into one single list\n",
    "import numpy as np\n",
    "\n",
    "input_ids = np.concatenate(dataset[\"input_ids\"])\n",
    "print(len(input_ids))"
   ]
  },
  {
   "cell_type": "code",
   "execution_count": 41,
   "id": "70661e56-d015-4653-8da6-e6a96b64fa95",
   "metadata": {
    "execution": {
     "iopub.execute_input": "2025-06-07T07:23:56.093626Z",
     "iopub.status.busy": "2025-06-07T07:23:56.093409Z",
     "iopub.status.idle": "2025-06-07T07:23:56.097308Z",
     "shell.execute_reply": "2025-06-07T07:23:56.096638Z",
     "shell.execute_reply.started": "2025-06-07T07:23:56.093608Z"
    },
    "trusted": true
   },
   "outputs": [],
   "source": [
    "# this is the variable which will be used when converting the 1D above to 2D.\n",
    "# this variable will be used to fix the number of columns of 2D.\n",
    "max_seq_length = 32"
   ]
  },
  {
   "cell_type": "code",
   "execution_count": 42,
   "id": "1d0520d2-847c-44bf-8a47-87c0f0ff3213",
   "metadata": {
    "execution": {
     "iopub.execute_input": "2025-06-07T07:23:56.098328Z",
     "iopub.status.busy": "2025-06-07T07:23:56.097969Z",
     "iopub.status.idle": "2025-06-07T07:23:56.112691Z",
     "shell.execute_reply": "2025-06-07T07:23:56.111997Z",
     "shell.execute_reply.started": "2025-06-07T07:23:56.098305Z"
    },
    "trusted": true
   },
   "outputs": [
    {
     "name": "stdout",
     "output_type": "stream",
     "text": [
      "4924224\n"
     ]
    }
   ],
   "source": [
    "# when we divide input_ids into batches of max_seq_length, some portion will be left\n",
    "# that portion can be computed using \"len(input_ids) % max_seq_length\".\n",
    "# subtracting this with input_ids will give the new length that we have to maintain\n",
    "# for input_ids.\n",
    "total_length = len(input_ids) - len(input_ids) % max_seq_length\n",
    "print(total_length)"
   ]
  },
  {
   "cell_type": "code",
   "execution_count": 43,
   "id": "f0de4354-41b6-4995-84d8-f0a744960b89",
   "metadata": {
    "execution": {
     "iopub.execute_input": "2025-06-07T07:23:56.113579Z",
     "iopub.status.busy": "2025-06-07T07:23:56.113370Z",
     "iopub.status.idle": "2025-06-07T07:23:56.130692Z",
     "shell.execute_reply": "2025-06-07T07:23:56.129926Z",
     "shell.execute_reply.started": "2025-06-07T07:23:56.113564Z"
    },
    "trusted": true
   },
   "outputs": [
    {
     "name": "stdout",
     "output_type": "stream",
     "text": [
      "(4924224,)\n"
     ]
    }
   ],
   "source": [
    "# discarding the extra tokens now\n",
    "input_ids = input_ids[:total_length]\n",
    "print(input_ids.shape)"
   ]
  },
  {
   "cell_type": "code",
   "execution_count": 44,
   "id": "dce9deef-073b-4982-8ce0-746be32a4b37",
   "metadata": {
    "execution": {
     "iopub.execute_input": "2025-06-07T07:23:56.131623Z",
     "iopub.status.busy": "2025-06-07T07:23:56.131429Z",
     "iopub.status.idle": "2025-06-07T07:23:56.150504Z",
     "shell.execute_reply": "2025-06-07T07:23:56.149933Z",
     "shell.execute_reply.started": "2025-06-07T07:23:56.131609Z"
    },
    "trusted": true
   },
   "outputs": [
    {
     "data": {
      "text/plain": [
       "(153882, 32)"
      ]
     },
     "execution_count": 44,
     "metadata": {},
     "output_type": "execute_result"
    }
   ],
   "source": [
    "# and now, 1D --> 2D\n",
    "input_ids_reshaped = input_ids.reshape(-1, max_seq_length).astype(np.int32)\n",
    "input_ids_reshaped.shape"
   ]
  },
  {
   "cell_type": "code",
   "execution_count": 45,
   "id": "5ea6ba5b-781f-4b54-a991-7edc0f0eefa1",
   "metadata": {
    "execution": {
     "iopub.execute_input": "2025-06-07T07:23:56.151486Z",
     "iopub.status.busy": "2025-06-07T07:23:56.151282Z",
     "iopub.status.idle": "2025-06-07T07:23:57.541801Z",
     "shell.execute_reply": "2025-06-07T07:23:57.540973Z",
     "shell.execute_reply.started": "2025-06-07T07:23:56.151472Z"
    },
    "trusted": true
   },
   "outputs": [
    {
     "name": "stdout",
     "output_type": "stream",
     "text": [
      "Dataset({\n",
      "    features: ['input_ids'],\n",
      "    num_rows: 153882\n",
      "})\n"
     ]
    }
   ],
   "source": [
    "# converting to huggingface dataset\n",
    "input_ids_list = input_ids_reshaped.tolist()\n",
    "packaged_pretrain_dataset = datasets.Dataset.from_dict(\n",
    "    {\"input_ids\": input_ids_list}\n",
    ")\n",
    "print(packaged_pretrain_dataset)"
   ]
  },
  {
   "cell_type": "markdown",
   "id": "a71323cc-042e-45f3-86ee-7dced44500ce",
   "metadata": {},
   "source": [
    "## Saving to disk"
   ]
  },
  {
   "cell_type": "code",
   "execution_count": null,
   "id": "67acb943-2a01-4e2f-ba7f-bdbf67714c25",
   "metadata": {
    "execution": {
     "iopub.execute_input": "2025-06-07T07:23:57.543250Z",
     "iopub.status.busy": "2025-06-07T07:23:57.542629Z",
     "iopub.status.idle": "2025-06-07T07:23:57.762126Z",
     "shell.execute_reply": "2025-06-07T07:23:57.761498Z",
     "shell.execute_reply.started": "2025-06-07T07:23:57.543230Z"
    },
    "trusted": true
   },
   "outputs": [
    {
     "data": {
      "application/vnd.jupyter.widget-view+json": {
       "model_id": "c7f29fa4e198475c8505efa199635c04",
       "version_major": 2,
       "version_minor": 0
      },
      "text/plain": [
       "Creating parquet from Arrow format:   0%|          | 0/154 [00:00<?, ?ba/s]"
      ]
     },
     "metadata": {},
     "output_type": "display_data"
    },
    {
     "data": {
      "text/plain": [
       "20312424"
      ]
     },
     "execution_count": 46,
     "metadata": {},
     "output_type": "execute_result"
    }
   ],
   "source": [
    "packaged_pretrain_dataset.to_parquet(\"./working/data/packaged_pretrain_dataset.parquet\")"
   ]
  }
 ],
 "metadata": {
  "kaggle": {
   "accelerator": "gpu",
   "dataSources": [
    {
     "isSourceIdPinned": true,
     "modelId": 369298,
     "modelInstanceId": 348043,
     "sourceId": 426932,
     "sourceType": "modelInstanceVersion"
    }
   ],
   "dockerImageVersionId": 31041,
   "isGpuEnabled": true,
   "isInternetEnabled": true,
   "language": "python",
   "sourceType": "notebook"
  },
  "kernelspec": {
   "display_name": "Python 3",
   "language": "python",
   "name": "python3"
  },
  "language_info": {
   "codemirror_mode": {
    "name": "ipython",
    "version": 3
   },
   "file_extension": ".py",
   "mimetype": "text/x-python",
   "name": "python",
   "nbconvert_exporter": "python",
   "pygments_lexer": "ipython3",
   "version": "3.11.11"
  }
 },
 "nbformat": 4,
 "nbformat_minor": 5
}
